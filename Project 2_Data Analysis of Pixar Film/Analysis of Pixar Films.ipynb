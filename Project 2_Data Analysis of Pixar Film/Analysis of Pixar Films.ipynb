{
 "cells": [
  {
   "cell_type": "markdown",
   "id": "b7523704-01f7-4a24-8fed-be12d3037b12",
   "metadata": {},
   "source": [
    "# Analysis of Pixar Films"
   ]
  },
  {
   "cell_type": "markdown",
   "id": "c4e307f7-38d4-48fd-a661-0071f457f4f6",
   "metadata": {},
   "source": [
    "## Workflow of the Project\n",
    "\n",
    "<ul>\n",
    "    <li>Data Collection and Loading</li>\n",
    "    <li>Data Exploration</li>\n",
    "    <li>Exploratory Data Analysis</li>\n",
    "</ul>"
   ]
  },
  {
   "cell_type": "markdown",
   "id": "91cf2bae-2f1f-4570-b483-3bd016fd6b64",
   "metadata": {},
   "source": [
    "### Importing the Dependencies"
   ]
  },
  {
   "cell_type": "code",
   "execution_count": 4,
   "id": "0745b1ec-c038-4a37-80a8-29581cb19556",
   "metadata": {},
   "outputs": [],
   "source": [
    "# Print all the outputs in a cell\n",
    "from IPython.core.interactiveshell import InteractiveShell\n",
    "InteractiveShell.ast_node_interactivity = \"all\"\n",
    "\n",
    "# Library for Warning Message\n",
    "import warnings\n",
    "warnings.simplefilter(\"ignore\")\n",
    "\n",
    "# Base Libraries\n",
    "import pandas as pd\n",
    "import numpy as np\n",
    "import matplotlib.pyplot as plt\n",
    "import matplotlib.cm as cm\n",
    "from mpl_toolkits.mplot3d import Axes3D\n",
    "import seaborn as sns"
   ]
  },
  {
   "cell_type": "markdown",
   "id": "de68a0d5-1c1d-4fa6-85f5-57ae3c84258a",
   "metadata": {},
   "source": [
    "### Data Collection and Loading"
   ]
  },
  {
   "cell_type": "markdown",
   "id": "3d55701b-c133-418b-9539-d46b9e878c8f",
   "metadata": {},
   "source": [
    "Project - Pixar Films\n",
    "<br>\n",
    "Data Source: *\"https://mavenanalytics.io/data-playground?dataStructure=Multiple%20tables&order=date_added%2Cdesc\"*"
   ]
  },
  {
   "cell_type": "code",
   "execution_count": 7,
   "id": "b708b454-413b-4fd5-83b0-c45ffdf82c50",
   "metadata": {},
   "outputs": [],
   "source": [
    "# Load the Datasets\n",
    "films_df = pd.read_csv(\"pixar_films.csv\")\n",
    "people_df = pd.read_csv(\"pixar_people.csv\")\n",
    "genres_df = pd.read_csv(\"genres.csv\")\n",
    "box_off_df = pd.read_csv(\"box_office.csv\")\n",
    "reviews_df = pd.read_csv(\"public_response.csv\")\n",
    "awards_df = pd.read_csv(\"academy.csv\")"
   ]
  },
  {
   "cell_type": "markdown",
   "id": "a3ed7545-f417-4cb0-9433-3f0950db6c27",
   "metadata": {},
   "source": [
    "We have 6 dataframes consists of details related to films, film-makers, genres, box office, reviews, and awards."
   ]
  },
  {
   "cell_type": "markdown",
   "id": "2a1619b0-6cda-45e9-932b-608c197f2caa",
   "metadata": {},
   "source": [
    "### Data Exploration"
   ]
  },
  {
   "cell_type": "markdown",
   "id": "19725d94-5db2-4960-98a0-2c20bcffe86b",
   "metadata": {},
   "source": [
    "1. **Films Data**"
   ]
  },
  {
   "cell_type": "code",
   "execution_count": 11,
   "id": "ee044a5a-3de4-4a4e-b061-a289f0520610",
   "metadata": {},
   "outputs": [
    {
     "data": {
      "text/html": [
       "<div>\n",
       "<style scoped>\n",
       "    .dataframe tbody tr th:only-of-type {\n",
       "        vertical-align: middle;\n",
       "    }\n",
       "\n",
       "    .dataframe tbody tr th {\n",
       "        vertical-align: top;\n",
       "    }\n",
       "\n",
       "    .dataframe thead th {\n",
       "        text-align: right;\n",
       "    }\n",
       "</style>\n",
       "<table border=\"1\" class=\"dataframe\">\n",
       "  <thead>\n",
       "    <tr style=\"text-align: right;\">\n",
       "      <th></th>\n",
       "      <th>number</th>\n",
       "      <th>film</th>\n",
       "      <th>release_date</th>\n",
       "      <th>run_time</th>\n",
       "      <th>film_rating</th>\n",
       "      <th>plot</th>\n",
       "    </tr>\n",
       "  </thead>\n",
       "  <tbody>\n",
       "    <tr>\n",
       "      <th>0</th>\n",
       "      <td>1</td>\n",
       "      <td>Toy Story</td>\n",
       "      <td>1995-11-22</td>\n",
       "      <td>81</td>\n",
       "      <td>G</td>\n",
       "      <td>A cowboy doll is profoundly threatened and jea...</td>\n",
       "    </tr>\n",
       "    <tr>\n",
       "      <th>1</th>\n",
       "      <td>2</td>\n",
       "      <td>A Bug's Life</td>\n",
       "      <td>1998-11-25</td>\n",
       "      <td>95</td>\n",
       "      <td>G</td>\n",
       "      <td>A misfit ant, looking for \"warriors\" to save h...</td>\n",
       "    </tr>\n",
       "    <tr>\n",
       "      <th>2</th>\n",
       "      <td>3</td>\n",
       "      <td>Toy Story 2</td>\n",
       "      <td>1999-11-24</td>\n",
       "      <td>92</td>\n",
       "      <td>G</td>\n",
       "      <td>When Woody is stolen by a toy collector, Buzz ...</td>\n",
       "    </tr>\n",
       "    <tr>\n",
       "      <th>3</th>\n",
       "      <td>4</td>\n",
       "      <td>Monsters, Inc.</td>\n",
       "      <td>2001-11-02</td>\n",
       "      <td>92</td>\n",
       "      <td>G</td>\n",
       "      <td>In order to power the city, monsters have to s...</td>\n",
       "    </tr>\n",
       "    <tr>\n",
       "      <th>4</th>\n",
       "      <td>5</td>\n",
       "      <td>Finding Nemo</td>\n",
       "      <td>2003-05-30</td>\n",
       "      <td>100</td>\n",
       "      <td>G</td>\n",
       "      <td>After his son is captured in the Great Barrier...</td>\n",
       "    </tr>\n",
       "  </tbody>\n",
       "</table>\n",
       "</div>"
      ],
      "text/plain": [
       "   number            film release_date  run_time film_rating  \\\n",
       "0       1       Toy Story   1995-11-22        81           G   \n",
       "1       2    A Bug's Life   1998-11-25        95           G   \n",
       "2       3     Toy Story 2   1999-11-24        92           G   \n",
       "3       4  Monsters, Inc.   2001-11-02        92           G   \n",
       "4       5    Finding Nemo   2003-05-30       100           G   \n",
       "\n",
       "                                                plot  \n",
       "0  A cowboy doll is profoundly threatened and jea...  \n",
       "1  A misfit ant, looking for \"warriors\" to save h...  \n",
       "2  When Woody is stolen by a toy collector, Buzz ...  \n",
       "3  In order to power the city, monsters have to s...  \n",
       "4  After his son is captured in the Great Barrier...  "
      ]
     },
     "execution_count": 11,
     "metadata": {},
     "output_type": "execute_result"
    }
   ],
   "source": [
    "# View the Data\n",
    "films_df.head()"
   ]
  },
  {
   "cell_type": "code",
   "execution_count": 12,
   "id": "d3fe2e5a-8fea-4c8b-82fc-b5c5fdf7838d",
   "metadata": {},
   "outputs": [
    {
     "name": "stdout",
     "output_type": "stream",
     "text": [
      "No. of rows: 28\n",
      " \n",
      "No. of columns: 6\n"
     ]
    }
   ],
   "source": [
    "# Dimension of Data\n",
    "print(\"No. of rows: {}\".format(films_df.shape[0]))\n",
    "print(\" \")\n",
    "print(\"No. of columns: {}\".format(films_df.shape[1]))"
   ]
  },
  {
   "cell_type": "code",
   "execution_count": 13,
   "id": "47ac52ad-3088-41b3-987f-2bf03928f6ec",
   "metadata": {},
   "outputs": [
    {
     "name": "stdout",
     "output_type": "stream",
     "text": [
      "<class 'pandas.core.frame.DataFrame'>\n",
      "RangeIndex: 28 entries, 0 to 27\n",
      "Data columns (total 6 columns):\n",
      " #   Column        Non-Null Count  Dtype \n",
      "---  ------        --------------  ----- \n",
      " 0   number        28 non-null     int64 \n",
      " 1   film          28 non-null     object\n",
      " 2   release_date  28 non-null     object\n",
      " 3   run_time      28 non-null     int64 \n",
      " 4   film_rating   28 non-null     object\n",
      " 5   plot          28 non-null     object\n",
      "dtypes: int64(2), object(4)\n",
      "memory usage: 1.4+ KB\n"
     ]
    }
   ],
   "source": [
    "# Data Type\n",
    "films_df.info()"
   ]
  },
  {
   "cell_type": "markdown",
   "id": "e73d4559-a504-4b83-9342-9a509d0f5d55",
   "metadata": {},
   "source": [
    "The column \"release_date\" needs to be converted to \"datetime\" type."
   ]
  },
  {
   "cell_type": "code",
   "execution_count": 15,
   "id": "65334d46-55c5-455c-bc5b-3d477c04ef6a",
   "metadata": {},
   "outputs": [
    {
     "name": "stdout",
     "output_type": "stream",
     "text": [
      "<class 'pandas.core.frame.DataFrame'>\n",
      "RangeIndex: 28 entries, 0 to 27\n",
      "Data columns (total 6 columns):\n",
      " #   Column        Non-Null Count  Dtype         \n",
      "---  ------        --------------  -----         \n",
      " 0   number        28 non-null     int64         \n",
      " 1   film          28 non-null     object        \n",
      " 2   release_date  28 non-null     datetime64[ns]\n",
      " 3   run_time      28 non-null     int64         \n",
      " 4   film_rating   28 non-null     object        \n",
      " 5   plot          28 non-null     object        \n",
      "dtypes: datetime64[ns](1), int64(2), object(3)\n",
      "memory usage: 1.4+ KB\n"
     ]
    }
   ],
   "source": [
    "films_df['release_date'] = pd.to_datetime(films_df['release_date'])\n",
    "\n",
    "# Verify the type\n",
    "films_df.info()"
   ]
  },
  {
   "cell_type": "code",
   "execution_count": 16,
   "id": "2ecc4790-a954-4a6d-bbed-e106ffc2bc4c",
   "metadata": {},
   "outputs": [
    {
     "name": "stdout",
     "output_type": "stream",
     "text": [
      "No, the Films datasets doesn't contain any missing values.\n"
     ]
    }
   ],
   "source": [
    "# Checking of Missing Values\n",
    "films_is_missing = films_df.isna().sum().sum()\n",
    "\n",
    "if films_is_missing == 0:\n",
    "    print(\"No, the Films datasets doesn't contain any missing values.\")\n",
    "else:\n",
    "    print(\"The Films datasets contains {} missing values.\".format(films_is_missing))"
   ]
  },
  {
   "cell_type": "code",
   "execution_count": 17,
   "id": "ce9e89a5-fe04-4c59-adcc-2340ceb87a43",
   "metadata": {},
   "outputs": [
    {
     "name": "stdout",
     "output_type": "stream",
     "text": [
      "No, the Films datasets doesn't contain any duplicated rows.\n"
     ]
    }
   ],
   "source": [
    "# Check of duplicate rows\n",
    "films_is_duplicate = films_df.duplicated().sum()\n",
    "\n",
    "if films_is_duplicate == 0:\n",
    "    print(\"No, the Films datasets doesn't contain any duplicated rows.\")\n",
    "else:\n",
    "    print(\"The Films datasets contains {} duplicated rows.\".format(films_is_duplicate))"
   ]
  },
  {
   "cell_type": "markdown",
   "id": "51b9d792-2e63-4a47-b168-4ef7f59b5fdc",
   "metadata": {},
   "source": [
    "2. **Film-makers Data**"
   ]
  },
  {
   "cell_type": "code",
   "execution_count": 19,
   "id": "5e67b18f-0ba7-46fc-a5e3-cd7b38006637",
   "metadata": {},
   "outputs": [
    {
     "data": {
      "text/html": [
       "<div>\n",
       "<style scoped>\n",
       "    .dataframe tbody tr th:only-of-type {\n",
       "        vertical-align: middle;\n",
       "    }\n",
       "\n",
       "    .dataframe tbody tr th {\n",
       "        vertical-align: top;\n",
       "    }\n",
       "\n",
       "    .dataframe thead th {\n",
       "        text-align: right;\n",
       "    }\n",
       "</style>\n",
       "<table border=\"1\" class=\"dataframe\">\n",
       "  <thead>\n",
       "    <tr style=\"text-align: right;\">\n",
       "      <th></th>\n",
       "      <th>film</th>\n",
       "      <th>role_type</th>\n",
       "      <th>name</th>\n",
       "    </tr>\n",
       "  </thead>\n",
       "  <tbody>\n",
       "    <tr>\n",
       "      <th>0</th>\n",
       "      <td>Toy Story</td>\n",
       "      <td>Director</td>\n",
       "      <td>John Lasseter</td>\n",
       "    </tr>\n",
       "    <tr>\n",
       "      <th>1</th>\n",
       "      <td>Toy Story</td>\n",
       "      <td>Musician</td>\n",
       "      <td>Randy Newman</td>\n",
       "    </tr>\n",
       "    <tr>\n",
       "      <th>2</th>\n",
       "      <td>Toy Story</td>\n",
       "      <td>Producer</td>\n",
       "      <td>Bonnie Arnold</td>\n",
       "    </tr>\n",
       "    <tr>\n",
       "      <th>3</th>\n",
       "      <td>Toy Story</td>\n",
       "      <td>Producer</td>\n",
       "      <td>Ralph Guggenheim</td>\n",
       "    </tr>\n",
       "    <tr>\n",
       "      <th>4</th>\n",
       "      <td>Toy Story</td>\n",
       "      <td>Screenwriter</td>\n",
       "      <td>Joel Cohen</td>\n",
       "    </tr>\n",
       "  </tbody>\n",
       "</table>\n",
       "</div>"
      ],
      "text/plain": [
       "        film     role_type              name\n",
       "0  Toy Story      Director     John Lasseter\n",
       "1  Toy Story      Musician      Randy Newman\n",
       "2  Toy Story      Producer     Bonnie Arnold\n",
       "3  Toy Story      Producer  Ralph Guggenheim\n",
       "4  Toy Story  Screenwriter        Joel Cohen"
      ]
     },
     "execution_count": 19,
     "metadata": {},
     "output_type": "execute_result"
    }
   ],
   "source": [
    "# View the Data\n",
    "people_df.head()"
   ]
  },
  {
   "cell_type": "code",
   "execution_count": 20,
   "id": "8ae22762-f8c6-4323-99a2-48c58ebb2b73",
   "metadata": {},
   "outputs": [
    {
     "name": "stdout",
     "output_type": "stream",
     "text": [
      "No. of rows: 260\n",
      "\n",
      "No. of columns: 3\n"
     ]
    }
   ],
   "source": [
    "# Dimension of Data\n",
    "print(\"No. of rows: {}\".format(people_df.shape[0]))\n",
    "print(\"\")\n",
    "print(\"No. of columns: {}\".format(people_df.shape[1]))"
   ]
  },
  {
   "cell_type": "code",
   "execution_count": 21,
   "id": "fe558bae-2c74-40e0-a5d1-52ae18588eee",
   "metadata": {},
   "outputs": [
    {
     "name": "stdout",
     "output_type": "stream",
     "text": [
      "<class 'pandas.core.frame.DataFrame'>\n",
      "RangeIndex: 260 entries, 0 to 259\n",
      "Data columns (total 3 columns):\n",
      " #   Column     Non-Null Count  Dtype \n",
      "---  ------     --------------  ----- \n",
      " 0   film       260 non-null    object\n",
      " 1   role_type  260 non-null    object\n",
      " 2   name       260 non-null    object\n",
      "dtypes: object(3)\n",
      "memory usage: 6.2+ KB\n"
     ]
    }
   ],
   "source": [
    "# Data Type\n",
    "people_df.info()"
   ]
  },
  {
   "cell_type": "code",
   "execution_count": 22,
   "id": "42956850-5fc7-4475-8972-8decff12e692",
   "metadata": {},
   "outputs": [
    {
     "name": "stdout",
     "output_type": "stream",
     "text": [
      "No, the Film-makers datasets doesn't contain any missing values.\n"
     ]
    }
   ],
   "source": [
    "# Checking of Missing Values\n",
    "people_is_missing  = people_df.isna().sum().sum()\n",
    "\n",
    "if people_is_missing == 0:\n",
    "    print(\"No, the Film-makers datasets doesn't contain any missing values.\")\n",
    "else:\n",
    "    print(\"The Film-makers datasets contains {} missing values.\".format(people_is_missing))"
   ]
  },
  {
   "cell_type": "code",
   "execution_count": 23,
   "id": "235379fd-b0af-497b-ba54-4abcf73cd0db",
   "metadata": {},
   "outputs": [
    {
     "name": "stdout",
     "output_type": "stream",
     "text": [
      "The Film-makers datasets contains 7 duplicated rows.\n"
     ]
    }
   ],
   "source": [
    "# Checking of Duplicate Rows\n",
    "people_is_duplicate = people_df.duplicated().sum()\n",
    "\n",
    "if people_is_duplicate == 0:\n",
    "    print(\"No, the Film-makers datasets doesn't contain any duplicated rows.\")\n",
    "else:\n",
    "    print(\"The Film-makers datasets contains {} duplicated rows.\".format(people_is_duplicate))"
   ]
  },
  {
   "cell_type": "code",
   "execution_count": 24,
   "id": "704226c3-3758-4dd7-b228-98460e91b9dc",
   "metadata": {},
   "outputs": [
    {
     "data": {
      "text/html": [
       "<div>\n",
       "<style scoped>\n",
       "    .dataframe tbody tr th:only-of-type {\n",
       "        vertical-align: middle;\n",
       "    }\n",
       "\n",
       "    .dataframe tbody tr th {\n",
       "        vertical-align: top;\n",
       "    }\n",
       "\n",
       "    .dataframe thead th {\n",
       "        text-align: right;\n",
       "    }\n",
       "</style>\n",
       "<table border=\"1\" class=\"dataframe\">\n",
       "  <thead>\n",
       "    <tr style=\"text-align: right;\">\n",
       "      <th></th>\n",
       "      <th>film</th>\n",
       "      <th>role_type</th>\n",
       "      <th>name</th>\n",
       "    </tr>\n",
       "  </thead>\n",
       "  <tbody>\n",
       "    <tr>\n",
       "      <th>114</th>\n",
       "      <td>Brave</td>\n",
       "      <td>Director</td>\n",
       "      <td>Mark Andrews</td>\n",
       "    </tr>\n",
       "    <tr>\n",
       "      <th>115</th>\n",
       "      <td>Brave</td>\n",
       "      <td>Director</td>\n",
       "      <td>Mark Andrews</td>\n",
       "    </tr>\n",
       "    <tr>\n",
       "      <th>118</th>\n",
       "      <td>Brave</td>\n",
       "      <td>Screenwriter</td>\n",
       "      <td>Mark Andrews</td>\n",
       "    </tr>\n",
       "    <tr>\n",
       "      <th>119</th>\n",
       "      <td>Brave</td>\n",
       "      <td>Screenwriter</td>\n",
       "      <td>Mark Andrews</td>\n",
       "    </tr>\n",
       "    <tr>\n",
       "      <th>120</th>\n",
       "      <td>Brave</td>\n",
       "      <td>Screenwriter</td>\n",
       "      <td>Mark Andrews</td>\n",
       "    </tr>\n",
       "    <tr>\n",
       "      <th>121</th>\n",
       "      <td>Brave</td>\n",
       "      <td>Screenwriter</td>\n",
       "      <td>Mark Andrews</td>\n",
       "    </tr>\n",
       "    <tr>\n",
       "      <th>222</th>\n",
       "      <td>Luca</td>\n",
       "      <td>Screenwriter</td>\n",
       "      <td>Jesse Andrews</td>\n",
       "    </tr>\n",
       "    <tr>\n",
       "      <th>223</th>\n",
       "      <td>Luca</td>\n",
       "      <td>Screenwriter</td>\n",
       "      <td>Jesse Andrews</td>\n",
       "    </tr>\n",
       "    <tr>\n",
       "      <th>224</th>\n",
       "      <td>Luca</td>\n",
       "      <td>Storywriter</td>\n",
       "      <td>Jesse Andrews</td>\n",
       "    </tr>\n",
       "    <tr>\n",
       "      <th>225</th>\n",
       "      <td>Luca</td>\n",
       "      <td>Storywriter</td>\n",
       "      <td>Jesse Andrews</td>\n",
       "    </tr>\n",
       "    <tr>\n",
       "      <th>226</th>\n",
       "      <td>Luca</td>\n",
       "      <td>Storywriter</td>\n",
       "      <td>Jesse Andrews</td>\n",
       "    </tr>\n",
       "  </tbody>\n",
       "</table>\n",
       "</div>"
      ],
      "text/plain": [
       "      film     role_type           name\n",
       "114  Brave      Director   Mark Andrews\n",
       "115  Brave      Director   Mark Andrews\n",
       "118  Brave  Screenwriter   Mark Andrews\n",
       "119  Brave  Screenwriter   Mark Andrews\n",
       "120  Brave  Screenwriter   Mark Andrews\n",
       "121  Brave  Screenwriter   Mark Andrews\n",
       "222   Luca  Screenwriter  Jesse Andrews\n",
       "223   Luca  Screenwriter  Jesse Andrews\n",
       "224   Luca   Storywriter  Jesse Andrews\n",
       "225   Luca   Storywriter  Jesse Andrews\n",
       "226   Luca   Storywriter  Jesse Andrews"
      ]
     },
     "execution_count": 24,
     "metadata": {},
     "output_type": "execute_result"
    }
   ],
   "source": [
    "# View the rows which are duplicated including the original\n",
    "people_df[people_df.duplicated(keep = False)]"
   ]
  },
  {
   "cell_type": "code",
   "execution_count": 25,
   "id": "6d15ba22-64ed-41c3-a6cf-c770fb59d21b",
   "metadata": {},
   "outputs": [],
   "source": [
    "# Remove the duplicated rows\n",
    "people_df = people_df.drop_duplicates()"
   ]
  },
  {
   "cell_type": "code",
   "execution_count": 26,
   "id": "586a5c50-c9fb-4fe7-94f3-abcc9ea5a044",
   "metadata": {},
   "outputs": [
    {
     "name": "stdout",
     "output_type": "stream",
     "text": [
      "No, the Film-makers datasets doesn't contain any duplicated rows.\n"
     ]
    }
   ],
   "source": [
    "# Verify\n",
    "people_is_duplicates = people_df.duplicated().sum()\n",
    "\n",
    "if people_is_duplicates == 0:\n",
    "    print(\"No, the Film-makers datasets doesn't contain any duplicated rows.\")\n",
    "else:\n",
    "    print(\"The Film-makers datasets contains {} duplicated rows.\".format(people_is_duplicates))"
   ]
  },
  {
   "cell_type": "code",
   "execution_count": 27,
   "id": "6a292599-b5e9-4dd4-9fbd-7934e2e8fb1c",
   "metadata": {},
   "outputs": [
    {
     "name": "stdout",
     "output_type": "stream",
     "text": [
      "No. of rows: 253\n",
      "\n",
      "No. of columns: 3\n"
     ]
    }
   ],
   "source": [
    "# Final Dimension\n",
    "print(\"No. of rows: {}\".format(people_df.shape[0]))\n",
    "print(\"\")\n",
    "print(\"No. of columns: {}\".format(people_df.shape[1]))"
   ]
  },
  {
   "cell_type": "markdown",
   "id": "fcbdd659-4e98-4523-bc0e-90cf5eda711d",
   "metadata": {},
   "source": [
    "3. **Genres Data**"
   ]
  },
  {
   "cell_type": "code",
   "execution_count": 29,
   "id": "cde3ef88-cee4-4a79-86f1-96af7100c140",
   "metadata": {},
   "outputs": [
    {
     "data": {
      "text/html": [
       "<div>\n",
       "<style scoped>\n",
       "    .dataframe tbody tr th:only-of-type {\n",
       "        vertical-align: middle;\n",
       "    }\n",
       "\n",
       "    .dataframe tbody tr th {\n",
       "        vertical-align: top;\n",
       "    }\n",
       "\n",
       "    .dataframe thead th {\n",
       "        text-align: right;\n",
       "    }\n",
       "</style>\n",
       "<table border=\"1\" class=\"dataframe\">\n",
       "  <thead>\n",
       "    <tr style=\"text-align: right;\">\n",
       "      <th></th>\n",
       "      <th>film</th>\n",
       "      <th>category</th>\n",
       "      <th>value</th>\n",
       "    </tr>\n",
       "  </thead>\n",
       "  <tbody>\n",
       "    <tr>\n",
       "      <th>0</th>\n",
       "      <td>Toy Story</td>\n",
       "      <td>Genre</td>\n",
       "      <td>Adventure</td>\n",
       "    </tr>\n",
       "    <tr>\n",
       "      <th>1</th>\n",
       "      <td>Toy Story</td>\n",
       "      <td>Genre</td>\n",
       "      <td>Animation</td>\n",
       "    </tr>\n",
       "    <tr>\n",
       "      <th>2</th>\n",
       "      <td>Toy Story</td>\n",
       "      <td>Genre</td>\n",
       "      <td>Comedy</td>\n",
       "    </tr>\n",
       "    <tr>\n",
       "      <th>3</th>\n",
       "      <td>Toy Story</td>\n",
       "      <td>Subgenre</td>\n",
       "      <td>Buddy Comedy</td>\n",
       "    </tr>\n",
       "    <tr>\n",
       "      <th>4</th>\n",
       "      <td>Toy Story</td>\n",
       "      <td>Subgenre</td>\n",
       "      <td>Computer Animation</td>\n",
       "    </tr>\n",
       "  </tbody>\n",
       "</table>\n",
       "</div>"
      ],
      "text/plain": [
       "        film  category               value\n",
       "0  Toy Story     Genre           Adventure\n",
       "1  Toy Story     Genre           Animation\n",
       "2  Toy Story     Genre              Comedy\n",
       "3  Toy Story  Subgenre        Buddy Comedy\n",
       "4  Toy Story  Subgenre  Computer Animation"
      ]
     },
     "execution_count": 29,
     "metadata": {},
     "output_type": "execute_result"
    }
   ],
   "source": [
    "# View the Data\n",
    "genres_df.head()"
   ]
  },
  {
   "cell_type": "code",
   "execution_count": 30,
   "id": "1c424831-d9a8-462b-be6b-e28ffa3cdbfc",
   "metadata": {},
   "outputs": [
    {
     "name": "stdout",
     "output_type": "stream",
     "text": [
      "No. of rows: 204\n",
      "\n",
      "No. of columns: 3\n"
     ]
    }
   ],
   "source": [
    "# Dimension of Data\n",
    "print(\"No. of rows: {}\".format(genres_df.shape[0]))\n",
    "print(\"\")\n",
    "print(\"No. of columns: {}\".format(genres_df.shape[1]))"
   ]
  },
  {
   "cell_type": "code",
   "execution_count": 31,
   "id": "a39146a0-6538-48ef-9032-ac63e32ee418",
   "metadata": {},
   "outputs": [
    {
     "name": "stdout",
     "output_type": "stream",
     "text": [
      "<class 'pandas.core.frame.DataFrame'>\n",
      "RangeIndex: 204 entries, 0 to 203\n",
      "Data columns (total 3 columns):\n",
      " #   Column    Non-Null Count  Dtype \n",
      "---  ------    --------------  ----- \n",
      " 0   film      204 non-null    object\n",
      " 1   category  204 non-null    object\n",
      " 2   value     204 non-null    object\n",
      "dtypes: object(3)\n",
      "memory usage: 4.9+ KB\n"
     ]
    }
   ],
   "source": [
    "# Data Type\n",
    "genres_df.info()"
   ]
  },
  {
   "cell_type": "code",
   "execution_count": 32,
   "id": "67a57bfe-3d36-4426-ac13-d4d31e305a93",
   "metadata": {},
   "outputs": [
    {
     "name": "stdout",
     "output_type": "stream",
     "text": [
      "No, the Genres datasets doesn't contain any missing values.\n"
     ]
    }
   ],
   "source": [
    "# Checking of Missing Values\n",
    "genres_is_missing  = genres_df.isna().sum().sum()\n",
    "\n",
    "if genres_is_missing == 0:\n",
    "    print(\"No, the Genres datasets doesn't contain any missing values.\")\n",
    "else:\n",
    "    print(\"The Genres datasets contains {} missing values.\".format(genres_is_missing))"
   ]
  },
  {
   "cell_type": "code",
   "execution_count": 33,
   "id": "da86011e-1b95-4c4b-b182-69af1a4045cc",
   "metadata": {},
   "outputs": [
    {
     "name": "stdout",
     "output_type": "stream",
     "text": [
      "No, the Genres datasets doesn't contain any duplicated rows.\n"
     ]
    }
   ],
   "source": [
    "# Checking of Duplicate Rows\n",
    "genres_is_duplicate = genres_df.duplicated().sum()\n",
    "\n",
    "if genres_is_duplicate == 0:\n",
    "    print(\"No, the Genres datasets doesn't contain any duplicated rows.\")\n",
    "else:\n",
    "    print(\"The Genres datasets contains {} duplicated rows.\".format(genres_is_duplicate))"
   ]
  },
  {
   "cell_type": "markdown",
   "id": "fdb07e89-96ec-4c62-8e76-9d93f207f548",
   "metadata": {},
   "source": [
    "4. **Box Office Data**"
   ]
  },
  {
   "cell_type": "code",
   "execution_count": 35,
   "id": "50061bfb-b38f-44ae-b477-7a4de901f7d1",
   "metadata": {},
   "outputs": [
    {
     "data": {
      "text/html": [
       "<div>\n",
       "<style scoped>\n",
       "    .dataframe tbody tr th:only-of-type {\n",
       "        vertical-align: middle;\n",
       "    }\n",
       "\n",
       "    .dataframe tbody tr th {\n",
       "        vertical-align: top;\n",
       "    }\n",
       "\n",
       "    .dataframe thead th {\n",
       "        text-align: right;\n",
       "    }\n",
       "</style>\n",
       "<table border=\"1\" class=\"dataframe\">\n",
       "  <thead>\n",
       "    <tr style=\"text-align: right;\">\n",
       "      <th></th>\n",
       "      <th>film</th>\n",
       "      <th>budget</th>\n",
       "      <th>box_office_us_canada</th>\n",
       "      <th>box_office_other</th>\n",
       "      <th>box_office_worldwide</th>\n",
       "    </tr>\n",
       "  </thead>\n",
       "  <tbody>\n",
       "    <tr>\n",
       "      <th>0</th>\n",
       "      <td>Toy Story</td>\n",
       "      <td>30000000.0</td>\n",
       "      <td>223225679</td>\n",
       "      <td>171210907</td>\n",
       "      <td>394436586</td>\n",
       "    </tr>\n",
       "    <tr>\n",
       "      <th>1</th>\n",
       "      <td>A Bug's Life</td>\n",
       "      <td>120000000.0</td>\n",
       "      <td>162798565</td>\n",
       "      <td>200460294</td>\n",
       "      <td>363258859</td>\n",
       "    </tr>\n",
       "    <tr>\n",
       "      <th>2</th>\n",
       "      <td>Toy Story 2</td>\n",
       "      <td>90000000.0</td>\n",
       "      <td>245852179</td>\n",
       "      <td>265506097</td>\n",
       "      <td>511358276</td>\n",
       "    </tr>\n",
       "    <tr>\n",
       "      <th>3</th>\n",
       "      <td>Monsters, Inc.</td>\n",
       "      <td>115000000.0</td>\n",
       "      <td>255873250</td>\n",
       "      <td>272900000</td>\n",
       "      <td>528773250</td>\n",
       "    </tr>\n",
       "    <tr>\n",
       "      <th>4</th>\n",
       "      <td>Finding Nemo</td>\n",
       "      <td>94000000.0</td>\n",
       "      <td>339714978</td>\n",
       "      <td>531300000</td>\n",
       "      <td>871014978</td>\n",
       "    </tr>\n",
       "  </tbody>\n",
       "</table>\n",
       "</div>"
      ],
      "text/plain": [
       "             film       budget  box_office_us_canada  box_office_other  \\\n",
       "0       Toy Story   30000000.0             223225679         171210907   \n",
       "1    A Bug's Life  120000000.0             162798565         200460294   \n",
       "2     Toy Story 2   90000000.0             245852179         265506097   \n",
       "3  Monsters, Inc.  115000000.0             255873250         272900000   \n",
       "4    Finding Nemo   94000000.0             339714978         531300000   \n",
       "\n",
       "   box_office_worldwide  \n",
       "0             394436586  \n",
       "1             363258859  \n",
       "2             511358276  \n",
       "3             528773250  \n",
       "4             871014978  "
      ]
     },
     "execution_count": 35,
     "metadata": {},
     "output_type": "execute_result"
    }
   ],
   "source": [
    "# View the Data\n",
    "box_off_df.head()"
   ]
  },
  {
   "cell_type": "code",
   "execution_count": 36,
   "id": "ef1ce89d-a6bc-426b-8ee7-23d8a61f2709",
   "metadata": {},
   "outputs": [
    {
     "name": "stdout",
     "output_type": "stream",
     "text": [
      "No. of rows: 28\n",
      "\n",
      "No. of columns: 5\n"
     ]
    }
   ],
   "source": [
    "# Dimension of Data\n",
    "print(\"No. of rows: {}\".format(box_off_df.shape[0]))\n",
    "print(\"\")\n",
    "print(\"No. of columns: {}\".format(box_off_df.shape[1]))"
   ]
  },
  {
   "cell_type": "code",
   "execution_count": 37,
   "id": "b6ac7a3f-1d0d-4266-b0ff-c560f697d765",
   "metadata": {},
   "outputs": [
    {
     "name": "stdout",
     "output_type": "stream",
     "text": [
      "<class 'pandas.core.frame.DataFrame'>\n",
      "RangeIndex: 28 entries, 0 to 27\n",
      "Data columns (total 5 columns):\n",
      " #   Column                Non-Null Count  Dtype  \n",
      "---  ------                --------------  -----  \n",
      " 0   film                  28 non-null     object \n",
      " 1   budget                27 non-null     float64\n",
      " 2   box_office_us_canada  28 non-null     int64  \n",
      " 3   box_office_other      28 non-null     int64  \n",
      " 4   box_office_worldwide  28 non-null     int64  \n",
      "dtypes: float64(1), int64(3), object(1)\n",
      "memory usage: 1.2+ KB\n"
     ]
    }
   ],
   "source": [
    "# Data Type\n",
    "box_off_df.info()"
   ]
  },
  {
   "cell_type": "markdown",
   "id": "5043f034-8ce0-4ed2-a239-9b5dce4a246d",
   "metadata": {},
   "source": [
    "The box_office earnings columns should be in float type. Thus, we will replaced it to float type."
   ]
  },
  {
   "cell_type": "code",
   "execution_count": 39,
   "id": "04a49bd4-15ed-4844-b5d6-9360189f2c6a",
   "metadata": {},
   "outputs": [
    {
     "name": "stdout",
     "output_type": "stream",
     "text": [
      "<class 'pandas.core.frame.DataFrame'>\n",
      "RangeIndex: 28 entries, 0 to 27\n",
      "Data columns (total 5 columns):\n",
      " #   Column                Non-Null Count  Dtype  \n",
      "---  ------                --------------  -----  \n",
      " 0   film                  28 non-null     object \n",
      " 1   budget                27 non-null     float64\n",
      " 2   box_office_us_canada  28 non-null     float64\n",
      " 3   box_office_other      28 non-null     float64\n",
      " 4   box_office_worldwide  28 non-null     float64\n",
      "dtypes: float64(4), object(1)\n",
      "memory usage: 1.2+ KB\n"
     ]
    }
   ],
   "source": [
    "# Change to Float\n",
    "to_float_cols = [\"box_office_us_canada\", \"box_office_other\", \"box_office_worldwide\"]\n",
    "box_off_df[to_float_cols] = box_off_df[to_float_cols].astype(float)\n",
    "\n",
    "# Verify\n",
    "box_off_df.info()"
   ]
  },
  {
   "cell_type": "code",
   "execution_count": 40,
   "id": "7f010c6c-d764-4bd8-b9d2-ae4a0b2b09a6",
   "metadata": {},
   "outputs": [
    {
     "name": "stdout",
     "output_type": "stream",
     "text": [
      "The Box Office datasets contains 1 missing values.\n"
     ]
    }
   ],
   "source": [
    "# Checking of Missing Values\n",
    "box_off_is_missing  = box_off_df.isna().sum().sum()\n",
    "\n",
    "if box_off_is_missing == 0:\n",
    "    print(\"No, the Box Office datasets doesn't contain any missing values.\")\n",
    "else:\n",
    "    print(\"The Box Office datasets contains {} missing values.\".format(box_off_is_missing))"
   ]
  },
  {
   "cell_type": "code",
   "execution_count": 41,
   "id": "8a91e285-850c-49b5-bef5-5f061c67ca23",
   "metadata": {},
   "outputs": [
    {
     "data": {
      "text/html": [
       "<div>\n",
       "<style scoped>\n",
       "    .dataframe tbody tr th:only-of-type {\n",
       "        vertical-align: middle;\n",
       "    }\n",
       "\n",
       "    .dataframe tbody tr th {\n",
       "        vertical-align: top;\n",
       "    }\n",
       "\n",
       "    .dataframe thead th {\n",
       "        text-align: right;\n",
       "    }\n",
       "</style>\n",
       "<table border=\"1\" class=\"dataframe\">\n",
       "  <thead>\n",
       "    <tr style=\"text-align: right;\">\n",
       "      <th></th>\n",
       "      <th>film</th>\n",
       "      <th>budget</th>\n",
       "      <th>box_office_us_canada</th>\n",
       "      <th>box_office_other</th>\n",
       "      <th>box_office_worldwide</th>\n",
       "    </tr>\n",
       "  </thead>\n",
       "  <tbody>\n",
       "    <tr>\n",
       "      <th>23</th>\n",
       "      <td>Luca</td>\n",
       "      <td>NaN</td>\n",
       "      <td>1324302.0</td>\n",
       "      <td>49788012.0</td>\n",
       "      <td>51112314.0</td>\n",
       "    </tr>\n",
       "  </tbody>\n",
       "</table>\n",
       "</div>"
      ],
      "text/plain": [
       "    film  budget  box_office_us_canada  box_office_other  box_office_worldwide\n",
       "23  Luca     NaN             1324302.0        49788012.0            51112314.0"
      ]
     },
     "execution_count": 41,
     "metadata": {},
     "output_type": "execute_result"
    }
   ],
   "source": [
    "# Check the rows\n",
    "box_off_df[box_off_df.isna().any(axis = 1)]"
   ]
  },
  {
   "cell_type": "markdown",
   "id": "4ab6bfb2-a230-48b8-b86f-d573bae67c61",
   "metadata": {},
   "source": [
    "Only budget is missing for the film \"Luna\" and rest details are present, so we will replace it with 0."
   ]
  },
  {
   "cell_type": "code",
   "execution_count": 43,
   "id": "ca5a0f20-a4ac-46e6-8426-aa0d53e53c42",
   "metadata": {},
   "outputs": [
    {
     "name": "stdout",
     "output_type": "stream",
     "text": [
      "No, the Box Office datasets doesn't contain any missing values.\n"
     ]
    }
   ],
   "source": [
    "box_off_df['budget'] = box_off_df['budget'].fillna(0)\n",
    "\n",
    "# Verify\n",
    "box_off_is_missing  = box_off_df.isna().sum().sum()\n",
    "\n",
    "if box_off_is_missing == 0:\n",
    "    print(\"No, the Box Office datasets doesn't contain any missing values.\")\n",
    "else:\n",
    "    print(\"The Box Office datasets contains {} missing values.\".format(box_off_is_missing))"
   ]
  },
  {
   "cell_type": "code",
   "execution_count": 44,
   "id": "71c11182-3e23-497d-9cdb-354abe6bee15",
   "metadata": {},
   "outputs": [
    {
     "name": "stdout",
     "output_type": "stream",
     "text": [
      "No, the Box Office datasets doesn't contain any duplicated rows.\n"
     ]
    }
   ],
   "source": [
    "# Checking of Duplicate Rows\n",
    "box_off_is_duplicate = box_off_df.duplicated().sum()\n",
    "\n",
    "if box_off_is_duplicate == 0:\n",
    "    print(\"No, the Box Office datasets doesn't contain any duplicated rows.\")\n",
    "else:\n",
    "    print(\"The Box Office datasets contains {} duplicated rows.\".format(box_off_is_duplicate))"
   ]
  },
  {
   "cell_type": "markdown",
   "id": "5527d96a-15e3-49a5-89b6-910ea6ba4b89",
   "metadata": {},
   "source": [
    "5. **Public Reviews Data**"
   ]
  },
  {
   "cell_type": "code",
   "execution_count": 46,
   "id": "7ff145de-a21b-41b9-be94-1269d36b2c12",
   "metadata": {},
   "outputs": [
    {
     "data": {
      "text/html": [
       "<div>\n",
       "<style scoped>\n",
       "    .dataframe tbody tr th:only-of-type {\n",
       "        vertical-align: middle;\n",
       "    }\n",
       "\n",
       "    .dataframe tbody tr th {\n",
       "        vertical-align: top;\n",
       "    }\n",
       "\n",
       "    .dataframe thead th {\n",
       "        text-align: right;\n",
       "    }\n",
       "</style>\n",
       "<table border=\"1\" class=\"dataframe\">\n",
       "  <thead>\n",
       "    <tr style=\"text-align: right;\">\n",
       "      <th></th>\n",
       "      <th>film</th>\n",
       "      <th>rotten_tomatoes_score</th>\n",
       "      <th>rotten_tomatoes_counts</th>\n",
       "      <th>metacritic_score</th>\n",
       "      <th>metacritic_counts</th>\n",
       "      <th>cinema_score</th>\n",
       "      <th>imdb_score</th>\n",
       "      <th>imdb_counts</th>\n",
       "    </tr>\n",
       "  </thead>\n",
       "  <tbody>\n",
       "    <tr>\n",
       "      <th>0</th>\n",
       "      <td>Toy Story</td>\n",
       "      <td>100</td>\n",
       "      <td>96</td>\n",
       "      <td>95</td>\n",
       "      <td>26</td>\n",
       "      <td>A</td>\n",
       "      <td>8.3</td>\n",
       "      <td>1089101</td>\n",
       "    </tr>\n",
       "    <tr>\n",
       "      <th>1</th>\n",
       "      <td>A Bug's Life</td>\n",
       "      <td>92</td>\n",
       "      <td>91</td>\n",
       "      <td>78</td>\n",
       "      <td>23</td>\n",
       "      <td>A</td>\n",
       "      <td>7.2</td>\n",
       "      <td>319596</td>\n",
       "    </tr>\n",
       "    <tr>\n",
       "      <th>2</th>\n",
       "      <td>Toy Story 2</td>\n",
       "      <td>100</td>\n",
       "      <td>172</td>\n",
       "      <td>88</td>\n",
       "      <td>34</td>\n",
       "      <td>A+</td>\n",
       "      <td>7.9</td>\n",
       "      <td>630573</td>\n",
       "    </tr>\n",
       "    <tr>\n",
       "      <th>3</th>\n",
       "      <td>Monsters, Inc.</td>\n",
       "      <td>96</td>\n",
       "      <td>199</td>\n",
       "      <td>79</td>\n",
       "      <td>35</td>\n",
       "      <td>A+</td>\n",
       "      <td>8.1</td>\n",
       "      <td>1000657</td>\n",
       "    </tr>\n",
       "    <tr>\n",
       "      <th>4</th>\n",
       "      <td>Finding Nemo</td>\n",
       "      <td>99</td>\n",
       "      <td>270</td>\n",
       "      <td>90</td>\n",
       "      <td>38</td>\n",
       "      <td>A+</td>\n",
       "      <td>8.2</td>\n",
       "      <td>1132877</td>\n",
       "    </tr>\n",
       "  </tbody>\n",
       "</table>\n",
       "</div>"
      ],
      "text/plain": [
       "             film  rotten_tomatoes_score  rotten_tomatoes_counts  \\\n",
       "0       Toy Story                    100                      96   \n",
       "1    A Bug's Life                     92                      91   \n",
       "2     Toy Story 2                    100                     172   \n",
       "3  Monsters, Inc.                     96                     199   \n",
       "4    Finding Nemo                     99                     270   \n",
       "\n",
       "   metacritic_score  metacritic_counts cinema_score  imdb_score  imdb_counts  \n",
       "0                95                 26            A         8.3      1089101  \n",
       "1                78                 23            A         7.2       319596  \n",
       "2                88                 34           A+         7.9       630573  \n",
       "3                79                 35           A+         8.1      1000657  \n",
       "4                90                 38           A+         8.2      1132877  "
      ]
     },
     "execution_count": 46,
     "metadata": {},
     "output_type": "execute_result"
    }
   ],
   "source": [
    "# View the Data\n",
    "reviews_df.head()"
   ]
  },
  {
   "cell_type": "code",
   "execution_count": 47,
   "id": "9fcd6e8e-591c-46af-b5ca-76f0e37b53cf",
   "metadata": {},
   "outputs": [
    {
     "name": "stdout",
     "output_type": "stream",
     "text": [
      "No. of rows: 28\n",
      "\n",
      "No. of columns: 8\n"
     ]
    }
   ],
   "source": [
    "# Dimension of Data\n",
    "print(\"No. of rows: {}\".format(reviews_df.shape[0]))\n",
    "print(\"\")\n",
    "print(\"No. of columns: {}\".format(reviews_df.shape[1]))"
   ]
  },
  {
   "cell_type": "code",
   "execution_count": 48,
   "id": "3a1a8060-09ef-4a54-b902-caa0add14279",
   "metadata": {},
   "outputs": [
    {
     "name": "stdout",
     "output_type": "stream",
     "text": [
      "<class 'pandas.core.frame.DataFrame'>\n",
      "RangeIndex: 28 entries, 0 to 27\n",
      "Data columns (total 8 columns):\n",
      " #   Column                  Non-Null Count  Dtype  \n",
      "---  ------                  --------------  -----  \n",
      " 0   film                    28 non-null     object \n",
      " 1   rotten_tomatoes_score   28 non-null     int64  \n",
      " 2   rotten_tomatoes_counts  28 non-null     int64  \n",
      " 3   metacritic_score        28 non-null     int64  \n",
      " 4   metacritic_counts       28 non-null     int64  \n",
      " 5   cinema_score            25 non-null     object \n",
      " 6   imdb_score              28 non-null     float64\n",
      " 7   imdb_counts             28 non-null     int64  \n",
      "dtypes: float64(1), int64(5), object(2)\n",
      "memory usage: 1.9+ KB\n"
     ]
    }
   ],
   "source": [
    "# Data Type\n",
    "reviews_df.info()"
   ]
  },
  {
   "cell_type": "code",
   "execution_count": 49,
   "id": "64b30e29-7fd7-4ce5-9a9c-20e48832379e",
   "metadata": {},
   "outputs": [
    {
     "name": "stdout",
     "output_type": "stream",
     "text": [
      "The Reviews datasets contains 3 missing values.\n"
     ]
    }
   ],
   "source": [
    "# Checking of Missing Values\n",
    "reviews_is_missing  = reviews_df.isna().sum().sum()\n",
    "\n",
    "if reviews_is_missing == 0:\n",
    "    print(\"No, the Reviews datasets doesn't contain any missing values.\")\n",
    "else:\n",
    "    print(\"The Reviews datasets contains {} missing values.\".format(reviews_is_missing))"
   ]
  },
  {
   "cell_type": "code",
   "execution_count": 50,
   "id": "5a248157-4c74-4c31-8cda-6b6e385ecda0",
   "metadata": {},
   "outputs": [
    {
     "data": {
      "text/html": [
       "<div>\n",
       "<style scoped>\n",
       "    .dataframe tbody tr th:only-of-type {\n",
       "        vertical-align: middle;\n",
       "    }\n",
       "\n",
       "    .dataframe tbody tr th {\n",
       "        vertical-align: top;\n",
       "    }\n",
       "\n",
       "    .dataframe thead th {\n",
       "        text-align: right;\n",
       "    }\n",
       "</style>\n",
       "<table border=\"1\" class=\"dataframe\">\n",
       "  <thead>\n",
       "    <tr style=\"text-align: right;\">\n",
       "      <th></th>\n",
       "      <th>film</th>\n",
       "      <th>rotten_tomatoes_score</th>\n",
       "      <th>rotten_tomatoes_counts</th>\n",
       "      <th>metacritic_score</th>\n",
       "      <th>metacritic_counts</th>\n",
       "      <th>cinema_score</th>\n",
       "      <th>imdb_score</th>\n",
       "      <th>imdb_counts</th>\n",
       "    </tr>\n",
       "  </thead>\n",
       "  <tbody>\n",
       "    <tr>\n",
       "      <th>22</th>\n",
       "      <td>Soul</td>\n",
       "      <td>95</td>\n",
       "      <td>360</td>\n",
       "      <td>83</td>\n",
       "      <td>55</td>\n",
       "      <td>NaN</td>\n",
       "      <td>8.0</td>\n",
       "      <td>392783</td>\n",
       "    </tr>\n",
       "    <tr>\n",
       "      <th>23</th>\n",
       "      <td>Luca</td>\n",
       "      <td>91</td>\n",
       "      <td>303</td>\n",
       "      <td>71</td>\n",
       "      <td>52</td>\n",
       "      <td>NaN</td>\n",
       "      <td>7.4</td>\n",
       "      <td>202404</td>\n",
       "    </tr>\n",
       "    <tr>\n",
       "      <th>24</th>\n",
       "      <td>Turning Red</td>\n",
       "      <td>95</td>\n",
       "      <td>289</td>\n",
       "      <td>83</td>\n",
       "      <td>52</td>\n",
       "      <td>NaN</td>\n",
       "      <td>7.0</td>\n",
       "      <td>158649</td>\n",
       "    </tr>\n",
       "  </tbody>\n",
       "</table>\n",
       "</div>"
      ],
      "text/plain": [
       "           film  rotten_tomatoes_score  rotten_tomatoes_counts  \\\n",
       "22         Soul                     95                     360   \n",
       "23         Luca                     91                     303   \n",
       "24  Turning Red                     95                     289   \n",
       "\n",
       "    metacritic_score  metacritic_counts cinema_score  imdb_score  imdb_counts  \n",
       "22                83                 55          NaN         8.0       392783  \n",
       "23                71                 52          NaN         7.4       202404  \n",
       "24                83                 52          NaN         7.0       158649  "
      ]
     },
     "execution_count": 50,
     "metadata": {},
     "output_type": "execute_result"
    }
   ],
   "source": [
    "# Check the rows\n",
    "reviews_df[reviews_df.isna().any(axis = 1)]"
   ]
  },
  {
   "cell_type": "markdown",
   "id": "a444f3bf-7e09-40f3-8cf3-edc6cedb8327",
   "metadata": {},
   "source": [
    "The data of \"cinema_score\" is missing for the films \"Soul\", \"Luca\", and \"Turning Red\". Thus, we will replace it with \"Unknown\"."
   ]
  },
  {
   "cell_type": "code",
   "execution_count": 52,
   "id": "8579577b-e6e3-49b2-8398-5ab5dc32f6c0",
   "metadata": {},
   "outputs": [
    {
     "name": "stdout",
     "output_type": "stream",
     "text": [
      "No, the Reviews datasets doesn't contain any missing values.\n"
     ]
    }
   ],
   "source": [
    "# Replace the NaN\n",
    "reviews_df['cinema_score'] = reviews_df['cinema_score'].fillna(\"Unknown\")\n",
    "\n",
    "# Verify\n",
    "reviews_is_missing  = reviews_df.isna().sum().sum()\n",
    "\n",
    "if reviews_is_missing == 0:\n",
    "    print(\"No, the Reviews datasets doesn't contain any missing values.\")\n",
    "else:\n",
    "    print(\"The Reviews datasets contains {} missing values.\".format(reviews_is_missing))"
   ]
  },
  {
   "cell_type": "code",
   "execution_count": 53,
   "id": "016e3d3d-bd44-47e0-b25e-ecd1709af273",
   "metadata": {},
   "outputs": [
    {
     "name": "stdout",
     "output_type": "stream",
     "text": [
      "No, the Reviews datasets doesn't contain any duplicated rows.\n"
     ]
    }
   ],
   "source": [
    "# Checking of Duplicate Rows\n",
    "reviews_is_duplicate = reviews_df.duplicated().sum()\n",
    "\n",
    "if reviews_is_duplicate == 0:\n",
    "    print(\"No, the Reviews datasets doesn't contain any duplicated rows.\")\n",
    "else:\n",
    "    print(\"The Reviews datasets contains {} duplicated rows.\".format(reviews_is_duplicate))"
   ]
  },
  {
   "cell_type": "markdown",
   "id": "fafc6308-81ba-47bd-9352-07061b43aeb7",
   "metadata": {},
   "source": [
    "6. **Academy Awards Data**"
   ]
  },
  {
   "cell_type": "code",
   "execution_count": 55,
   "id": "b1877457-945b-4add-881d-c6ef21a092b0",
   "metadata": {},
   "outputs": [
    {
     "data": {
      "text/html": [
       "<div>\n",
       "<style scoped>\n",
       "    .dataframe tbody tr th:only-of-type {\n",
       "        vertical-align: middle;\n",
       "    }\n",
       "\n",
       "    .dataframe tbody tr th {\n",
       "        vertical-align: top;\n",
       "    }\n",
       "\n",
       "    .dataframe thead th {\n",
       "        text-align: right;\n",
       "    }\n",
       "</style>\n",
       "<table border=\"1\" class=\"dataframe\">\n",
       "  <thead>\n",
       "    <tr style=\"text-align: right;\">\n",
       "      <th></th>\n",
       "      <th>film</th>\n",
       "      <th>award_type</th>\n",
       "      <th>status</th>\n",
       "    </tr>\n",
       "  </thead>\n",
       "  <tbody>\n",
       "    <tr>\n",
       "      <th>0</th>\n",
       "      <td>Toy Story</td>\n",
       "      <td>Animated Feature</td>\n",
       "      <td>Award not yet introduced</td>\n",
       "    </tr>\n",
       "    <tr>\n",
       "      <th>1</th>\n",
       "      <td>Toy Story</td>\n",
       "      <td>Original Screenplay</td>\n",
       "      <td>Nominated</td>\n",
       "    </tr>\n",
       "    <tr>\n",
       "      <th>2</th>\n",
       "      <td>Toy Story</td>\n",
       "      <td>Adapted Screenplay</td>\n",
       "      <td>Ineligible</td>\n",
       "    </tr>\n",
       "    <tr>\n",
       "      <th>3</th>\n",
       "      <td>Toy Story</td>\n",
       "      <td>Original Score</td>\n",
       "      <td>Nominated</td>\n",
       "    </tr>\n",
       "    <tr>\n",
       "      <th>4</th>\n",
       "      <td>Toy Story</td>\n",
       "      <td>Original Song</td>\n",
       "      <td>Nominated</td>\n",
       "    </tr>\n",
       "  </tbody>\n",
       "</table>\n",
       "</div>"
      ],
      "text/plain": [
       "        film           award_type                    status\n",
       "0  Toy Story     Animated Feature  Award not yet introduced\n",
       "1  Toy Story  Original Screenplay                 Nominated\n",
       "2  Toy Story   Adapted Screenplay                Ineligible\n",
       "3  Toy Story       Original Score                 Nominated\n",
       "4  Toy Story        Original Song                 Nominated"
      ]
     },
     "execution_count": 55,
     "metadata": {},
     "output_type": "execute_result"
    }
   ],
   "source": [
    "# View the Data\n",
    "awards_df.head()"
   ]
  },
  {
   "cell_type": "code",
   "execution_count": 56,
   "id": "997b7c0b-0e73-49f3-be00-83e55896d0e4",
   "metadata": {},
   "outputs": [
    {
     "name": "stdout",
     "output_type": "stream",
     "text": [
      "No. of Rows: 89\n",
      "\n",
      "No. of columns: 3\n"
     ]
    }
   ],
   "source": [
    "# Dimension of Data\n",
    "print(\"No. of Rows: {}\".format(awards_df.shape[0]))\n",
    "print(\"\")\n",
    "print(\"No. of columns: {}\".format(awards_df.shape[1]))"
   ]
  },
  {
   "cell_type": "code",
   "execution_count": 57,
   "id": "a3b277af-3828-4f09-9757-5468bdcd0a40",
   "metadata": {},
   "outputs": [
    {
     "name": "stdout",
     "output_type": "stream",
     "text": [
      "<class 'pandas.core.frame.DataFrame'>\n",
      "RangeIndex: 89 entries, 0 to 88\n",
      "Data columns (total 3 columns):\n",
      " #   Column      Non-Null Count  Dtype \n",
      "---  ------      --------------  ----- \n",
      " 0   film        89 non-null     object\n",
      " 1   award_type  89 non-null     object\n",
      " 2   status      89 non-null     object\n",
      "dtypes: object(3)\n",
      "memory usage: 2.2+ KB\n"
     ]
    }
   ],
   "source": [
    "# Data Type\n",
    "awards_df.info()"
   ]
  },
  {
   "cell_type": "code",
   "execution_count": 58,
   "id": "15b6ba5d-92d3-411c-ba79-af1829c80e9f",
   "metadata": {},
   "outputs": [
    {
     "name": "stdout",
     "output_type": "stream",
     "text": [
      "No, the Awards datasets doesn't contain any missing values.\n"
     ]
    }
   ],
   "source": [
    "# Checking of Missing Values\n",
    "awards_is_missing  = awards_df.isna().sum().sum()\n",
    "\n",
    "if awards_is_missing == 0:\n",
    "    print(\"No, the Awards datasets doesn't contain any missing values.\")\n",
    "else:\n",
    "    print(\"The Awards datasets contains {} missing values.\".format(awards_is_missing))"
   ]
  },
  {
   "cell_type": "code",
   "execution_count": 59,
   "id": "ecdf8965-4a51-41bb-b94a-dee4f4e32c8c",
   "metadata": {},
   "outputs": [
    {
     "name": "stdout",
     "output_type": "stream",
     "text": [
      "No, the Awards datasets doesn't contain any duplicated rows.\n"
     ]
    }
   ],
   "source": [
    "# Checking of Duplicate Rows\n",
    "awards_is_duplicate = awards_df.duplicated().sum()\n",
    "\n",
    "if awards_is_duplicate == 0:\n",
    "    print(\"No, the Awards datasets doesn't contain any duplicated rows.\")\n",
    "else:\n",
    "    print(\"The Awards datasets contains {} duplicated rows.\".format(awards_is_duplicate))"
   ]
  },
  {
   "cell_type": "markdown",
   "id": "f88ecd13-d978-4f7a-a01d-9dc645d38b37",
   "metadata": {},
   "source": [
    "### Exploratory Data Analysis (EDA)"
   ]
  },
  {
   "cell_type": "markdown",
   "id": "8c877926-a33e-4efa-bc73-761fe1bf7247",
   "metadata": {},
   "source": [
    "1. **Films Data**"
   ]
  },
  {
   "cell_type": "markdown",
   "id": "67b7f940-bc31-462b-88b6-440e5e0ee56a",
   "metadata": {},
   "source": [
    "**Key Questions**\n",
    "\n",
    "<ul>\n",
    "    <li>How many distinct pixar films are there in this datasets?</li>\n",
    "    <li>Among the movie list, Which film is the oldest and most recent?</li>\n",
    "    <li>How many movies are released before the year 2000?</li>\n",
    "    <li>How many movies are released between the year 2000 and 2010?</li>\n",
    "    <li>How many movies are released between the year 2011 and 2020?</li>\n",
    "    <li>How many movies are released after the year 2020? (Excluding 2020)</li>\n",
    "    <li>Which movie's runtime is least and most?</li>\n",
    "    <li>What is the average run time?</li>\n",
    "    <li>How many movie's run time is less than the overall average run time?</li>\n",
    "    <li>How many movie's run time is greater than to the overall average run time?</li>\n",
    "    <li>How many movie's run time is equal to the overall average run time?</li>\n",
    "    <li>How many distinct film ratings are there?</li>\n",
    "    <li>How many movies are rated 'G' and which are they, meaning they contain content suitable for all audiences?</li>\n",
    "    <li>How many movies are rated 'PG', suggesting parental guidance is advised?</li>\n",
    "    <li>When was the last time a movie suitable for all audiences (G-rated) was released?</li>\n",
    "    <li>On which days are movies most frequently released?</li>\n",
    "</ul>"
   ]
  },
  {
   "cell_type": "code",
   "execution_count": 63,
   "id": "2f3359e9-1fec-413b-90a4-61ad3653dcf0",
   "metadata": {},
   "outputs": [],
   "source": [
    "films_df.set_index(\"number\", inplace = True)"
   ]
  },
  {
   "cell_type": "markdown",
   "id": "1b1391df-3f24-4cb8-92fd-b37b181020bb",
   "metadata": {},
   "source": [
    "<font color = \"blue\">How many distinct pixar films are there in this datasets?</font>"
   ]
  },
  {
   "cell_type": "code",
   "execution_count": 65,
   "id": "82791025-3ece-415d-8691-e442a3803654",
   "metadata": {},
   "outputs": [
    {
     "name": "stdout",
     "output_type": "stream",
     "text": [
      "There are 28 distinct pixar movies in this dataset.\n"
     ]
    }
   ],
   "source": [
    "print(\"There are {} distinct pixar movies in this dataset.\".format(films_df['film'].nunique()))"
   ]
  },
  {
   "cell_type": "markdown",
   "id": "9b3177ca-50ab-4cbc-b943-e05b5cc44a45",
   "metadata": {},
   "source": [
    "<font color = \"blue\">Among the movie list, Which film is the oldest and most recent?</font>"
   ]
  },
  {
   "cell_type": "code",
   "execution_count": 67,
   "id": "fab92247-2e52-460d-b1a9-cfe83dd05bfe",
   "metadata": {},
   "outputs": [
    {
     "name": "stdout",
     "output_type": "stream",
     "text": [
      "Among all the movies, Toy Story is the oldest movie which was released on 1995-11-22.\n"
     ]
    }
   ],
   "source": [
    "oldest_film = films_df[films_df['release_date'] == films_df['release_date'].min()].iloc[0]\n",
    "\n",
    "print(\"Among all the movies, {} is the oldest movie which was released on {}.\".\n",
    "      format(oldest_film['film'], oldest_film['release_date'].date()))"
   ]
  },
  {
   "cell_type": "code",
   "execution_count": 68,
   "id": "a4a08322-b194-447e-81ee-09f8b577f85d",
   "metadata": {},
   "outputs": [
    {
     "name": "stdout",
     "output_type": "stream",
     "text": [
      "Among all the movies, Inside Out 2 is the most recent movie which was released on 2024-06-14.\n"
     ]
    }
   ],
   "source": [
    "recent_film = films_df[films_df['release_date'] == films_df['release_date'].max()].iloc[0]\n",
    "\n",
    "print(\"Among all the movies, {} is the most recent movie which was released on {}.\".\n",
    "      format(recent_film['film'], recent_film['release_date'].date()))"
   ]
  },
  {
   "cell_type": "markdown",
   "id": "76a7538d-cd1b-461b-892e-e5aaefbd214e",
   "metadata": {},
   "source": [
    "<font color = \"blue\">How many movies are released before the year 2000?</font>"
   ]
  },
  {
   "cell_type": "code",
   "execution_count": 70,
   "id": "9bb1833c-3c71-49e3-9214-30d473fec658",
   "metadata": {},
   "outputs": [
    {
     "name": "stdout",
     "output_type": "stream",
     "text": [
      "There are 3 movies which released before the year 2000.\n",
      "\n"
     ]
    },
    {
     "data": {
      "text/html": [
       "<div>\n",
       "<style scoped>\n",
       "    .dataframe tbody tr th:only-of-type {\n",
       "        vertical-align: middle;\n",
       "    }\n",
       "\n",
       "    .dataframe tbody tr th {\n",
       "        vertical-align: top;\n",
       "    }\n",
       "\n",
       "    .dataframe thead th {\n",
       "        text-align: right;\n",
       "    }\n",
       "</style>\n",
       "<table border=\"1\" class=\"dataframe\">\n",
       "  <thead>\n",
       "    <tr style=\"text-align: right;\">\n",
       "      <th></th>\n",
       "      <th>film</th>\n",
       "      <th>release_date</th>\n",
       "      <th>run_time</th>\n",
       "      <th>film_rating</th>\n",
       "      <th>plot</th>\n",
       "    </tr>\n",
       "    <tr>\n",
       "      <th>number</th>\n",
       "      <th></th>\n",
       "      <th></th>\n",
       "      <th></th>\n",
       "      <th></th>\n",
       "      <th></th>\n",
       "    </tr>\n",
       "  </thead>\n",
       "  <tbody>\n",
       "    <tr>\n",
       "      <th>1</th>\n",
       "      <td>Toy Story</td>\n",
       "      <td>1995-11-22</td>\n",
       "      <td>81</td>\n",
       "      <td>G</td>\n",
       "      <td>A cowboy doll is profoundly threatened and jea...</td>\n",
       "    </tr>\n",
       "    <tr>\n",
       "      <th>2</th>\n",
       "      <td>A Bug's Life</td>\n",
       "      <td>1998-11-25</td>\n",
       "      <td>95</td>\n",
       "      <td>G</td>\n",
       "      <td>A misfit ant, looking for \"warriors\" to save h...</td>\n",
       "    </tr>\n",
       "    <tr>\n",
       "      <th>3</th>\n",
       "      <td>Toy Story 2</td>\n",
       "      <td>1999-11-24</td>\n",
       "      <td>92</td>\n",
       "      <td>G</td>\n",
       "      <td>When Woody is stolen by a toy collector, Buzz ...</td>\n",
       "    </tr>\n",
       "  </tbody>\n",
       "</table>\n",
       "</div>"
      ],
      "text/plain": [
       "                film release_date  run_time film_rating  \\\n",
       "number                                                    \n",
       "1          Toy Story   1995-11-22        81           G   \n",
       "2       A Bug's Life   1998-11-25        95           G   \n",
       "3        Toy Story 2   1999-11-24        92           G   \n",
       "\n",
       "                                                     plot  \n",
       "number                                                     \n",
       "1       A cowboy doll is profoundly threatened and jea...  \n",
       "2       A misfit ant, looking for \"warriors\" to save h...  \n",
       "3       When Woody is stolen by a toy collector, Buzz ...  "
      ]
     },
     "execution_count": 70,
     "metadata": {},
     "output_type": "execute_result"
    }
   ],
   "source": [
    "films_before_2000 = films_df[films_df['release_date'].dt.year < 2000]\n",
    "\n",
    "print(\"There are {} movies which released before the year 2000.\".format(len(films_before_2000)))\n",
    "print(\"\")\n",
    "\n",
    "# View the data\n",
    "films_before_2000"
   ]
  },
  {
   "cell_type": "markdown",
   "id": "bc65d87f-7c22-4e53-a98c-9a03ea4b8035",
   "metadata": {},
   "source": [
    "<font color = \"blue\">How many movies are released between the year 2000 and 2010?</font>"
   ]
  },
  {
   "cell_type": "code",
   "execution_count": 72,
   "id": "61521f3b-07b2-4e8d-9c88-12720a2d6015",
   "metadata": {},
   "outputs": [
    {
     "name": "stdout",
     "output_type": "stream",
     "text": [
      "There are 8 movies which released between the year 2000 and 2010.\n",
      "\n"
     ]
    },
    {
     "data": {
      "text/html": [
       "<div>\n",
       "<style scoped>\n",
       "    .dataframe tbody tr th:only-of-type {\n",
       "        vertical-align: middle;\n",
       "    }\n",
       "\n",
       "    .dataframe tbody tr th {\n",
       "        vertical-align: top;\n",
       "    }\n",
       "\n",
       "    .dataframe thead th {\n",
       "        text-align: right;\n",
       "    }\n",
       "</style>\n",
       "<table border=\"1\" class=\"dataframe\">\n",
       "  <thead>\n",
       "    <tr style=\"text-align: right;\">\n",
       "      <th></th>\n",
       "      <th>film</th>\n",
       "      <th>release_date</th>\n",
       "      <th>run_time</th>\n",
       "      <th>film_rating</th>\n",
       "      <th>plot</th>\n",
       "    </tr>\n",
       "    <tr>\n",
       "      <th>number</th>\n",
       "      <th></th>\n",
       "      <th></th>\n",
       "      <th></th>\n",
       "      <th></th>\n",
       "      <th></th>\n",
       "    </tr>\n",
       "  </thead>\n",
       "  <tbody>\n",
       "    <tr>\n",
       "      <th>4</th>\n",
       "      <td>Monsters, Inc.</td>\n",
       "      <td>2001-11-02</td>\n",
       "      <td>92</td>\n",
       "      <td>G</td>\n",
       "      <td>In order to power the city, monsters have to s...</td>\n",
       "    </tr>\n",
       "    <tr>\n",
       "      <th>5</th>\n",
       "      <td>Finding Nemo</td>\n",
       "      <td>2003-05-30</td>\n",
       "      <td>100</td>\n",
       "      <td>G</td>\n",
       "      <td>After his son is captured in the Great Barrier...</td>\n",
       "    </tr>\n",
       "    <tr>\n",
       "      <th>6</th>\n",
       "      <td>The Incredibles</td>\n",
       "      <td>2004-11-05</td>\n",
       "      <td>115</td>\n",
       "      <td>PG</td>\n",
       "      <td>While trying to lead a quiet suburban life, a ...</td>\n",
       "    </tr>\n",
       "    <tr>\n",
       "      <th>7</th>\n",
       "      <td>Cars</td>\n",
       "      <td>2006-06-09</td>\n",
       "      <td>116</td>\n",
       "      <td>G</td>\n",
       "      <td>On the way to the biggest race of his life, a ...</td>\n",
       "    </tr>\n",
       "    <tr>\n",
       "      <th>8</th>\n",
       "      <td>Ratatouille</td>\n",
       "      <td>2007-06-29</td>\n",
       "      <td>111</td>\n",
       "      <td>G</td>\n",
       "      <td>A rat who can cook makes an unusual alliance w...</td>\n",
       "    </tr>\n",
       "    <tr>\n",
       "      <th>9</th>\n",
       "      <td>WALL-E</td>\n",
       "      <td>2008-06-27</td>\n",
       "      <td>98</td>\n",
       "      <td>G</td>\n",
       "      <td>A robot who is responsible for cleaning a wast...</td>\n",
       "    </tr>\n",
       "    <tr>\n",
       "      <th>10</th>\n",
       "      <td>Up</td>\n",
       "      <td>2009-05-29</td>\n",
       "      <td>96</td>\n",
       "      <td>PG</td>\n",
       "      <td>78-year-old Carl Fredricksen travels to South ...</td>\n",
       "    </tr>\n",
       "    <tr>\n",
       "      <th>11</th>\n",
       "      <td>Toy Story 3</td>\n",
       "      <td>2010-06-18</td>\n",
       "      <td>103</td>\n",
       "      <td>G</td>\n",
       "      <td>The toys are mistakenly delivered to a day-car...</td>\n",
       "    </tr>\n",
       "  </tbody>\n",
       "</table>\n",
       "</div>"
      ],
      "text/plain": [
       "                   film release_date  run_time film_rating  \\\n",
       "number                                                       \n",
       "4        Monsters, Inc.   2001-11-02        92           G   \n",
       "5          Finding Nemo   2003-05-30       100           G   \n",
       "6       The Incredibles   2004-11-05       115          PG   \n",
       "7                  Cars   2006-06-09       116           G   \n",
       "8           Ratatouille   2007-06-29       111           G   \n",
       "9                WALL-E   2008-06-27        98           G   \n",
       "10                   Up   2009-05-29        96          PG   \n",
       "11          Toy Story 3   2010-06-18       103           G   \n",
       "\n",
       "                                                     plot  \n",
       "number                                                     \n",
       "4       In order to power the city, monsters have to s...  \n",
       "5       After his son is captured in the Great Barrier...  \n",
       "6       While trying to lead a quiet suburban life, a ...  \n",
       "7       On the way to the biggest race of his life, a ...  \n",
       "8       A rat who can cook makes an unusual alliance w...  \n",
       "9       A robot who is responsible for cleaning a wast...  \n",
       "10      78-year-old Carl Fredricksen travels to South ...  \n",
       "11      The toys are mistakenly delivered to a day-car...  "
      ]
     },
     "execution_count": 72,
     "metadata": {},
     "output_type": "execute_result"
    }
   ],
   "source": [
    "films_bet_2000_10 = films_df[(films_df['release_date'].dt.year >= 2000) & (films_df['release_date'].dt.year <= 2010)]\n",
    "print(\"There are {} movies which released between the year 2000 and 2010.\".format(len(films_bet_2000_10)))\n",
    "print(\"\")\n",
    "\n",
    "# View the data\n",
    "films_bet_2000_10"
   ]
  },
  {
   "cell_type": "markdown",
   "id": "e3283f11-f279-44e9-9406-190944f0ec2a",
   "metadata": {},
   "source": [
    "<font color = \"blue\">How many movies are released between the year 2011 and 2020?</font>"
   ]
  },
  {
   "cell_type": "code",
   "execution_count": 74,
   "id": "8d6c20f3-39ca-4c51-8d6e-ed5f2c39761d",
   "metadata": {},
   "outputs": [
    {
     "name": "stdout",
     "output_type": "stream",
     "text": [
      "There are 12 movies which released between the year 2011 and 2020.\n",
      "\n"
     ]
    },
    {
     "data": {
      "text/html": [
       "<div>\n",
       "<style scoped>\n",
       "    .dataframe tbody tr th:only-of-type {\n",
       "        vertical-align: middle;\n",
       "    }\n",
       "\n",
       "    .dataframe tbody tr th {\n",
       "        vertical-align: top;\n",
       "    }\n",
       "\n",
       "    .dataframe thead th {\n",
       "        text-align: right;\n",
       "    }\n",
       "</style>\n",
       "<table border=\"1\" class=\"dataframe\">\n",
       "  <thead>\n",
       "    <tr style=\"text-align: right;\">\n",
       "      <th></th>\n",
       "      <th>film</th>\n",
       "      <th>release_date</th>\n",
       "      <th>run_time</th>\n",
       "      <th>film_rating</th>\n",
       "      <th>plot</th>\n",
       "    </tr>\n",
       "    <tr>\n",
       "      <th>number</th>\n",
       "      <th></th>\n",
       "      <th></th>\n",
       "      <th></th>\n",
       "      <th></th>\n",
       "      <th></th>\n",
       "    </tr>\n",
       "  </thead>\n",
       "  <tbody>\n",
       "    <tr>\n",
       "      <th>12</th>\n",
       "      <td>Cars 2</td>\n",
       "      <td>2011-06-24</td>\n",
       "      <td>106</td>\n",
       "      <td>G</td>\n",
       "      <td>Star race car Lightning McQueen and his pal Ma...</td>\n",
       "    </tr>\n",
       "    <tr>\n",
       "      <th>13</th>\n",
       "      <td>Brave</td>\n",
       "      <td>2012-06-22</td>\n",
       "      <td>93</td>\n",
       "      <td>PG</td>\n",
       "      <td>Determined to make her own path in life, Princ...</td>\n",
       "    </tr>\n",
       "    <tr>\n",
       "      <th>14</th>\n",
       "      <td>Monsters University</td>\n",
       "      <td>2013-06-21</td>\n",
       "      <td>104</td>\n",
       "      <td>G</td>\n",
       "      <td>A look at the relationship between Mike Wazows...</td>\n",
       "    </tr>\n",
       "    <tr>\n",
       "      <th>15</th>\n",
       "      <td>Inside Out</td>\n",
       "      <td>2015-06-19</td>\n",
       "      <td>95</td>\n",
       "      <td>PG</td>\n",
       "      <td>After young Riley is uprooted from her Midwest...</td>\n",
       "    </tr>\n",
       "    <tr>\n",
       "      <th>16</th>\n",
       "      <td>The Good Dinosaur</td>\n",
       "      <td>2015-11-25</td>\n",
       "      <td>93</td>\n",
       "      <td>PG</td>\n",
       "      <td>In a world where dinosaurs and humans live sid...</td>\n",
       "    </tr>\n",
       "    <tr>\n",
       "      <th>17</th>\n",
       "      <td>Finding Dory</td>\n",
       "      <td>2016-06-17</td>\n",
       "      <td>97</td>\n",
       "      <td>PG</td>\n",
       "      <td>Friendly but forgetful blue tang Dory begins a...</td>\n",
       "    </tr>\n",
       "    <tr>\n",
       "      <th>18</th>\n",
       "      <td>Cars 3</td>\n",
       "      <td>2017-06-16</td>\n",
       "      <td>102</td>\n",
       "      <td>G</td>\n",
       "      <td>Lightning McQueen sets out to prove to a new g...</td>\n",
       "    </tr>\n",
       "    <tr>\n",
       "      <th>19</th>\n",
       "      <td>Coco</td>\n",
       "      <td>2017-11-22</td>\n",
       "      <td>105</td>\n",
       "      <td>PG</td>\n",
       "      <td>Aspiring musician Miguel, confronted with his ...</td>\n",
       "    </tr>\n",
       "    <tr>\n",
       "      <th>20</th>\n",
       "      <td>Incredibles 2</td>\n",
       "      <td>2018-06-15</td>\n",
       "      <td>118</td>\n",
       "      <td>PG</td>\n",
       "      <td>The Incredibles family takes on a new mission ...</td>\n",
       "    </tr>\n",
       "    <tr>\n",
       "      <th>21</th>\n",
       "      <td>Toy Story 4</td>\n",
       "      <td>2019-06-21</td>\n",
       "      <td>100</td>\n",
       "      <td>G</td>\n",
       "      <td>When a new toy called \"Forky\" joins Woody and ...</td>\n",
       "    </tr>\n",
       "    <tr>\n",
       "      <th>22</th>\n",
       "      <td>Onward</td>\n",
       "      <td>2020-03-06</td>\n",
       "      <td>102</td>\n",
       "      <td>PG</td>\n",
       "      <td>Teenage elf brothers Ian and Barley embark on ...</td>\n",
       "    </tr>\n",
       "    <tr>\n",
       "      <th>23</th>\n",
       "      <td>Soul</td>\n",
       "      <td>2020-12-25</td>\n",
       "      <td>100</td>\n",
       "      <td>PG</td>\n",
       "      <td>Joe is a middle-school band teacher whose life...</td>\n",
       "    </tr>\n",
       "  </tbody>\n",
       "</table>\n",
       "</div>"
      ],
      "text/plain": [
       "                       film release_date  run_time film_rating  \\\n",
       "number                                                           \n",
       "12                   Cars 2   2011-06-24       106           G   \n",
       "13                    Brave   2012-06-22        93          PG   \n",
       "14      Monsters University   2013-06-21       104           G   \n",
       "15               Inside Out   2015-06-19        95          PG   \n",
       "16        The Good Dinosaur   2015-11-25        93          PG   \n",
       "17             Finding Dory   2016-06-17        97          PG   \n",
       "18                   Cars 3   2017-06-16       102           G   \n",
       "19                     Coco   2017-11-22       105          PG   \n",
       "20            Incredibles 2   2018-06-15       118          PG   \n",
       "21              Toy Story 4   2019-06-21       100           G   \n",
       "22                   Onward   2020-03-06       102          PG   \n",
       "23                     Soul   2020-12-25       100          PG   \n",
       "\n",
       "                                                     plot  \n",
       "number                                                     \n",
       "12      Star race car Lightning McQueen and his pal Ma...  \n",
       "13      Determined to make her own path in life, Princ...  \n",
       "14      A look at the relationship between Mike Wazows...  \n",
       "15      After young Riley is uprooted from her Midwest...  \n",
       "16      In a world where dinosaurs and humans live sid...  \n",
       "17      Friendly but forgetful blue tang Dory begins a...  \n",
       "18      Lightning McQueen sets out to prove to a new g...  \n",
       "19      Aspiring musician Miguel, confronted with his ...  \n",
       "20      The Incredibles family takes on a new mission ...  \n",
       "21      When a new toy called \"Forky\" joins Woody and ...  \n",
       "22      Teenage elf brothers Ian and Barley embark on ...  \n",
       "23      Joe is a middle-school band teacher whose life...  "
      ]
     },
     "execution_count": 74,
     "metadata": {},
     "output_type": "execute_result"
    }
   ],
   "source": [
    "films_bet_2011_20 = films_df[(films_df['release_date'].dt.year >= 2011) & (films_df['release_date'].dt.year <= 2020)]\n",
    "print(\"There are {} movies which released between the year 2011 and 2020.\".format(len(films_bet_2011_20)))\n",
    "print(\"\")\n",
    "\n",
    "# View the data\n",
    "films_bet_2011_20"
   ]
  },
  {
   "cell_type": "markdown",
   "id": "827a19a8-6fb1-4580-88df-d29b7d7600d7",
   "metadata": {},
   "source": [
    "<font color = \"blue\">How many movies are released after the year 2020? (Excluding 2020)</font>"
   ]
  },
  {
   "cell_type": "code",
   "execution_count": 76,
   "id": "c222a05d-42c5-4782-aa44-33c4c0b4e0cc",
   "metadata": {},
   "outputs": [
    {
     "name": "stdout",
     "output_type": "stream",
     "text": [
      "There are 5 movies which released after the year 2020.\n",
      "\n"
     ]
    },
    {
     "data": {
      "text/html": [
       "<div>\n",
       "<style scoped>\n",
       "    .dataframe tbody tr th:only-of-type {\n",
       "        vertical-align: middle;\n",
       "    }\n",
       "\n",
       "    .dataframe tbody tr th {\n",
       "        vertical-align: top;\n",
       "    }\n",
       "\n",
       "    .dataframe thead th {\n",
       "        text-align: right;\n",
       "    }\n",
       "</style>\n",
       "<table border=\"1\" class=\"dataframe\">\n",
       "  <thead>\n",
       "    <tr style=\"text-align: right;\">\n",
       "      <th></th>\n",
       "      <th>film</th>\n",
       "      <th>release_date</th>\n",
       "      <th>run_time</th>\n",
       "      <th>film_rating</th>\n",
       "      <th>plot</th>\n",
       "    </tr>\n",
       "    <tr>\n",
       "      <th>number</th>\n",
       "      <th></th>\n",
       "      <th></th>\n",
       "      <th></th>\n",
       "      <th></th>\n",
       "      <th></th>\n",
       "    </tr>\n",
       "  </thead>\n",
       "  <tbody>\n",
       "    <tr>\n",
       "      <th>24</th>\n",
       "      <td>Luca</td>\n",
       "      <td>2021-06-18</td>\n",
       "      <td>95</td>\n",
       "      <td>PG</td>\n",
       "      <td>On the Italian Riviera, an unlikely but strong...</td>\n",
       "    </tr>\n",
       "    <tr>\n",
       "      <th>25</th>\n",
       "      <td>Turning Red</td>\n",
       "      <td>2022-03-11</td>\n",
       "      <td>100</td>\n",
       "      <td>PG</td>\n",
       "      <td>A thirteen-year-old girl named Mei Lee is torn...</td>\n",
       "    </tr>\n",
       "    <tr>\n",
       "      <th>26</th>\n",
       "      <td>Lightyear</td>\n",
       "      <td>2022-06-17</td>\n",
       "      <td>105</td>\n",
       "      <td>PG</td>\n",
       "      <td>While spending years attempting to return home...</td>\n",
       "    </tr>\n",
       "    <tr>\n",
       "      <th>27</th>\n",
       "      <td>Elemental</td>\n",
       "      <td>2023-06-16</td>\n",
       "      <td>101</td>\n",
       "      <td>PG</td>\n",
       "      <td>Follows Ember and Wade, in a city where fire-,...</td>\n",
       "    </tr>\n",
       "    <tr>\n",
       "      <th>28</th>\n",
       "      <td>Inside Out 2</td>\n",
       "      <td>2024-06-14</td>\n",
       "      <td>96</td>\n",
       "      <td>PG</td>\n",
       "      <td>A sequel that features Riley entering puberty ...</td>\n",
       "    </tr>\n",
       "  </tbody>\n",
       "</table>\n",
       "</div>"
      ],
      "text/plain": [
       "                film release_date  run_time film_rating  \\\n",
       "number                                                    \n",
       "24              Luca   2021-06-18        95          PG   \n",
       "25       Turning Red   2022-03-11       100          PG   \n",
       "26         Lightyear   2022-06-17       105          PG   \n",
       "27         Elemental   2023-06-16       101          PG   \n",
       "28      Inside Out 2   2024-06-14        96          PG   \n",
       "\n",
       "                                                     plot  \n",
       "number                                                     \n",
       "24      On the Italian Riviera, an unlikely but strong...  \n",
       "25      A thirteen-year-old girl named Mei Lee is torn...  \n",
       "26      While spending years attempting to return home...  \n",
       "27      Follows Ember and Wade, in a city where fire-,...  \n",
       "28      A sequel that features Riley entering puberty ...  "
      ]
     },
     "execution_count": 76,
     "metadata": {},
     "output_type": "execute_result"
    }
   ],
   "source": [
    "films_after_2020 = films_df[films_df['release_date'].dt.year > 2020]\n",
    "print(\"There are {} movies which released after the year 2020.\".format(len(films_after_2020)))\n",
    "print(\"\")\n",
    "\n",
    "# View the data\n",
    "films_after_2020"
   ]
  },
  {
   "cell_type": "markdown",
   "id": "773c5ee7-c520-4060-9119-54e3b019902e",
   "metadata": {},
   "source": [
    "<font color = \"blue\">Which movie's runtime is least and most?</font>"
   ]
  },
  {
   "cell_type": "code",
   "execution_count": 78,
   "id": "4e3ba4fc-4718-4492-994c-d3a794c4b1e1",
   "metadata": {},
   "outputs": [
    {
     "name": "stdout",
     "output_type": "stream",
     "text": [
      "The movie - Toy Story - has the least run time of 81 minutes.\n",
      "\n"
     ]
    },
    {
     "data": {
      "text/html": [
       "<div>\n",
       "<style scoped>\n",
       "    .dataframe tbody tr th:only-of-type {\n",
       "        vertical-align: middle;\n",
       "    }\n",
       "\n",
       "    .dataframe tbody tr th {\n",
       "        vertical-align: top;\n",
       "    }\n",
       "\n",
       "    .dataframe thead th {\n",
       "        text-align: right;\n",
       "    }\n",
       "</style>\n",
       "<table border=\"1\" class=\"dataframe\">\n",
       "  <thead>\n",
       "    <tr style=\"text-align: right;\">\n",
       "      <th></th>\n",
       "      <th>film</th>\n",
       "      <th>release_date</th>\n",
       "      <th>run_time</th>\n",
       "      <th>film_rating</th>\n",
       "      <th>plot</th>\n",
       "    </tr>\n",
       "    <tr>\n",
       "      <th>number</th>\n",
       "      <th></th>\n",
       "      <th></th>\n",
       "      <th></th>\n",
       "      <th></th>\n",
       "      <th></th>\n",
       "    </tr>\n",
       "  </thead>\n",
       "  <tbody>\n",
       "    <tr>\n",
       "      <th>1</th>\n",
       "      <td>Toy Story</td>\n",
       "      <td>1995-11-22</td>\n",
       "      <td>81</td>\n",
       "      <td>G</td>\n",
       "      <td>A cowboy doll is profoundly threatened and jea...</td>\n",
       "    </tr>\n",
       "  </tbody>\n",
       "</table>\n",
       "</div>"
      ],
      "text/plain": [
       "             film release_date  run_time film_rating  \\\n",
       "number                                                 \n",
       "1       Toy Story   1995-11-22        81           G   \n",
       "\n",
       "                                                     plot  \n",
       "number                                                     \n",
       "1       A cowboy doll is profoundly threatened and jea...  "
      ]
     },
     "execution_count": 78,
     "metadata": {},
     "output_type": "execute_result"
    }
   ],
   "source": [
    "least_runtime = films_df[films_df['run_time'] == films_df['run_time'].min()].iloc[0]\n",
    "print(\"The movie - {} - has the least run time of {} minutes.\".format(least_runtime['film'], least_runtime['run_time']))\n",
    "print(\"\")\n",
    "\n",
    "# View the data\n",
    "films_df[films_df['run_time'] == films_df['run_time'].min()]"
   ]
  },
  {
   "cell_type": "code",
   "execution_count": 79,
   "id": "1d3cefdf-1533-448b-bbfe-50231719227a",
   "metadata": {},
   "outputs": [
    {
     "name": "stdout",
     "output_type": "stream",
     "text": [
      "The movie - Incredibles 2 - has the most run time of 118 minutes.\n",
      "\n"
     ]
    },
    {
     "data": {
      "text/html": [
       "<div>\n",
       "<style scoped>\n",
       "    .dataframe tbody tr th:only-of-type {\n",
       "        vertical-align: middle;\n",
       "    }\n",
       "\n",
       "    .dataframe tbody tr th {\n",
       "        vertical-align: top;\n",
       "    }\n",
       "\n",
       "    .dataframe thead th {\n",
       "        text-align: right;\n",
       "    }\n",
       "</style>\n",
       "<table border=\"1\" class=\"dataframe\">\n",
       "  <thead>\n",
       "    <tr style=\"text-align: right;\">\n",
       "      <th></th>\n",
       "      <th>film</th>\n",
       "      <th>release_date</th>\n",
       "      <th>run_time</th>\n",
       "      <th>film_rating</th>\n",
       "      <th>plot</th>\n",
       "    </tr>\n",
       "    <tr>\n",
       "      <th>number</th>\n",
       "      <th></th>\n",
       "      <th></th>\n",
       "      <th></th>\n",
       "      <th></th>\n",
       "      <th></th>\n",
       "    </tr>\n",
       "  </thead>\n",
       "  <tbody>\n",
       "    <tr>\n",
       "      <th>20</th>\n",
       "      <td>Incredibles 2</td>\n",
       "      <td>2018-06-15</td>\n",
       "      <td>118</td>\n",
       "      <td>PG</td>\n",
       "      <td>The Incredibles family takes on a new mission ...</td>\n",
       "    </tr>\n",
       "  </tbody>\n",
       "</table>\n",
       "</div>"
      ],
      "text/plain": [
       "                 film release_date  run_time film_rating  \\\n",
       "number                                                     \n",
       "20      Incredibles 2   2018-06-15       118          PG   \n",
       "\n",
       "                                                     plot  \n",
       "number                                                     \n",
       "20      The Incredibles family takes on a new mission ...  "
      ]
     },
     "execution_count": 79,
     "metadata": {},
     "output_type": "execute_result"
    }
   ],
   "source": [
    "most_runtime = films_df[films_df['run_time'] == films_df['run_time'].max()].iloc[0]\n",
    "print(\"The movie - {} - has the most run time of {} minutes.\".format(most_runtime['film'], most_runtime['run_time']))\n",
    "print(\"\")\n",
    "\n",
    "# View the data\n",
    "films_df[films_df['run_time'] == films_df['run_time'].max()]"
   ]
  },
  {
   "cell_type": "markdown",
   "id": "ffd4c6c3-949e-4db3-8f3e-39ed3c63af78",
   "metadata": {},
   "source": [
    "<font color = \"blue\">What is the average run time?</font>"
   ]
  },
  {
   "cell_type": "code",
   "execution_count": 81,
   "id": "cba9a442-ecb7-409a-8660-e5eeee4e9fc7",
   "metadata": {},
   "outputs": [
    {
     "name": "stdout",
     "output_type": "stream",
     "text": [
      "The average run time of a film is 100.0 minutes.\n"
     ]
    }
   ],
   "source": [
    "average_run_time = films_df.run_time.mean().round()\n",
    "\n",
    "print(\"The average run time of a film is {} minutes.\".format(average_run_time))"
   ]
  },
  {
   "cell_type": "markdown",
   "id": "51e6d7a0-8aaf-464f-b3d0-aee18c36fdd9",
   "metadata": {},
   "source": [
    "<font color = \"blue\">How many movie's run time is less than the overall average run time?</font>"
   ]
  },
  {
   "cell_type": "code",
   "execution_count": 83,
   "id": "5525528b-2e3b-45ec-9e7f-f455486b4d68",
   "metadata": {},
   "outputs": [
    {
     "name": "stdout",
     "output_type": "stream",
     "text": [
      "12 movies whose run time is less than the overall average run time of 100.0 minutes.\n",
      "\n"
     ]
    },
    {
     "data": {
      "text/html": [
       "<div>\n",
       "<style scoped>\n",
       "    .dataframe tbody tr th:only-of-type {\n",
       "        vertical-align: middle;\n",
       "    }\n",
       "\n",
       "    .dataframe tbody tr th {\n",
       "        vertical-align: top;\n",
       "    }\n",
       "\n",
       "    .dataframe thead th {\n",
       "        text-align: right;\n",
       "    }\n",
       "</style>\n",
       "<table border=\"1\" class=\"dataframe\">\n",
       "  <thead>\n",
       "    <tr style=\"text-align: right;\">\n",
       "      <th></th>\n",
       "      <th>film</th>\n",
       "      <th>release_date</th>\n",
       "      <th>run_time</th>\n",
       "      <th>film_rating</th>\n",
       "      <th>plot</th>\n",
       "    </tr>\n",
       "    <tr>\n",
       "      <th>number</th>\n",
       "      <th></th>\n",
       "      <th></th>\n",
       "      <th></th>\n",
       "      <th></th>\n",
       "      <th></th>\n",
       "    </tr>\n",
       "  </thead>\n",
       "  <tbody>\n",
       "    <tr>\n",
       "      <th>1</th>\n",
       "      <td>Toy Story</td>\n",
       "      <td>1995-11-22</td>\n",
       "      <td>81</td>\n",
       "      <td>G</td>\n",
       "      <td>A cowboy doll is profoundly threatened and jea...</td>\n",
       "    </tr>\n",
       "    <tr>\n",
       "      <th>2</th>\n",
       "      <td>A Bug's Life</td>\n",
       "      <td>1998-11-25</td>\n",
       "      <td>95</td>\n",
       "      <td>G</td>\n",
       "      <td>A misfit ant, looking for \"warriors\" to save h...</td>\n",
       "    </tr>\n",
       "    <tr>\n",
       "      <th>3</th>\n",
       "      <td>Toy Story 2</td>\n",
       "      <td>1999-11-24</td>\n",
       "      <td>92</td>\n",
       "      <td>G</td>\n",
       "      <td>When Woody is stolen by a toy collector, Buzz ...</td>\n",
       "    </tr>\n",
       "    <tr>\n",
       "      <th>4</th>\n",
       "      <td>Monsters, Inc.</td>\n",
       "      <td>2001-11-02</td>\n",
       "      <td>92</td>\n",
       "      <td>G</td>\n",
       "      <td>In order to power the city, monsters have to s...</td>\n",
       "    </tr>\n",
       "    <tr>\n",
       "      <th>9</th>\n",
       "      <td>WALL-E</td>\n",
       "      <td>2008-06-27</td>\n",
       "      <td>98</td>\n",
       "      <td>G</td>\n",
       "      <td>A robot who is responsible for cleaning a wast...</td>\n",
       "    </tr>\n",
       "    <tr>\n",
       "      <th>10</th>\n",
       "      <td>Up</td>\n",
       "      <td>2009-05-29</td>\n",
       "      <td>96</td>\n",
       "      <td>PG</td>\n",
       "      <td>78-year-old Carl Fredricksen travels to South ...</td>\n",
       "    </tr>\n",
       "    <tr>\n",
       "      <th>13</th>\n",
       "      <td>Brave</td>\n",
       "      <td>2012-06-22</td>\n",
       "      <td>93</td>\n",
       "      <td>PG</td>\n",
       "      <td>Determined to make her own path in life, Princ...</td>\n",
       "    </tr>\n",
       "    <tr>\n",
       "      <th>15</th>\n",
       "      <td>Inside Out</td>\n",
       "      <td>2015-06-19</td>\n",
       "      <td>95</td>\n",
       "      <td>PG</td>\n",
       "      <td>After young Riley is uprooted from her Midwest...</td>\n",
       "    </tr>\n",
       "    <tr>\n",
       "      <th>16</th>\n",
       "      <td>The Good Dinosaur</td>\n",
       "      <td>2015-11-25</td>\n",
       "      <td>93</td>\n",
       "      <td>PG</td>\n",
       "      <td>In a world where dinosaurs and humans live sid...</td>\n",
       "    </tr>\n",
       "    <tr>\n",
       "      <th>17</th>\n",
       "      <td>Finding Dory</td>\n",
       "      <td>2016-06-17</td>\n",
       "      <td>97</td>\n",
       "      <td>PG</td>\n",
       "      <td>Friendly but forgetful blue tang Dory begins a...</td>\n",
       "    </tr>\n",
       "    <tr>\n",
       "      <th>24</th>\n",
       "      <td>Luca</td>\n",
       "      <td>2021-06-18</td>\n",
       "      <td>95</td>\n",
       "      <td>PG</td>\n",
       "      <td>On the Italian Riviera, an unlikely but strong...</td>\n",
       "    </tr>\n",
       "    <tr>\n",
       "      <th>28</th>\n",
       "      <td>Inside Out 2</td>\n",
       "      <td>2024-06-14</td>\n",
       "      <td>96</td>\n",
       "      <td>PG</td>\n",
       "      <td>A sequel that features Riley entering puberty ...</td>\n",
       "    </tr>\n",
       "  </tbody>\n",
       "</table>\n",
       "</div>"
      ],
      "text/plain": [
       "                     film release_date  run_time film_rating  \\\n",
       "number                                                         \n",
       "1               Toy Story   1995-11-22        81           G   \n",
       "2            A Bug's Life   1998-11-25        95           G   \n",
       "3             Toy Story 2   1999-11-24        92           G   \n",
       "4          Monsters, Inc.   2001-11-02        92           G   \n",
       "9                  WALL-E   2008-06-27        98           G   \n",
       "10                     Up   2009-05-29        96          PG   \n",
       "13                  Brave   2012-06-22        93          PG   \n",
       "15             Inside Out   2015-06-19        95          PG   \n",
       "16      The Good Dinosaur   2015-11-25        93          PG   \n",
       "17           Finding Dory   2016-06-17        97          PG   \n",
       "24                   Luca   2021-06-18        95          PG   \n",
       "28           Inside Out 2   2024-06-14        96          PG   \n",
       "\n",
       "                                                     plot  \n",
       "number                                                     \n",
       "1       A cowboy doll is profoundly threatened and jea...  \n",
       "2       A misfit ant, looking for \"warriors\" to save h...  \n",
       "3       When Woody is stolen by a toy collector, Buzz ...  \n",
       "4       In order to power the city, monsters have to s...  \n",
       "9       A robot who is responsible for cleaning a wast...  \n",
       "10      78-year-old Carl Fredricksen travels to South ...  \n",
       "13      Determined to make her own path in life, Princ...  \n",
       "15      After young Riley is uprooted from her Midwest...  \n",
       "16      In a world where dinosaurs and humans live sid...  \n",
       "17      Friendly but forgetful blue tang Dory begins a...  \n",
       "24      On the Italian Riviera, an unlikely but strong...  \n",
       "28      A sequel that features Riley entering puberty ...  "
      ]
     },
     "execution_count": 83,
     "metadata": {},
     "output_type": "execute_result"
    }
   ],
   "source": [
    "less_than_avg = films_df[films_df['run_time'] < average_run_time]\n",
    "print(\"{} movies whose run time is less than the overall average run time of {} minutes.\".\n",
    "      format(len(less_than_avg), average_run_time))\n",
    "print(\"\")\n",
    "\n",
    "# View the Data\n",
    "less_than_avg"
   ]
  },
  {
   "cell_type": "markdown",
   "id": "0c09b0f4-4686-4b63-8f33-46aa4a774acd",
   "metadata": {},
   "source": [
    "<font color = \"blue\">How many movie's run time is greater than to the overall average run time?</font>"
   ]
  },
  {
   "cell_type": "code",
   "execution_count": 85,
   "id": "ec52ae44-739b-4855-9f1f-0c7436500afc",
   "metadata": {},
   "outputs": [
    {
     "name": "stdout",
     "output_type": "stream",
     "text": [
      "12 movies whose run time is greater than the overall average run time of 100.0 minutes.\n",
      "\n"
     ]
    },
    {
     "data": {
      "text/html": [
       "<div>\n",
       "<style scoped>\n",
       "    .dataframe tbody tr th:only-of-type {\n",
       "        vertical-align: middle;\n",
       "    }\n",
       "\n",
       "    .dataframe tbody tr th {\n",
       "        vertical-align: top;\n",
       "    }\n",
       "\n",
       "    .dataframe thead th {\n",
       "        text-align: right;\n",
       "    }\n",
       "</style>\n",
       "<table border=\"1\" class=\"dataframe\">\n",
       "  <thead>\n",
       "    <tr style=\"text-align: right;\">\n",
       "      <th></th>\n",
       "      <th>film</th>\n",
       "      <th>release_date</th>\n",
       "      <th>run_time</th>\n",
       "      <th>film_rating</th>\n",
       "      <th>plot</th>\n",
       "    </tr>\n",
       "    <tr>\n",
       "      <th>number</th>\n",
       "      <th></th>\n",
       "      <th></th>\n",
       "      <th></th>\n",
       "      <th></th>\n",
       "      <th></th>\n",
       "    </tr>\n",
       "  </thead>\n",
       "  <tbody>\n",
       "    <tr>\n",
       "      <th>6</th>\n",
       "      <td>The Incredibles</td>\n",
       "      <td>2004-11-05</td>\n",
       "      <td>115</td>\n",
       "      <td>PG</td>\n",
       "      <td>While trying to lead a quiet suburban life, a ...</td>\n",
       "    </tr>\n",
       "    <tr>\n",
       "      <th>7</th>\n",
       "      <td>Cars</td>\n",
       "      <td>2006-06-09</td>\n",
       "      <td>116</td>\n",
       "      <td>G</td>\n",
       "      <td>On the way to the biggest race of his life, a ...</td>\n",
       "    </tr>\n",
       "    <tr>\n",
       "      <th>8</th>\n",
       "      <td>Ratatouille</td>\n",
       "      <td>2007-06-29</td>\n",
       "      <td>111</td>\n",
       "      <td>G</td>\n",
       "      <td>A rat who can cook makes an unusual alliance w...</td>\n",
       "    </tr>\n",
       "    <tr>\n",
       "      <th>11</th>\n",
       "      <td>Toy Story 3</td>\n",
       "      <td>2010-06-18</td>\n",
       "      <td>103</td>\n",
       "      <td>G</td>\n",
       "      <td>The toys are mistakenly delivered to a day-car...</td>\n",
       "    </tr>\n",
       "    <tr>\n",
       "      <th>12</th>\n",
       "      <td>Cars 2</td>\n",
       "      <td>2011-06-24</td>\n",
       "      <td>106</td>\n",
       "      <td>G</td>\n",
       "      <td>Star race car Lightning McQueen and his pal Ma...</td>\n",
       "    </tr>\n",
       "    <tr>\n",
       "      <th>14</th>\n",
       "      <td>Monsters University</td>\n",
       "      <td>2013-06-21</td>\n",
       "      <td>104</td>\n",
       "      <td>G</td>\n",
       "      <td>A look at the relationship between Mike Wazows...</td>\n",
       "    </tr>\n",
       "    <tr>\n",
       "      <th>18</th>\n",
       "      <td>Cars 3</td>\n",
       "      <td>2017-06-16</td>\n",
       "      <td>102</td>\n",
       "      <td>G</td>\n",
       "      <td>Lightning McQueen sets out to prove to a new g...</td>\n",
       "    </tr>\n",
       "    <tr>\n",
       "      <th>19</th>\n",
       "      <td>Coco</td>\n",
       "      <td>2017-11-22</td>\n",
       "      <td>105</td>\n",
       "      <td>PG</td>\n",
       "      <td>Aspiring musician Miguel, confronted with his ...</td>\n",
       "    </tr>\n",
       "    <tr>\n",
       "      <th>20</th>\n",
       "      <td>Incredibles 2</td>\n",
       "      <td>2018-06-15</td>\n",
       "      <td>118</td>\n",
       "      <td>PG</td>\n",
       "      <td>The Incredibles family takes on a new mission ...</td>\n",
       "    </tr>\n",
       "    <tr>\n",
       "      <th>22</th>\n",
       "      <td>Onward</td>\n",
       "      <td>2020-03-06</td>\n",
       "      <td>102</td>\n",
       "      <td>PG</td>\n",
       "      <td>Teenage elf brothers Ian and Barley embark on ...</td>\n",
       "    </tr>\n",
       "    <tr>\n",
       "      <th>26</th>\n",
       "      <td>Lightyear</td>\n",
       "      <td>2022-06-17</td>\n",
       "      <td>105</td>\n",
       "      <td>PG</td>\n",
       "      <td>While spending years attempting to return home...</td>\n",
       "    </tr>\n",
       "    <tr>\n",
       "      <th>27</th>\n",
       "      <td>Elemental</td>\n",
       "      <td>2023-06-16</td>\n",
       "      <td>101</td>\n",
       "      <td>PG</td>\n",
       "      <td>Follows Ember and Wade, in a city where fire-,...</td>\n",
       "    </tr>\n",
       "  </tbody>\n",
       "</table>\n",
       "</div>"
      ],
      "text/plain": [
       "                       film release_date  run_time film_rating  \\\n",
       "number                                                           \n",
       "6           The Incredibles   2004-11-05       115          PG   \n",
       "7                      Cars   2006-06-09       116           G   \n",
       "8               Ratatouille   2007-06-29       111           G   \n",
       "11              Toy Story 3   2010-06-18       103           G   \n",
       "12                   Cars 2   2011-06-24       106           G   \n",
       "14      Monsters University   2013-06-21       104           G   \n",
       "18                   Cars 3   2017-06-16       102           G   \n",
       "19                     Coco   2017-11-22       105          PG   \n",
       "20            Incredibles 2   2018-06-15       118          PG   \n",
       "22                   Onward   2020-03-06       102          PG   \n",
       "26                Lightyear   2022-06-17       105          PG   \n",
       "27                Elemental   2023-06-16       101          PG   \n",
       "\n",
       "                                                     plot  \n",
       "number                                                     \n",
       "6       While trying to lead a quiet suburban life, a ...  \n",
       "7       On the way to the biggest race of his life, a ...  \n",
       "8       A rat who can cook makes an unusual alliance w...  \n",
       "11      The toys are mistakenly delivered to a day-car...  \n",
       "12      Star race car Lightning McQueen and his pal Ma...  \n",
       "14      A look at the relationship between Mike Wazows...  \n",
       "18      Lightning McQueen sets out to prove to a new g...  \n",
       "19      Aspiring musician Miguel, confronted with his ...  \n",
       "20      The Incredibles family takes on a new mission ...  \n",
       "22      Teenage elf brothers Ian and Barley embark on ...  \n",
       "26      While spending years attempting to return home...  \n",
       "27      Follows Ember and Wade, in a city where fire-,...  "
      ]
     },
     "execution_count": 85,
     "metadata": {},
     "output_type": "execute_result"
    }
   ],
   "source": [
    "greater_than_avg = films_df[films_df['run_time'] > average_run_time]\n",
    "print(\"{} movies whose run time is greater than the overall average run time of {} minutes.\".\n",
    "      format(len(greater_than_avg), average_run_time))\n",
    "print(\"\")\n",
    "\n",
    "# View the Data\n",
    "greater_than_avg"
   ]
  },
  {
   "cell_type": "markdown",
   "id": "fa6dec0b-a7d9-4659-884b-fdb02769a0ce",
   "metadata": {},
   "source": [
    "<font color = \"blue\">How many movie's run time is equal to the overall average run time?</font>"
   ]
  },
  {
   "cell_type": "code",
   "execution_count": 87,
   "id": "904c8857-ca12-4074-bcf1-8709f5ccb023",
   "metadata": {},
   "outputs": [
    {
     "name": "stdout",
     "output_type": "stream",
     "text": [
      "4 movies whose run time is equal to the overall average run time of 100.0 minutes.\n",
      "\n"
     ]
    },
    {
     "data": {
      "text/html": [
       "<div>\n",
       "<style scoped>\n",
       "    .dataframe tbody tr th:only-of-type {\n",
       "        vertical-align: middle;\n",
       "    }\n",
       "\n",
       "    .dataframe tbody tr th {\n",
       "        vertical-align: top;\n",
       "    }\n",
       "\n",
       "    .dataframe thead th {\n",
       "        text-align: right;\n",
       "    }\n",
       "</style>\n",
       "<table border=\"1\" class=\"dataframe\">\n",
       "  <thead>\n",
       "    <tr style=\"text-align: right;\">\n",
       "      <th></th>\n",
       "      <th>film</th>\n",
       "      <th>release_date</th>\n",
       "      <th>run_time</th>\n",
       "      <th>film_rating</th>\n",
       "      <th>plot</th>\n",
       "    </tr>\n",
       "    <tr>\n",
       "      <th>number</th>\n",
       "      <th></th>\n",
       "      <th></th>\n",
       "      <th></th>\n",
       "      <th></th>\n",
       "      <th></th>\n",
       "    </tr>\n",
       "  </thead>\n",
       "  <tbody>\n",
       "    <tr>\n",
       "      <th>5</th>\n",
       "      <td>Finding Nemo</td>\n",
       "      <td>2003-05-30</td>\n",
       "      <td>100</td>\n",
       "      <td>G</td>\n",
       "      <td>After his son is captured in the Great Barrier...</td>\n",
       "    </tr>\n",
       "    <tr>\n",
       "      <th>21</th>\n",
       "      <td>Toy Story 4</td>\n",
       "      <td>2019-06-21</td>\n",
       "      <td>100</td>\n",
       "      <td>G</td>\n",
       "      <td>When a new toy called \"Forky\" joins Woody and ...</td>\n",
       "    </tr>\n",
       "    <tr>\n",
       "      <th>23</th>\n",
       "      <td>Soul</td>\n",
       "      <td>2020-12-25</td>\n",
       "      <td>100</td>\n",
       "      <td>PG</td>\n",
       "      <td>Joe is a middle-school band teacher whose life...</td>\n",
       "    </tr>\n",
       "    <tr>\n",
       "      <th>25</th>\n",
       "      <td>Turning Red</td>\n",
       "      <td>2022-03-11</td>\n",
       "      <td>100</td>\n",
       "      <td>PG</td>\n",
       "      <td>A thirteen-year-old girl named Mei Lee is torn...</td>\n",
       "    </tr>\n",
       "  </tbody>\n",
       "</table>\n",
       "</div>"
      ],
      "text/plain": [
       "                film release_date  run_time film_rating  \\\n",
       "number                                                    \n",
       "5       Finding Nemo   2003-05-30       100           G   \n",
       "21       Toy Story 4   2019-06-21       100           G   \n",
       "23              Soul   2020-12-25       100          PG   \n",
       "25       Turning Red   2022-03-11       100          PG   \n",
       "\n",
       "                                                     plot  \n",
       "number                                                     \n",
       "5       After his son is captured in the Great Barrier...  \n",
       "21      When a new toy called \"Forky\" joins Woody and ...  \n",
       "23      Joe is a middle-school band teacher whose life...  \n",
       "25      A thirteen-year-old girl named Mei Lee is torn...  "
      ]
     },
     "execution_count": 87,
     "metadata": {},
     "output_type": "execute_result"
    }
   ],
   "source": [
    "equal_avg = films_df[films_df['run_time'] == average_run_time]\n",
    "print(\"{} movies whose run time is equal to the overall average run time of {} minutes.\".\n",
    "      format(len(equal_avg), average_run_time))\n",
    "print(\"\")\n",
    "\n",
    "# View the Data\n",
    "equal_avg"
   ]
  },
  {
   "cell_type": "markdown",
   "id": "1b104387-2ed7-49e5-bc1e-d2b944ad7de1",
   "metadata": {},
   "source": [
    "<font color = \"blue\">How many distinct film ratings are there?</font>"
   ]
  },
  {
   "cell_type": "code",
   "execution_count": 89,
   "id": "c7959ae8-612b-44e3-a8ea-b8f22a69bd19",
   "metadata": {},
   "outputs": [
    {
     "name": "stdout",
     "output_type": "stream",
     "text": [
      "There are 2 distinct film ratings and they are G and PG.\n"
     ]
    }
   ],
   "source": [
    "print(\"There are {} distinct film ratings and they are {} and {}.\".\n",
    "      format(films_df['film_rating'].nunique(), films_df['film_rating'].unique()[0], films_df['film_rating'].unique()[1]))"
   ]
  },
  {
   "cell_type": "markdown",
   "id": "10ab862d-fa56-4a97-a7d7-a0487c44e4b8",
   "metadata": {},
   "source": [
    "<font color = \"blue\">How many movies are rated 'G' and which are they, meaning they contain content suitable for all audiences?</font>"
   ]
  },
  {
   "cell_type": "code",
   "execution_count": 91,
   "id": "17b0e90b-77c6-420f-a2d9-0eb4003cb9d9",
   "metadata": {},
   "outputs": [
    {
     "name": "stdout",
     "output_type": "stream",
     "text": [
      "There are 13 movies where the content is suitable for all audiences.\n",
      "\n"
     ]
    },
    {
     "data": {
      "text/html": [
       "<div>\n",
       "<style scoped>\n",
       "    .dataframe tbody tr th:only-of-type {\n",
       "        vertical-align: middle;\n",
       "    }\n",
       "\n",
       "    .dataframe tbody tr th {\n",
       "        vertical-align: top;\n",
       "    }\n",
       "\n",
       "    .dataframe thead th {\n",
       "        text-align: right;\n",
       "    }\n",
       "</style>\n",
       "<table border=\"1\" class=\"dataframe\">\n",
       "  <thead>\n",
       "    <tr style=\"text-align: right;\">\n",
       "      <th></th>\n",
       "      <th>film</th>\n",
       "      <th>release_date</th>\n",
       "      <th>run_time</th>\n",
       "      <th>film_rating</th>\n",
       "      <th>plot</th>\n",
       "    </tr>\n",
       "    <tr>\n",
       "      <th>number</th>\n",
       "      <th></th>\n",
       "      <th></th>\n",
       "      <th></th>\n",
       "      <th></th>\n",
       "      <th></th>\n",
       "    </tr>\n",
       "  </thead>\n",
       "  <tbody>\n",
       "    <tr>\n",
       "      <th>1</th>\n",
       "      <td>Toy Story</td>\n",
       "      <td>1995-11-22</td>\n",
       "      <td>81</td>\n",
       "      <td>G</td>\n",
       "      <td>A cowboy doll is profoundly threatened and jea...</td>\n",
       "    </tr>\n",
       "    <tr>\n",
       "      <th>2</th>\n",
       "      <td>A Bug's Life</td>\n",
       "      <td>1998-11-25</td>\n",
       "      <td>95</td>\n",
       "      <td>G</td>\n",
       "      <td>A misfit ant, looking for \"warriors\" to save h...</td>\n",
       "    </tr>\n",
       "    <tr>\n",
       "      <th>3</th>\n",
       "      <td>Toy Story 2</td>\n",
       "      <td>1999-11-24</td>\n",
       "      <td>92</td>\n",
       "      <td>G</td>\n",
       "      <td>When Woody is stolen by a toy collector, Buzz ...</td>\n",
       "    </tr>\n",
       "    <tr>\n",
       "      <th>4</th>\n",
       "      <td>Monsters, Inc.</td>\n",
       "      <td>2001-11-02</td>\n",
       "      <td>92</td>\n",
       "      <td>G</td>\n",
       "      <td>In order to power the city, monsters have to s...</td>\n",
       "    </tr>\n",
       "    <tr>\n",
       "      <th>5</th>\n",
       "      <td>Finding Nemo</td>\n",
       "      <td>2003-05-30</td>\n",
       "      <td>100</td>\n",
       "      <td>G</td>\n",
       "      <td>After his son is captured in the Great Barrier...</td>\n",
       "    </tr>\n",
       "    <tr>\n",
       "      <th>7</th>\n",
       "      <td>Cars</td>\n",
       "      <td>2006-06-09</td>\n",
       "      <td>116</td>\n",
       "      <td>G</td>\n",
       "      <td>On the way to the biggest race of his life, a ...</td>\n",
       "    </tr>\n",
       "    <tr>\n",
       "      <th>8</th>\n",
       "      <td>Ratatouille</td>\n",
       "      <td>2007-06-29</td>\n",
       "      <td>111</td>\n",
       "      <td>G</td>\n",
       "      <td>A rat who can cook makes an unusual alliance w...</td>\n",
       "    </tr>\n",
       "    <tr>\n",
       "      <th>9</th>\n",
       "      <td>WALL-E</td>\n",
       "      <td>2008-06-27</td>\n",
       "      <td>98</td>\n",
       "      <td>G</td>\n",
       "      <td>A robot who is responsible for cleaning a wast...</td>\n",
       "    </tr>\n",
       "    <tr>\n",
       "      <th>11</th>\n",
       "      <td>Toy Story 3</td>\n",
       "      <td>2010-06-18</td>\n",
       "      <td>103</td>\n",
       "      <td>G</td>\n",
       "      <td>The toys are mistakenly delivered to a day-car...</td>\n",
       "    </tr>\n",
       "    <tr>\n",
       "      <th>12</th>\n",
       "      <td>Cars 2</td>\n",
       "      <td>2011-06-24</td>\n",
       "      <td>106</td>\n",
       "      <td>G</td>\n",
       "      <td>Star race car Lightning McQueen and his pal Ma...</td>\n",
       "    </tr>\n",
       "    <tr>\n",
       "      <th>14</th>\n",
       "      <td>Monsters University</td>\n",
       "      <td>2013-06-21</td>\n",
       "      <td>104</td>\n",
       "      <td>G</td>\n",
       "      <td>A look at the relationship between Mike Wazows...</td>\n",
       "    </tr>\n",
       "    <tr>\n",
       "      <th>18</th>\n",
       "      <td>Cars 3</td>\n",
       "      <td>2017-06-16</td>\n",
       "      <td>102</td>\n",
       "      <td>G</td>\n",
       "      <td>Lightning McQueen sets out to prove to a new g...</td>\n",
       "    </tr>\n",
       "    <tr>\n",
       "      <th>21</th>\n",
       "      <td>Toy Story 4</td>\n",
       "      <td>2019-06-21</td>\n",
       "      <td>100</td>\n",
       "      <td>G</td>\n",
       "      <td>When a new toy called \"Forky\" joins Woody and ...</td>\n",
       "    </tr>\n",
       "  </tbody>\n",
       "</table>\n",
       "</div>"
      ],
      "text/plain": [
       "                       film release_date  run_time film_rating  \\\n",
       "number                                                           \n",
       "1                 Toy Story   1995-11-22        81           G   \n",
       "2              A Bug's Life   1998-11-25        95           G   \n",
       "3               Toy Story 2   1999-11-24        92           G   \n",
       "4            Monsters, Inc.   2001-11-02        92           G   \n",
       "5              Finding Nemo   2003-05-30       100           G   \n",
       "7                      Cars   2006-06-09       116           G   \n",
       "8               Ratatouille   2007-06-29       111           G   \n",
       "9                    WALL-E   2008-06-27        98           G   \n",
       "11              Toy Story 3   2010-06-18       103           G   \n",
       "12                   Cars 2   2011-06-24       106           G   \n",
       "14      Monsters University   2013-06-21       104           G   \n",
       "18                   Cars 3   2017-06-16       102           G   \n",
       "21              Toy Story 4   2019-06-21       100           G   \n",
       "\n",
       "                                                     plot  \n",
       "number                                                     \n",
       "1       A cowboy doll is profoundly threatened and jea...  \n",
       "2       A misfit ant, looking for \"warriors\" to save h...  \n",
       "3       When Woody is stolen by a toy collector, Buzz ...  \n",
       "4       In order to power the city, monsters have to s...  \n",
       "5       After his son is captured in the Great Barrier...  \n",
       "7       On the way to the biggest race of his life, a ...  \n",
       "8       A rat who can cook makes an unusual alliance w...  \n",
       "9       A robot who is responsible for cleaning a wast...  \n",
       "11      The toys are mistakenly delivered to a day-car...  \n",
       "12      Star race car Lightning McQueen and his pal Ma...  \n",
       "14      A look at the relationship between Mike Wazows...  \n",
       "18      Lightning McQueen sets out to prove to a new g...  \n",
       "21      When a new toy called \"Forky\" joins Woody and ...  "
      ]
     },
     "execution_count": 91,
     "metadata": {},
     "output_type": "execute_result"
    }
   ],
   "source": [
    "g_rated = films_df[films_df.film_rating == \"G\"]\n",
    "print(\"There are {} movies where the content is suitable for all audiences.\".format(len(g_rated)))\n",
    "print(\"\")\n",
    "\n",
    "# View the Data\n",
    "g_rated"
   ]
  },
  {
   "cell_type": "markdown",
   "id": "898e188a-0069-4214-80a3-37cf3192fbea",
   "metadata": {},
   "source": [
    "<font color = \"blue\">How many movies are rated 'PG', suggesting parental guidance is advised?</font>"
   ]
  },
  {
   "cell_type": "code",
   "execution_count": 93,
   "id": "db0bbb0e-4e78-42e2-b68b-b033ec02890a",
   "metadata": {},
   "outputs": [
    {
     "name": "stdout",
     "output_type": "stream",
     "text": [
      "There are 15 movies rated 'PG', which suggests that some material may not be suitable for children and parental guidance is advised.\n",
      "\n"
     ]
    },
    {
     "data": {
      "text/html": [
       "<div>\n",
       "<style scoped>\n",
       "    .dataframe tbody tr th:only-of-type {\n",
       "        vertical-align: middle;\n",
       "    }\n",
       "\n",
       "    .dataframe tbody tr th {\n",
       "        vertical-align: top;\n",
       "    }\n",
       "\n",
       "    .dataframe thead th {\n",
       "        text-align: right;\n",
       "    }\n",
       "</style>\n",
       "<table border=\"1\" class=\"dataframe\">\n",
       "  <thead>\n",
       "    <tr style=\"text-align: right;\">\n",
       "      <th></th>\n",
       "      <th>film</th>\n",
       "      <th>release_date</th>\n",
       "      <th>run_time</th>\n",
       "      <th>film_rating</th>\n",
       "      <th>plot</th>\n",
       "    </tr>\n",
       "    <tr>\n",
       "      <th>number</th>\n",
       "      <th></th>\n",
       "      <th></th>\n",
       "      <th></th>\n",
       "      <th></th>\n",
       "      <th></th>\n",
       "    </tr>\n",
       "  </thead>\n",
       "  <tbody>\n",
       "    <tr>\n",
       "      <th>6</th>\n",
       "      <td>The Incredibles</td>\n",
       "      <td>2004-11-05</td>\n",
       "      <td>115</td>\n",
       "      <td>PG</td>\n",
       "      <td>While trying to lead a quiet suburban life, a ...</td>\n",
       "    </tr>\n",
       "    <tr>\n",
       "      <th>10</th>\n",
       "      <td>Up</td>\n",
       "      <td>2009-05-29</td>\n",
       "      <td>96</td>\n",
       "      <td>PG</td>\n",
       "      <td>78-year-old Carl Fredricksen travels to South ...</td>\n",
       "    </tr>\n",
       "    <tr>\n",
       "      <th>13</th>\n",
       "      <td>Brave</td>\n",
       "      <td>2012-06-22</td>\n",
       "      <td>93</td>\n",
       "      <td>PG</td>\n",
       "      <td>Determined to make her own path in life, Princ...</td>\n",
       "    </tr>\n",
       "    <tr>\n",
       "      <th>15</th>\n",
       "      <td>Inside Out</td>\n",
       "      <td>2015-06-19</td>\n",
       "      <td>95</td>\n",
       "      <td>PG</td>\n",
       "      <td>After young Riley is uprooted from her Midwest...</td>\n",
       "    </tr>\n",
       "    <tr>\n",
       "      <th>16</th>\n",
       "      <td>The Good Dinosaur</td>\n",
       "      <td>2015-11-25</td>\n",
       "      <td>93</td>\n",
       "      <td>PG</td>\n",
       "      <td>In a world where dinosaurs and humans live sid...</td>\n",
       "    </tr>\n",
       "    <tr>\n",
       "      <th>17</th>\n",
       "      <td>Finding Dory</td>\n",
       "      <td>2016-06-17</td>\n",
       "      <td>97</td>\n",
       "      <td>PG</td>\n",
       "      <td>Friendly but forgetful blue tang Dory begins a...</td>\n",
       "    </tr>\n",
       "    <tr>\n",
       "      <th>19</th>\n",
       "      <td>Coco</td>\n",
       "      <td>2017-11-22</td>\n",
       "      <td>105</td>\n",
       "      <td>PG</td>\n",
       "      <td>Aspiring musician Miguel, confronted with his ...</td>\n",
       "    </tr>\n",
       "    <tr>\n",
       "      <th>20</th>\n",
       "      <td>Incredibles 2</td>\n",
       "      <td>2018-06-15</td>\n",
       "      <td>118</td>\n",
       "      <td>PG</td>\n",
       "      <td>The Incredibles family takes on a new mission ...</td>\n",
       "    </tr>\n",
       "    <tr>\n",
       "      <th>22</th>\n",
       "      <td>Onward</td>\n",
       "      <td>2020-03-06</td>\n",
       "      <td>102</td>\n",
       "      <td>PG</td>\n",
       "      <td>Teenage elf brothers Ian and Barley embark on ...</td>\n",
       "    </tr>\n",
       "    <tr>\n",
       "      <th>23</th>\n",
       "      <td>Soul</td>\n",
       "      <td>2020-12-25</td>\n",
       "      <td>100</td>\n",
       "      <td>PG</td>\n",
       "      <td>Joe is a middle-school band teacher whose life...</td>\n",
       "    </tr>\n",
       "    <tr>\n",
       "      <th>24</th>\n",
       "      <td>Luca</td>\n",
       "      <td>2021-06-18</td>\n",
       "      <td>95</td>\n",
       "      <td>PG</td>\n",
       "      <td>On the Italian Riviera, an unlikely but strong...</td>\n",
       "    </tr>\n",
       "    <tr>\n",
       "      <th>25</th>\n",
       "      <td>Turning Red</td>\n",
       "      <td>2022-03-11</td>\n",
       "      <td>100</td>\n",
       "      <td>PG</td>\n",
       "      <td>A thirteen-year-old girl named Mei Lee is torn...</td>\n",
       "    </tr>\n",
       "    <tr>\n",
       "      <th>26</th>\n",
       "      <td>Lightyear</td>\n",
       "      <td>2022-06-17</td>\n",
       "      <td>105</td>\n",
       "      <td>PG</td>\n",
       "      <td>While spending years attempting to return home...</td>\n",
       "    </tr>\n",
       "    <tr>\n",
       "      <th>27</th>\n",
       "      <td>Elemental</td>\n",
       "      <td>2023-06-16</td>\n",
       "      <td>101</td>\n",
       "      <td>PG</td>\n",
       "      <td>Follows Ember and Wade, in a city where fire-,...</td>\n",
       "    </tr>\n",
       "    <tr>\n",
       "      <th>28</th>\n",
       "      <td>Inside Out 2</td>\n",
       "      <td>2024-06-14</td>\n",
       "      <td>96</td>\n",
       "      <td>PG</td>\n",
       "      <td>A sequel that features Riley entering puberty ...</td>\n",
       "    </tr>\n",
       "  </tbody>\n",
       "</table>\n",
       "</div>"
      ],
      "text/plain": [
       "                     film release_date  run_time film_rating  \\\n",
       "number                                                         \n",
       "6         The Incredibles   2004-11-05       115          PG   \n",
       "10                     Up   2009-05-29        96          PG   \n",
       "13                  Brave   2012-06-22        93          PG   \n",
       "15             Inside Out   2015-06-19        95          PG   \n",
       "16      The Good Dinosaur   2015-11-25        93          PG   \n",
       "17           Finding Dory   2016-06-17        97          PG   \n",
       "19                   Coco   2017-11-22       105          PG   \n",
       "20          Incredibles 2   2018-06-15       118          PG   \n",
       "22                 Onward   2020-03-06       102          PG   \n",
       "23                   Soul   2020-12-25       100          PG   \n",
       "24                   Luca   2021-06-18        95          PG   \n",
       "25            Turning Red   2022-03-11       100          PG   \n",
       "26              Lightyear   2022-06-17       105          PG   \n",
       "27              Elemental   2023-06-16       101          PG   \n",
       "28           Inside Out 2   2024-06-14        96          PG   \n",
       "\n",
       "                                                     plot  \n",
       "number                                                     \n",
       "6       While trying to lead a quiet suburban life, a ...  \n",
       "10      78-year-old Carl Fredricksen travels to South ...  \n",
       "13      Determined to make her own path in life, Princ...  \n",
       "15      After young Riley is uprooted from her Midwest...  \n",
       "16      In a world where dinosaurs and humans live sid...  \n",
       "17      Friendly but forgetful blue tang Dory begins a...  \n",
       "19      Aspiring musician Miguel, confronted with his ...  \n",
       "20      The Incredibles family takes on a new mission ...  \n",
       "22      Teenage elf brothers Ian and Barley embark on ...  \n",
       "23      Joe is a middle-school band teacher whose life...  \n",
       "24      On the Italian Riviera, an unlikely but strong...  \n",
       "25      A thirteen-year-old girl named Mei Lee is torn...  \n",
       "26      While spending years attempting to return home...  \n",
       "27      Follows Ember and Wade, in a city where fire-,...  \n",
       "28      A sequel that features Riley entering puberty ...  "
      ]
     },
     "execution_count": 93,
     "metadata": {},
     "output_type": "execute_result"
    }
   ],
   "source": [
    "pg_rated = films_df[films_df.film_rating == \"PG\"]\n",
    "print(\"There are {} movies rated 'PG', which suggests that some material may not be suitable for children and parental guidance is advised.\"\n",
    "      .format(len(pg_rated)))\n",
    "print(\"\")\n",
    "\n",
    "# View the Data\n",
    "pg_rated"
   ]
  },
  {
   "cell_type": "markdown",
   "id": "94c2413c-f5a7-4575-9128-ab0240be4a4d",
   "metadata": {},
   "source": [
    "<font color = \"blue\">When was the last time a movie suitable for all audiences (G-rated) was released?</font>"
   ]
  },
  {
   "cell_type": "code",
   "execution_count": 95,
   "id": "d0d9f3c2-10c5-4586-b0a5-5c11ba49f985",
   "metadata": {},
   "outputs": [
    {
     "name": "stdout",
     "output_type": "stream",
     "text": [
      "The most recent movie rated 'G', suitable for all audiences, was Toy Story 4, which was released on 2019-06-21.\n"
     ]
    }
   ],
   "source": [
    "latest_g_rated = g_rated[g_rated.release_date == g_rated.release_date.max()].iloc[0]\n",
    "print(\"The most recent movie rated 'G', suitable for all audiences, was {}, which was released on {}.\".\n",
    "      format(latest_g_rated['film'], latest_g_rated['release_date'].date()))"
   ]
  },
  {
   "cell_type": "markdown",
   "id": "8e9db0fe-f30a-4178-9cd8-5a2e3bf88026",
   "metadata": {},
   "source": [
    "<font color = \"blue\">On which days are movies most frequently released?</font>"
   ]
  },
  {
   "cell_type": "code",
   "execution_count": 97,
   "id": "66ab9669-3ade-4a44-ad37-58da7881563f",
   "metadata": {},
   "outputs": [
    {
     "data": {
      "text/html": [
       "<div>\n",
       "<style scoped>\n",
       "    .dataframe tbody tr th:only-of-type {\n",
       "        vertical-align: middle;\n",
       "    }\n",
       "\n",
       "    .dataframe tbody tr th {\n",
       "        vertical-align: top;\n",
       "    }\n",
       "\n",
       "    .dataframe thead th {\n",
       "        text-align: right;\n",
       "    }\n",
       "</style>\n",
       "<table border=\"1\" class=\"dataframe\">\n",
       "  <thead>\n",
       "    <tr style=\"text-align: right;\">\n",
       "      <th></th>\n",
       "      <th>day_name</th>\n",
       "      <th>film_count</th>\n",
       "    </tr>\n",
       "  </thead>\n",
       "  <tbody>\n",
       "    <tr>\n",
       "      <th>0</th>\n",
       "      <td>Friday</td>\n",
       "      <td>23</td>\n",
       "    </tr>\n",
       "    <tr>\n",
       "      <th>1</th>\n",
       "      <td>Wednesday</td>\n",
       "      <td>5</td>\n",
       "    </tr>\n",
       "  </tbody>\n",
       "</table>\n",
       "</div>"
      ],
      "text/plain": [
       "    day_name  film_count\n",
       "0     Friday          23\n",
       "1  Wednesday           5"
      ]
     },
     "execution_count": 97,
     "metadata": {},
     "output_type": "execute_result"
    },
    {
     "data": {
      "text/plain": [
       "<Figure size 1000x800 with 0 Axes>"
      ]
     },
     "execution_count": 97,
     "metadata": {},
     "output_type": "execute_result"
    },
    {
     "data": {
      "text/plain": [
       "<BarContainer object of 2 artists>"
      ]
     },
     "execution_count": 97,
     "metadata": {},
     "output_type": "execute_result"
    },
    {
     "data": {
      "text/plain": [
       "Text(0.5, 0, 'Day of the week')"
      ]
     },
     "execution_count": 97,
     "metadata": {},
     "output_type": "execute_result"
    },
    {
     "data": {
      "text/plain": [
       "Text(0, 0.5, 'No. of Films Released')"
      ]
     },
     "execution_count": 97,
     "metadata": {},
     "output_type": "execute_result"
    },
    {
     "data": {
      "text/plain": [
       "Text(0.5, 1.0, 'Number of Films Released by Day of the Week')"
      ]
     },
     "execution_count": 97,
     "metadata": {},
     "output_type": "execute_result"
    },
    {
     "data": {
      "image/png": "[encoded data removed]",
      "text/plain": [
       "<Figure size 1000x800 with 1 Axes>"
      ]
     },
     "metadata": {},
     "output_type": "display_data"
    }
   ],
   "source": [
    "# Create a copy first\n",
    "day_df = films_df.copy()\n",
    "\n",
    "# Add the \"Day\" column\n",
    "day_df['day_name'] = day_df['release_date'].dt.day_name()\n",
    "\n",
    "# View the data\n",
    "day_compare = day_df.groupby(\"day_name\", as_index = False)[[\"film\"]].count().rename(columns = {\"film\" : \"film_count\"})\n",
    "day_compare\n",
    "\n",
    "# Visualize\n",
    "plt.figure(figsize = (10,8))\n",
    "plt.bar(day_compare['day_name'], day_compare['film_count'], color = \"blue\")\n",
    "plt.xlabel(\"Day of the week\")\n",
    "plt.ylabel(\"No. of Films Released\")\n",
    "plt.title(\"Number of Films Released by Day of the Week\")\n",
    "plt.tight_layout()\n",
    "plt.show()"
   ]
  },
  {
   "cell_type": "code",
   "execution_count": 98,
   "id": "bab46159-02e2-4f62-a319-549cd095f732",
   "metadata": {},
   "outputs": [
    {
     "name": "stdout",
     "output_type": "stream",
     "text": [
      "82.0% of the movies were released on Friday, highlighting Friday as a popular release day for attracting larger crowds.\n"
     ]
    }
   ],
   "source": [
    "prop = day_df.day_name.value_counts()\n",
    "friday_prop = ((prop[0] / (prop[0] + prop[1])) * 100).round()\n",
    "wed_prop = 1 - friday_prop\n",
    "\n",
    "print(\"{}% of the movies were released on Friday, highlighting Friday as a popular release day for attracting larger crowds.\".\n",
    "      format(friday_prop))"
   ]
  },
  {
   "cell_type": "markdown",
   "id": "67734c8a-ed7d-4e90-a263-256ec3b3202f",
   "metadata": {},
   "source": [
    "2. **Film-makers Data**"
   ]
  },
  {
   "cell_type": "markdown",
   "id": "054c395e-1d69-4b6b-b131-44d8f868eb14",
   "metadata": {},
   "source": [
    "**Key Questions**\n",
    "\n",
    "<ul>\n",
    "    <li>Who are the core contributors behind the scenes of a film?</li>\n",
    "    <li>What is the size of the core team responsible for executing a film?</li>\n",
    "    <li>Which people contributed to multiple roles in a single film, and what were those counts?</li>\n",
    "    <li>Lists the individuals who have contributed to more than one film</li>\n",
    "    <li>How many contributors are associated with each film?</li>\n",
    "    <li>Are there people who consistently served in the same role across different films?</li>\n",
    "    <li>Which contributors had both Director and Producer roles?</li>\n",
    "    <li>Which films had multiple people serving the same role (e.g., more than one Producer)?</li>\n",
    "</ul>"
   ]
  },
  {
   "cell_type": "code",
   "execution_count": 101,
   "id": "fb38a27e-f9c2-4cc6-bcf5-c02ed41a2f1a",
   "metadata": {},
   "outputs": [
    {
     "data": {
      "text/html": [
       "<div>\n",
       "<style scoped>\n",
       "    .dataframe tbody tr th:only-of-type {\n",
       "        vertical-align: middle;\n",
       "    }\n",
       "\n",
       "    .dataframe tbody tr th {\n",
       "        vertical-align: top;\n",
       "    }\n",
       "\n",
       "    .dataframe thead th {\n",
       "        text-align: right;\n",
       "    }\n",
       "</style>\n",
       "<table border=\"1\" class=\"dataframe\">\n",
       "  <thead>\n",
       "    <tr style=\"text-align: right;\">\n",
       "      <th></th>\n",
       "      <th>film</th>\n",
       "      <th>role_type</th>\n",
       "      <th>name</th>\n",
       "    </tr>\n",
       "  </thead>\n",
       "  <tbody>\n",
       "    <tr>\n",
       "      <th>0</th>\n",
       "      <td>Toy Story</td>\n",
       "      <td>Director</td>\n",
       "      <td>John Lasseter</td>\n",
       "    </tr>\n",
       "    <tr>\n",
       "      <th>1</th>\n",
       "      <td>Toy Story</td>\n",
       "      <td>Musician</td>\n",
       "      <td>Randy Newman</td>\n",
       "    </tr>\n",
       "    <tr>\n",
       "      <th>2</th>\n",
       "      <td>Toy Story</td>\n",
       "      <td>Producer</td>\n",
       "      <td>Bonnie Arnold</td>\n",
       "    </tr>\n",
       "    <tr>\n",
       "      <th>3</th>\n",
       "      <td>Toy Story</td>\n",
       "      <td>Producer</td>\n",
       "      <td>Ralph Guggenheim</td>\n",
       "    </tr>\n",
       "    <tr>\n",
       "      <th>4</th>\n",
       "      <td>Toy Story</td>\n",
       "      <td>Screenwriter</td>\n",
       "      <td>Joel Cohen</td>\n",
       "    </tr>\n",
       "  </tbody>\n",
       "</table>\n",
       "</div>"
      ],
      "text/plain": [
       "        film     role_type              name\n",
       "0  Toy Story      Director     John Lasseter\n",
       "1  Toy Story      Musician      Randy Newman\n",
       "2  Toy Story      Producer     Bonnie Arnold\n",
       "3  Toy Story      Producer  Ralph Guggenheim\n",
       "4  Toy Story  Screenwriter        Joel Cohen"
      ]
     },
     "execution_count": 101,
     "metadata": {},
     "output_type": "execute_result"
    }
   ],
   "source": [
    "people_df.head()"
   ]
  },
  {
   "cell_type": "markdown",
   "id": "84d331c3-bb68-4a8f-a1a0-54b2afe48e9e",
   "metadata": {},
   "source": [
    "<font color = \"blue\">Who are the core contributors behind the scenes of a film?</font>"
   ]
  },
  {
   "cell_type": "code",
   "execution_count": 103,
   "id": "d3e71050-29d5-42e2-a262-b6c405f7634f",
   "metadata": {},
   "outputs": [
    {
     "name": "stdout",
     "output_type": "stream",
     "text": [
      "Generally, a film is created by these 6 people and they are Director, Musician, Producer, Screenwriter, Storywriter, and Co-director. \n"
     ]
    }
   ],
   "source": [
    "print(\"Generally, a film is created by these {} people and they are {}, {}, {}, {}, {}, and {}. \".\n",
    "      format(people_df.role_type.nunique(), people_df.role_type.unique()[0], people_df.role_type.unique()[1],\n",
    "             people_df.role_type.unique()[2], people_df.role_type.unique()[3], people_df.role_type.unique()[4],\n",
    "             people_df.role_type.unique()[5]))"
   ]
  },
  {
   "cell_type": "markdown",
   "id": "c8c922e6-2829-493d-844f-21cfbdfbad6d",
   "metadata": {},
   "source": [
    "<font color = \"blue\">What is the size of the core team responsible for executing a film?</font>"
   ]
  },
  {
   "cell_type": "code",
   "execution_count": 105,
   "id": "bf1044d9-fd07-4dee-aa56-cab5a55ef88f",
   "metadata": {},
   "outputs": [
    {
     "data": {
      "text/html": [
       "<div>\n",
       "<style scoped>\n",
       "    .dataframe tbody tr th:only-of-type {\n",
       "        vertical-align: middle;\n",
       "    }\n",
       "\n",
       "    .dataframe tbody tr th {\n",
       "        vertical-align: top;\n",
       "    }\n",
       "\n",
       "    .dataframe thead th {\n",
       "        text-align: right;\n",
       "    }\n",
       "</style>\n",
       "<table border=\"1\" class=\"dataframe\">\n",
       "  <thead>\n",
       "    <tr style=\"text-align: right;\">\n",
       "      <th></th>\n",
       "      <th>role_type</th>\n",
       "      <th>num_of_crew</th>\n",
       "    </tr>\n",
       "  </thead>\n",
       "  <tbody>\n",
       "    <tr>\n",
       "      <th>5</th>\n",
       "      <td>Storywriter</td>\n",
       "      <td>82</td>\n",
       "    </tr>\n",
       "    <tr>\n",
       "      <th>4</th>\n",
       "      <td>Screenwriter</td>\n",
       "      <td>64</td>\n",
       "    </tr>\n",
       "    <tr>\n",
       "      <th>3</th>\n",
       "      <td>Producer</td>\n",
       "      <td>33</td>\n",
       "    </tr>\n",
       "    <tr>\n",
       "      <th>2</th>\n",
       "      <td>Musician</td>\n",
       "      <td>31</td>\n",
       "    </tr>\n",
       "    <tr>\n",
       "      <th>1</th>\n",
       "      <td>Director</td>\n",
       "      <td>28</td>\n",
       "    </tr>\n",
       "    <tr>\n",
       "      <th>0</th>\n",
       "      <td>Co-director</td>\n",
       "      <td>15</td>\n",
       "    </tr>\n",
       "  </tbody>\n",
       "</table>\n",
       "</div>"
      ],
      "text/plain": [
       "      role_type  num_of_crew\n",
       "5   Storywriter           82\n",
       "4  Screenwriter           64\n",
       "3      Producer           33\n",
       "2      Musician           31\n",
       "1      Director           28\n",
       "0   Co-director           15"
      ]
     },
     "execution_count": 105,
     "metadata": {},
     "output_type": "execute_result"
    }
   ],
   "source": [
    "core_team = people_df.groupby(\"role_type\", as_index = False)[[\"name\"]].count().rename(columns = {\"name\" : \"num_of_crew\"})\n",
    "\n",
    "core_team = core_team.sort_values(\"num_of_crew\", ascending = False)\n",
    "\n",
    "core_team"
   ]
  },
  {
   "cell_type": "code",
   "execution_count": 106,
   "id": "1b60482a-e8ee-4d2a-9e61-2a47dbb4668d",
   "metadata": {},
   "outputs": [
    {
     "data": {
      "text/plain": [
       "<Figure size 1000x800 with 0 Axes>"
      ]
     },
     "execution_count": 106,
     "metadata": {},
     "output_type": "execute_result"
    },
    {
     "data": {
      "text/plain": [
       "<BarContainer object of 6 artists>"
      ]
     },
     "execution_count": 106,
     "metadata": {},
     "output_type": "execute_result"
    },
    {
     "data": {
      "text/plain": [
       "Text(0.5, 0, 'Role Types')"
      ]
     },
     "execution_count": 106,
     "metadata": {},
     "output_type": "execute_result"
    },
    {
     "data": {
      "text/plain": [
       "Text(0, 0.5, 'Number of Crew')"
      ]
     },
     "execution_count": 106,
     "metadata": {},
     "output_type": "execute_result"
    },
    {
     "data": {
      "text/plain": [
       "Text(0.5, 1.0, 'Size of the Core Team for Film Execution')"
      ]
     },
     "execution_count": 106,
     "metadata": {},
     "output_type": "execute_result"
    },
    {
     "data": {
      "image/png": "[encoded data removed]",
      "text/plain": [
       "<Figure size 1000x800 with 1 Axes>"
      ]
     },
     "metadata": {},
     "output_type": "display_data"
    }
   ],
   "source": [
    "# Visualize\n",
    "plt.figure(figsize = (10,8))\n",
    "plt.bar(core_team['role_type'], core_team['num_of_crew'], color = \"lightgreen\")\n",
    "plt.xlabel(\"Role Types\")\n",
    "plt.ylabel(\"Number of Crew\")\n",
    "plt.title(\"Size of the Core Team for Film Execution\")\n",
    "plt.tight_layout()\n",
    "plt.show()"
   ]
  },
  {
   "cell_type": "markdown",
   "id": "48ac34d4-efc7-4f69-88c5-3fe9951372b3",
   "metadata": {},
   "source": [
    "<font color = \"blue\">Which people contributed to multiple roles in a single film, and what were those counts?</font>"
   ]
  },
  {
   "cell_type": "code",
   "execution_count": 108,
   "id": "48f8e8f1-753c-4fdc-86ee-966ffbf3c56b",
   "metadata": {},
   "outputs": [
    {
     "data": {
      "text/html": [
       "<div>\n",
       "<style scoped>\n",
       "    .dataframe tbody tr th:only-of-type {\n",
       "        vertical-align: middle;\n",
       "    }\n",
       "\n",
       "    .dataframe tbody tr th {\n",
       "        vertical-align: top;\n",
       "    }\n",
       "\n",
       "    .dataframe thead th {\n",
       "        text-align: right;\n",
       "    }\n",
       "</style>\n",
       "<table border=\"1\" class=\"dataframe\">\n",
       "  <thead>\n",
       "    <tr style=\"text-align: right;\">\n",
       "      <th></th>\n",
       "      <th>film</th>\n",
       "      <th>name</th>\n",
       "      <th>num_roles</th>\n",
       "    </tr>\n",
       "  </thead>\n",
       "  <tbody>\n",
       "    <tr>\n",
       "      <th>32</th>\n",
       "      <td>Coco</td>\n",
       "      <td>Adrian Molina</td>\n",
       "      <td>3</td>\n",
       "    </tr>\n",
       "    <tr>\n",
       "      <th>0</th>\n",
       "      <td>A Bug's Life</td>\n",
       "      <td>Andrew Stanton</td>\n",
       "      <td>3</td>\n",
       "    </tr>\n",
       "    <tr>\n",
       "      <th>44</th>\n",
       "      <td>Finding Dory</td>\n",
       "      <td>Andrew Stanton</td>\n",
       "      <td>3</td>\n",
       "    </tr>\n",
       "    <tr>\n",
       "      <th>49</th>\n",
       "      <td>Finding Nemo</td>\n",
       "      <td>Andrew Stanton</td>\n",
       "      <td>3</td>\n",
       "    </tr>\n",
       "    <tr>\n",
       "      <th>121</th>\n",
       "      <td>Toy Story</td>\n",
       "      <td>Andrew Stanton</td>\n",
       "      <td>2</td>\n",
       "    </tr>\n",
       "    <tr>\n",
       "      <th>130</th>\n",
       "      <td>Toy Story 2</td>\n",
       "      <td>Andrew Stanton</td>\n",
       "      <td>2</td>\n",
       "    </tr>\n",
       "    <tr>\n",
       "      <th>147</th>\n",
       "      <td>Toy Story 4</td>\n",
       "      <td>Andrew Stanton</td>\n",
       "      <td>2</td>\n",
       "    </tr>\n",
       "    <tr>\n",
       "      <th>168</th>\n",
       "      <td>WALL-E</td>\n",
       "      <td>Andrew Stanton</td>\n",
       "      <td>3</td>\n",
       "    </tr>\n",
       "    <tr>\n",
       "      <th>71</th>\n",
       "      <td>Lightyear</td>\n",
       "      <td>Angus MacLane</td>\n",
       "      <td>3</td>\n",
       "    </tr>\n",
       "    <tr>\n",
       "      <th>131</th>\n",
       "      <td>Toy Story 2</td>\n",
       "      <td>Ash Brannon</td>\n",
       "      <td>2</td>\n",
       "    </tr>\n",
       "    <tr>\n",
       "      <th>163</th>\n",
       "      <td>Up</td>\n",
       "      <td>Bob Peterson</td>\n",
       "      <td>3</td>\n",
       "    </tr>\n",
       "    <tr>\n",
       "      <th>55</th>\n",
       "      <td>Incredibles 2</td>\n",
       "      <td>Brad Bird</td>\n",
       "      <td>3</td>\n",
       "    </tr>\n",
       "    <tr>\n",
       "      <th>98</th>\n",
       "      <td>Ratatouille</td>\n",
       "      <td>Brad Bird</td>\n",
       "      <td>3</td>\n",
       "    </tr>\n",
       "    <tr>\n",
       "      <th>117</th>\n",
       "      <td>The Incredibles</td>\n",
       "      <td>Brad Bird</td>\n",
       "      <td>3</td>\n",
       "    </tr>\n",
       "    <tr>\n",
       "      <th>18</th>\n",
       "      <td>Cars 2</td>\n",
       "      <td>Brad Lewis</td>\n",
       "      <td>2</td>\n",
       "    </tr>\n",
       "    <tr>\n",
       "      <th>38</th>\n",
       "      <td>Elemental</td>\n",
       "      <td>Brenda Hsueh</td>\n",
       "      <td>2</td>\n",
       "    </tr>\n",
       "    <tr>\n",
       "      <th>25</th>\n",
       "      <td>Cars 3</td>\n",
       "      <td>Brian Fee</td>\n",
       "      <td>2</td>\n",
       "    </tr>\n",
       "    <tr>\n",
       "      <th>77</th>\n",
       "      <td>Monsters University</td>\n",
       "      <td>Dan Gerson</td>\n",
       "      <td>2</td>\n",
       "    </tr>\n",
       "    <tr>\n",
       "      <th>78</th>\n",
       "      <td>Monsters University</td>\n",
       "      <td>Dan Scanlon</td>\n",
       "      <td>3</td>\n",
       "    </tr>\n",
       "    <tr>\n",
       "      <th>92</th>\n",
       "      <td>Onward</td>\n",
       "      <td>Dan Scanlon</td>\n",
       "      <td>3</td>\n",
       "    </tr>\n",
       "    <tr>\n",
       "      <th>158</th>\n",
       "      <td>Turning Red</td>\n",
       "      <td>Domee Shi</td>\n",
       "      <td>3</td>\n",
       "    </tr>\n",
       "    <tr>\n",
       "      <th>100</th>\n",
       "      <td>Ratatouille</td>\n",
       "      <td>Jan Pinkava</td>\n",
       "      <td>2</td>\n",
       "    </tr>\n",
       "    <tr>\n",
       "      <th>73</th>\n",
       "      <td>Lightyear</td>\n",
       "      <td>Jason Headley</td>\n",
       "      <td>2</td>\n",
       "    </tr>\n",
       "    <tr>\n",
       "      <th>93</th>\n",
       "      <td>Onward</td>\n",
       "      <td>Jason Headley</td>\n",
       "      <td>2</td>\n",
       "    </tr>\n",
       "    <tr>\n",
       "      <th>76</th>\n",
       "      <td>Luca</td>\n",
       "      <td>Jesse Andrews</td>\n",
       "      <td>5</td>\n",
       "    </tr>\n",
       "    <tr>\n",
       "      <th>11</th>\n",
       "      <td>Cars</td>\n",
       "      <td>Joe Ranft</td>\n",
       "      <td>3</td>\n",
       "    </tr>\n",
       "    <tr>\n",
       "      <th>40</th>\n",
       "      <td>Elemental</td>\n",
       "      <td>John Hoberg</td>\n",
       "      <td>2</td>\n",
       "    </tr>\n",
       "    <tr>\n",
       "      <th>5</th>\n",
       "      <td>A Bug's Life</td>\n",
       "      <td>John Lasseter</td>\n",
       "      <td>2</td>\n",
       "    </tr>\n",
       "    <tr>\n",
       "      <th>12</th>\n",
       "      <td>Cars</td>\n",
       "      <td>John Lasseter</td>\n",
       "      <td>3</td>\n",
       "    </tr>\n",
       "    <tr>\n",
       "      <th>21</th>\n",
       "      <td>Cars 2</td>\n",
       "      <td>John Lasseter</td>\n",
       "      <td>2</td>\n",
       "    </tr>\n",
       "    <tr>\n",
       "      <th>125</th>\n",
       "      <td>Toy Story</td>\n",
       "      <td>John Lasseter</td>\n",
       "      <td>2</td>\n",
       "    </tr>\n",
       "    <tr>\n",
       "      <th>135</th>\n",
       "      <td>Toy Story 2</td>\n",
       "      <td>John Lasseter</td>\n",
       "      <td>2</td>\n",
       "    </tr>\n",
       "    <tr>\n",
       "      <th>13</th>\n",
       "      <td>Cars</td>\n",
       "      <td>Jorgen Klubien</td>\n",
       "      <td>2</td>\n",
       "    </tr>\n",
       "    <tr>\n",
       "      <th>150</th>\n",
       "      <td>Toy Story 4</td>\n",
       "      <td>Josh Cooley</td>\n",
       "      <td>2</td>\n",
       "    </tr>\n",
       "    <tr>\n",
       "      <th>159</th>\n",
       "      <td>Turning Red</td>\n",
       "      <td>Julia Cho</td>\n",
       "      <td>2</td>\n",
       "    </tr>\n",
       "    <tr>\n",
       "      <th>41</th>\n",
       "      <td>Elemental</td>\n",
       "      <td>Kat Likkel</td>\n",
       "      <td>2</td>\n",
       "    </tr>\n",
       "    <tr>\n",
       "      <th>95</th>\n",
       "      <td>Onward</td>\n",
       "      <td>Keith Bunin</td>\n",
       "      <td>2</td>\n",
       "    </tr>\n",
       "    <tr>\n",
       "      <th>68</th>\n",
       "      <td>Inside Out 2</td>\n",
       "      <td>Kelsey Mann</td>\n",
       "      <td>2</td>\n",
       "    </tr>\n",
       "    <tr>\n",
       "      <th>105</th>\n",
       "      <td>Soul</td>\n",
       "      <td>Kemp Powers</td>\n",
       "      <td>3</td>\n",
       "    </tr>\n",
       "    <tr>\n",
       "      <th>35</th>\n",
       "      <td>Coco</td>\n",
       "      <td>Lee Unkrich</td>\n",
       "      <td>2</td>\n",
       "    </tr>\n",
       "    <tr>\n",
       "      <th>144</th>\n",
       "      <td>Toy Story 3</td>\n",
       "      <td>Lee Unkrich</td>\n",
       "      <td>2</td>\n",
       "    </tr>\n",
       "    <tr>\n",
       "      <th>8</th>\n",
       "      <td>Brave</td>\n",
       "      <td>Mark Andrews</td>\n",
       "      <td>6</td>\n",
       "    </tr>\n",
       "    <tr>\n",
       "      <th>36</th>\n",
       "      <td>Coco</td>\n",
       "      <td>Matthew Aldrich</td>\n",
       "      <td>2</td>\n",
       "    </tr>\n",
       "    <tr>\n",
       "      <th>70</th>\n",
       "      <td>Inside Out 2</td>\n",
       "      <td>Meg LeFauve</td>\n",
       "      <td>2</td>\n",
       "    </tr>\n",
       "    <tr>\n",
       "      <th>114</th>\n",
       "      <td>The Good Dinosaur</td>\n",
       "      <td>Meg LeFauve</td>\n",
       "      <td>2</td>\n",
       "    </tr>\n",
       "    <tr>\n",
       "      <th>106</th>\n",
       "      <td>Soul</td>\n",
       "      <td>Mike Jones</td>\n",
       "      <td>2</td>\n",
       "    </tr>\n",
       "    <tr>\n",
       "      <th>63</th>\n",
       "      <td>Inside Out</td>\n",
       "      <td>Pete Docter</td>\n",
       "      <td>3</td>\n",
       "    </tr>\n",
       "    <tr>\n",
       "      <th>89</th>\n",
       "      <td>Monsters, Inc.</td>\n",
       "      <td>Pete Docter</td>\n",
       "      <td>2</td>\n",
       "    </tr>\n",
       "    <tr>\n",
       "      <th>107</th>\n",
       "      <td>Soul</td>\n",
       "      <td>Pete Docter</td>\n",
       "      <td>3</td>\n",
       "    </tr>\n",
       "    <tr>\n",
       "      <th>166</th>\n",
       "      <td>Up</td>\n",
       "      <td>Pete Docter</td>\n",
       "      <td>3</td>\n",
       "    </tr>\n",
       "    <tr>\n",
       "      <th>42</th>\n",
       "      <td>Elemental</td>\n",
       "      <td>Peter Sohn</td>\n",
       "      <td>2</td>\n",
       "    </tr>\n",
       "    <tr>\n",
       "      <th>116</th>\n",
       "      <td>The Good Dinosaur</td>\n",
       "      <td>Peter Sohn</td>\n",
       "      <td>2</td>\n",
       "    </tr>\n",
       "    <tr>\n",
       "      <th>81</th>\n",
       "      <td>Monsters University</td>\n",
       "      <td>Robert L. Baird</td>\n",
       "      <td>2</td>\n",
       "    </tr>\n",
       "    <tr>\n",
       "      <th>155</th>\n",
       "      <td>Toy Story 4</td>\n",
       "      <td>Stephany Folsom</td>\n",
       "      <td>2</td>\n",
       "    </tr>\n",
       "  </tbody>\n",
       "</table>\n",
       "</div>"
      ],
      "text/plain": [
       "                    film             name  num_roles\n",
       "32                  Coco    Adrian Molina          3\n",
       "0           A Bug's Life   Andrew Stanton          3\n",
       "44          Finding Dory   Andrew Stanton          3\n",
       "49          Finding Nemo   Andrew Stanton          3\n",
       "121            Toy Story   Andrew Stanton          2\n",
       "130          Toy Story 2   Andrew Stanton          2\n",
       "147          Toy Story 4   Andrew Stanton          2\n",
       "168               WALL-E   Andrew Stanton          3\n",
       "71             Lightyear    Angus MacLane          3\n",
       "131          Toy Story 2      Ash Brannon          2\n",
       "163                   Up     Bob Peterson          3\n",
       "55         Incredibles 2        Brad Bird          3\n",
       "98           Ratatouille        Brad Bird          3\n",
       "117      The Incredibles        Brad Bird          3\n",
       "18                Cars 2       Brad Lewis          2\n",
       "38             Elemental     Brenda Hsueh          2\n",
       "25                Cars 3        Brian Fee          2\n",
       "77   Monsters University       Dan Gerson          2\n",
       "78   Monsters University      Dan Scanlon          3\n",
       "92                Onward      Dan Scanlon          3\n",
       "158          Turning Red        Domee Shi          3\n",
       "100          Ratatouille      Jan Pinkava          2\n",
       "73             Lightyear    Jason Headley          2\n",
       "93                Onward    Jason Headley          2\n",
       "76                  Luca    Jesse Andrews          5\n",
       "11                  Cars        Joe Ranft          3\n",
       "40             Elemental      John Hoberg          2\n",
       "5           A Bug's Life    John Lasseter          2\n",
       "12                  Cars    John Lasseter          3\n",
       "21                Cars 2    John Lasseter          2\n",
       "125            Toy Story    John Lasseter          2\n",
       "135          Toy Story 2    John Lasseter          2\n",
       "13                  Cars   Jorgen Klubien          2\n",
       "150          Toy Story 4      Josh Cooley          2\n",
       "159          Turning Red        Julia Cho          2\n",
       "41             Elemental       Kat Likkel          2\n",
       "95                Onward      Keith Bunin          2\n",
       "68          Inside Out 2      Kelsey Mann          2\n",
       "105                 Soul      Kemp Powers          3\n",
       "35                  Coco      Lee Unkrich          2\n",
       "144          Toy Story 3      Lee Unkrich          2\n",
       "8                  Brave     Mark Andrews          6\n",
       "36                  Coco  Matthew Aldrich          2\n",
       "70          Inside Out 2      Meg LeFauve          2\n",
       "114    The Good Dinosaur      Meg LeFauve          2\n",
       "106                 Soul       Mike Jones          2\n",
       "63            Inside Out      Pete Docter          3\n",
       "89        Monsters, Inc.      Pete Docter          2\n",
       "107                 Soul      Pete Docter          3\n",
       "166                   Up      Pete Docter          3\n",
       "42             Elemental       Peter Sohn          2\n",
       "116    The Good Dinosaur       Peter Sohn          2\n",
       "81   Monsters University  Robert L. Baird          2\n",
       "155          Toy Story 4  Stephany Folsom          2"
      ]
     },
     "execution_count": 108,
     "metadata": {},
     "output_type": "execute_result"
    }
   ],
   "source": [
    "roles = people_df.groupby([\"film\", \"name\"], as_index=False).agg({\"role_type\": \"count\"})\n",
    "roles.rename(columns={\"role_type\": \"num_roles\"}, inplace=True)\n",
    "multiple_roles = roles[roles.num_roles > 1]\n",
    "multiple_roles = multiple_roles.sort_values(by=[\"name\", \"film\"])\n",
    "\n",
    "# View the Result\n",
    "multiple_roles"
   ]
  },
  {
   "cell_type": "markdown",
   "id": "c54054ee-af39-4a0a-94fa-74ca392225fe",
   "metadata": {},
   "source": [
    "<font color = \"blue\">Lists the individuals who have contributed to more than one film</font>"
   ]
  },
  {
   "cell_type": "code",
   "execution_count": 110,
   "id": "fe4e3653-8eda-4d0c-bed3-f5178e96000d",
   "metadata": {},
   "outputs": [
    {
     "data": {
      "text/html": [
       "<div>\n",
       "<style scoped>\n",
       "    .dataframe tbody tr th:only-of-type {\n",
       "        vertical-align: middle;\n",
       "    }\n",
       "\n",
       "    .dataframe tbody tr th {\n",
       "        vertical-align: top;\n",
       "    }\n",
       "\n",
       "    .dataframe thead th {\n",
       "        text-align: right;\n",
       "    }\n",
       "</style>\n",
       "<table border=\"1\" class=\"dataframe\">\n",
       "  <thead>\n",
       "    <tr style=\"text-align: right;\">\n",
       "      <th></th>\n",
       "      <th>name</th>\n",
       "      <th>film_count</th>\n",
       "    </tr>\n",
       "  </thead>\n",
       "  <tbody>\n",
       "    <tr>\n",
       "      <th>3</th>\n",
       "      <td>Andrew Stanton</td>\n",
       "      <td>20</td>\n",
       "    </tr>\n",
       "    <tr>\n",
       "      <th>76</th>\n",
       "      <td>Pete Docter</td>\n",
       "      <td>14</td>\n",
       "    </tr>\n",
       "    <tr>\n",
       "      <th>46</th>\n",
       "      <td>John Lasseter</td>\n",
       "      <td>13</td>\n",
       "    </tr>\n",
       "    <tr>\n",
       "      <th>81</th>\n",
       "      <td>Randy Newman</td>\n",
       "      <td>9</td>\n",
       "    </tr>\n",
       "    <tr>\n",
       "      <th>11</th>\n",
       "      <td>Brad Bird</td>\n",
       "      <td>9</td>\n",
       "    </tr>\n",
       "    <tr>\n",
       "      <th>71</th>\n",
       "      <td>Michael Giacchino</td>\n",
       "      <td>8</td>\n",
       "    </tr>\n",
       "    <tr>\n",
       "      <th>62</th>\n",
       "      <td>Lee Unkrich</td>\n",
       "      <td>7</td>\n",
       "    </tr>\n",
       "    <tr>\n",
       "      <th>18</th>\n",
       "      <td>Dan Scanlon</td>\n",
       "      <td>6</td>\n",
       "    </tr>\n",
       "    <tr>\n",
       "      <th>65</th>\n",
       "      <td>Mark Andrews</td>\n",
       "      <td>6</td>\n",
       "    </tr>\n",
       "    <tr>\n",
       "      <th>8</th>\n",
       "      <td>Bob Peterson</td>\n",
       "      <td>6</td>\n",
       "    </tr>\n",
       "    <tr>\n",
       "      <th>69</th>\n",
       "      <td>Meg LeFauve</td>\n",
       "      <td>5</td>\n",
       "    </tr>\n",
       "    <tr>\n",
       "      <th>20</th>\n",
       "      <td>Darla K. Anderson</td>\n",
       "      <td>5</td>\n",
       "    </tr>\n",
       "    <tr>\n",
       "      <th>38</th>\n",
       "      <td>Jesse Andrews</td>\n",
       "      <td>5</td>\n",
       "    </tr>\n",
       "    <tr>\n",
       "      <th>43</th>\n",
       "      <td>Joe Ranft</td>\n",
       "      <td>5</td>\n",
       "    </tr>\n",
       "    <tr>\n",
       "      <th>77</th>\n",
       "      <td>Peter Sohn</td>\n",
       "      <td>4</td>\n",
       "    </tr>\n",
       "    <tr>\n",
       "      <th>34</th>\n",
       "      <td>Jason Headley</td>\n",
       "      <td>4</td>\n",
       "    </tr>\n",
       "    <tr>\n",
       "      <th>4</th>\n",
       "      <td>Angus MacLane</td>\n",
       "      <td>4</td>\n",
       "    </tr>\n",
       "    <tr>\n",
       "      <th>88</th>\n",
       "      <td>Thomas Newman</td>\n",
       "      <td>4</td>\n",
       "    </tr>\n",
       "    <tr>\n",
       "      <th>68</th>\n",
       "      <td>Matthew Aldrich</td>\n",
       "      <td>3</td>\n",
       "    </tr>\n",
       "    <tr>\n",
       "      <th>48</th>\n",
       "      <td>Jonas Rivera</td>\n",
       "      <td>3</td>\n",
       "    </tr>\n",
       "    <tr>\n",
       "      <th>58</th>\n",
       "      <td>Kemp Powers</td>\n",
       "      <td>3</td>\n",
       "    </tr>\n",
       "    <tr>\n",
       "      <th>57</th>\n",
       "      <td>Kelsey Mann</td>\n",
       "      <td>3</td>\n",
       "    </tr>\n",
       "    <tr>\n",
       "      <th>51</th>\n",
       "      <td>Josh Cooley</td>\n",
       "      <td>3</td>\n",
       "    </tr>\n",
       "    <tr>\n",
       "      <th>0</th>\n",
       "      <td>Adrian Molina</td>\n",
       "      <td>3</td>\n",
       "    </tr>\n",
       "    <tr>\n",
       "      <th>17</th>\n",
       "      <td>Dan Gerson</td>\n",
       "      <td>3</td>\n",
       "    </tr>\n",
       "    <tr>\n",
       "      <th>12</th>\n",
       "      <td>Brad Lewis</td>\n",
       "      <td>3</td>\n",
       "    </tr>\n",
       "    <tr>\n",
       "      <th>25</th>\n",
       "      <td>Domee Shi</td>\n",
       "      <td>3</td>\n",
       "    </tr>\n",
       "    <tr>\n",
       "      <th>24</th>\n",
       "      <td>Denise Ream</td>\n",
       "      <td>3</td>\n",
       "    </tr>\n",
       "    <tr>\n",
       "      <th>66</th>\n",
       "      <td>Mark Nielsen</td>\n",
       "      <td>2</td>\n",
       "    </tr>\n",
       "    <tr>\n",
       "      <th>87</th>\n",
       "      <td>Stephany Folsom</td>\n",
       "      <td>2</td>\n",
       "    </tr>\n",
       "    <tr>\n",
       "      <th>84</th>\n",
       "      <td>Robert L. Baird</td>\n",
       "      <td>2</td>\n",
       "    </tr>\n",
       "    <tr>\n",
       "      <th>5</th>\n",
       "      <td>Ash Brannon</td>\n",
       "      <td>2</td>\n",
       "    </tr>\n",
       "    <tr>\n",
       "      <th>7</th>\n",
       "      <td>Ben Queen</td>\n",
       "      <td>2</td>\n",
       "    </tr>\n",
       "    <tr>\n",
       "      <th>74</th>\n",
       "      <td>Mychael</td>\n",
       "      <td>2</td>\n",
       "    </tr>\n",
       "    <tr>\n",
       "      <th>72</th>\n",
       "      <td>Mike Jones</td>\n",
       "      <td>2</td>\n",
       "    </tr>\n",
       "    <tr>\n",
       "      <th>13</th>\n",
       "      <td>Brenda Hsueh</td>\n",
       "      <td>2</td>\n",
       "    </tr>\n",
       "    <tr>\n",
       "      <th>14</th>\n",
       "      <td>Brian Fee</td>\n",
       "      <td>2</td>\n",
       "    </tr>\n",
       "    <tr>\n",
       "      <th>16</th>\n",
       "      <td>Dan Fogelman</td>\n",
       "      <td>2</td>\n",
       "    </tr>\n",
       "    <tr>\n",
       "      <th>47</th>\n",
       "      <td>John Walker</td>\n",
       "      <td>2</td>\n",
       "    </tr>\n",
       "    <tr>\n",
       "      <th>45</th>\n",
       "      <td>John Hoberg</td>\n",
       "      <td>2</td>\n",
       "    </tr>\n",
       "    <tr>\n",
       "      <th>63</th>\n",
       "      <td>Lindsey Collins</td>\n",
       "      <td>2</td>\n",
       "    </tr>\n",
       "    <tr>\n",
       "      <th>61</th>\n",
       "      <td>Kori Rae</td>\n",
       "      <td>2</td>\n",
       "    </tr>\n",
       "    <tr>\n",
       "      <th>60</th>\n",
       "      <td>Kiel Murray</td>\n",
       "      <td>2</td>\n",
       "    </tr>\n",
       "    <tr>\n",
       "      <th>59</th>\n",
       "      <td>Kevin Reher</td>\n",
       "      <td>2</td>\n",
       "    </tr>\n",
       "    <tr>\n",
       "      <th>33</th>\n",
       "      <td>Jan Pinkava</td>\n",
       "      <td>2</td>\n",
       "    </tr>\n",
       "    <tr>\n",
       "      <th>56</th>\n",
       "      <td>Keith Bunin</td>\n",
       "      <td>2</td>\n",
       "    </tr>\n",
       "    <tr>\n",
       "      <th>55</th>\n",
       "      <td>Kat Likkel</td>\n",
       "      <td>2</td>\n",
       "    </tr>\n",
       "    <tr>\n",
       "      <th>53</th>\n",
       "      <td>Julia Cho</td>\n",
       "      <td>2</td>\n",
       "    </tr>\n",
       "    <tr>\n",
       "      <th>36</th>\n",
       "      <td>Jeff Danna</td>\n",
       "      <td>2</td>\n",
       "    </tr>\n",
       "    <tr>\n",
       "      <th>50</th>\n",
       "      <td>Jorgen Klubien</td>\n",
       "      <td>2</td>\n",
       "    </tr>\n",
       "  </tbody>\n",
       "</table>\n",
       "</div>"
      ],
      "text/plain": [
       "                 name  film_count\n",
       "3      Andrew Stanton          20\n",
       "76        Pete Docter          14\n",
       "46      John Lasseter          13\n",
       "81       Randy Newman           9\n",
       "11          Brad Bird           9\n",
       "71  Michael Giacchino           8\n",
       "62        Lee Unkrich           7\n",
       "18        Dan Scanlon           6\n",
       "65       Mark Andrews           6\n",
       "8        Bob Peterson           6\n",
       "69        Meg LeFauve           5\n",
       "20  Darla K. Anderson           5\n",
       "38      Jesse Andrews           5\n",
       "43          Joe Ranft           5\n",
       "77         Peter Sohn           4\n",
       "34      Jason Headley           4\n",
       "4       Angus MacLane           4\n",
       "88      Thomas Newman           4\n",
       "68    Matthew Aldrich           3\n",
       "48       Jonas Rivera           3\n",
       "58        Kemp Powers           3\n",
       "57        Kelsey Mann           3\n",
       "51        Josh Cooley           3\n",
       "0       Adrian Molina           3\n",
       "17         Dan Gerson           3\n",
       "12         Brad Lewis           3\n",
       "25          Domee Shi           3\n",
       "24        Denise Ream           3\n",
       "66       Mark Nielsen           2\n",
       "87    Stephany Folsom           2\n",
       "84    Robert L. Baird           2\n",
       "5         Ash Brannon           2\n",
       "7           Ben Queen           2\n",
       "74            Mychael           2\n",
       "72         Mike Jones           2\n",
       "13       Brenda Hsueh           2\n",
       "14          Brian Fee           2\n",
       "16       Dan Fogelman           2\n",
       "47        John Walker           2\n",
       "45        John Hoberg           2\n",
       "63    Lindsey Collins           2\n",
       "61           Kori Rae           2\n",
       "60        Kiel Murray           2\n",
       "59        Kevin Reher           2\n",
       "33        Jan Pinkava           2\n",
       "56        Keith Bunin           2\n",
       "55         Kat Likkel           2\n",
       "53          Julia Cho           2\n",
       "36         Jeff Danna           2\n",
       "50     Jorgen Klubien           2"
      ]
     },
     "execution_count": 110,
     "metadata": {},
     "output_type": "execute_result"
    }
   ],
   "source": [
    "film_per_person =  people_df.groupby(\"name\", as_index = False)[[\"film\"]].count().rename(columns = {\"film\" : \"film_count\"})\n",
    "film_per_person = film_per_person[film_per_person.film_count > 1].sort_values(\"film_count\", ascending = False)\n",
    "\n",
    "# View the Result\n",
    "film_per_person"
   ]
  },
  {
   "cell_type": "markdown",
   "id": "92cdc3ca-1a2e-4b5f-8929-939dbbdeaa34",
   "metadata": {},
   "source": [
    "Andrew Stanton, Pete Docter, and John Lasseter are the top contributors, working on 20, 14, and 13 films respectively."
   ]
  },
  {
   "cell_type": "code",
   "execution_count": 112,
   "id": "b9e6f817-e67a-409c-9c95-344ee8700d5a",
   "metadata": {},
   "outputs": [
    {
     "data": {
      "text/plain": [
       "<Figure size 1000x800 with 0 Axes>"
      ]
     },
     "execution_count": 112,
     "metadata": {},
     "output_type": "execute_result"
    },
    {
     "data": {
      "text/plain": [
       "<BarContainer object of 5 artists>"
      ]
     },
     "execution_count": 112,
     "metadata": {},
     "output_type": "execute_result"
    },
    {
     "data": {
      "text/plain": [
       "Text(0.5, 0, 'Name of the Contributors')"
      ]
     },
     "execution_count": 112,
     "metadata": {},
     "output_type": "execute_result"
    },
    {
     "data": {
      "text/plain": [
       "Text(0, 0.5, 'Number of Films')"
      ]
     },
     "execution_count": 112,
     "metadata": {},
     "output_type": "execute_result"
    },
    {
     "data": {
      "text/plain": [
       "Text(0.5, 1.0, 'Top 5 Contributors Across Multiple Films')"
      ]
     },
     "execution_count": 112,
     "metadata": {},
     "output_type": "execute_result"
    },
    {
     "data": {
      "image/png": "[encoded data removed]",
      "text/plain": [
       "<Figure size 1000x800 with 1 Axes>"
      ]
     },
     "metadata": {},
     "output_type": "display_data"
    }
   ],
   "source": [
    "top_5_contributors = film_per_person.head()\n",
    "\n",
    "# Visualize\n",
    "plt.figure(figsize = (10,8))\n",
    "plt.bar(top_5_contributors['name'], top_5_contributors['film_count'], color = \"lightblue\")\n",
    "plt.xlabel(\"Name of the Contributors\")\n",
    "plt.ylabel(\"Number of Films\")\n",
    "plt.title(\"Top 5 Contributors Across Multiple Films\")\n",
    "plt.tight_layout()\n",
    "plt.show()"
   ]
  },
  {
   "cell_type": "markdown",
   "id": "91a94e70-22d7-40f6-9d2b-7700c448f7f2",
   "metadata": {},
   "source": [
    "<font color = \"blue\">How many contributors are associated with each film?</font>"
   ]
  },
  {
   "cell_type": "code",
   "execution_count": 114,
   "id": "85aea5a9-a4e4-4d1b-bbdf-d2461d6cb1e0",
   "metadata": {},
   "outputs": [
    {
     "data": {
      "text/html": [
       "<div>\n",
       "<style scoped>\n",
       "    .dataframe tbody tr th:only-of-type {\n",
       "        vertical-align: middle;\n",
       "    }\n",
       "\n",
       "    .dataframe tbody tr th {\n",
       "        vertical-align: top;\n",
       "    }\n",
       "\n",
       "    .dataframe thead th {\n",
       "        text-align: right;\n",
       "    }\n",
       "</style>\n",
       "<table border=\"1\" class=\"dataframe\">\n",
       "  <thead>\n",
       "    <tr style=\"text-align: right;\">\n",
       "      <th></th>\n",
       "      <th>film</th>\n",
       "      <th>num_of_contributors</th>\n",
       "    </tr>\n",
       "  </thead>\n",
       "  <tbody>\n",
       "    <tr>\n",
       "      <th>24</th>\n",
       "      <td>Toy Story 4</td>\n",
       "      <td>11</td>\n",
       "    </tr>\n",
       "    <tr>\n",
       "      <th>22</th>\n",
       "      <td>Toy Story 2</td>\n",
       "      <td>11</td>\n",
       "    </tr>\n",
       "    <tr>\n",
       "      <th>15</th>\n",
       "      <td>Monsters, Inc.</td>\n",
       "      <td>10</td>\n",
       "    </tr>\n",
       "    <tr>\n",
       "      <th>21</th>\n",
       "      <td>Toy Story</td>\n",
       "      <td>10</td>\n",
       "    </tr>\n",
       "    <tr>\n",
       "      <th>4</th>\n",
       "      <td>Cars 3</td>\n",
       "      <td>9</td>\n",
       "    </tr>\n",
       "    <tr>\n",
       "      <th>0</th>\n",
       "      <td>A Bug's Life</td>\n",
       "      <td>8</td>\n",
       "    </tr>\n",
       "    <tr>\n",
       "      <th>19</th>\n",
       "      <td>The Good Dinosaur</td>\n",
       "      <td>8</td>\n",
       "    </tr>\n",
       "    <tr>\n",
       "      <th>2</th>\n",
       "      <td>Cars</td>\n",
       "      <td>8</td>\n",
       "    </tr>\n",
       "    <tr>\n",
       "      <th>10</th>\n",
       "      <td>Inside Out</td>\n",
       "      <td>7</td>\n",
       "    </tr>\n",
       "    <tr>\n",
       "      <th>8</th>\n",
       "      <td>Finding Nemo</td>\n",
       "      <td>6</td>\n",
       "    </tr>\n",
       "    <tr>\n",
       "      <th>18</th>\n",
       "      <td>Soul</td>\n",
       "      <td>6</td>\n",
       "    </tr>\n",
       "    <tr>\n",
       "      <th>6</th>\n",
       "      <td>Elemental</td>\n",
       "      <td>6</td>\n",
       "    </tr>\n",
       "    <tr>\n",
       "      <th>23</th>\n",
       "      <td>Toy Story 3</td>\n",
       "      <td>6</td>\n",
       "    </tr>\n",
       "    <tr>\n",
       "      <th>5</th>\n",
       "      <td>Coco</td>\n",
       "      <td>6</td>\n",
       "    </tr>\n",
       "    <tr>\n",
       "      <th>3</th>\n",
       "      <td>Cars 2</td>\n",
       "      <td>6</td>\n",
       "    </tr>\n",
       "    <tr>\n",
       "      <th>16</th>\n",
       "      <td>Onward</td>\n",
       "      <td>6</td>\n",
       "    </tr>\n",
       "    <tr>\n",
       "      <th>26</th>\n",
       "      <td>Up</td>\n",
       "      <td>5</td>\n",
       "    </tr>\n",
       "    <tr>\n",
       "      <th>25</th>\n",
       "      <td>Turning Red</td>\n",
       "      <td>5</td>\n",
       "    </tr>\n",
       "    <tr>\n",
       "      <th>14</th>\n",
       "      <td>Monsters University</td>\n",
       "      <td>5</td>\n",
       "    </tr>\n",
       "    <tr>\n",
       "      <th>17</th>\n",
       "      <td>Ratatouille</td>\n",
       "      <td>5</td>\n",
       "    </tr>\n",
       "    <tr>\n",
       "      <th>12</th>\n",
       "      <td>Lightyear</td>\n",
       "      <td>5</td>\n",
       "    </tr>\n",
       "    <tr>\n",
       "      <th>11</th>\n",
       "      <td>Inside Out 2</td>\n",
       "      <td>5</td>\n",
       "    </tr>\n",
       "    <tr>\n",
       "      <th>7</th>\n",
       "      <td>Finding Dory</td>\n",
       "      <td>5</td>\n",
       "    </tr>\n",
       "    <tr>\n",
       "      <th>27</th>\n",
       "      <td>WALL-E</td>\n",
       "      <td>5</td>\n",
       "    </tr>\n",
       "    <tr>\n",
       "      <th>9</th>\n",
       "      <td>Incredibles 2</td>\n",
       "      <td>4</td>\n",
       "    </tr>\n",
       "    <tr>\n",
       "      <th>20</th>\n",
       "      <td>The Incredibles</td>\n",
       "      <td>3</td>\n",
       "    </tr>\n",
       "    <tr>\n",
       "      <th>1</th>\n",
       "      <td>Brave</td>\n",
       "      <td>1</td>\n",
       "    </tr>\n",
       "    <tr>\n",
       "      <th>13</th>\n",
       "      <td>Luca</td>\n",
       "      <td>1</td>\n",
       "    </tr>\n",
       "  </tbody>\n",
       "</table>\n",
       "</div>"
      ],
      "text/plain": [
       "                   film  num_of_contributors\n",
       "24          Toy Story 4                   11\n",
       "22          Toy Story 2                   11\n",
       "15       Monsters, Inc.                   10\n",
       "21            Toy Story                   10\n",
       "4                Cars 3                    9\n",
       "0          A Bug's Life                    8\n",
       "19    The Good Dinosaur                    8\n",
       "2                  Cars                    8\n",
       "10           Inside Out                    7\n",
       "8          Finding Nemo                    6\n",
       "18                 Soul                    6\n",
       "6             Elemental                    6\n",
       "23          Toy Story 3                    6\n",
       "5                  Coco                    6\n",
       "3                Cars 2                    6\n",
       "16               Onward                    6\n",
       "26                   Up                    5\n",
       "25          Turning Red                    5\n",
       "14  Monsters University                    5\n",
       "17          Ratatouille                    5\n",
       "12            Lightyear                    5\n",
       "11         Inside Out 2                    5\n",
       "7          Finding Dory                    5\n",
       "27               WALL-E                    5\n",
       "9         Incredibles 2                    4\n",
       "20      The Incredibles                    3\n",
       "1                 Brave                    1\n",
       "13                 Luca                    1"
      ]
     },
     "execution_count": 114,
     "metadata": {},
     "output_type": "execute_result"
    }
   ],
   "source": [
    "people_df.groupby(\"film\", as_index = False)[[\"name\"]].nunique().rename(columns = {\"name\" : \"num_of_contributors\"})\\\n",
    ".sort_values(\"num_of_contributors\", ascending = False)"
   ]
  },
  {
   "cell_type": "code",
   "execution_count": 115,
   "id": "9af553f6-422c-4cb9-be44-a73b841c32fe",
   "metadata": {},
   "outputs": [
    {
     "data": {
      "text/plain": [
       "<Figure size 1000x800 with 0 Axes>"
      ]
     },
     "execution_count": 115,
     "metadata": {},
     "output_type": "execute_result"
    },
    {
     "data": {
      "text/plain": [
       "<BarContainer object of 5 artists>"
      ]
     },
     "execution_count": 115,
     "metadata": {},
     "output_type": "execute_result"
    },
    {
     "data": {
      "text/plain": [
       "Text(0, 0.5, 'Films')"
      ]
     },
     "execution_count": 115,
     "metadata": {},
     "output_type": "execute_result"
    },
    {
     "data": {
      "text/plain": [
       "Text(0.5, 0, 'Number of Crew')"
      ]
     },
     "execution_count": 115,
     "metadata": {},
     "output_type": "execute_result"
    },
    {
     "data": {
      "text/plain": [
       "Text(0.5, 1.0, 'Top 5 Films by Crew Size')"
      ]
     },
     "execution_count": 115,
     "metadata": {},
     "output_type": "execute_result"
    },
    {
     "data": {
      "image/png": "[encoded data removed]",
      "text/plain": [
       "<Figure size 1000x800 with 1 Axes>"
      ]
     },
     "metadata": {},
     "output_type": "display_data"
    }
   ],
   "source": [
    "crew_per_films = people_df.groupby(\"film\", as_index = False)[[\"name\"]].nunique().rename(columns = {\"name\" : \"num_of_contributors\"})\\\n",
    ".sort_values(\"num_of_contributors\", ascending = False)\n",
    "\n",
    "top_5_crew = crew_per_films.head()\n",
    "\n",
    "# Visualize\n",
    "plt.figure(figsize = (10,8))\n",
    "plt.barh(top_5_crew['film'], top_5_crew['num_of_contributors'], color = \"purple\")\n",
    "plt.ylabel(\"Films\")\n",
    "plt.xlabel(\"Number of Crew\")\n",
    "plt.title(\"Top 5 Films by Crew Size\")\n",
    "plt.tight_layout()\n",
    "plt.show()"
   ]
  },
  {
   "cell_type": "markdown",
   "id": "469a6f7f-f711-449d-bbb5-d16cc8073f37",
   "metadata": {},
   "source": [
    "<font color = \"blue\">Are there people who consistently served in the same role across different films?</font>"
   ]
  },
  {
   "cell_type": "code",
   "execution_count": 117,
   "id": "8d055cae-7e1e-4370-a948-e0f3a1d0d34e",
   "metadata": {},
   "outputs": [
    {
     "data": {
      "text/html": [
       "<div>\n",
       "<style scoped>\n",
       "    .dataframe tbody tr th:only-of-type {\n",
       "        vertical-align: middle;\n",
       "    }\n",
       "\n",
       "    .dataframe tbody tr th {\n",
       "        vertical-align: top;\n",
       "    }\n",
       "\n",
       "    .dataframe thead th {\n",
       "        text-align: right;\n",
       "    }\n",
       "</style>\n",
       "<table border=\"1\" class=\"dataframe\">\n",
       "  <thead>\n",
       "    <tr style=\"text-align: right;\">\n",
       "      <th></th>\n",
       "      <th>name</th>\n",
       "      <th>role_type</th>\n",
       "      <th>film_count</th>\n",
       "    </tr>\n",
       "  </thead>\n",
       "  <tbody>\n",
       "    <tr>\n",
       "      <th>47</th>\n",
       "      <td>Randy Newman</td>\n",
       "      <td>Musician</td>\n",
       "      <td>9</td>\n",
       "    </tr>\n",
       "    <tr>\n",
       "      <th>40</th>\n",
       "      <td>Michael Giacchino</td>\n",
       "      <td>Musician</td>\n",
       "      <td>8</td>\n",
       "    </tr>\n",
       "    <tr>\n",
       "      <th>7</th>\n",
       "      <td>Darla K. Anderson</td>\n",
       "      <td>Producer</td>\n",
       "      <td>5</td>\n",
       "    </tr>\n",
       "    <tr>\n",
       "      <th>52</th>\n",
       "      <td>Thomas Newman</td>\n",
       "      <td>Musician</td>\n",
       "      <td>4</td>\n",
       "    </tr>\n",
       "    <tr>\n",
       "      <th>28</th>\n",
       "      <td>Jonas Rivera</td>\n",
       "      <td>Producer</td>\n",
       "      <td>3</td>\n",
       "    </tr>\n",
       "    <tr>\n",
       "      <th>11</th>\n",
       "      <td>Denise Ream</td>\n",
       "      <td>Producer</td>\n",
       "      <td>3</td>\n",
       "    </tr>\n",
       "    <tr>\n",
       "      <th>33</th>\n",
       "      <td>Kiel Murray</td>\n",
       "      <td>Screenwriter</td>\n",
       "      <td>2</td>\n",
       "    </tr>\n",
       "    <tr>\n",
       "      <th>42</th>\n",
       "      <td>Mychael</td>\n",
       "      <td>Musician</td>\n",
       "      <td>2</td>\n",
       "    </tr>\n",
       "    <tr>\n",
       "      <th>32</th>\n",
       "      <td>Kevin Reher</td>\n",
       "      <td>Producer</td>\n",
       "      <td>2</td>\n",
       "    </tr>\n",
       "    <tr>\n",
       "      <th>37</th>\n",
       "      <td>Mark Nielsen</td>\n",
       "      <td>Producer</td>\n",
       "      <td>2</td>\n",
       "    </tr>\n",
       "    <tr>\n",
       "      <th>27</th>\n",
       "      <td>John Walker</td>\n",
       "      <td>Producer</td>\n",
       "      <td>2</td>\n",
       "    </tr>\n",
       "    <tr>\n",
       "      <th>35</th>\n",
       "      <td>Lindsey Collins</td>\n",
       "      <td>Producer</td>\n",
       "      <td>2</td>\n",
       "    </tr>\n",
       "    <tr>\n",
       "      <th>34</th>\n",
       "      <td>Kori Rae</td>\n",
       "      <td>Producer</td>\n",
       "      <td>2</td>\n",
       "    </tr>\n",
       "    <tr>\n",
       "      <th>20</th>\n",
       "      <td>Jeff Danna</td>\n",
       "      <td>Musician</td>\n",
       "      <td>2</td>\n",
       "    </tr>\n",
       "    <tr>\n",
       "      <th>38</th>\n",
       "      <td>Martin Hynes</td>\n",
       "      <td>Storywriter</td>\n",
       "      <td>1</td>\n",
       "    </tr>\n",
       "    <tr>\n",
       "      <th>36</th>\n",
       "      <td>Ludwig Göransson</td>\n",
       "      <td>Musician</td>\n",
       "      <td>1</td>\n",
       "    </tr>\n",
       "    <tr>\n",
       "      <th>39</th>\n",
       "      <td>Michael Arndt</td>\n",
       "      <td>Screenwriter</td>\n",
       "      <td>1</td>\n",
       "    </tr>\n",
       "    <tr>\n",
       "      <th>41</th>\n",
       "      <td>Mike Rich</td>\n",
       "      <td>Screenwriter</td>\n",
       "      <td>1</td>\n",
       "    </tr>\n",
       "    <tr>\n",
       "      <th>0</th>\n",
       "      <td>Alec Sokolow</td>\n",
       "      <td>Screenwriter</td>\n",
       "      <td>1</td>\n",
       "    </tr>\n",
       "    <tr>\n",
       "      <th>43</th>\n",
       "      <td>Nicole Paradis Grindle</td>\n",
       "      <td>Producer</td>\n",
       "      <td>1</td>\n",
       "    </tr>\n",
       "    <tr>\n",
       "      <th>44</th>\n",
       "      <td>Phil Lorin</td>\n",
       "      <td>Screenwriter</td>\n",
       "      <td>1</td>\n",
       "    </tr>\n",
       "    <tr>\n",
       "      <th>46</th>\n",
       "      <td>Ralph Guggenheim</td>\n",
       "      <td>Producer</td>\n",
       "      <td>1</td>\n",
       "    </tr>\n",
       "    <tr>\n",
       "      <th>48</th>\n",
       "      <td>Rashida Jones</td>\n",
       "      <td>Storywriter</td>\n",
       "      <td>1</td>\n",
       "    </tr>\n",
       "    <tr>\n",
       "      <th>49</th>\n",
       "      <td>Rita Hsiao</td>\n",
       "      <td>Screenwriter</td>\n",
       "      <td>1</td>\n",
       "    </tr>\n",
       "    <tr>\n",
       "      <th>50</th>\n",
       "      <td>Ronnie del Carmen</td>\n",
       "      <td>Co-director</td>\n",
       "      <td>1</td>\n",
       "    </tr>\n",
       "    <tr>\n",
       "      <th>51</th>\n",
       "      <td>Sarah Streicher</td>\n",
       "      <td>Storywriter</td>\n",
       "      <td>1</td>\n",
       "    </tr>\n",
       "    <tr>\n",
       "      <th>53</th>\n",
       "      <td>Tom McCarthy</td>\n",
       "      <td>Storywriter</td>\n",
       "      <td>1</td>\n",
       "    </tr>\n",
       "    <tr>\n",
       "      <th>54</th>\n",
       "      <td>Trent Reznor</td>\n",
       "      <td>Musician</td>\n",
       "      <td>1</td>\n",
       "    </tr>\n",
       "    <tr>\n",
       "      <th>55</th>\n",
       "      <td>Valerie LaPointe</td>\n",
       "      <td>Storywriter</td>\n",
       "      <td>1</td>\n",
       "    </tr>\n",
       "    <tr>\n",
       "      <th>56</th>\n",
       "      <td>Victoria Strouse</td>\n",
       "      <td>Screenwriter</td>\n",
       "      <td>1</td>\n",
       "    </tr>\n",
       "    <tr>\n",
       "      <th>57</th>\n",
       "      <td>Will McCormack</td>\n",
       "      <td>Storywriter</td>\n",
       "      <td>1</td>\n",
       "    </tr>\n",
       "    <tr>\n",
       "      <th>45</th>\n",
       "      <td>Ralph Eggleston</td>\n",
       "      <td>Storywriter</td>\n",
       "      <td>1</td>\n",
       "    </tr>\n",
       "    <tr>\n",
       "      <th>29</th>\n",
       "      <td>Jonathan E. Stewart</td>\n",
       "      <td>Storywriter</td>\n",
       "      <td>1</td>\n",
       "    </tr>\n",
       "    <tr>\n",
       "      <th>31</th>\n",
       "      <td>Karen Robert Jackson</td>\n",
       "      <td>Producer</td>\n",
       "      <td>1</td>\n",
       "    </tr>\n",
       "    <tr>\n",
       "      <th>30</th>\n",
       "      <td>Joss Whedon</td>\n",
       "      <td>Screenwriter</td>\n",
       "      <td>1</td>\n",
       "    </tr>\n",
       "    <tr>\n",
       "      <th>2</th>\n",
       "      <td>Atticus Ross</td>\n",
       "      <td>Musician</td>\n",
       "      <td>1</td>\n",
       "    </tr>\n",
       "    <tr>\n",
       "      <th>3</th>\n",
       "      <td>Bob Shaw</td>\n",
       "      <td>Screenwriter</td>\n",
       "      <td>1</td>\n",
       "    </tr>\n",
       "    <tr>\n",
       "      <th>4</th>\n",
       "      <td>Bonnie Arnold</td>\n",
       "      <td>Producer</td>\n",
       "      <td>1</td>\n",
       "    </tr>\n",
       "    <tr>\n",
       "      <th>5</th>\n",
       "      <td>Chris Webb</td>\n",
       "      <td>Screenwriter</td>\n",
       "      <td>1</td>\n",
       "    </tr>\n",
       "    <tr>\n",
       "      <th>6</th>\n",
       "      <td>Dana Murray</td>\n",
       "      <td>Producer</td>\n",
       "      <td>1</td>\n",
       "    </tr>\n",
       "    <tr>\n",
       "      <th>8</th>\n",
       "      <td>Dave Holstein</td>\n",
       "      <td>Screenwriter</td>\n",
       "      <td>1</td>\n",
       "    </tr>\n",
       "    <tr>\n",
       "      <th>9</th>\n",
       "      <td>David Reynolds</td>\n",
       "      <td>Screenwriter</td>\n",
       "      <td>1</td>\n",
       "    </tr>\n",
       "    <tr>\n",
       "      <th>10</th>\n",
       "      <td>David Silverman</td>\n",
       "      <td>Co-director</td>\n",
       "      <td>1</td>\n",
       "    </tr>\n",
       "    <tr>\n",
       "      <th>12</th>\n",
       "      <td>Donald McEnery</td>\n",
       "      <td>Screenwriter</td>\n",
       "      <td>1</td>\n",
       "    </tr>\n",
       "    <tr>\n",
       "      <th>13</th>\n",
       "      <td>Doug Chamberlin</td>\n",
       "      <td>Screenwriter</td>\n",
       "      <td>1</td>\n",
       "    </tr>\n",
       "    <tr>\n",
       "      <th>14</th>\n",
       "      <td>Erik Benson</td>\n",
       "      <td>Storywriter</td>\n",
       "      <td>1</td>\n",
       "    </tr>\n",
       "    <tr>\n",
       "      <th>15</th>\n",
       "      <td>Eyal Podell</td>\n",
       "      <td>Storywriter</td>\n",
       "      <td>1</td>\n",
       "    </tr>\n",
       "    <tr>\n",
       "      <th>16</th>\n",
       "      <td>Galyn Susman</td>\n",
       "      <td>Producer</td>\n",
       "      <td>1</td>\n",
       "    </tr>\n",
       "    <tr>\n",
       "      <th>17</th>\n",
       "      <td>Graham Walters</td>\n",
       "      <td>Producer</td>\n",
       "      <td>1</td>\n",
       "    </tr>\n",
       "    <tr>\n",
       "      <th>18</th>\n",
       "      <td>Helene Plotkin</td>\n",
       "      <td>Producer</td>\n",
       "      <td>1</td>\n",
       "    </tr>\n",
       "    <tr>\n",
       "      <th>19</th>\n",
       "      <td>Jason Katz</td>\n",
       "      <td>Storywriter</td>\n",
       "      <td>1</td>\n",
       "    </tr>\n",
       "    <tr>\n",
       "      <th>21</th>\n",
       "      <td>Jeff Pidgeon</td>\n",
       "      <td>Storywriter</td>\n",
       "      <td>1</td>\n",
       "    </tr>\n",
       "    <tr>\n",
       "      <th>22</th>\n",
       "      <td>Jill Culton</td>\n",
       "      <td>Storywriter</td>\n",
       "      <td>1</td>\n",
       "    </tr>\n",
       "    <tr>\n",
       "      <th>23</th>\n",
       "      <td>Jim Capobianco</td>\n",
       "      <td>Storywriter</td>\n",
       "      <td>1</td>\n",
       "    </tr>\n",
       "    <tr>\n",
       "      <th>24</th>\n",
       "      <td>Jim Morris</td>\n",
       "      <td>Producer</td>\n",
       "      <td>1</td>\n",
       "    </tr>\n",
       "    <tr>\n",
       "      <th>25</th>\n",
       "      <td>Jim Reardon</td>\n",
       "      <td>Screenwriter</td>\n",
       "      <td>1</td>\n",
       "    </tr>\n",
       "    <tr>\n",
       "      <th>26</th>\n",
       "      <td>Joel Cohen</td>\n",
       "      <td>Screenwriter</td>\n",
       "      <td>1</td>\n",
       "    </tr>\n",
       "    <tr>\n",
       "      <th>1</th>\n",
       "      <td>Andrea Datzman</td>\n",
       "      <td>Musician</td>\n",
       "      <td>1</td>\n",
       "    </tr>\n",
       "    <tr>\n",
       "      <th>58</th>\n",
       "      <td>del Carmen</td>\n",
       "      <td>Storywriter</td>\n",
       "      <td>1</td>\n",
       "    </tr>\n",
       "  </tbody>\n",
       "</table>\n",
       "</div>"
      ],
      "text/plain": [
       "                      name     role_type  film_count\n",
       "47            Randy Newman      Musician           9\n",
       "40       Michael Giacchino      Musician           8\n",
       "7        Darla K. Anderson      Producer           5\n",
       "52           Thomas Newman      Musician           4\n",
       "28            Jonas Rivera      Producer           3\n",
       "11             Denise Ream      Producer           3\n",
       "33             Kiel Murray  Screenwriter           2\n",
       "42                 Mychael      Musician           2\n",
       "32             Kevin Reher      Producer           2\n",
       "37            Mark Nielsen      Producer           2\n",
       "27             John Walker      Producer           2\n",
       "35         Lindsey Collins      Producer           2\n",
       "34                Kori Rae      Producer           2\n",
       "20              Jeff Danna      Musician           2\n",
       "38            Martin Hynes   Storywriter           1\n",
       "36        Ludwig Göransson      Musician           1\n",
       "39           Michael Arndt  Screenwriter           1\n",
       "41               Mike Rich  Screenwriter           1\n",
       "0             Alec Sokolow  Screenwriter           1\n",
       "43  Nicole Paradis Grindle      Producer           1\n",
       "44              Phil Lorin  Screenwriter           1\n",
       "46        Ralph Guggenheim      Producer           1\n",
       "48           Rashida Jones   Storywriter           1\n",
       "49              Rita Hsiao  Screenwriter           1\n",
       "50       Ronnie del Carmen   Co-director           1\n",
       "51         Sarah Streicher   Storywriter           1\n",
       "53            Tom McCarthy   Storywriter           1\n",
       "54            Trent Reznor      Musician           1\n",
       "55        Valerie LaPointe   Storywriter           1\n",
       "56        Victoria Strouse  Screenwriter           1\n",
       "57          Will McCormack   Storywriter           1\n",
       "45         Ralph Eggleston   Storywriter           1\n",
       "29     Jonathan E. Stewart   Storywriter           1\n",
       "31    Karen Robert Jackson      Producer           1\n",
       "30             Joss Whedon  Screenwriter           1\n",
       "2             Atticus Ross      Musician           1\n",
       "3                 Bob Shaw  Screenwriter           1\n",
       "4            Bonnie Arnold      Producer           1\n",
       "5               Chris Webb  Screenwriter           1\n",
       "6              Dana Murray      Producer           1\n",
       "8            Dave Holstein  Screenwriter           1\n",
       "9           David Reynolds  Screenwriter           1\n",
       "10         David Silverman   Co-director           1\n",
       "12          Donald McEnery  Screenwriter           1\n",
       "13         Doug Chamberlin  Screenwriter           1\n",
       "14             Erik Benson   Storywriter           1\n",
       "15             Eyal Podell   Storywriter           1\n",
       "16            Galyn Susman      Producer           1\n",
       "17          Graham Walters      Producer           1\n",
       "18          Helene Plotkin      Producer           1\n",
       "19              Jason Katz   Storywriter           1\n",
       "21            Jeff Pidgeon   Storywriter           1\n",
       "22             Jill Culton   Storywriter           1\n",
       "23          Jim Capobianco   Storywriter           1\n",
       "24              Jim Morris      Producer           1\n",
       "25             Jim Reardon  Screenwriter           1\n",
       "26              Joel Cohen  Screenwriter           1\n",
       "1           Andrea Datzman      Musician           1\n",
       "58              del Carmen   Storywriter           1"
      ]
     },
     "execution_count": 117,
     "metadata": {},
     "output_type": "execute_result"
    }
   ],
   "source": [
    "role_counts = people_df.groupby(\"name\", as_index = False)[[\"role_type\"]].nunique().rename(columns = {\"role_type\" : \"unique_roles\"})\n",
    "\n",
    "# Filter Unique Roles (1)\n",
    "same_role = role_counts[role_counts.unique_roles == 1]\n",
    "\n",
    "# View the role types\n",
    "role_result = people_df.merge(same_role[[\"name\"]], on = \"name\")\n",
    "\n",
    "# Count how many films each person with consistent role worked on\n",
    "role_result.groupby([\"name\", \"role_type\"], as_index = False)[[\"film\"]].nunique().rename(columns = {\"film\" : \"film_count\"}).\\\n",
    "sort_values(\"film_count\", ascending = False)"
   ]
  },
  {
   "cell_type": "markdown",
   "id": "19a4aaf3-04f4-4fbb-9e3d-30b87516ec88",
   "metadata": {},
   "source": [
    "<font color = \"blue\">Which contributors had both Director and Producer roles?</font>"
   ]
  },
  {
   "cell_type": "code",
   "execution_count": 119,
   "id": "cfcb7e5f-910b-4720-9495-d111d1ecd87e",
   "metadata": {},
   "outputs": [
    {
     "data": {
      "text/html": [
       "<div>\n",
       "<style scoped>\n",
       "    .dataframe tbody tr th:only-of-type {\n",
       "        vertical-align: middle;\n",
       "    }\n",
       "\n",
       "    .dataframe tbody tr th {\n",
       "        vertical-align: top;\n",
       "    }\n",
       "\n",
       "    .dataframe thead th {\n",
       "        text-align: right;\n",
       "    }\n",
       "</style>\n",
       "<table border=\"1\" class=\"dataframe\">\n",
       "  <thead>\n",
       "    <tr style=\"text-align: right;\">\n",
       "      <th></th>\n",
       "      <th>film</th>\n",
       "      <th>role_type</th>\n",
       "      <th>name</th>\n",
       "    </tr>\n",
       "  </thead>\n",
       "  <tbody>\n",
       "    <tr>\n",
       "      <th>77</th>\n",
       "      <td>Ratatouille</td>\n",
       "      <td>Producer</td>\n",
       "      <td>Brad Lewis</td>\n",
       "    </tr>\n",
       "    <tr>\n",
       "      <th>105</th>\n",
       "      <td>Cars 2</td>\n",
       "      <td>Co-director</td>\n",
       "      <td>Brad Lewis</td>\n",
       "    </tr>\n",
       "    <tr>\n",
       "      <th>219</th>\n",
       "      <td>Luca</td>\n",
       "      <td>Director</td>\n",
       "      <td>Jesse Andrews</td>\n",
       "    </tr>\n",
       "    <tr>\n",
       "      <th>221</th>\n",
       "      <td>Luca</td>\n",
       "      <td>Producer</td>\n",
       "      <td>Jesse Andrews</td>\n",
       "    </tr>\n",
       "    <tr>\n",
       "      <th>113</th>\n",
       "      <td>Brave</td>\n",
       "      <td>Co-director</td>\n",
       "      <td>Mark Andrews</td>\n",
       "    </tr>\n",
       "    <tr>\n",
       "      <th>114</th>\n",
       "      <td>Brave</td>\n",
       "      <td>Director</td>\n",
       "      <td>Mark Andrews</td>\n",
       "    </tr>\n",
       "    <tr>\n",
       "      <th>117</th>\n",
       "      <td>Brave</td>\n",
       "      <td>Producer</td>\n",
       "      <td>Mark Andrews</td>\n",
       "    </tr>\n",
       "  </tbody>\n",
       "</table>\n",
       "</div>"
      ],
      "text/plain": [
       "            film    role_type           name\n",
       "77   Ratatouille     Producer     Brad Lewis\n",
       "105       Cars 2  Co-director     Brad Lewis\n",
       "219         Luca     Director  Jesse Andrews\n",
       "221         Luca     Producer  Jesse Andrews\n",
       "113        Brave  Co-director   Mark Andrews\n",
       "114        Brave     Director   Mark Andrews\n",
       "117        Brave     Producer   Mark Andrews"
      ]
     },
     "execution_count": 119,
     "metadata": {},
     "output_type": "execute_result"
    }
   ],
   "source": [
    "direction_roles = [\"Director\", \"Co-director\"]\n",
    "production_roles = [\"Producer\"]\n",
    "target_roles = direction_roles + production_roles\n",
    "\n",
    "direction_crew = people_df[people_df[\"role_type\"].isin(direction_roles)][\"name\"].unique()\n",
    "production_crew = people_df[people_df[\"role_type\"].isin(production_roles)][\"name\"].unique()\n",
    "\n",
    "combine_roles = set(direction_crew) & set(production_crew)\n",
    "\n",
    "people_df[people_df[\"name\"].isin(combine_roles) & (people_df[\"role_type\"].isin(target_roles))].\\\n",
    "sort_values(\"name\").drop_duplicates(subset = [\"name\", \"role_type\"])"
   ]
  },
  {
   "cell_type": "markdown",
   "id": "e44b0949-ae4e-4011-922e-1eb30125e265",
   "metadata": {},
   "source": [
    "<font color = \"blue\">Which films had multiple people serving the same role (e.g., more than one Producer)?</font>"
   ]
  },
  {
   "cell_type": "code",
   "execution_count": 121,
   "id": "735b1024-b7b7-4768-90e9-299b32b695a4",
   "metadata": {},
   "outputs": [
    {
     "data": {
      "text/html": [
       "<div>\n",
       "<style scoped>\n",
       "    .dataframe tbody tr th:only-of-type {\n",
       "        vertical-align: middle;\n",
       "    }\n",
       "\n",
       "    .dataframe tbody tr th {\n",
       "        vertical-align: top;\n",
       "    }\n",
       "\n",
       "    .dataframe thead th {\n",
       "        text-align: right;\n",
       "    }\n",
       "</style>\n",
       "<table border=\"1\" class=\"dataframe\">\n",
       "  <thead>\n",
       "    <tr style=\"text-align: right;\">\n",
       "      <th></th>\n",
       "      <th>film</th>\n",
       "      <th>role_type</th>\n",
       "      <th>num_of_crew</th>\n",
       "    </tr>\n",
       "  </thead>\n",
       "  <tbody>\n",
       "    <tr>\n",
       "      <th>136</th>\n",
       "      <td>Toy Story 4</td>\n",
       "      <td>Storywriter</td>\n",
       "      <td>8</td>\n",
       "    </tr>\n",
       "    <tr>\n",
       "      <th>16</th>\n",
       "      <td>Cars</td>\n",
       "      <td>Screenwriter</td>\n",
       "      <td>6</td>\n",
       "    </tr>\n",
       "    <tr>\n",
       "      <th>110</th>\n",
       "      <td>The Good Dinosaur</td>\n",
       "      <td>Storywriter</td>\n",
       "      <td>5</td>\n",
       "    </tr>\n",
       "    <tr>\n",
       "      <th>28</th>\n",
       "      <td>Cars 3</td>\n",
       "      <td>Storywriter</td>\n",
       "      <td>4</td>\n",
       "    </tr>\n",
       "    <tr>\n",
       "      <th>34</th>\n",
       "      <td>Coco</td>\n",
       "      <td>Storywriter</td>\n",
       "      <td>4</td>\n",
       "    </tr>\n",
       "    <tr>\n",
       "      <th>39</th>\n",
       "      <td>Elemental</td>\n",
       "      <td>Storywriter</td>\n",
       "      <td>4</td>\n",
       "    </tr>\n",
       "    <tr>\n",
       "      <th>88</th>\n",
       "      <td>Monsters, Inc.</td>\n",
       "      <td>Storywriter</td>\n",
       "      <td>4</td>\n",
       "    </tr>\n",
       "    <tr>\n",
       "      <th>119</th>\n",
       "      <td>Toy Story</td>\n",
       "      <td>Screenwriter</td>\n",
       "      <td>4</td>\n",
       "    </tr>\n",
       "    <tr>\n",
       "      <th>120</th>\n",
       "      <td>Toy Story</td>\n",
       "      <td>Storywriter</td>\n",
       "      <td>4</td>\n",
       "    </tr>\n",
       "    <tr>\n",
       "      <th>125</th>\n",
       "      <td>Toy Story 2</td>\n",
       "      <td>Screenwriter</td>\n",
       "      <td>4</td>\n",
       "    </tr>\n",
       "    <tr>\n",
       "      <th>126</th>\n",
       "      <td>Toy Story 2</td>\n",
       "      <td>Storywriter</td>\n",
       "      <td>4</td>\n",
       "    </tr>\n",
       "    <tr>\n",
       "      <th>4</th>\n",
       "      <td>A Bug's Life</td>\n",
       "      <td>Screenwriter</td>\n",
       "      <td>3</td>\n",
       "    </tr>\n",
       "    <tr>\n",
       "      <th>5</th>\n",
       "      <td>A Bug's Life</td>\n",
       "      <td>Storywriter</td>\n",
       "      <td>3</td>\n",
       "    </tr>\n",
       "    <tr>\n",
       "      <th>17</th>\n",
       "      <td>Cars</td>\n",
       "      <td>Storywriter</td>\n",
       "      <td>3</td>\n",
       "    </tr>\n",
       "    <tr>\n",
       "      <th>23</th>\n",
       "      <td>Cars 2</td>\n",
       "      <td>Storywriter</td>\n",
       "      <td>3</td>\n",
       "    </tr>\n",
       "    <tr>\n",
       "      <th>27</th>\n",
       "      <td>Cars 3</td>\n",
       "      <td>Screenwriter</td>\n",
       "      <td>3</td>\n",
       "    </tr>\n",
       "    <tr>\n",
       "      <th>38</th>\n",
       "      <td>Elemental</td>\n",
       "      <td>Screenwriter</td>\n",
       "      <td>3</td>\n",
       "    </tr>\n",
       "    <tr>\n",
       "      <th>50</th>\n",
       "      <td>Finding Nemo</td>\n",
       "      <td>Screenwriter</td>\n",
       "      <td>3</td>\n",
       "    </tr>\n",
       "    <tr>\n",
       "      <th>61</th>\n",
       "      <td>Inside Out</td>\n",
       "      <td>Screenwriter</td>\n",
       "      <td>3</td>\n",
       "    </tr>\n",
       "    <tr>\n",
       "      <th>72</th>\n",
       "      <td>Lightyear</td>\n",
       "      <td>Storywriter</td>\n",
       "      <td>3</td>\n",
       "    </tr>\n",
       "    <tr>\n",
       "      <th>81</th>\n",
       "      <td>Monsters University</td>\n",
       "      <td>Screenwriter</td>\n",
       "      <td>3</td>\n",
       "    </tr>\n",
       "    <tr>\n",
       "      <th>82</th>\n",
       "      <td>Monsters University</td>\n",
       "      <td>Storywriter</td>\n",
       "      <td>3</td>\n",
       "    </tr>\n",
       "    <tr>\n",
       "      <th>92</th>\n",
       "      <td>Onward</td>\n",
       "      <td>Screenwriter</td>\n",
       "      <td>3</td>\n",
       "    </tr>\n",
       "    <tr>\n",
       "      <th>93</th>\n",
       "      <td>Onward</td>\n",
       "      <td>Storywriter</td>\n",
       "      <td>3</td>\n",
       "    </tr>\n",
       "    <tr>\n",
       "      <th>99</th>\n",
       "      <td>Ratatouille</td>\n",
       "      <td>Storywriter</td>\n",
       "      <td>3</td>\n",
       "    </tr>\n",
       "    <tr>\n",
       "      <th>104</th>\n",
       "      <td>Soul</td>\n",
       "      <td>Screenwriter</td>\n",
       "      <td>3</td>\n",
       "    </tr>\n",
       "    <tr>\n",
       "      <th>105</th>\n",
       "      <td>Soul</td>\n",
       "      <td>Storywriter</td>\n",
       "      <td>3</td>\n",
       "    </tr>\n",
       "    <tr>\n",
       "      <th>131</th>\n",
       "      <td>Toy Story 3</td>\n",
       "      <td>Storywriter</td>\n",
       "      <td>3</td>\n",
       "    </tr>\n",
       "    <tr>\n",
       "      <th>141</th>\n",
       "      <td>Turning Red</td>\n",
       "      <td>Storywriter</td>\n",
       "      <td>3</td>\n",
       "    </tr>\n",
       "    <tr>\n",
       "      <th>147</th>\n",
       "      <td>Up</td>\n",
       "      <td>Storywriter</td>\n",
       "      <td>3</td>\n",
       "    </tr>\n",
       "    <tr>\n",
       "      <th>3</th>\n",
       "      <td>A Bug's Life</td>\n",
       "      <td>Producer</td>\n",
       "      <td>2</td>\n",
       "    </tr>\n",
       "    <tr>\n",
       "      <th>33</th>\n",
       "      <td>Coco</td>\n",
       "      <td>Screenwriter</td>\n",
       "      <td>2</td>\n",
       "    </tr>\n",
       "    <tr>\n",
       "      <th>44</th>\n",
       "      <td>Finding Dory</td>\n",
       "      <td>Screenwriter</td>\n",
       "      <td>2</td>\n",
       "    </tr>\n",
       "    <tr>\n",
       "      <th>54</th>\n",
       "      <td>Incredibles 2</td>\n",
       "      <td>Producer</td>\n",
       "      <td>2</td>\n",
       "    </tr>\n",
       "    <tr>\n",
       "      <th>62</th>\n",
       "      <td>Inside Out</td>\n",
       "      <td>Storywriter</td>\n",
       "      <td>2</td>\n",
       "    </tr>\n",
       "    <tr>\n",
       "      <th>66</th>\n",
       "      <td>Inside Out 2</td>\n",
       "      <td>Screenwriter</td>\n",
       "      <td>2</td>\n",
       "    </tr>\n",
       "    <tr>\n",
       "      <th>67</th>\n",
       "      <td>Inside Out 2</td>\n",
       "      <td>Storywriter</td>\n",
       "      <td>2</td>\n",
       "    </tr>\n",
       "    <tr>\n",
       "      <th>71</th>\n",
       "      <td>Lightyear</td>\n",
       "      <td>Screenwriter</td>\n",
       "      <td>2</td>\n",
       "    </tr>\n",
       "    <tr>\n",
       "      <th>83</th>\n",
       "      <td>Monsters, Inc.</td>\n",
       "      <td>Co-director</td>\n",
       "      <td>2</td>\n",
       "    </tr>\n",
       "    <tr>\n",
       "      <th>87</th>\n",
       "      <td>Monsters, Inc.</td>\n",
       "      <td>Screenwriter</td>\n",
       "      <td>2</td>\n",
       "    </tr>\n",
       "    <tr>\n",
       "      <th>90</th>\n",
       "      <td>Onward</td>\n",
       "      <td>Musician</td>\n",
       "      <td>2</td>\n",
       "    </tr>\n",
       "    <tr>\n",
       "      <th>102</th>\n",
       "      <td>Soul</td>\n",
       "      <td>Musician</td>\n",
       "      <td>2</td>\n",
       "    </tr>\n",
       "    <tr>\n",
       "      <th>107</th>\n",
       "      <td>The Good Dinosaur</td>\n",
       "      <td>Musician</td>\n",
       "      <td>2</td>\n",
       "    </tr>\n",
       "    <tr>\n",
       "      <th>118</th>\n",
       "      <td>Toy Story</td>\n",
       "      <td>Producer</td>\n",
       "      <td>2</td>\n",
       "    </tr>\n",
       "    <tr>\n",
       "      <th>121</th>\n",
       "      <td>Toy Story 2</td>\n",
       "      <td>Co-director</td>\n",
       "      <td>2</td>\n",
       "    </tr>\n",
       "    <tr>\n",
       "      <th>124</th>\n",
       "      <td>Toy Story 2</td>\n",
       "      <td>Producer</td>\n",
       "      <td>2</td>\n",
       "    </tr>\n",
       "    <tr>\n",
       "      <th>134</th>\n",
       "      <td>Toy Story 4</td>\n",
       "      <td>Producer</td>\n",
       "      <td>2</td>\n",
       "    </tr>\n",
       "    <tr>\n",
       "      <th>135</th>\n",
       "      <td>Toy Story 4</td>\n",
       "      <td>Screenwriter</td>\n",
       "      <td>2</td>\n",
       "    </tr>\n",
       "    <tr>\n",
       "      <th>140</th>\n",
       "      <td>Turning Red</td>\n",
       "      <td>Screenwriter</td>\n",
       "      <td>2</td>\n",
       "    </tr>\n",
       "    <tr>\n",
       "      <th>146</th>\n",
       "      <td>Up</td>\n",
       "      <td>Screenwriter</td>\n",
       "      <td>2</td>\n",
       "    </tr>\n",
       "    <tr>\n",
       "      <th>151</th>\n",
       "      <td>WALL-E</td>\n",
       "      <td>Screenwriter</td>\n",
       "      <td>2</td>\n",
       "    </tr>\n",
       "    <tr>\n",
       "      <th>152</th>\n",
       "      <td>WALL-E</td>\n",
       "      <td>Storywriter</td>\n",
       "      <td>2</td>\n",
       "    </tr>\n",
       "  </tbody>\n",
       "</table>\n",
       "</div>"
      ],
      "text/plain": [
       "                    film     role_type  num_of_crew\n",
       "136          Toy Story 4   Storywriter            8\n",
       "16                  Cars  Screenwriter            6\n",
       "110    The Good Dinosaur   Storywriter            5\n",
       "28                Cars 3   Storywriter            4\n",
       "34                  Coco   Storywriter            4\n",
       "39             Elemental   Storywriter            4\n",
       "88        Monsters, Inc.   Storywriter            4\n",
       "119            Toy Story  Screenwriter            4\n",
       "120            Toy Story   Storywriter            4\n",
       "125          Toy Story 2  Screenwriter            4\n",
       "126          Toy Story 2   Storywriter            4\n",
       "4           A Bug's Life  Screenwriter            3\n",
       "5           A Bug's Life   Storywriter            3\n",
       "17                  Cars   Storywriter            3\n",
       "23                Cars 2   Storywriter            3\n",
       "27                Cars 3  Screenwriter            3\n",
       "38             Elemental  Screenwriter            3\n",
       "50          Finding Nemo  Screenwriter            3\n",
       "61            Inside Out  Screenwriter            3\n",
       "72             Lightyear   Storywriter            3\n",
       "81   Monsters University  Screenwriter            3\n",
       "82   Monsters University   Storywriter            3\n",
       "92                Onward  Screenwriter            3\n",
       "93                Onward   Storywriter            3\n",
       "99           Ratatouille   Storywriter            3\n",
       "104                 Soul  Screenwriter            3\n",
       "105                 Soul   Storywriter            3\n",
       "131          Toy Story 3   Storywriter            3\n",
       "141          Turning Red   Storywriter            3\n",
       "147                   Up   Storywriter            3\n",
       "3           A Bug's Life      Producer            2\n",
       "33                  Coco  Screenwriter            2\n",
       "44          Finding Dory  Screenwriter            2\n",
       "54         Incredibles 2      Producer            2\n",
       "62            Inside Out   Storywriter            2\n",
       "66          Inside Out 2  Screenwriter            2\n",
       "67          Inside Out 2   Storywriter            2\n",
       "71             Lightyear  Screenwriter            2\n",
       "83        Monsters, Inc.   Co-director            2\n",
       "87        Monsters, Inc.  Screenwriter            2\n",
       "90                Onward      Musician            2\n",
       "102                 Soul      Musician            2\n",
       "107    The Good Dinosaur      Musician            2\n",
       "118            Toy Story      Producer            2\n",
       "121          Toy Story 2   Co-director            2\n",
       "124          Toy Story 2      Producer            2\n",
       "134          Toy Story 4      Producer            2\n",
       "135          Toy Story 4  Screenwriter            2\n",
       "140          Turning Red  Screenwriter            2\n",
       "146                   Up  Screenwriter            2\n",
       "151               WALL-E  Screenwriter            2\n",
       "152               WALL-E   Storywriter            2"
      ]
     },
     "execution_count": 121,
     "metadata": {},
     "output_type": "execute_result"
    }
   ],
   "source": [
    "multi_role_df = people_df.groupby([\"film\", \"role_type\"], as_index = False)[\"name\"].nunique().rename(columns={\"name\": \"num_of_crew\"})\n",
    "multi_role_df = multi_role_df[multi_role_df[\"num_of_crew\"] > 1]\n",
    "multi_role_df = multi_role_df.sort_values(by=[\"num_of_crew\", \"film\"], ascending=[False, True])\n",
    "\n",
    "# View result\n",
    "multi_role_df"
   ]
  },
  {
   "cell_type": "markdown",
   "id": "4c4b2144-c868-4d93-90a2-05edfe83ed26",
   "metadata": {},
   "source": [
    "3. **Genres Data**"
   ]
  },
  {
   "cell_type": "markdown",
   "id": "7a534c40-f370-49eb-b1a5-d57572f540bf",
   "metadata": {},
   "source": [
    "**Key Questions**\n",
    "\n",
    "<ul>\n",
    "    <li>How many unique categories are there?</li>\n",
    "    <li>How many types of genres and sub-genres are there?</li>\n",
    "    <li>Which film has the highest number of genre tags?</li>\n",
    "    <li>Which film has the most subgenre classifications?</li>\n",
    "    <li>Are there any films with only a genre but no subgenre (or vice versa)?</li>\n",
    "    <li>What are the top 3 most common genres across all films?</li>\n",
    "    <li>What are the top 5 most common subgenres?</li>\n",
    "</ul>"
   ]
  },
  {
   "cell_type": "markdown",
   "id": "830844f7-bb9e-4bfe-801b-a25843b41ce2",
   "metadata": {},
   "source": [
    "<font color = \"blue\">How many unique categories are there?</font>"
   ]
  },
  {
   "cell_type": "code",
   "execution_count": 125,
   "id": "2d1e7983-9021-4144-9b6a-22e738932289",
   "metadata": {},
   "outputs": [
    {
     "name": "stdout",
     "output_type": "stream",
     "text": [
      "There are 2 genres and they are Genre and Subgenre.\n"
     ]
    }
   ],
   "source": [
    "print(\"There are {} genres and they are {} and {}.\".format(genres_df.category.nunique(), genres_df.category.unique()[0], \n",
    "                                                           genres_df.category.unique()[1]))"
   ]
  },
  {
   "cell_type": "markdown",
   "id": "bda9fb7c-03fc-4621-badf-8a7ba71be3c0",
   "metadata": {},
   "source": [
    "<font color = \"blue\">How many types of genres and sub-genres are there?</font>"
   ]
  },
  {
   "cell_type": "code",
   "execution_count": 127,
   "id": "df74adfe-049f-4a91-b023-ef1646d99882",
   "metadata": {},
   "outputs": [
    {
     "name": "stdout",
     "output_type": "stream",
     "text": [
      "There are 6 types of genres and they consists of: ['Adventure' 'Animation' 'Comedy' 'Action' 'Family' 'Drama']\n"
     ]
    }
   ],
   "source": [
    "type_genre = genres_df[genres_df.category == \"Genre\"].value\n",
    "\n",
    "print(\"There are {} types of genres and they consists of: {}\".format(type_genre.nunique(), type_genre.unique()))"
   ]
  },
  {
   "cell_type": "code",
   "execution_count": 128,
   "id": "4381e3c9-83a6-488d-ab6d-4f3df310df45",
   "metadata": {},
   "outputs": [
    {
     "name": "stdout",
     "output_type": "stream",
     "text": [
      "There are 33 types of sub-genres and they consists of:\n",
      " ['Buddy Comedy' 'Computer Animation' 'Fantasy' 'Supernatural Fantasy'\n",
      " 'Urban Adventure' 'Animal Adventure' 'Quest' 'Sea Adventure' 'Superhero'\n",
      " 'Motorsport' 'Sport' 'Adventure Epic' 'Artificial Intelligence'\n",
      " 'Dystopian Sci-Fi' 'Sci-Fi' 'Space Sci-Fi' 'Coming-of-Age'\n",
      " 'Globetrotting Adventure' 'Car Action' 'Crime' 'Spy' 'Fairy Tale'\n",
      " 'Sword & Sorcery' 'Teen Adventure' 'Dinosaur Adventure' 'Music' 'Mystery'\n",
      " 'Road Trip' 'Fantasy Epic' 'Teen Comedy' 'Time Travel' 'Romance'\n",
      " 'Teen Drama']\n"
     ]
    }
   ],
   "source": [
    "sub_type_genre = genres_df[genres_df.category == \"Subgenre\"].value\n",
    "\n",
    "print(\"There are {} types of sub-genres and they consists of:\\n {}\".format(sub_type_genre.nunique(), sub_type_genre.unique()))"
   ]
  },
  {
   "cell_type": "markdown",
   "id": "6ec6a151-3101-485a-b41a-162fba2afe00",
   "metadata": {},
   "source": [
    "<font color = \"blue\">Which film has the highest number of genre tags?</font>"
   ]
  },
  {
   "cell_type": "code",
   "execution_count": 130,
   "id": "0fcd3a25-e5c3-4b6d-9746-8fe2fe665fe3",
   "metadata": {},
   "outputs": [
    {
     "data": {
      "text/html": [
       "<div>\n",
       "<style scoped>\n",
       "    .dataframe tbody tr th:only-of-type {\n",
       "        vertical-align: middle;\n",
       "    }\n",
       "\n",
       "    .dataframe tbody tr th {\n",
       "        vertical-align: top;\n",
       "    }\n",
       "\n",
       "    .dataframe thead th {\n",
       "        text-align: right;\n",
       "    }\n",
       "</style>\n",
       "<table border=\"1\" class=\"dataframe\">\n",
       "  <thead>\n",
       "    <tr style=\"text-align: right;\">\n",
       "      <th></th>\n",
       "      <th>film</th>\n",
       "      <th>num_of_genres</th>\n",
       "    </tr>\n",
       "  </thead>\n",
       "  <tbody>\n",
       "    <tr>\n",
       "      <th>0</th>\n",
       "      <td>A Bug's Life</td>\n",
       "      <td>3</td>\n",
       "    </tr>\n",
       "    <tr>\n",
       "      <th>1</th>\n",
       "      <td>Brave</td>\n",
       "      <td>3</td>\n",
       "    </tr>\n",
       "    <tr>\n",
       "      <th>2</th>\n",
       "      <td>Cars</td>\n",
       "      <td>3</td>\n",
       "    </tr>\n",
       "    <tr>\n",
       "      <th>3</th>\n",
       "      <td>Cars 2</td>\n",
       "      <td>3</td>\n",
       "    </tr>\n",
       "    <tr>\n",
       "      <th>4</th>\n",
       "      <td>Cars 3</td>\n",
       "      <td>3</td>\n",
       "    </tr>\n",
       "    <tr>\n",
       "      <th>5</th>\n",
       "      <td>Coco</td>\n",
       "      <td>3</td>\n",
       "    </tr>\n",
       "    <tr>\n",
       "      <th>6</th>\n",
       "      <td>Elemental</td>\n",
       "      <td>3</td>\n",
       "    </tr>\n",
       "    <tr>\n",
       "      <th>7</th>\n",
       "      <td>Finding Dory</td>\n",
       "      <td>3</td>\n",
       "    </tr>\n",
       "    <tr>\n",
       "      <th>8</th>\n",
       "      <td>Finding Nemo</td>\n",
       "      <td>3</td>\n",
       "    </tr>\n",
       "    <tr>\n",
       "      <th>9</th>\n",
       "      <td>Incredibles 2</td>\n",
       "      <td>3</td>\n",
       "    </tr>\n",
       "    <tr>\n",
       "      <th>10</th>\n",
       "      <td>Inside Out</td>\n",
       "      <td>3</td>\n",
       "    </tr>\n",
       "    <tr>\n",
       "      <th>11</th>\n",
       "      <td>Inside Out 2</td>\n",
       "      <td>3</td>\n",
       "    </tr>\n",
       "    <tr>\n",
       "      <th>12</th>\n",
       "      <td>Lightyear</td>\n",
       "      <td>3</td>\n",
       "    </tr>\n",
       "    <tr>\n",
       "      <th>13</th>\n",
       "      <td>Luca</td>\n",
       "      <td>3</td>\n",
       "    </tr>\n",
       "    <tr>\n",
       "      <th>14</th>\n",
       "      <td>Monsters University</td>\n",
       "      <td>3</td>\n",
       "    </tr>\n",
       "    <tr>\n",
       "      <th>15</th>\n",
       "      <td>Monsters, Inc.</td>\n",
       "      <td>3</td>\n",
       "    </tr>\n",
       "    <tr>\n",
       "      <th>16</th>\n",
       "      <td>Onward</td>\n",
       "      <td>3</td>\n",
       "    </tr>\n",
       "    <tr>\n",
       "      <th>17</th>\n",
       "      <td>Ratatouille</td>\n",
       "      <td>3</td>\n",
       "    </tr>\n",
       "    <tr>\n",
       "      <th>18</th>\n",
       "      <td>Soul</td>\n",
       "      <td>3</td>\n",
       "    </tr>\n",
       "    <tr>\n",
       "      <th>19</th>\n",
       "      <td>The Good Dinosaur</td>\n",
       "      <td>3</td>\n",
       "    </tr>\n",
       "    <tr>\n",
       "      <th>20</th>\n",
       "      <td>The Incredibles</td>\n",
       "      <td>3</td>\n",
       "    </tr>\n",
       "    <tr>\n",
       "      <th>21</th>\n",
       "      <td>Toy Story</td>\n",
       "      <td>3</td>\n",
       "    </tr>\n",
       "    <tr>\n",
       "      <th>22</th>\n",
       "      <td>Toy Story 2</td>\n",
       "      <td>3</td>\n",
       "    </tr>\n",
       "    <tr>\n",
       "      <th>23</th>\n",
       "      <td>Toy Story 3</td>\n",
       "      <td>3</td>\n",
       "    </tr>\n",
       "    <tr>\n",
       "      <th>24</th>\n",
       "      <td>Toy Story 4</td>\n",
       "      <td>3</td>\n",
       "    </tr>\n",
       "    <tr>\n",
       "      <th>25</th>\n",
       "      <td>Turning Red</td>\n",
       "      <td>3</td>\n",
       "    </tr>\n",
       "    <tr>\n",
       "      <th>26</th>\n",
       "      <td>Up</td>\n",
       "      <td>3</td>\n",
       "    </tr>\n",
       "    <tr>\n",
       "      <th>27</th>\n",
       "      <td>WALL-E</td>\n",
       "      <td>3</td>\n",
       "    </tr>\n",
       "  </tbody>\n",
       "</table>\n",
       "</div>"
      ],
      "text/plain": [
       "                   film  num_of_genres\n",
       "0          A Bug's Life              3\n",
       "1                 Brave              3\n",
       "2                  Cars              3\n",
       "3                Cars 2              3\n",
       "4                Cars 3              3\n",
       "5                  Coco              3\n",
       "6             Elemental              3\n",
       "7          Finding Dory              3\n",
       "8          Finding Nemo              3\n",
       "9         Incredibles 2              3\n",
       "10           Inside Out              3\n",
       "11         Inside Out 2              3\n",
       "12            Lightyear              3\n",
       "13                 Luca              3\n",
       "14  Monsters University              3\n",
       "15       Monsters, Inc.              3\n",
       "16               Onward              3\n",
       "17          Ratatouille              3\n",
       "18                 Soul              3\n",
       "19    The Good Dinosaur              3\n",
       "20      The Incredibles              3\n",
       "21            Toy Story              3\n",
       "22          Toy Story 2              3\n",
       "23          Toy Story 3              3\n",
       "24          Toy Story 4              3\n",
       "25          Turning Red              3\n",
       "26                   Up              3\n",
       "27               WALL-E              3"
      ]
     },
     "execution_count": 130,
     "metadata": {},
     "output_type": "execute_result"
    }
   ],
   "source": [
    "genres_df[genres_df.category == \"Genre\"].groupby(\"film\", as_index = False)[[\"category\"]].count().rename(\n",
    "    columns = {\"category\" : \"num_of_genres\"})"
   ]
  },
  {
   "cell_type": "markdown",
   "id": "784b098c-488b-49b7-ac53-d7b3e2b08520",
   "metadata": {},
   "source": [
    "Every movie contains 3 types of genres."
   ]
  },
  {
   "cell_type": "markdown",
   "id": "2fd59ffc-5b2f-4388-ac49-cb87fb32b3a8",
   "metadata": {},
   "source": [
    "<font color = \"blue\">Which film has the most subgenre classifications?</font>"
   ]
  },
  {
   "cell_type": "code",
   "execution_count": 133,
   "id": "bac5e46a-3a6a-40a8-b4c5-f3bd5765ac45",
   "metadata": {},
   "outputs": [
    {
     "data": {
      "text/html": [
       "<div>\n",
       "<style scoped>\n",
       "    .dataframe tbody tr th:only-of-type {\n",
       "        vertical-align: middle;\n",
       "    }\n",
       "\n",
       "    .dataframe tbody tr th {\n",
       "        vertical-align: top;\n",
       "    }\n",
       "\n",
       "    .dataframe thead th {\n",
       "        text-align: right;\n",
       "    }\n",
       "</style>\n",
       "<table border=\"1\" class=\"dataframe\">\n",
       "  <thead>\n",
       "    <tr style=\"text-align: right;\">\n",
       "      <th></th>\n",
       "      <th>film</th>\n",
       "      <th>num_of_subgenres</th>\n",
       "    </tr>\n",
       "  </thead>\n",
       "  <tbody>\n",
       "    <tr>\n",
       "      <th>27</th>\n",
       "      <td>WALL-E</td>\n",
       "      <td>6</td>\n",
       "    </tr>\n",
       "    <tr>\n",
       "      <th>3</th>\n",
       "      <td>Cars 2</td>\n",
       "      <td>6</td>\n",
       "    </tr>\n",
       "    <tr>\n",
       "      <th>1</th>\n",
       "      <td>Brave</td>\n",
       "      <td>6</td>\n",
       "    </tr>\n",
       "  </tbody>\n",
       "</table>\n",
       "</div>"
      ],
      "text/plain": [
       "      film  num_of_subgenres\n",
       "27  WALL-E                 6\n",
       "3   Cars 2                 6\n",
       "1    Brave                 6"
      ]
     },
     "execution_count": 133,
     "metadata": {},
     "output_type": "execute_result"
    }
   ],
   "source": [
    "top_subgenre_count = genres_df[genres_df.category == \"Subgenre\"].groupby(\"film\", as_index = False)[[\"category\"]].count().rename(\n",
    "                        columns = {\"category\" : \"num_of_subgenres\"})\n",
    "\n",
    "top_subgenre_count = top_subgenre_count.sort_values(\"num_of_subgenres\", ascending = False)\n",
    "top_subgenre_count[top_subgenre_count.num_of_subgenres == top_subgenre_count.num_of_subgenres.max()]"
   ]
  },
  {
   "cell_type": "markdown",
   "id": "7919fa37-115b-43d7-91c3-23582f2b67a2",
   "metadata": {},
   "source": [
    "The films WALL-E, Cars 2, and Brave each have the highest number of subgenres, with a total of 6 subgenres assigned to them."
   ]
  },
  {
   "cell_type": "markdown",
   "id": "c5a47b7c-caff-4bca-afc6-ef5f0aadef4a",
   "metadata": {},
   "source": [
    "<font color = \"blue\">Are there any films with only a genre but no subgenre (or vice versa)?</font>"
   ]
  },
  {
   "cell_type": "code",
   "execution_count": 136,
   "id": "1ebf175d-5e49-4361-90d3-398313bf438e",
   "metadata": {},
   "outputs": [
    {
     "data": {
      "text/html": [
       "<div>\n",
       "<style scoped>\n",
       "    .dataframe tbody tr th:only-of-type {\n",
       "        vertical-align: middle;\n",
       "    }\n",
       "\n",
       "    .dataframe tbody tr th {\n",
       "        vertical-align: top;\n",
       "    }\n",
       "\n",
       "    .dataframe thead th {\n",
       "        text-align: right;\n",
       "    }\n",
       "</style>\n",
       "<table border=\"1\" class=\"dataframe\">\n",
       "  <thead>\n",
       "    <tr style=\"text-align: right;\">\n",
       "      <th></th>\n",
       "      <th>film</th>\n",
       "      <th>genre_count</th>\n",
       "      <th>subgenre_count</th>\n",
       "    </tr>\n",
       "  </thead>\n",
       "  <tbody>\n",
       "    <tr>\n",
       "      <th>0</th>\n",
       "      <td>A Bug's Life</td>\n",
       "      <td>3</td>\n",
       "      <td>3</td>\n",
       "    </tr>\n",
       "    <tr>\n",
       "      <th>1</th>\n",
       "      <td>Brave</td>\n",
       "      <td>3</td>\n",
       "      <td>6</td>\n",
       "    </tr>\n",
       "    <tr>\n",
       "      <th>2</th>\n",
       "      <td>Cars</td>\n",
       "      <td>3</td>\n",
       "      <td>3</td>\n",
       "    </tr>\n",
       "    <tr>\n",
       "      <th>3</th>\n",
       "      <td>Cars 2</td>\n",
       "      <td>3</td>\n",
       "      <td>6</td>\n",
       "    </tr>\n",
       "    <tr>\n",
       "      <th>4</th>\n",
       "      <td>Cars 3</td>\n",
       "      <td>3</td>\n",
       "      <td>4</td>\n",
       "    </tr>\n",
       "    <tr>\n",
       "      <th>5</th>\n",
       "      <td>Coco</td>\n",
       "      <td>3</td>\n",
       "      <td>5</td>\n",
       "    </tr>\n",
       "    <tr>\n",
       "      <th>6</th>\n",
       "      <td>Elemental</td>\n",
       "      <td>3</td>\n",
       "      <td>4</td>\n",
       "    </tr>\n",
       "    <tr>\n",
       "      <th>7</th>\n",
       "      <td>Finding Dory</td>\n",
       "      <td>3</td>\n",
       "      <td>4</td>\n",
       "    </tr>\n",
       "    <tr>\n",
       "      <th>8</th>\n",
       "      <td>Finding Nemo</td>\n",
       "      <td>3</td>\n",
       "      <td>5</td>\n",
       "    </tr>\n",
       "    <tr>\n",
       "      <th>9</th>\n",
       "      <td>Incredibles 2</td>\n",
       "      <td>3</td>\n",
       "      <td>4</td>\n",
       "    </tr>\n",
       "    <tr>\n",
       "      <th>10</th>\n",
       "      <td>Inside Out</td>\n",
       "      <td>3</td>\n",
       "      <td>3</td>\n",
       "    </tr>\n",
       "    <tr>\n",
       "      <th>11</th>\n",
       "      <td>Inside Out 2</td>\n",
       "      <td>3</td>\n",
       "      <td>5</td>\n",
       "    </tr>\n",
       "    <tr>\n",
       "      <th>12</th>\n",
       "      <td>Lightyear</td>\n",
       "      <td>3</td>\n",
       "      <td>5</td>\n",
       "    </tr>\n",
       "    <tr>\n",
       "      <th>13</th>\n",
       "      <td>Luca</td>\n",
       "      <td>3</td>\n",
       "      <td>5</td>\n",
       "    </tr>\n",
       "    <tr>\n",
       "      <th>14</th>\n",
       "      <td>Monsters University</td>\n",
       "      <td>3</td>\n",
       "      <td>2</td>\n",
       "    </tr>\n",
       "    <tr>\n",
       "      <th>15</th>\n",
       "      <td>Monsters, Inc.</td>\n",
       "      <td>3</td>\n",
       "      <td>5</td>\n",
       "    </tr>\n",
       "    <tr>\n",
       "      <th>16</th>\n",
       "      <td>Onward</td>\n",
       "      <td>3</td>\n",
       "      <td>5</td>\n",
       "    </tr>\n",
       "    <tr>\n",
       "      <th>17</th>\n",
       "      <td>Ratatouille</td>\n",
       "      <td>3</td>\n",
       "      <td>3</td>\n",
       "    </tr>\n",
       "    <tr>\n",
       "      <th>18</th>\n",
       "      <td>Soul</td>\n",
       "      <td>3</td>\n",
       "      <td>3</td>\n",
       "    </tr>\n",
       "    <tr>\n",
       "      <th>19</th>\n",
       "      <td>The Good Dinosaur</td>\n",
       "      <td>3</td>\n",
       "      <td>4</td>\n",
       "    </tr>\n",
       "    <tr>\n",
       "      <th>20</th>\n",
       "      <td>The Incredibles</td>\n",
       "      <td>3</td>\n",
       "      <td>3</td>\n",
       "    </tr>\n",
       "    <tr>\n",
       "      <th>21</th>\n",
       "      <td>Toy Story</td>\n",
       "      <td>3</td>\n",
       "      <td>5</td>\n",
       "    </tr>\n",
       "    <tr>\n",
       "      <th>22</th>\n",
       "      <td>Toy Story 2</td>\n",
       "      <td>3</td>\n",
       "      <td>5</td>\n",
       "    </tr>\n",
       "    <tr>\n",
       "      <th>23</th>\n",
       "      <td>Toy Story 3</td>\n",
       "      <td>3</td>\n",
       "      <td>4</td>\n",
       "    </tr>\n",
       "    <tr>\n",
       "      <th>24</th>\n",
       "      <td>Toy Story 4</td>\n",
       "      <td>3</td>\n",
       "      <td>5</td>\n",
       "    </tr>\n",
       "    <tr>\n",
       "      <th>25</th>\n",
       "      <td>Turning Red</td>\n",
       "      <td>3</td>\n",
       "      <td>5</td>\n",
       "    </tr>\n",
       "    <tr>\n",
       "      <th>26</th>\n",
       "      <td>Up</td>\n",
       "      <td>3</td>\n",
       "      <td>3</td>\n",
       "    </tr>\n",
       "    <tr>\n",
       "      <th>27</th>\n",
       "      <td>WALL-E</td>\n",
       "      <td>3</td>\n",
       "      <td>6</td>\n",
       "    </tr>\n",
       "  </tbody>\n",
       "</table>\n",
       "</div>"
      ],
      "text/plain": [
       "                   film  genre_count  subgenre_count\n",
       "0          A Bug's Life            3               3\n",
       "1                 Brave            3               6\n",
       "2                  Cars            3               3\n",
       "3                Cars 2            3               6\n",
       "4                Cars 3            3               4\n",
       "5                  Coco            3               5\n",
       "6             Elemental            3               4\n",
       "7          Finding Dory            3               4\n",
       "8          Finding Nemo            3               5\n",
       "9         Incredibles 2            3               4\n",
       "10           Inside Out            3               3\n",
       "11         Inside Out 2            3               5\n",
       "12            Lightyear            3               5\n",
       "13                 Luca            3               5\n",
       "14  Monsters University            3               2\n",
       "15       Monsters, Inc.            3               5\n",
       "16               Onward            3               5\n",
       "17          Ratatouille            3               3\n",
       "18                 Soul            3               3\n",
       "19    The Good Dinosaur            3               4\n",
       "20      The Incredibles            3               3\n",
       "21            Toy Story            3               5\n",
       "22          Toy Story 2            3               5\n",
       "23          Toy Story 3            3               4\n",
       "24          Toy Story 4            3               5\n",
       "25          Turning Red            3               5\n",
       "26                   Up            3               3\n",
       "27               WALL-E            3               6"
      ]
     },
     "execution_count": 136,
     "metadata": {},
     "output_type": "execute_result"
    }
   ],
   "source": [
    "g_count = genres_df[genres_df.category == \"Genre\"].groupby(\"film\", as_index = False).size().rename(columns = {\"size\" : \"genre_count\"})\n",
    "sg_count = genres_df[genres_df.category == \"Subgenre\"].groupby(\"film\", as_index = False).size().rename(columns = {\"size\" : \"subgenre_count\"})\n",
    "\n",
    "film_count = g_count.merge(sg_count, on = \"film\", how = \"outer\")\n",
    "film_count"
   ]
  },
  {
   "cell_type": "code",
   "execution_count": 137,
   "id": "0ccf27e0-885c-455f-ba36-c46621d08f1f",
   "metadata": {},
   "outputs": [
    {
     "data": {
      "text/plain": [
       "film              0\n",
       "genre_count       0\n",
       "subgenre_count    0\n",
       "dtype: int64"
      ]
     },
     "execution_count": 137,
     "metadata": {},
     "output_type": "execute_result"
    }
   ],
   "source": [
    "film_count.isna().sum()"
   ]
  },
  {
   "cell_type": "markdown",
   "id": "613a0031-4acc-4d7e-800a-4a315f6549c8",
   "metadata": {},
   "source": [
    "Both \"genre_count\" and \"subgenre_count\" contain no missing values, indicating that every film has at least one genre and one subgenre—there are no films with only one or the other."
   ]
  },
  {
   "cell_type": "markdown",
   "id": "334d0f69-f56a-42ec-95e6-4da1bb987d02",
   "metadata": {},
   "source": [
    "<font color = \"blue\">What are the top 3 most common genres across all films?</font>"
   ]
  },
  {
   "cell_type": "code",
   "execution_count": 140,
   "id": "36da5c5d-b511-40e3-9bd4-9ef23f4df3f8",
   "metadata": {},
   "outputs": [
    {
     "data": {
      "text/html": [
       "<div>\n",
       "<style scoped>\n",
       "    .dataframe tbody tr th:only-of-type {\n",
       "        vertical-align: middle;\n",
       "    }\n",
       "\n",
       "    .dataframe tbody tr th {\n",
       "        vertical-align: top;\n",
       "    }\n",
       "\n",
       "    .dataframe thead th {\n",
       "        text-align: right;\n",
       "    }\n",
       "</style>\n",
       "<table border=\"1\" class=\"dataframe\">\n",
       "  <thead>\n",
       "    <tr style=\"text-align: right;\">\n",
       "      <th></th>\n",
       "      <th>value</th>\n",
       "      <th>genre_count</th>\n",
       "    </tr>\n",
       "  </thead>\n",
       "  <tbody>\n",
       "    <tr>\n",
       "      <th>1</th>\n",
       "      <td>Adventure</td>\n",
       "      <td>28</td>\n",
       "    </tr>\n",
       "    <tr>\n",
       "      <th>2</th>\n",
       "      <td>Animation</td>\n",
       "      <td>28</td>\n",
       "    </tr>\n",
       "    <tr>\n",
       "      <th>3</th>\n",
       "      <td>Comedy</td>\n",
       "      <td>21</td>\n",
       "    </tr>\n",
       "  </tbody>\n",
       "</table>\n",
       "</div>"
      ],
      "text/plain": [
       "       value  genre_count\n",
       "1  Adventure           28\n",
       "2  Animation           28\n",
       "3     Comedy           21"
      ]
     },
     "execution_count": 140,
     "metadata": {},
     "output_type": "execute_result"
    }
   ],
   "source": [
    "genre_count = genres_df[genres_df.category == \"Genre\"].groupby(\"value\", as_index = False)[[\"film\"]].count().rename(\n",
    "    columns = {\"film\" : \"genre_count\"})\n",
    "genre_count = genre_count.sort_values(\"genre_count\", ascending = False)\n",
    "top_3_genre = genre_count.head(3)\n",
    "\n",
    "# View the result\n",
    "top_3_genre"
   ]
  },
  {
   "cell_type": "markdown",
   "id": "3de007d9-b53f-4984-8c78-989c2fac062c",
   "metadata": {},
   "source": [
    "The top three most common genres across all films are Adventure and Animation (each appearing in 28 films), followed by Comedy (appearing in 21 films), highlighting a strong preference for adventurous and animated themes."
   ]
  },
  {
   "cell_type": "code",
   "execution_count": 142,
   "id": "a9802f5e-d6eb-4e2c-b36c-704e6fe0ba32",
   "metadata": {},
   "outputs": [
    {
     "data": {
      "text/plain": [
       "<matplotlib.patches.Circle at 0x14149ccb0>"
      ]
     },
     "execution_count": 142,
     "metadata": {},
     "output_type": "execute_result"
    },
    {
     "data": {
      "text/plain": [
       "Text(-0.3364647978224281, 1.2557035636750868, 'Adventure')"
      ]
     },
     "execution_count": 142,
     "metadata": {},
     "output_type": "execute_result"
    },
    {
     "data": {
      "text/plain": [
       "Text(-0.9192387294771587, -0.9192389016078568, 'Animation')"
      ]
     },
     "execution_count": 142,
     "metadata": {},
     "output_type": "execute_result"
    },
    {
     "data": {
      "text/plain": [
       "Text(1.1258331060629512, -0.6499998594558678, 'Comedy')"
      ]
     },
     "execution_count": 142,
     "metadata": {},
     "output_type": "execute_result"
    },
    {
     "data": {
      "text/plain": [
       "Text(1.1712594575453692, 0.5640490077205419, 'Action')"
      ]
     },
     "execution_count": 142,
     "metadata": {},
     "output_type": "execute_result"
    },
    {
     "data": {
      "text/plain": [
       "Text(1.0163808245564585, 0.8105368711378488, 'Drama')"
      ]
     },
     "execution_count": 142,
     "metadata": {},
     "output_type": "execute_result"
    },
    {
     "data": {
      "text/plain": [
       "Text(0.9529673201625094, 0.884224681120294, 'Family')"
      ]
     },
     "execution_count": 142,
     "metadata": {},
     "output_type": "execute_result"
    },
    {
     "data": {
      "image/png": "[encoded data removed]",
      "text/plain": [
       "<Figure size 1000x800 with 1 Axes>"
      ]
     },
     "metadata": {},
     "output_type": "display_data"
    }
   ],
   "source": [
    "# Visualize\n",
    "\n",
    "labels = genre_count['value'].tolist()\n",
    "sizes = genre_count['genre_count'].tolist()\n",
    "colors = ['#2171b5', '#2171b5', '#deebf7', '#a6a6a6', '#d9d9d9', '#d9d9d9']\n",
    "\n",
    "fig, ax = plt.subplots(figsize=(10, 8))\n",
    "wedges, texts = ax.pie(sizes, labels=None, colors=colors, startangle=45, wedgeprops=dict(width=0.4, edgecolor='white'))\n",
    "centre_circle = plt.Circle((0, 0), 0.70, fc='white')\n",
    "fig.gca().add_artist(centre_circle)\n",
    "for i, wedge in enumerate(wedges):\n",
    "    angle = (wedge.theta2 - wedge.theta1) / 2. + wedge.theta1\n",
    "    x = np.cos(np.deg2rad(angle))\n",
    "    y = np.sin(np.deg2rad(angle))\n",
    "    ha = 'left' if x >= 0 else 'right'\n",
    "    connectionstyle = f\"angle,angleA=0,angleB={angle}\"\n",
    "\n",
    "    ax.annotate(\n",
    "        labels[i],\n",
    "        xy=(x, y),\n",
    "        xytext=(1.3 * x, 1.3 * y),\n",
    "        horizontalalignment=ha,\n",
    "        fontsize=10,\n",
    "        bbox=dict(boxstyle=\"round,pad=0.3\", fc=\"white\", ec=\"gray\", lw=0.5),\n",
    "        arrowprops=dict(arrowstyle=\"-\", color=\"gray\", connectionstyle=connectionstyle)\n",
    "    )\n",
    "plt.tight_layout()\n",
    "plt.show()"
   ]
  },
  {
   "cell_type": "markdown",
   "id": "fc06b2f2-cadb-4066-96e7-c0d5c2509564",
   "metadata": {},
   "source": [
    "<font color = \"blue\"></font>"
   ]
  },
  {
   "cell_type": "markdown",
   "id": "ed72a290-f46a-49cf-bd07-0582cae8f2a3",
   "metadata": {},
   "source": [
    "<font color = \"blue\">What are the top 5 most common subgenres?</font>"
   ]
  },
  {
   "cell_type": "code",
   "execution_count": 145,
   "id": "801aeb03-3006-438e-99ff-81206e727c0d",
   "metadata": {},
   "outputs": [
    {
     "data": {
      "text/html": [
       "<div>\n",
       "<style scoped>\n",
       "    .dataframe tbody tr th:only-of-type {\n",
       "        vertical-align: middle;\n",
       "    }\n",
       "\n",
       "    .dataframe tbody tr th {\n",
       "        vertical-align: top;\n",
       "    }\n",
       "\n",
       "    .dataframe thead th {\n",
       "        text-align: right;\n",
       "    }\n",
       "</style>\n",
       "<table border=\"1\" class=\"dataframe\">\n",
       "  <thead>\n",
       "    <tr style=\"text-align: right;\">\n",
       "      <th></th>\n",
       "      <th>value</th>\n",
       "      <th>subgenre_count</th>\n",
       "    </tr>\n",
       "  </thead>\n",
       "  <tbody>\n",
       "    <tr>\n",
       "      <th>6</th>\n",
       "      <td>Computer Animation</td>\n",
       "      <td>28</td>\n",
       "    </tr>\n",
       "    <tr>\n",
       "      <th>11</th>\n",
       "      <td>Fantasy</td>\n",
       "      <td>14</td>\n",
       "    </tr>\n",
       "    <tr>\n",
       "      <th>32</th>\n",
       "      <td>Urban Adventure</td>\n",
       "      <td>8</td>\n",
       "    </tr>\n",
       "    <tr>\n",
       "      <th>26</th>\n",
       "      <td>Supernatural Fantasy</td>\n",
       "      <td>7</td>\n",
       "    </tr>\n",
       "    <tr>\n",
       "      <th>5</th>\n",
       "      <td>Coming-of-Age</td>\n",
       "      <td>6</td>\n",
       "    </tr>\n",
       "  </tbody>\n",
       "</table>\n",
       "</div>"
      ],
      "text/plain": [
       "                   value  subgenre_count\n",
       "6     Computer Animation              28\n",
       "11               Fantasy              14\n",
       "32       Urban Adventure               8\n",
       "26  Supernatural Fantasy               7\n",
       "5          Coming-of-Age               6"
      ]
     },
     "execution_count": 145,
     "metadata": {},
     "output_type": "execute_result"
    }
   ],
   "source": [
    "subgenre_count = genres_df[genres_df.category == \"Subgenre\"].groupby(\"value\", as_index = False)[[\"film\"]].count().rename(\n",
    "    columns = {\"film\" : \"subgenre_count\"})\n",
    "subgenre_count = subgenre_count.sort_values(\"subgenre_count\", ascending = False)\n",
    "top_5_subgenre = subgenre_count.head()\n",
    "\n",
    "# View the result\n",
    "top_5_subgenre"
   ]
  },
  {
   "cell_type": "code",
   "execution_count": 146,
   "id": "d94f3acb-6a3a-4e9f-9431-081a3a5e4fec",
   "metadata": {},
   "outputs": [
    {
     "data": {
      "text/plain": [
       "<Figure size 1000x800 with 0 Axes>"
      ]
     },
     "execution_count": 146,
     "metadata": {},
     "output_type": "execute_result"
    },
    {
     "data": {
      "text/plain": [
       "<Axes: xlabel='value', ylabel='subgenre_count'>"
      ]
     },
     "execution_count": 146,
     "metadata": {},
     "output_type": "execute_result"
    },
    {
     "data": {
      "text/plain": [
       "Text(0.5, 0, 'Sub-Genre Type')"
      ]
     },
     "execution_count": 146,
     "metadata": {},
     "output_type": "execute_result"
    },
    {
     "data": {
      "text/plain": [
       "Text(0, 0.5, 'Number of Appearance')"
      ]
     },
     "execution_count": 146,
     "metadata": {},
     "output_type": "execute_result"
    },
    {
     "data": {
      "text/plain": [
       "Text(0.5, 1.0, 'Top 5 Most Common Sub-Genre across all Films')"
      ]
     },
     "execution_count": 146,
     "metadata": {},
     "output_type": "execute_result"
    },
    {
     "data": {
      "image/png": "[encoded data removed]",
      "text/plain": [
       "<Figure size 1000x800 with 1 Axes>"
      ]
     },
     "metadata": {},
     "output_type": "display_data"
    }
   ],
   "source": [
    "# Visualize\n",
    "plt.figure(figsize = (10,8))\n",
    "sns.barplot(x = \"value\", y = \"subgenre_count\", data = top_5_subgenre, palette = \"coolwarm\")\n",
    "plt.xlabel(\"Sub-Genre Type\")\n",
    "plt.ylabel(\"Number of Appearance\")\n",
    "plt.title(\"Top 5 Most Common Sub-Genre across all Films\")"
   ]
  },
  {
   "cell_type": "markdown",
   "id": "ba24f55a-bf15-4de4-928d-32c65f97e75e",
   "metadata": {},
   "source": [
    "4. **Box Office Data**"
   ]
  },
  {
   "cell_type": "markdown",
   "id": "daa7ddf9-1458-4e36-8cd1-1ee38b9b3627",
   "metadata": {},
   "source": [
    "**Key Questions**\n",
    "\n",
    "<ul>\n",
    "    <li>How much is the estimated spending across all the films?</li>\n",
    "    <li>How much is the budget on average?</li>\n",
    "    <li>Which films exceed the average estimated budget, and how many are there?</li>\n",
    "    <li>Which films fall below the average estimated budget, and how many are there?</li>\n",
    "    <li>Which film(s) had the most and least expensive budget?</li>\n",
    "    <li>How much did the box office earned in the US-Canada and other Markets?</li>\n",
    "    <li>What was the total worldwide box office revenue, including US-Canada and other markets?</li>\n",
    "    <li>Among the profit making films, which films generated a global ROI exceeding their initial budget by more than 100%?</li>\n",
    "    <li>Among the profit making films, which films generated a global ROI of under 100%?</li>\n",
    "    <li>Which films has incurred a loss?</li>\n",
    "    <li>Which films has incurred more revenue in US-Canada compared to other regions and vice versa?</li>\n",
    "</ul>"
   ]
  },
  {
   "cell_type": "markdown",
   "id": "cb992ae2-47a9-4248-8d1e-98e218eae707",
   "metadata": {},
   "source": [
    "<font color = \"blue\">How much is the estimated spending across all the films?</font>"
   ]
  },
  {
   "cell_type": "code",
   "execution_count": 150,
   "id": "f65a4acc-a6da-47ed-921d-5792449f5dd8",
   "metadata": {},
   "outputs": [
    {
     "name": "stdout",
     "output_type": "stream",
     "text": [
      "The pixar films has an estimated budget of $4.35 billion across all the films.\n"
     ]
    }
   ],
   "source": [
    "total_budget = box_off_df.budget.sum()\n",
    "billion = 1000000000.0\n",
    "\n",
    "print(\"The pixar films has an estimated budget of ${} billion across all the films.\".format(\n",
    "    (total_budget / billion).round(2)))"
   ]
  },
  {
   "cell_type": "markdown",
   "id": "00371e72-1dc6-456e-84d2-61d3871baeeb",
   "metadata": {},
   "source": [
    "<font color = \"blue\">How much is the budget on average?</font>"
   ]
  },
  {
   "cell_type": "code",
   "execution_count": 152,
   "id": "cf246607-f30a-4b81-8066-311a53ced250",
   "metadata": {},
   "outputs": [
    {
     "name": "stdout",
     "output_type": "stream",
     "text": [
      "On an average, the Pixar films has an estimated budget of $155.39 million.\n"
     ]
    }
   ],
   "source": [
    "average_budget = box_off_df.budget.mean()\n",
    "million = 1000000.0\n",
    "\n",
    "print(\"On an average, the Pixar films has an estimated budget of ${} million.\".format((average_budget / million).round(2)))"
   ]
  },
  {
   "cell_type": "markdown",
   "id": "af625416-ae22-4aa5-af8c-8463ffe79bb2",
   "metadata": {},
   "source": [
    "<font color = \"blue\">Which films exceed the average estimated budget, and how many are there?</font>"
   ]
  },
  {
   "cell_type": "code",
   "execution_count": 154,
   "id": "e97d1292-c2a7-4a22-8de0-aee90dc009f0",
   "metadata": {},
   "outputs": [
    {
     "data": {
      "text/html": [
       "<div>\n",
       "<style scoped>\n",
       "    .dataframe tbody tr th:only-of-type {\n",
       "        vertical-align: middle;\n",
       "    }\n",
       "\n",
       "    .dataframe tbody tr th {\n",
       "        vertical-align: top;\n",
       "    }\n",
       "\n",
       "    .dataframe thead th {\n",
       "        text-align: right;\n",
       "    }\n",
       "</style>\n",
       "<table border=\"1\" class=\"dataframe\">\n",
       "  <thead>\n",
       "    <tr style=\"text-align: right;\">\n",
       "      <th></th>\n",
       "      <th>film</th>\n",
       "      <th>budget</th>\n",
       "    </tr>\n",
       "  </thead>\n",
       "  <tbody>\n",
       "    <tr>\n",
       "      <th>8</th>\n",
       "      <td>WALL-E</td>\n",
       "      <td>180000000.0</td>\n",
       "    </tr>\n",
       "    <tr>\n",
       "      <th>9</th>\n",
       "      <td>Up</td>\n",
       "      <td>175000000.0</td>\n",
       "    </tr>\n",
       "    <tr>\n",
       "      <th>10</th>\n",
       "      <td>Toy Story 3</td>\n",
       "      <td>200000000.0</td>\n",
       "    </tr>\n",
       "    <tr>\n",
       "      <th>11</th>\n",
       "      <td>Cars 2</td>\n",
       "      <td>200000000.0</td>\n",
       "    </tr>\n",
       "    <tr>\n",
       "      <th>12</th>\n",
       "      <td>Brave</td>\n",
       "      <td>185000000.0</td>\n",
       "    </tr>\n",
       "    <tr>\n",
       "      <th>13</th>\n",
       "      <td>Monsters University</td>\n",
       "      <td>200000000.0</td>\n",
       "    </tr>\n",
       "    <tr>\n",
       "      <th>14</th>\n",
       "      <td>Inside Out</td>\n",
       "      <td>175000000.0</td>\n",
       "    </tr>\n",
       "    <tr>\n",
       "      <th>15</th>\n",
       "      <td>The Good Dinosaur</td>\n",
       "      <td>175000000.0</td>\n",
       "    </tr>\n",
       "    <tr>\n",
       "      <th>16</th>\n",
       "      <td>Finding Dory</td>\n",
       "      <td>200000000.0</td>\n",
       "    </tr>\n",
       "    <tr>\n",
       "      <th>17</th>\n",
       "      <td>Cars 3</td>\n",
       "      <td>175000000.0</td>\n",
       "    </tr>\n",
       "    <tr>\n",
       "      <th>18</th>\n",
       "      <td>Coco</td>\n",
       "      <td>175000000.0</td>\n",
       "    </tr>\n",
       "    <tr>\n",
       "      <th>19</th>\n",
       "      <td>Incredibles 2</td>\n",
       "      <td>200000000.0</td>\n",
       "    </tr>\n",
       "    <tr>\n",
       "      <th>20</th>\n",
       "      <td>Toy Story 4</td>\n",
       "      <td>200000000.0</td>\n",
       "    </tr>\n",
       "    <tr>\n",
       "      <th>21</th>\n",
       "      <td>Onward</td>\n",
       "      <td>175000000.0</td>\n",
       "    </tr>\n",
       "    <tr>\n",
       "      <th>24</th>\n",
       "      <td>Turning Red</td>\n",
       "      <td>175000000.0</td>\n",
       "    </tr>\n",
       "    <tr>\n",
       "      <th>25</th>\n",
       "      <td>Lightyear</td>\n",
       "      <td>200000000.0</td>\n",
       "    </tr>\n",
       "    <tr>\n",
       "      <th>26</th>\n",
       "      <td>Elemental</td>\n",
       "      <td>200000000.0</td>\n",
       "    </tr>\n",
       "    <tr>\n",
       "      <th>27</th>\n",
       "      <td>Inside Out 2</td>\n",
       "      <td>200000000.0</td>\n",
       "    </tr>\n",
       "  </tbody>\n",
       "</table>\n",
       "</div>"
      ],
      "text/plain": [
       "                   film       budget\n",
       "8                WALL-E  180000000.0\n",
       "9                    Up  175000000.0\n",
       "10          Toy Story 3  200000000.0\n",
       "11               Cars 2  200000000.0\n",
       "12                Brave  185000000.0\n",
       "13  Monsters University  200000000.0\n",
       "14           Inside Out  175000000.0\n",
       "15    The Good Dinosaur  175000000.0\n",
       "16         Finding Dory  200000000.0\n",
       "17               Cars 3  175000000.0\n",
       "18                 Coco  175000000.0\n",
       "19        Incredibles 2  200000000.0\n",
       "20          Toy Story 4  200000000.0\n",
       "21               Onward  175000000.0\n",
       "24          Turning Red  175000000.0\n",
       "25            Lightyear  200000000.0\n",
       "26            Elemental  200000000.0\n",
       "27         Inside Out 2  200000000.0"
      ]
     },
     "execution_count": 154,
     "metadata": {},
     "output_type": "execute_result"
    },
    {
     "name": "stdout",
     "output_type": "stream",
     "text": [
      "\n",
      "There are 18 films who's budget is more than the overall average budget of $155.39 million.\n"
     ]
    }
   ],
   "source": [
    "exceeding_avg = box_off_df[box_off_df.budget > average_budget]\n",
    "exceeding_avg[[\"film\", \"budget\"]]\n",
    "\n",
    "print(\"\")\n",
    "print(\"There are {} films who's budget is more than the overall average budget of ${} million.\".format(\n",
    "    len(exceeding_avg), (average_budget / million).round(2)))"
   ]
  },
  {
   "cell_type": "markdown",
   "id": "8acaa654-4379-43a7-af00-2dc3bc3dd812",
   "metadata": {},
   "source": [
    "<font color = \"blue\">Which films fall below the average estimated budget, and how many are there?</font>"
   ]
  },
  {
   "cell_type": "code",
   "execution_count": 156,
   "id": "b83f34d4-4273-4601-a453-8d6311fa258b",
   "metadata": {},
   "outputs": [
    {
     "data": {
      "text/html": [
       "<div>\n",
       "<style scoped>\n",
       "    .dataframe tbody tr th:only-of-type {\n",
       "        vertical-align: middle;\n",
       "    }\n",
       "\n",
       "    .dataframe tbody tr th {\n",
       "        vertical-align: top;\n",
       "    }\n",
       "\n",
       "    .dataframe thead th {\n",
       "        text-align: right;\n",
       "    }\n",
       "</style>\n",
       "<table border=\"1\" class=\"dataframe\">\n",
       "  <thead>\n",
       "    <tr style=\"text-align: right;\">\n",
       "      <th></th>\n",
       "      <th>film</th>\n",
       "      <th>budget</th>\n",
       "    </tr>\n",
       "  </thead>\n",
       "  <tbody>\n",
       "    <tr>\n",
       "      <th>0</th>\n",
       "      <td>Toy Story</td>\n",
       "      <td>30000000.0</td>\n",
       "    </tr>\n",
       "    <tr>\n",
       "      <th>1</th>\n",
       "      <td>A Bug's Life</td>\n",
       "      <td>120000000.0</td>\n",
       "    </tr>\n",
       "    <tr>\n",
       "      <th>2</th>\n",
       "      <td>Toy Story 2</td>\n",
       "      <td>90000000.0</td>\n",
       "    </tr>\n",
       "    <tr>\n",
       "      <th>3</th>\n",
       "      <td>Monsters, Inc.</td>\n",
       "      <td>115000000.0</td>\n",
       "    </tr>\n",
       "    <tr>\n",
       "      <th>4</th>\n",
       "      <td>Finding Nemo</td>\n",
       "      <td>94000000.0</td>\n",
       "    </tr>\n",
       "    <tr>\n",
       "      <th>5</th>\n",
       "      <td>The Incredibles</td>\n",
       "      <td>92000000.0</td>\n",
       "    </tr>\n",
       "    <tr>\n",
       "      <th>6</th>\n",
       "      <td>Cars</td>\n",
       "      <td>120000000.0</td>\n",
       "    </tr>\n",
       "    <tr>\n",
       "      <th>7</th>\n",
       "      <td>Ratatouille</td>\n",
       "      <td>150000000.0</td>\n",
       "    </tr>\n",
       "    <tr>\n",
       "      <th>22</th>\n",
       "      <td>Soul</td>\n",
       "      <td>150000000.0</td>\n",
       "    </tr>\n",
       "  </tbody>\n",
       "</table>\n",
       "</div>"
      ],
      "text/plain": [
       "               film       budget\n",
       "0         Toy Story   30000000.0\n",
       "1      A Bug's Life  120000000.0\n",
       "2       Toy Story 2   90000000.0\n",
       "3    Monsters, Inc.  115000000.0\n",
       "4      Finding Nemo   94000000.0\n",
       "5   The Incredibles   92000000.0\n",
       "6              Cars  120000000.0\n",
       "7       Ratatouille  150000000.0\n",
       "22             Soul  150000000.0"
      ]
     },
     "execution_count": 156,
     "metadata": {},
     "output_type": "execute_result"
    },
    {
     "name": "stdout",
     "output_type": "stream",
     "text": [
      "\n",
      "There are 9 films who's budget falls below the overall average budget of $155.39 million.\n"
     ]
    }
   ],
   "source": [
    "below_avg = box_off_df[(box_off_df.budget < average_budget) & (box_off_df.film != \"Luca\")]\n",
    "below_avg[[\"film\", \"budget\"]]\n",
    "print(\"\")\n",
    "print(\"There are {} films who's budget falls below the overall average budget of ${} million.\".format(\n",
    "    len(below_avg), (average_budget / million).round(2)))"
   ]
  },
  {
   "cell_type": "markdown",
   "id": "ef3e0d8f-a8ac-4861-9b3a-5a2ff33e5c67",
   "metadata": {},
   "source": [
    "The film \"Luca\" was not considered because the budget was not available."
   ]
  },
  {
   "cell_type": "markdown",
   "id": "65458165-d131-4ebe-9f9c-99af03fb1b87",
   "metadata": {},
   "source": [
    "<font color = \"blue\">Which film(s) had the most and least expensive budget?</font>"
   ]
  },
  {
   "cell_type": "code",
   "execution_count": 159,
   "id": "480ca3f4-f6fb-42a2-bdc0-d48ca73c6b04",
   "metadata": {},
   "outputs": [
    {
     "name": "stdout",
     "output_type": "stream",
     "text": [
      "There are 9 films with most expensive budget of $200.0 million and they are listed below.\n",
      "\n"
     ]
    },
    {
     "data": {
      "text/html": [
       "<div>\n",
       "<style scoped>\n",
       "    .dataframe tbody tr th:only-of-type {\n",
       "        vertical-align: middle;\n",
       "    }\n",
       "\n",
       "    .dataframe tbody tr th {\n",
       "        vertical-align: top;\n",
       "    }\n",
       "\n",
       "    .dataframe thead th {\n",
       "        text-align: right;\n",
       "    }\n",
       "</style>\n",
       "<table border=\"1\" class=\"dataframe\">\n",
       "  <thead>\n",
       "    <tr style=\"text-align: right;\">\n",
       "      <th></th>\n",
       "      <th>film</th>\n",
       "    </tr>\n",
       "  </thead>\n",
       "  <tbody>\n",
       "    <tr>\n",
       "      <th>10</th>\n",
       "      <td>Toy Story 3</td>\n",
       "    </tr>\n",
       "    <tr>\n",
       "      <th>11</th>\n",
       "      <td>Cars 2</td>\n",
       "    </tr>\n",
       "    <tr>\n",
       "      <th>13</th>\n",
       "      <td>Monsters University</td>\n",
       "    </tr>\n",
       "    <tr>\n",
       "      <th>16</th>\n",
       "      <td>Finding Dory</td>\n",
       "    </tr>\n",
       "    <tr>\n",
       "      <th>19</th>\n",
       "      <td>Incredibles 2</td>\n",
       "    </tr>\n",
       "    <tr>\n",
       "      <th>20</th>\n",
       "      <td>Toy Story 4</td>\n",
       "    </tr>\n",
       "    <tr>\n",
       "      <th>25</th>\n",
       "      <td>Lightyear</td>\n",
       "    </tr>\n",
       "    <tr>\n",
       "      <th>26</th>\n",
       "      <td>Elemental</td>\n",
       "    </tr>\n",
       "    <tr>\n",
       "      <th>27</th>\n",
       "      <td>Inside Out 2</td>\n",
       "    </tr>\n",
       "  </tbody>\n",
       "</table>\n",
       "</div>"
      ],
      "text/plain": [
       "                   film\n",
       "10          Toy Story 3\n",
       "11               Cars 2\n",
       "13  Monsters University\n",
       "16         Finding Dory\n",
       "19        Incredibles 2\n",
       "20          Toy Story 4\n",
       "25            Lightyear\n",
       "26            Elemental\n",
       "27         Inside Out 2"
      ]
     },
     "execution_count": 159,
     "metadata": {},
     "output_type": "execute_result"
    }
   ],
   "source": [
    "max_budget = box_off_df.budget.max()\n",
    "max_budget_films = box_off_df[box_off_df.budget == max_budget][[\"film\"]]\n",
    "\n",
    "print(\"There are {} films with most expensive budget of ${} million and they are listed below.\".format(\n",
    "    len(max_budget_films), max_budget/million))\n",
    "print(\"\")\n",
    "max_budget_films"
   ]
  },
  {
   "cell_type": "code",
   "execution_count": 160,
   "id": "5ac3ffdb-e6d5-4679-8ca6-d61a01371353",
   "metadata": {},
   "outputs": [
    {
     "name": "stdout",
     "output_type": "stream",
     "text": [
      "There is 1 film with least expensive budget of $30.0 million and it is listed below.\n",
      "\n"
     ]
    },
    {
     "data": {
      "text/html": [
       "<div>\n",
       "<style scoped>\n",
       "    .dataframe tbody tr th:only-of-type {\n",
       "        vertical-align: middle;\n",
       "    }\n",
       "\n",
       "    .dataframe tbody tr th {\n",
       "        vertical-align: top;\n",
       "    }\n",
       "\n",
       "    .dataframe thead th {\n",
       "        text-align: right;\n",
       "    }\n",
       "</style>\n",
       "<table border=\"1\" class=\"dataframe\">\n",
       "  <thead>\n",
       "    <tr style=\"text-align: right;\">\n",
       "      <th></th>\n",
       "      <th>film</th>\n",
       "    </tr>\n",
       "  </thead>\n",
       "  <tbody>\n",
       "    <tr>\n",
       "      <th>0</th>\n",
       "      <td>Toy Story</td>\n",
       "    </tr>\n",
       "  </tbody>\n",
       "</table>\n",
       "</div>"
      ],
      "text/plain": [
       "        film\n",
       "0  Toy Story"
      ]
     },
     "execution_count": 160,
     "metadata": {},
     "output_type": "execute_result"
    }
   ],
   "source": [
    "min_budget = box_off_df[box_off_df.film != \"Luca\"].budget.min()\n",
    "min_budget_films = box_off_df[(box_off_df.film != \"Luca\") & (box_off_df.budget == min_budget)][[\"film\"]]\n",
    "\n",
    "print(\"There is {} film with least expensive budget of ${} million and it is listed below.\".format(\n",
    "    len(min_budget_films), min_budget/million))\n",
    "print(\"\")\n",
    "min_budget_films"
   ]
  },
  {
   "cell_type": "markdown",
   "id": "3ce7e613-ff1e-45df-b59c-fbc2dae5dd9c",
   "metadata": {},
   "source": [
    "<font color = \"blue\">How much did the box office earned in the US-Canada and other Markets?</font>"
   ]
  },
  {
   "cell_type": "code",
   "execution_count": 162,
   "id": "2228228c-321d-40ba-a58e-74ce92f589d1",
   "metadata": {},
   "outputs": [
    {
     "name": "stdout",
     "output_type": "stream",
     "text": [
      "The box office earned in the US and Canada market was $6.93 billion.\n"
     ]
    }
   ],
   "source": [
    "bo_us_canada = box_off_df[\"box_office_us_canada\"].sum()\n",
    "\n",
    "print(\"The box office earned in the US and Canada market was ${} billion.\".format(\n",
    "    (bo_us_canada / billion).round(2)))"
   ]
  },
  {
   "cell_type": "markdown",
   "id": "869ff7a4-f9d3-44cc-95fb-a6a668680609",
   "metadata": {},
   "source": [
    "<font color = \"blue\"></font>"
   ]
  },
  {
   "cell_type": "code",
   "execution_count": 164,
   "id": "076d98da-3f0b-41b4-847f-e5513824e5ba",
   "metadata": {},
   "outputs": [
    {
     "name": "stdout",
     "output_type": "stream",
     "text": [
      "The box office earned in different markets other than US and Canada is $10.11 billion.\n"
     ]
    }
   ],
   "source": [
    "bo_other = box_off_df[\"box_office_other\"].sum()\n",
    "\n",
    "print(\"The box office earned in different markets other than US and Canada is ${} billion.\".format(\n",
    "    (bo_other / billion).round(2)))"
   ]
  },
  {
   "cell_type": "markdown",
   "id": "d78b59af-414b-4975-9b57-d80ef953d806",
   "metadata": {},
   "source": [
    "<font color = \"blue\">What was the total worldwide box office revenue, including US-Canada and other markets?</font>"
   ]
  },
  {
   "cell_type": "code",
   "execution_count": 166,
   "id": "dc826d7e-579c-4605-8110-554f186285dc",
   "metadata": {},
   "outputs": [
    {
     "name": "stdout",
     "output_type": "stream",
     "text": [
      "The box offices' total worldwide revenue is $17.04 billion.\n"
     ]
    }
   ],
   "source": [
    "bo_world = box_off_df[\"box_office_worldwide\"].sum()\n",
    "\n",
    "print(\"The box offices' total worldwide revenue is ${} billion.\".format((bo_world / billion).round(2)))"
   ]
  },
  {
   "cell_type": "markdown",
   "id": "81b0d7b1-88f4-4e41-a8b5-6e51e90282ea",
   "metadata": {},
   "source": [
    "<font color = \"blue\">Among the profit making films, which films generated a global ROI exceeding their initial budget by more than 100%?</font>"
   ]
  },
  {
   "cell_type": "code",
   "execution_count": 168,
   "id": "0cc5f377-2d32-470a-8e68-31bbed262c9e",
   "metadata": {},
   "outputs": [
    {
     "data": {
      "text/html": [
       "<div>\n",
       "<style scoped>\n",
       "    .dataframe tbody tr th:only-of-type {\n",
       "        vertical-align: middle;\n",
       "    }\n",
       "\n",
       "    .dataframe tbody tr th {\n",
       "        vertical-align: top;\n",
       "    }\n",
       "\n",
       "    .dataframe thead th {\n",
       "        text-align: right;\n",
       "    }\n",
       "</style>\n",
       "<table border=\"1\" class=\"dataframe\">\n",
       "  <thead>\n",
       "    <tr style=\"text-align: right;\">\n",
       "      <th></th>\n",
       "      <th>film</th>\n",
       "      <th>budget</th>\n",
       "      <th>box_office_us_canada</th>\n",
       "      <th>box_office_other</th>\n",
       "      <th>box_office_worldwide</th>\n",
       "      <th>roi_worldwide</th>\n",
       "    </tr>\n",
       "  </thead>\n",
       "  <tbody>\n",
       "    <tr>\n",
       "      <th>0</th>\n",
       "      <td>Toy Story</td>\n",
       "      <td>30000000.0</td>\n",
       "      <td>223225679.0</td>\n",
       "      <td>171210907.0</td>\n",
       "      <td>394436586.0</td>\n",
       "      <td>1214.79</td>\n",
       "    </tr>\n",
       "    <tr>\n",
       "      <th>1</th>\n",
       "      <td>A Bug's Life</td>\n",
       "      <td>120000000.0</td>\n",
       "      <td>162798565.0</td>\n",
       "      <td>200460294.0</td>\n",
       "      <td>363258859.0</td>\n",
       "      <td>202.72</td>\n",
       "    </tr>\n",
       "    <tr>\n",
       "      <th>2</th>\n",
       "      <td>Toy Story 2</td>\n",
       "      <td>90000000.0</td>\n",
       "      <td>245852179.0</td>\n",
       "      <td>265506097.0</td>\n",
       "      <td>511358276.0</td>\n",
       "      <td>468.18</td>\n",
       "    </tr>\n",
       "    <tr>\n",
       "      <th>3</th>\n",
       "      <td>Monsters, Inc.</td>\n",
       "      <td>115000000.0</td>\n",
       "      <td>255873250.0</td>\n",
       "      <td>272900000.0</td>\n",
       "      <td>528773250.0</td>\n",
       "      <td>359.80</td>\n",
       "    </tr>\n",
       "    <tr>\n",
       "      <th>4</th>\n",
       "      <td>Finding Nemo</td>\n",
       "      <td>94000000.0</td>\n",
       "      <td>339714978.0</td>\n",
       "      <td>531300000.0</td>\n",
       "      <td>871014978.0</td>\n",
       "      <td>826.61</td>\n",
       "    </tr>\n",
       "  </tbody>\n",
       "</table>\n",
       "</div>"
      ],
      "text/plain": [
       "             film       budget  box_office_us_canada  box_office_other  \\\n",
       "0       Toy Story   30000000.0           223225679.0       171210907.0   \n",
       "1    A Bug's Life  120000000.0           162798565.0       200460294.0   \n",
       "2     Toy Story 2   90000000.0           245852179.0       265506097.0   \n",
       "3  Monsters, Inc.  115000000.0           255873250.0       272900000.0   \n",
       "4    Finding Nemo   94000000.0           339714978.0       531300000.0   \n",
       "\n",
       "   box_office_worldwide  roi_worldwide  \n",
       "0           394436586.0        1214.79  \n",
       "1           363258859.0         202.72  \n",
       "2           511358276.0         468.18  \n",
       "3           528773250.0         359.80  \n",
       "4           871014978.0         826.61  "
      ]
     },
     "execution_count": 168,
     "metadata": {},
     "output_type": "execute_result"
    }
   ],
   "source": [
    "roi_df = box_off_df[box_off_df.film != \"Luca\"]\n",
    "\n",
    "# Calculate ROI\n",
    "roi_df[\"roi_worldwide\"] = ((roi_df[\"box_office_worldwide\"] - roi_df[\"budget\"]) / roi_df[\"budget\"])*100\n",
    "roi_df[\"roi_worldwide\"] = roi_df[\"roi_worldwide\"].round(2)\n",
    "\n",
    "# View the Data\n",
    "roi_df.head()"
   ]
  },
  {
   "cell_type": "code",
   "execution_count": 169,
   "id": "ee535686-32c7-4e8d-ae9b-d0b898edfe9f",
   "metadata": {},
   "outputs": [
    {
     "name": "stdout",
     "output_type": "stream",
     "text": [
      "There are 22 films (listed below) who's global ROI exceeded the initial budget by more than 100%.\n",
      "\n"
     ]
    },
    {
     "data": {
      "text/html": [
       "<div>\n",
       "<style scoped>\n",
       "    .dataframe tbody tr th:only-of-type {\n",
       "        vertical-align: middle;\n",
       "    }\n",
       "\n",
       "    .dataframe tbody tr th {\n",
       "        vertical-align: top;\n",
       "    }\n",
       "\n",
       "    .dataframe thead th {\n",
       "        text-align: right;\n",
       "    }\n",
       "</style>\n",
       "<table border=\"1\" class=\"dataframe\">\n",
       "  <thead>\n",
       "    <tr style=\"text-align: right;\">\n",
       "      <th></th>\n",
       "      <th>film</th>\n",
       "      <th>budget</th>\n",
       "      <th>box_office_worldwide</th>\n",
       "      <th>roi_worldwide</th>\n",
       "    </tr>\n",
       "  </thead>\n",
       "  <tbody>\n",
       "    <tr>\n",
       "      <th>0</th>\n",
       "      <td>Toy Story</td>\n",
       "      <td>30000000.0</td>\n",
       "      <td>3.944366e+08</td>\n",
       "      <td>1214.79</td>\n",
       "    </tr>\n",
       "    <tr>\n",
       "      <th>4</th>\n",
       "      <td>Finding Nemo</td>\n",
       "      <td>94000000.0</td>\n",
       "      <td>8.710150e+08</td>\n",
       "      <td>826.61</td>\n",
       "    </tr>\n",
       "    <tr>\n",
       "      <th>27</th>\n",
       "      <td>Inside Out 2</td>\n",
       "      <td>200000000.0</td>\n",
       "      <td>1.698031e+09</td>\n",
       "      <td>749.02</td>\n",
       "    </tr>\n",
       "    <tr>\n",
       "      <th>5</th>\n",
       "      <td>The Incredibles</td>\n",
       "      <td>92000000.0</td>\n",
       "      <td>6.314421e+08</td>\n",
       "      <td>586.35</td>\n",
       "    </tr>\n",
       "    <tr>\n",
       "      <th>19</th>\n",
       "      <td>Incredibles 2</td>\n",
       "      <td>200000000.0</td>\n",
       "      <td>1.242805e+09</td>\n",
       "      <td>521.40</td>\n",
       "    </tr>\n",
       "    <tr>\n",
       "      <th>2</th>\n",
       "      <td>Toy Story 2</td>\n",
       "      <td>90000000.0</td>\n",
       "      <td>5.113583e+08</td>\n",
       "      <td>468.18</td>\n",
       "    </tr>\n",
       "    <tr>\n",
       "      <th>20</th>\n",
       "      <td>Toy Story 4</td>\n",
       "      <td>200000000.0</td>\n",
       "      <td>1.073395e+09</td>\n",
       "      <td>436.70</td>\n",
       "    </tr>\n",
       "    <tr>\n",
       "      <th>10</th>\n",
       "      <td>Toy Story 3</td>\n",
       "      <td>200000000.0</td>\n",
       "      <td>1.066970e+09</td>\n",
       "      <td>433.48</td>\n",
       "    </tr>\n",
       "    <tr>\n",
       "      <th>16</th>\n",
       "      <td>Finding Dory</td>\n",
       "      <td>200000000.0</td>\n",
       "      <td>1.028571e+09</td>\n",
       "      <td>414.29</td>\n",
       "    </tr>\n",
       "    <tr>\n",
       "      <th>14</th>\n",
       "      <td>Inside Out</td>\n",
       "      <td>175000000.0</td>\n",
       "      <td>8.576112e+08</td>\n",
       "      <td>390.06</td>\n",
       "    </tr>\n",
       "    <tr>\n",
       "      <th>18</th>\n",
       "      <td>Coco</td>\n",
       "      <td>175000000.0</td>\n",
       "      <td>8.146412e+08</td>\n",
       "      <td>365.51</td>\n",
       "    </tr>\n",
       "    <tr>\n",
       "      <th>3</th>\n",
       "      <td>Monsters, Inc.</td>\n",
       "      <td>115000000.0</td>\n",
       "      <td>5.287732e+08</td>\n",
       "      <td>359.80</td>\n",
       "    </tr>\n",
       "    <tr>\n",
       "      <th>9</th>\n",
       "      <td>Up</td>\n",
       "      <td>175000000.0</td>\n",
       "      <td>7.350991e+08</td>\n",
       "      <td>320.06</td>\n",
       "    </tr>\n",
       "    <tr>\n",
       "      <th>7</th>\n",
       "      <td>Ratatouille</td>\n",
       "      <td>150000000.0</td>\n",
       "      <td>6.237261e+08</td>\n",
       "      <td>315.82</td>\n",
       "    </tr>\n",
       "    <tr>\n",
       "      <th>6</th>\n",
       "      <td>Cars</td>\n",
       "      <td>120000000.0</td>\n",
       "      <td>4.619831e+08</td>\n",
       "      <td>284.99</td>\n",
       "    </tr>\n",
       "    <tr>\n",
       "      <th>13</th>\n",
       "      <td>Monsters University</td>\n",
       "      <td>200000000.0</td>\n",
       "      <td>7.435596e+08</td>\n",
       "      <td>271.78</td>\n",
       "    </tr>\n",
       "    <tr>\n",
       "      <th>1</th>\n",
       "      <td>A Bug's Life</td>\n",
       "      <td>120000000.0</td>\n",
       "      <td>3.632589e+08</td>\n",
       "      <td>202.72</td>\n",
       "    </tr>\n",
       "    <tr>\n",
       "      <th>12</th>\n",
       "      <td>Brave</td>\n",
       "      <td>185000000.0</td>\n",
       "      <td>5.389832e+08</td>\n",
       "      <td>191.34</td>\n",
       "    </tr>\n",
       "    <tr>\n",
       "      <th>8</th>\n",
       "      <td>WALL-E</td>\n",
       "      <td>180000000.0</td>\n",
       "      <td>5.213119e+08</td>\n",
       "      <td>189.62</td>\n",
       "    </tr>\n",
       "    <tr>\n",
       "      <th>11</th>\n",
       "      <td>Cars 2</td>\n",
       "      <td>200000000.0</td>\n",
       "      <td>5.598524e+08</td>\n",
       "      <td>179.93</td>\n",
       "    </tr>\n",
       "    <tr>\n",
       "      <th>26</th>\n",
       "      <td>Elemental</td>\n",
       "      <td>200000000.0</td>\n",
       "      <td>4.964443e+08</td>\n",
       "      <td>148.22</td>\n",
       "    </tr>\n",
       "    <tr>\n",
       "      <th>17</th>\n",
       "      <td>Cars 3</td>\n",
       "      <td>175000000.0</td>\n",
       "      <td>3.839307e+08</td>\n",
       "      <td>119.39</td>\n",
       "    </tr>\n",
       "  </tbody>\n",
       "</table>\n",
       "</div>"
      ],
      "text/plain": [
       "                   film       budget  box_office_worldwide  roi_worldwide\n",
       "0             Toy Story   30000000.0          3.944366e+08        1214.79\n",
       "4          Finding Nemo   94000000.0          8.710150e+08         826.61\n",
       "27         Inside Out 2  200000000.0          1.698031e+09         749.02\n",
       "5       The Incredibles   92000000.0          6.314421e+08         586.35\n",
       "19        Incredibles 2  200000000.0          1.242805e+09         521.40\n",
       "2           Toy Story 2   90000000.0          5.113583e+08         468.18\n",
       "20          Toy Story 4  200000000.0          1.073395e+09         436.70\n",
       "10          Toy Story 3  200000000.0          1.066970e+09         433.48\n",
       "16         Finding Dory  200000000.0          1.028571e+09         414.29\n",
       "14           Inside Out  175000000.0          8.576112e+08         390.06\n",
       "18                 Coco  175000000.0          8.146412e+08         365.51\n",
       "3        Monsters, Inc.  115000000.0          5.287732e+08         359.80\n",
       "9                    Up  175000000.0          7.350991e+08         320.06\n",
       "7           Ratatouille  150000000.0          6.237261e+08         315.82\n",
       "6                  Cars  120000000.0          4.619831e+08         284.99\n",
       "13  Monsters University  200000000.0          7.435596e+08         271.78\n",
       "1          A Bug's Life  120000000.0          3.632589e+08         202.72\n",
       "12                Brave  185000000.0          5.389832e+08         191.34\n",
       "8                WALL-E  180000000.0          5.213119e+08         189.62\n",
       "11               Cars 2  200000000.0          5.598524e+08         179.93\n",
       "26            Elemental  200000000.0          4.964443e+08         148.22\n",
       "17               Cars 3  175000000.0          3.839307e+08         119.39"
      ]
     },
     "execution_count": 169,
     "metadata": {},
     "output_type": "execute_result"
    }
   ],
   "source": [
    "exceeding_100 = roi_df[roi_df.roi_worldwide > 100.00]\n",
    "exceeding_100 = exceeding_100.sort_values(\"roi_worldwide\", ascending = False)\n",
    "exceeding_100 = exceeding_100[[\"film\", \"budget\", \"box_office_worldwide\", \"roi_worldwide\"]]\n",
    "\n",
    "print(\"There are {} films (listed below) who's global ROI exceeded the initial budget by more than 100%.\".format(len(exceeding_100)))\n",
    "print(\"\")\n",
    "exceeding_100"
   ]
  },
  {
   "cell_type": "markdown",
   "id": "823d8466-047a-4d64-ac91-1ad53fd9ff89",
   "metadata": {},
   "source": [
    "<font color = \"blue\">Among the profit making films, which films generated a global ROI of under 100%?</font>"
   ]
  },
  {
   "cell_type": "code",
   "execution_count": 171,
   "id": "5f7dd0e2-bde5-4885-94b2-0e2dbab7c1aa",
   "metadata": {},
   "outputs": [
    {
     "name": "stdout",
     "output_type": "stream",
     "text": [
      "Among the profit making films, there are 2 films (listed below) who's global ROI is under the 100% mark.\n",
      "\n"
     ]
    },
    {
     "data": {
      "text/html": [
       "<div>\n",
       "<style scoped>\n",
       "    .dataframe tbody tr th:only-of-type {\n",
       "        vertical-align: middle;\n",
       "    }\n",
       "\n",
       "    .dataframe tbody tr th {\n",
       "        vertical-align: top;\n",
       "    }\n",
       "\n",
       "    .dataframe thead th {\n",
       "        text-align: right;\n",
       "    }\n",
       "</style>\n",
       "<table border=\"1\" class=\"dataframe\">\n",
       "  <thead>\n",
       "    <tr style=\"text-align: right;\">\n",
       "      <th></th>\n",
       "      <th>film</th>\n",
       "      <th>budget</th>\n",
       "      <th>box_office_worldwide</th>\n",
       "      <th>roi_worldwide</th>\n",
       "    </tr>\n",
       "  </thead>\n",
       "  <tbody>\n",
       "    <tr>\n",
       "      <th>15</th>\n",
       "      <td>The Good Dinosaur</td>\n",
       "      <td>175000000.0</td>\n",
       "      <td>332207671.0</td>\n",
       "      <td>89.83</td>\n",
       "    </tr>\n",
       "    <tr>\n",
       "      <th>25</th>\n",
       "      <td>Lightyear</td>\n",
       "      <td>200000000.0</td>\n",
       "      <td>226425420.0</td>\n",
       "      <td>13.21</td>\n",
       "    </tr>\n",
       "  </tbody>\n",
       "</table>\n",
       "</div>"
      ],
      "text/plain": [
       "                 film       budget  box_office_worldwide  roi_worldwide\n",
       "15  The Good Dinosaur  175000000.0           332207671.0          89.83\n",
       "25          Lightyear  200000000.0           226425420.0          13.21"
      ]
     },
     "execution_count": 171,
     "metadata": {},
     "output_type": "execute_result"
    }
   ],
   "source": [
    "profit_under_100 = roi_df[(roi_df.roi_worldwide > 0.00) & (roi_df.roi_worldwide <= 100.00)]\n",
    "profit_under_100 = profit_under_100.sort_values(\"roi_worldwide\", ascending = False)\n",
    "profit_under_100 = profit_under_100[[\"film\", \"budget\", \"box_office_worldwide\", \"roi_worldwide\"]]\n",
    "\n",
    "print(\"Among the profit making films, there are {} films (listed below) who's global ROI is under the 100% mark.\".\n",
    "      format(len(profit_under_100)))\n",
    "print(\"\")\n",
    "profit_under_100"
   ]
  },
  {
   "cell_type": "markdown",
   "id": "8d7ab0cc-f50f-466c-b4ee-2a154f60b400",
   "metadata": {},
   "source": [
    "<font color = \"blue\">Which films has incurred a loss?</font>"
   ]
  },
  {
   "cell_type": "code",
   "execution_count": 173,
   "id": "fbcd037c-3da1-459c-b824-c2af30ef4f86",
   "metadata": {},
   "outputs": [
    {
     "name": "stdout",
     "output_type": "stream",
     "text": [
      "There are 3 films (listed below) who has incurred a loss.\n",
      "\n"
     ]
    },
    {
     "data": {
      "text/html": [
       "<div>\n",
       "<style scoped>\n",
       "    .dataframe tbody tr th:only-of-type {\n",
       "        vertical-align: middle;\n",
       "    }\n",
       "\n",
       "    .dataframe tbody tr th {\n",
       "        vertical-align: top;\n",
       "    }\n",
       "\n",
       "    .dataframe thead th {\n",
       "        text-align: right;\n",
       "    }\n",
       "</style>\n",
       "<table border=\"1\" class=\"dataframe\">\n",
       "  <thead>\n",
       "    <tr style=\"text-align: right;\">\n",
       "      <th></th>\n",
       "      <th>film</th>\n",
       "      <th>budget</th>\n",
       "      <th>box_office_worldwide</th>\n",
       "      <th>roi_worldwide</th>\n",
       "    </tr>\n",
       "  </thead>\n",
       "  <tbody>\n",
       "    <tr>\n",
       "      <th>24</th>\n",
       "      <td>Turning Red</td>\n",
       "      <td>175000000.0</td>\n",
       "      <td>21813358.0</td>\n",
       "      <td>-87.54</td>\n",
       "    </tr>\n",
       "    <tr>\n",
       "      <th>21</th>\n",
       "      <td>Onward</td>\n",
       "      <td>175000000.0</td>\n",
       "      <td>141940042.0</td>\n",
       "      <td>-18.89</td>\n",
       "    </tr>\n",
       "    <tr>\n",
       "      <th>22</th>\n",
       "      <td>Soul</td>\n",
       "      <td>150000000.0</td>\n",
       "      <td>121903885.0</td>\n",
       "      <td>-18.73</td>\n",
       "    </tr>\n",
       "  </tbody>\n",
       "</table>\n",
       "</div>"
      ],
      "text/plain": [
       "           film       budget  box_office_worldwide  roi_worldwide\n",
       "24  Turning Red  175000000.0            21813358.0         -87.54\n",
       "21       Onward  175000000.0           141940042.0         -18.89\n",
       "22         Soul  150000000.0           121903885.0         -18.73"
      ]
     },
     "execution_count": 173,
     "metadata": {},
     "output_type": "execute_result"
    }
   ],
   "source": [
    "loss_films = roi_df[roi_df.roi_worldwide < 0.00]\n",
    "loss_films = loss_films.sort_values(\"roi_worldwide\", ascending = True)\n",
    "loss_films = loss_films[[\"film\", \"budget\", \"box_office_worldwide\", \"roi_worldwide\"]]\n",
    "\n",
    "print(\"There are {} films (listed below) who has incurred a loss.\".format(len(loss_films)))\n",
    "print(\"\")\n",
    "loss_films"
   ]
  },
  {
   "cell_type": "code",
   "execution_count": 174,
   "id": "97a5e70d-082b-44b6-9234-06b39ba2cea9",
   "metadata": {},
   "outputs": [
    {
     "data": {
      "text/html": [
       "<div>\n",
       "<style scoped>\n",
       "    .dataframe tbody tr th:only-of-type {\n",
       "        vertical-align: middle;\n",
       "    }\n",
       "\n",
       "    .dataframe tbody tr th {\n",
       "        vertical-align: top;\n",
       "    }\n",
       "\n",
       "    .dataframe thead th {\n",
       "        text-align: right;\n",
       "    }\n",
       "</style>\n",
       "<table border=\"1\" class=\"dataframe\">\n",
       "  <thead>\n",
       "    <tr style=\"text-align: right;\">\n",
       "      <th></th>\n",
       "      <th>roi_mark</th>\n",
       "      <th>film_ratio</th>\n",
       "    </tr>\n",
       "  </thead>\n",
       "  <tbody>\n",
       "    <tr>\n",
       "      <th>0</th>\n",
       "      <td>profit over 100%</td>\n",
       "      <td>81.0</td>\n",
       "    </tr>\n",
       "    <tr>\n",
       "      <th>1</th>\n",
       "      <td>profit under 100%</td>\n",
       "      <td>7.0</td>\n",
       "    </tr>\n",
       "    <tr>\n",
       "      <th>2</th>\n",
       "      <td>loss</td>\n",
       "      <td>11.0</td>\n",
       "    </tr>\n",
       "  </tbody>\n",
       "</table>\n",
       "</div>"
      ],
      "text/plain": [
       "            roi_mark  film_ratio\n",
       "0   profit over 100%        81.0\n",
       "1  profit under 100%         7.0\n",
       "2               loss        11.0"
      ]
     },
     "execution_count": 174,
     "metadata": {},
     "output_type": "execute_result"
    }
   ],
   "source": [
    "total_count = len(exceeding_100) + len(profit_under_100) + len(loss_films)\n",
    "pr_above_100 = ((len(exceeding_100) / total_count) * 100)\n",
    "pr_under_100 = ((len(profit_under_100) / total_count) * 100)\n",
    "lr = ((len(loss_films) / total_count) * 100)\n",
    "\n",
    "result = {\n",
    "            \"roi_mark\" : [\"profit over 100%\", \"profit under 100%\", \"loss\"],\n",
    "            \"film_ratio\" : [pr_above_100, pr_under_100, lr]\n",
    "         }\n",
    "\n",
    "result_df = pd.DataFrame(result)\n",
    "\n",
    "# View\n",
    "result_df[\"film_ratio\"] = result_df[\"film_ratio\"].round()\n",
    "result_df"
   ]
  },
  {
   "cell_type": "code",
   "execution_count": 175,
   "id": "bd69776f-f92f-4402-83ae-5f2e78f723ac",
   "metadata": {},
   "outputs": [
    {
     "data": {
      "text/plain": [
       "<matplotlib.patches.Circle at 0x150928fe0>"
      ]
     },
     "execution_count": 175,
     "metadata": {},
     "output_type": "execute_result"
    },
    {
     "data": {
      "text/plain": [
       "Text(0.5, 1.0, 'Film ROI Distribution')"
      ]
     },
     "execution_count": 175,
     "metadata": {},
     "output_type": "execute_result"
    },
    {
     "data": {
      "image/png": "[encoded data removed]",
      "text/plain": [
       "<Figure size 600x600 with 1 Axes>"
      ]
     },
     "metadata": {},
     "output_type": "display_data"
    }
   ],
   "source": [
    "# Visualize\n",
    "labels = result_df[\"roi_mark\"]\n",
    "sizes = result_df[\"film_ratio\"]\n",
    "\n",
    "# Plot\n",
    "cmap = cm.get_cmap('Blues')\n",
    "colors = [cmap(i) for i in np.linspace(0.8, 0.3, len(sizes))]\n",
    "fig, ax = plt.subplots(figsize=(6, 6))\n",
    "wedges, texts, autotexts = ax.pie(sizes, labels=labels, autopct=\"%1.0f%%\", startangle=90,\n",
    "                                                                        wedgeprops=dict(width=0.4), textprops=dict(color=\"black\"))\n",
    "centre_circle = plt.Circle((0, 0), 0.70, fc='white')\n",
    "fig.gca().add_artist(centre_circle)\n",
    "plt.title(\"Film ROI Distribution\")\n",
    "plt.tight_layout()\n",
    "plt.show()"
   ]
  },
  {
   "cell_type": "markdown",
   "id": "14f57c54-2ee4-4452-8847-0d93869dbf38",
   "metadata": {},
   "source": [
    "<font color = \"blue\">Which films has incurred more revenue in US-Canada compared to other regions and vice versa?</font>"
   ]
  },
  {
   "cell_type": "code",
   "execution_count": 177,
   "id": "3c3624ad-0f58-463e-9623-cf4d6b347e2d",
   "metadata": {},
   "outputs": [
    {
     "name": "stdout",
     "output_type": "stream",
     "text": [
      "There are 3 films (listed below) who all are leading in US-Canada region compared to other regions.\n",
      "\n"
     ]
    },
    {
     "data": {
      "text/html": [
       "<div>\n",
       "<style scoped>\n",
       "    .dataframe tbody tr th:only-of-type {\n",
       "        vertical-align: middle;\n",
       "    }\n",
       "\n",
       "    .dataframe tbody tr th {\n",
       "        vertical-align: top;\n",
       "    }\n",
       "\n",
       "    .dataframe thead th {\n",
       "        text-align: right;\n",
       "    }\n",
       "</style>\n",
       "<table border=\"1\" class=\"dataframe\">\n",
       "  <thead>\n",
       "    <tr style=\"text-align: right;\">\n",
       "      <th></th>\n",
       "      <th>film</th>\n",
       "    </tr>\n",
       "  </thead>\n",
       "  <tbody>\n",
       "    <tr>\n",
       "      <th>0</th>\n",
       "      <td>Toy Story</td>\n",
       "    </tr>\n",
       "    <tr>\n",
       "      <th>6</th>\n",
       "      <td>Cars</td>\n",
       "    </tr>\n",
       "    <tr>\n",
       "      <th>25</th>\n",
       "      <td>Lightyear</td>\n",
       "    </tr>\n",
       "  </tbody>\n",
       "</table>\n",
       "</div>"
      ],
      "text/plain": [
       "         film\n",
       "0   Toy Story\n",
       "6        Cars\n",
       "25  Lightyear"
      ]
     },
     "execution_count": 177,
     "metadata": {},
     "output_type": "execute_result"
    }
   ],
   "source": [
    "# US and Canada leading in revenue compared to Other markets\n",
    "us_canada_lead = box_off_df[box_off_df[\"box_office_us_canada\"] > box_off_df[\"box_office_other\"]]\n",
    "\n",
    "print(\"There are {} films (listed below) who all are leading in US-Canada region compared to other regions.\".format(len(us_canada_lead)))\n",
    "print(\"\")\n",
    "us_canada_lead[[\"film\"]]"
   ]
  },
  {
   "cell_type": "code",
   "execution_count": 178,
   "id": "84963a94-7ff1-4c02-8d2e-a9f1309c2363",
   "metadata": {},
   "outputs": [
    {
     "name": "stdout",
     "output_type": "stream",
     "text": [
      "There are 25 films (listed below) who all are leading in other regions compared to US-Canada regions.\n",
      "\n"
     ]
    },
    {
     "data": {
      "text/html": [
       "<div>\n",
       "<style scoped>\n",
       "    .dataframe tbody tr th:only-of-type {\n",
       "        vertical-align: middle;\n",
       "    }\n",
       "\n",
       "    .dataframe tbody tr th {\n",
       "        vertical-align: top;\n",
       "    }\n",
       "\n",
       "    .dataframe thead th {\n",
       "        text-align: right;\n",
       "    }\n",
       "</style>\n",
       "<table border=\"1\" class=\"dataframe\">\n",
       "  <thead>\n",
       "    <tr style=\"text-align: right;\">\n",
       "      <th></th>\n",
       "      <th>film</th>\n",
       "    </tr>\n",
       "  </thead>\n",
       "  <tbody>\n",
       "    <tr>\n",
       "      <th>1</th>\n",
       "      <td>A Bug's Life</td>\n",
       "    </tr>\n",
       "    <tr>\n",
       "      <th>2</th>\n",
       "      <td>Toy Story 2</td>\n",
       "    </tr>\n",
       "    <tr>\n",
       "      <th>3</th>\n",
       "      <td>Monsters, Inc.</td>\n",
       "    </tr>\n",
       "    <tr>\n",
       "      <th>4</th>\n",
       "      <td>Finding Nemo</td>\n",
       "    </tr>\n",
       "    <tr>\n",
       "      <th>5</th>\n",
       "      <td>The Incredibles</td>\n",
       "    </tr>\n",
       "    <tr>\n",
       "      <th>7</th>\n",
       "      <td>Ratatouille</td>\n",
       "    </tr>\n",
       "    <tr>\n",
       "      <th>8</th>\n",
       "      <td>WALL-E</td>\n",
       "    </tr>\n",
       "    <tr>\n",
       "      <th>9</th>\n",
       "      <td>Up</td>\n",
       "    </tr>\n",
       "    <tr>\n",
       "      <th>10</th>\n",
       "      <td>Toy Story 3</td>\n",
       "    </tr>\n",
       "    <tr>\n",
       "      <th>11</th>\n",
       "      <td>Cars 2</td>\n",
       "    </tr>\n",
       "    <tr>\n",
       "      <th>12</th>\n",
       "      <td>Brave</td>\n",
       "    </tr>\n",
       "    <tr>\n",
       "      <th>13</th>\n",
       "      <td>Monsters University</td>\n",
       "    </tr>\n",
       "    <tr>\n",
       "      <th>14</th>\n",
       "      <td>Inside Out</td>\n",
       "    </tr>\n",
       "    <tr>\n",
       "      <th>15</th>\n",
       "      <td>The Good Dinosaur</td>\n",
       "    </tr>\n",
       "    <tr>\n",
       "      <th>16</th>\n",
       "      <td>Finding Dory</td>\n",
       "    </tr>\n",
       "    <tr>\n",
       "      <th>17</th>\n",
       "      <td>Cars 3</td>\n",
       "    </tr>\n",
       "    <tr>\n",
       "      <th>18</th>\n",
       "      <td>Coco</td>\n",
       "    </tr>\n",
       "    <tr>\n",
       "      <th>19</th>\n",
       "      <td>Incredibles 2</td>\n",
       "    </tr>\n",
       "    <tr>\n",
       "      <th>20</th>\n",
       "      <td>Toy Story 4</td>\n",
       "    </tr>\n",
       "    <tr>\n",
       "      <th>21</th>\n",
       "      <td>Onward</td>\n",
       "    </tr>\n",
       "    <tr>\n",
       "      <th>22</th>\n",
       "      <td>Soul</td>\n",
       "    </tr>\n",
       "    <tr>\n",
       "      <th>23</th>\n",
       "      <td>Luca</td>\n",
       "    </tr>\n",
       "    <tr>\n",
       "      <th>24</th>\n",
       "      <td>Turning Red</td>\n",
       "    </tr>\n",
       "    <tr>\n",
       "      <th>26</th>\n",
       "      <td>Elemental</td>\n",
       "    </tr>\n",
       "    <tr>\n",
       "      <th>27</th>\n",
       "      <td>Inside Out 2</td>\n",
       "    </tr>\n",
       "  </tbody>\n",
       "</table>\n",
       "</div>"
      ],
      "text/plain": [
       "                   film\n",
       "1          A Bug's Life\n",
       "2           Toy Story 2\n",
       "3        Monsters, Inc.\n",
       "4          Finding Nemo\n",
       "5       The Incredibles\n",
       "7           Ratatouille\n",
       "8                WALL-E\n",
       "9                    Up\n",
       "10          Toy Story 3\n",
       "11               Cars 2\n",
       "12                Brave\n",
       "13  Monsters University\n",
       "14           Inside Out\n",
       "15    The Good Dinosaur\n",
       "16         Finding Dory\n",
       "17               Cars 3\n",
       "18                 Coco\n",
       "19        Incredibles 2\n",
       "20          Toy Story 4\n",
       "21               Onward\n",
       "22                 Soul\n",
       "23                 Luca\n",
       "24          Turning Red\n",
       "26            Elemental\n",
       "27         Inside Out 2"
      ]
     },
     "execution_count": 178,
     "metadata": {},
     "output_type": "execute_result"
    }
   ],
   "source": [
    "# Other regions leading in revenue compared to US-Canada markets\n",
    "other_lead = box_off_df[box_off_df[\"box_office_us_canada\"] < box_off_df[\"box_office_other\"]]\n",
    "\n",
    "print(\"There are {} films (listed below) who all are leading in other regions compared to US-Canada regions.\".format(len(other_lead)))\n",
    "print(\"\")\n",
    "other_lead[[\"film\"]]"
   ]
  },
  {
   "cell_type": "code",
   "execution_count": 179,
   "id": "c31cfd18-59b2-4986-aea3-49f0a746ab20",
   "metadata": {},
   "outputs": [
    {
     "data": {
      "text/html": [
       "<div>\n",
       "<style scoped>\n",
       "    .dataframe tbody tr th:only-of-type {\n",
       "        vertical-align: middle;\n",
       "    }\n",
       "\n",
       "    .dataframe tbody tr th {\n",
       "        vertical-align: top;\n",
       "    }\n",
       "\n",
       "    .dataframe thead th {\n",
       "        text-align: right;\n",
       "    }\n",
       "</style>\n",
       "<table border=\"1\" class=\"dataframe\">\n",
       "  <thead>\n",
       "    <tr style=\"text-align: right;\">\n",
       "      <th></th>\n",
       "      <th>regions</th>\n",
       "      <th>leading_ratio</th>\n",
       "    </tr>\n",
       "  </thead>\n",
       "  <tbody>\n",
       "    <tr>\n",
       "      <th>0</th>\n",
       "      <td>US-Canada</td>\n",
       "      <td>11.0</td>\n",
       "    </tr>\n",
       "    <tr>\n",
       "      <th>1</th>\n",
       "      <td>Other</td>\n",
       "      <td>89.0</td>\n",
       "    </tr>\n",
       "  </tbody>\n",
       "</table>\n",
       "</div>"
      ],
      "text/plain": [
       "     regions  leading_ratio\n",
       "0  US-Canada           11.0\n",
       "1      Other           89.0"
      ]
     },
     "execution_count": 179,
     "metadata": {},
     "output_type": "execute_result"
    }
   ],
   "source": [
    "total_movie = 28\n",
    "us_canada_ratio = (len(us_canada_lead) / total_movie) * 100\n",
    "other_ratio = 100 - us_canada_ratio\n",
    "\n",
    "lead_result = {\n",
    "    \"regions\" : [\"US-Canada\", \"Other\"],\n",
    "    \"leading_ratio\" : [us_canada_ratio, other_ratio] \n",
    "}\n",
    "\n",
    "lead_df = pd.DataFrame(lead_result)\n",
    "lead_df[\"leading_ratio\"] = lead_df[\"leading_ratio\"].round()\n",
    "lead_df"
   ]
  },
  {
   "cell_type": "code",
   "execution_count": 180,
   "id": "5f1943cd-c513-443a-9799-a8cde6a9035e",
   "metadata": {},
   "outputs": [
    {
     "data": {
      "text/plain": [
       "([<matplotlib.patches.Wedge at 0x150ae3260>,\n",
       "  <matplotlib.patches.Wedge at 0x150adffb0>],\n",
       " [Text(-0.3726117103318049, 1.0349688465473768, 'US-Canada'),\n",
       "  Text(0.3726116618814165, -1.0349688639905885, 'Other')],\n",
       " [Text(-0.20324275109007536, 0.5645284617531144, '11.0%'),\n",
       "  Text(0.20324272466259077, -0.5645284712675936, '89.0%')])"
      ]
     },
     "execution_count": 180,
     "metadata": {},
     "output_type": "execute_result"
    },
    {
     "data": {
      "text/plain": [
       "Text(0.5, 1.0, 'Region-Wise Leading Market Share')"
      ]
     },
     "execution_count": 180,
     "metadata": {},
     "output_type": "execute_result"
    },
    {
     "data": {
      "image/png": "[encoded data removed]",
      "text/plain": [
       "<Figure size 600x600 with 1 Axes>"
      ]
     },
     "metadata": {},
     "output_type": "display_data"
    }
   ],
   "source": [
    "# Visualize\n",
    "labels = lead_df[\"regions\"]\n",
    "sizes = lead_df[\"leading_ratio\"]\n",
    "\n",
    "# Plot\n",
    "fig, ax = plt.subplots(figsize=(6, 6))\n",
    "ax.pie(sizes, labels=labels, autopct=\"%1.1f%%\", startangle=90, colors=plt.cm.Blues([0.3, 0.6]))\n",
    "plt.title(\"Region-Wise Leading Market Share\", fontsize=14)\n",
    "plt.tight_layout()\n",
    "plt.show()"
   ]
  },
  {
   "cell_type": "markdown",
   "id": "4f2d797d-d043-41b6-af2b-6403d5b07e84",
   "metadata": {},
   "source": [
    "5. **Public Reviews Data**"
   ]
  },
  {
   "cell_type": "markdown",
   "id": "9a0808fc-91ac-4be3-bb29-f1f6138195c5",
   "metadata": {},
   "source": [
    "**Key Questions**\n",
    "\n",
    "<ul>\n",
    "    <li>What is the average, minimum, and maximum score for each platform (Rotten Tomatoes, Metacritic, IMDb)?</li>\n",
    "    <li>How do Rotten Tomatoes and Metacritic scores compare across all films?</li>\n",
    "    <li>How many films received a perfect 100 Rotten Tomatoes score?</li>\n",
    "    <li>Do films with higher Rotten Tomatoes scores also have high IMDb scores?</li>\n",
    "    <li>Is there a strong correlation between Metacritic and Rotten Tomatoes scores?</li>\n",
    "    <li>How does IMDb rating vary with the number of IMDb reviews?</li>\n",
    "    <li>Which 5 films have the highest overall ratings across all platforms?</li>\n",
    "    <li>Which films had the biggest mismatch between critical and audience scores? (e.g., high IMDb but low Metacritic)</li>\n",
    "    <li>How do films rated “A+” on CinemaScore compare to those rated “A” or “A-”?</li>\n",
    "</ul>"
   ]
  },
  {
   "cell_type": "code",
   "execution_count": 183,
   "id": "b68e146a-890d-4b47-ab95-025909f91941",
   "metadata": {},
   "outputs": [
    {
     "data": {
      "text/html": [
       "<div>\n",
       "<style scoped>\n",
       "    .dataframe tbody tr th:only-of-type {\n",
       "        vertical-align: middle;\n",
       "    }\n",
       "\n",
       "    .dataframe tbody tr th {\n",
       "        vertical-align: top;\n",
       "    }\n",
       "\n",
       "    .dataframe thead th {\n",
       "        text-align: right;\n",
       "    }\n",
       "</style>\n",
       "<table border=\"1\" class=\"dataframe\">\n",
       "  <thead>\n",
       "    <tr style=\"text-align: right;\">\n",
       "      <th></th>\n",
       "      <th>film</th>\n",
       "      <th>rotten_tomatoes_score</th>\n",
       "      <th>rotten_tomatoes_counts</th>\n",
       "      <th>metacritic_score</th>\n",
       "      <th>metacritic_counts</th>\n",
       "      <th>cinema_score</th>\n",
       "      <th>imdb_score</th>\n",
       "      <th>imdb_counts</th>\n",
       "    </tr>\n",
       "  </thead>\n",
       "  <tbody>\n",
       "    <tr>\n",
       "      <th>0</th>\n",
       "      <td>Toy Story</td>\n",
       "      <td>100</td>\n",
       "      <td>96</td>\n",
       "      <td>95</td>\n",
       "      <td>26</td>\n",
       "      <td>A</td>\n",
       "      <td>8.3</td>\n",
       "      <td>1089101</td>\n",
       "    </tr>\n",
       "    <tr>\n",
       "      <th>1</th>\n",
       "      <td>A Bug's Life</td>\n",
       "      <td>92</td>\n",
       "      <td>91</td>\n",
       "      <td>78</td>\n",
       "      <td>23</td>\n",
       "      <td>A</td>\n",
       "      <td>7.2</td>\n",
       "      <td>319596</td>\n",
       "    </tr>\n",
       "    <tr>\n",
       "      <th>2</th>\n",
       "      <td>Toy Story 2</td>\n",
       "      <td>100</td>\n",
       "      <td>172</td>\n",
       "      <td>88</td>\n",
       "      <td>34</td>\n",
       "      <td>A+</td>\n",
       "      <td>7.9</td>\n",
       "      <td>630573</td>\n",
       "    </tr>\n",
       "    <tr>\n",
       "      <th>3</th>\n",
       "      <td>Monsters, Inc.</td>\n",
       "      <td>96</td>\n",
       "      <td>199</td>\n",
       "      <td>79</td>\n",
       "      <td>35</td>\n",
       "      <td>A+</td>\n",
       "      <td>8.1</td>\n",
       "      <td>1000657</td>\n",
       "    </tr>\n",
       "    <tr>\n",
       "      <th>4</th>\n",
       "      <td>Finding Nemo</td>\n",
       "      <td>99</td>\n",
       "      <td>270</td>\n",
       "      <td>90</td>\n",
       "      <td>38</td>\n",
       "      <td>A+</td>\n",
       "      <td>8.2</td>\n",
       "      <td>1132877</td>\n",
       "    </tr>\n",
       "  </tbody>\n",
       "</table>\n",
       "</div>"
      ],
      "text/plain": [
       "             film  rotten_tomatoes_score  rotten_tomatoes_counts  \\\n",
       "0       Toy Story                    100                      96   \n",
       "1    A Bug's Life                     92                      91   \n",
       "2     Toy Story 2                    100                     172   \n",
       "3  Monsters, Inc.                     96                     199   \n",
       "4    Finding Nemo                     99                     270   \n",
       "\n",
       "   metacritic_score  metacritic_counts cinema_score  imdb_score  imdb_counts  \n",
       "0                95                 26            A         8.3      1089101  \n",
       "1                78                 23            A         7.2       319596  \n",
       "2                88                 34           A+         7.9       630573  \n",
       "3                79                 35           A+         8.1      1000657  \n",
       "4                90                 38           A+         8.2      1132877  "
      ]
     },
     "execution_count": 183,
     "metadata": {},
     "output_type": "execute_result"
    }
   ],
   "source": [
    "reviews_df.head()"
   ]
  },
  {
   "cell_type": "markdown",
   "id": "18b10a69-e4cc-4098-85d4-08bddbf8c57c",
   "metadata": {},
   "source": [
    "<font color = \"blue\">What is the average, minimum, and maximum score for each platform (Rotten Tomatoes, Metacritic, IMDb)?</font>"
   ]
  },
  {
   "cell_type": "code",
   "execution_count": 185,
   "id": "4eb96f0b-1637-4304-b9b8-ccf4991798e1",
   "metadata": {},
   "outputs": [
    {
     "name": "stdout",
     "output_type": "stream",
     "text": [
      "The Rotten Tomatoes scores range from 40 to 100, with an average score of 88.36 across all films.\n",
      "The Metacritic scores range from 57 to 96, with an average score of 78.14 across all films.\n",
      "The IMDb scores range from 6.1 to 8.4, with an average score of 7.54 across all films.\n"
     ]
    }
   ],
   "source": [
    "# Rotten Tomatoes\n",
    "rot_tom_min = reviews_df[\"rotten_tomatoes_score\"].min()\n",
    "rot_tom_avg = reviews_df[\"rotten_tomatoes_score\"].mean().round(2)\n",
    "rot_tom_max = reviews_df[\"rotten_tomatoes_score\"].max()\n",
    "\n",
    "# Metacritic\n",
    "meta_min = reviews_df[\"metacritic_score\"].min()\n",
    "meta_avg = reviews_df[\"metacritic_score\"].mean().round(2)\n",
    "meta_max = reviews_df[\"metacritic_score\"].max()\n",
    "\n",
    "# IMDb\n",
    "imdb_min = reviews_df[\"imdb_score\"].min()\n",
    "imdb_avg = reviews_df[\"imdb_score\"].mean().round(2)\n",
    "imdb_max = reviews_df[\"imdb_score\"].max()\n",
    "\n",
    "print(\"The Rotten Tomatoes scores range from {} to {}, with an average score of {} across all films.\".format(\n",
    "    rot_tom_min, rot_tom_max, rot_tom_avg))\n",
    "print(\"The Metacritic scores range from {} to {}, with an average score of {} across all films.\".format(\n",
    "    meta_min, meta_max, meta_avg))\n",
    "print(\"The IMDb scores range from {} to {}, with an average score of {} across all films.\".format(\n",
    "    imdb_min, imdb_max, imdb_avg))"
   ]
  },
  {
   "cell_type": "markdown",
   "id": "94d8f4f6-e698-42d3-b61c-1b4fbe36c4e8",
   "metadata": {},
   "source": [
    "<font color = \"blue\">How do Rotten Tomatoes and Metacritic scores compare across all films?</font>"
   ]
  },
  {
   "cell_type": "code",
   "execution_count": 187,
   "id": "44e68b0f-1707-495c-a91e-884fa68d1115",
   "metadata": {},
   "outputs": [
    {
     "data": {
      "text/plain": [
       "<Figure size 600x500 with 0 Axes>"
      ]
     },
     "execution_count": 187,
     "metadata": {},
     "output_type": "execute_result"
    },
    {
     "data": {
      "text/plain": [
       "<Axes: xlabel='rotten_tomatoes_score', ylabel='metacritic_score'>"
      ]
     },
     "execution_count": 187,
     "metadata": {},
     "output_type": "execute_result"
    },
    {
     "data": {
      "text/plain": [
       "Text(0.5, 1.0, 'Rotten Tomatoes Vs Metecritic Scores across all Films')"
      ]
     },
     "execution_count": 187,
     "metadata": {},
     "output_type": "execute_result"
    },
    {
     "data": {
      "image/png": "[encoded data removed]",
      "text/plain": [
       "<Figure size 600x500 with 1 Axes>"
      ]
     },
     "metadata": {},
     "output_type": "display_data"
    }
   ],
   "source": [
    "# Scatter plot\n",
    "plt.figure(figsize = (6,5))\n",
    "sns.scatterplot(data = reviews_df, x = \"rotten_tomatoes_score\", y = \"metacritic_score\", palette = \"tab20\", hue = \"film\", legend = False)\n",
    "plt.title(\"Rotten Tomatoes Vs Metecritic Scores across all Films\")\n",
    "plt.grid(True)\n",
    "plt.show()"
   ]
  },
  {
   "cell_type": "markdown",
   "id": "2146a5f9-792b-4a18-8df5-bda403a5dd35",
   "metadata": {},
   "source": [
    "As *Rotten Tomatoes* scores increases, *Metacritic* scores also tends to increase indicates a positive correlation between these two scores."
   ]
  },
  {
   "cell_type": "markdown",
   "id": "3e38707c-c1a5-4595-a5a1-1b668e93d391",
   "metadata": {},
   "source": [
    "<font color = \"blue\">How many films received a perfect 100 Rotten Tomatoes score?</font>"
   ]
  },
  {
   "cell_type": "code",
   "execution_count": 190,
   "id": "d315b526-88c2-4b61-9346-303a7d47f0e3",
   "metadata": {},
   "outputs": [
    {
     "name": "stdout",
     "output_type": "stream",
     "text": [
      "2 films received a perfect 100 Rotten Tomatoes score.\n",
      "\n"
     ]
    },
    {
     "data": {
      "text/html": [
       "<div>\n",
       "<style scoped>\n",
       "    .dataframe tbody tr th:only-of-type {\n",
       "        vertical-align: middle;\n",
       "    }\n",
       "\n",
       "    .dataframe tbody tr th {\n",
       "        vertical-align: top;\n",
       "    }\n",
       "\n",
       "    .dataframe thead th {\n",
       "        text-align: right;\n",
       "    }\n",
       "</style>\n",
       "<table border=\"1\" class=\"dataframe\">\n",
       "  <thead>\n",
       "    <tr style=\"text-align: right;\">\n",
       "      <th></th>\n",
       "      <th>film</th>\n",
       "      <th>rotten_tomatoes_score</th>\n",
       "    </tr>\n",
       "  </thead>\n",
       "  <tbody>\n",
       "    <tr>\n",
       "      <th>0</th>\n",
       "      <td>Toy Story</td>\n",
       "      <td>100</td>\n",
       "    </tr>\n",
       "    <tr>\n",
       "      <th>2</th>\n",
       "      <td>Toy Story 2</td>\n",
       "      <td>100</td>\n",
       "    </tr>\n",
       "  </tbody>\n",
       "</table>\n",
       "</div>"
      ],
      "text/plain": [
       "          film  rotten_tomatoes_score\n",
       "0    Toy Story                    100\n",
       "2  Toy Story 2                    100"
      ]
     },
     "execution_count": 190,
     "metadata": {},
     "output_type": "execute_result"
    }
   ],
   "source": [
    "rot_tom_100 = reviews_df[reviews_df.rotten_tomatoes_score == 100][[\"film\", \"rotten_tomatoes_score\"]]\n",
    "\n",
    "print(\"{} films received a perfect 100 Rotten Tomatoes score.\".format(len(rot_tom_100)))\n",
    "print(\"\")\n",
    "rot_tom_100"
   ]
  },
  {
   "cell_type": "markdown",
   "id": "352ae0af-fbaa-408a-a72a-7fd49d679cbd",
   "metadata": {},
   "source": [
    "<font color = \"blue\">Do films with higher Rotten Tomatoes scores also have high IMDb scores?</font>"
   ]
  },
  {
   "cell_type": "code",
   "execution_count": 192,
   "id": "9684d8ba-11c6-42f9-ae2e-6c0e4d8d9d88",
   "metadata": {},
   "outputs": [
    {
     "data": {
      "text/html": [
       "<div>\n",
       "<style scoped>\n",
       "    .dataframe tbody tr th:only-of-type {\n",
       "        vertical-align: middle;\n",
       "    }\n",
       "\n",
       "    .dataframe tbody tr th {\n",
       "        vertical-align: top;\n",
       "    }\n",
       "\n",
       "    .dataframe thead th {\n",
       "        text-align: right;\n",
       "    }\n",
       "</style>\n",
       "<table border=\"1\" class=\"dataframe\">\n",
       "  <thead>\n",
       "    <tr style=\"text-align: right;\">\n",
       "      <th></th>\n",
       "      <th>film</th>\n",
       "      <th>rotten_tomatoes_score</th>\n",
       "      <th>imdb_score</th>\n",
       "    </tr>\n",
       "  </thead>\n",
       "  <tbody>\n",
       "    <tr>\n",
       "      <th>0</th>\n",
       "      <td>Toy Story</td>\n",
       "      <td>100</td>\n",
       "      <td>8.3</td>\n",
       "    </tr>\n",
       "    <tr>\n",
       "      <th>2</th>\n",
       "      <td>Toy Story 2</td>\n",
       "      <td>100</td>\n",
       "      <td>7.9</td>\n",
       "    </tr>\n",
       "  </tbody>\n",
       "</table>\n",
       "</div>"
      ],
      "text/plain": [
       "          film  rotten_tomatoes_score  imdb_score\n",
       "0    Toy Story                    100         8.3\n",
       "2  Toy Story 2                    100         7.9"
      ]
     },
     "execution_count": 192,
     "metadata": {},
     "output_type": "execute_result"
    }
   ],
   "source": [
    "reviews_df[reviews_df.rotten_tomatoes_score == 100][[\"film\", \"rotten_tomatoes_score\", \"imdb_score\"]]"
   ]
  },
  {
   "cell_type": "code",
   "execution_count": 193,
   "id": "7c545d16-7247-47dc-8831-dc939f296f85",
   "metadata": {},
   "outputs": [
    {
     "name": "stdout",
     "output_type": "stream",
     "text": [
      "Correlation between Rotten Tomatoes and IMDb scores: 0.82\n"
     ]
    }
   ],
   "source": [
    "# Checking the correlation between these 2 scores\n",
    "correlation = reviews_df['rotten_tomatoes_score'].corr(reviews_df['imdb_score'])\n",
    "\n",
    "print(f\"Correlation between Rotten Tomatoes and IMDb scores: {correlation:.2f}\")"
   ]
  },
  {
   "cell_type": "markdown",
   "id": "84c6c948-6a2f-4b96-8cbe-ebbc456fa811",
   "metadata": {},
   "source": [
    "Since 0.82 is close to 1, it suggests that as Rotten Tomatoes scores increase, IMDb scores also tend to increase."
   ]
  },
  {
   "cell_type": "markdown",
   "id": "e9537dba-326c-4ce7-89db-0b5bea64e143",
   "metadata": {},
   "source": [
    "<font color = \"blue\">Is there a strong correlation between Metacritic and Rotten Tomatoes scores?</font>"
   ]
  },
  {
   "cell_type": "code",
   "execution_count": 196,
   "id": "070edb42-4b2f-401d-a06c-26a44cc00fc8",
   "metadata": {},
   "outputs": [
    {
     "name": "stdout",
     "output_type": "stream",
     "text": [
      "Correlation between Rotten Tomatoes and Metacritics scores: 0.82\n"
     ]
    }
   ],
   "source": [
    "# Checking the correlation between these 2 scores\n",
    "rt_meta_corr = reviews_df['rotten_tomatoes_score'].corr(reviews_df['metacritic_score'])\n",
    "\n",
    "print(f\"Correlation between Rotten Tomatoes and Metacritics scores: {rt_meta_corr:.2f}\")"
   ]
  },
  {
   "cell_type": "markdown",
   "id": "9d68e9cb-9721-4663-a33f-3e405e442f5a",
   "metadata": {},
   "source": [
    "Since 0.82 is close to 1, it suggests that as Rotten Tomatoes scores increase, Metacritic scores also tend to increase."
   ]
  },
  {
   "cell_type": "markdown",
   "id": "2a69c1dc-734f-4736-933c-c4e472964685",
   "metadata": {},
   "source": [
    "<font color = \"blue\">How does IMDb rating vary with the number of IMDb reviews?</font>"
   ]
  },
  {
   "cell_type": "code",
   "execution_count": 199,
   "id": "73ad8eda-9b72-4753-a9e9-46a683420b0d",
   "metadata": {},
   "outputs": [
    {
     "data": {
      "text/html": [
       "<div>\n",
       "<style scoped>\n",
       "    .dataframe tbody tr th:only-of-type {\n",
       "        vertical-align: middle;\n",
       "    }\n",
       "\n",
       "    .dataframe tbody tr th {\n",
       "        vertical-align: top;\n",
       "    }\n",
       "\n",
       "    .dataframe thead th {\n",
       "        text-align: right;\n",
       "    }\n",
       "</style>\n",
       "<table border=\"1\" class=\"dataframe\">\n",
       "  <thead>\n",
       "    <tr style=\"text-align: right;\">\n",
       "      <th></th>\n",
       "      <th>film</th>\n",
       "      <th>rotten_tomatoes_score</th>\n",
       "      <th>rotten_tomatoes_counts</th>\n",
       "      <th>metacritic_score</th>\n",
       "      <th>metacritic_counts</th>\n",
       "      <th>cinema_score</th>\n",
       "      <th>imdb_score</th>\n",
       "      <th>imdb_counts</th>\n",
       "    </tr>\n",
       "  </thead>\n",
       "  <tbody>\n",
       "    <tr>\n",
       "      <th>0</th>\n",
       "      <td>Toy Story</td>\n",
       "      <td>100</td>\n",
       "      <td>96</td>\n",
       "      <td>95</td>\n",
       "      <td>26</td>\n",
       "      <td>A</td>\n",
       "      <td>8.3</td>\n",
       "      <td>1089101</td>\n",
       "    </tr>\n",
       "    <tr>\n",
       "      <th>1</th>\n",
       "      <td>A Bug's Life</td>\n",
       "      <td>92</td>\n",
       "      <td>91</td>\n",
       "      <td>78</td>\n",
       "      <td>23</td>\n",
       "      <td>A</td>\n",
       "      <td>7.2</td>\n",
       "      <td>319596</td>\n",
       "    </tr>\n",
       "    <tr>\n",
       "      <th>2</th>\n",
       "      <td>Toy Story 2</td>\n",
       "      <td>100</td>\n",
       "      <td>172</td>\n",
       "      <td>88</td>\n",
       "      <td>34</td>\n",
       "      <td>A+</td>\n",
       "      <td>7.9</td>\n",
       "      <td>630573</td>\n",
       "    </tr>\n",
       "    <tr>\n",
       "      <th>3</th>\n",
       "      <td>Monsters, Inc.</td>\n",
       "      <td>96</td>\n",
       "      <td>199</td>\n",
       "      <td>79</td>\n",
       "      <td>35</td>\n",
       "      <td>A+</td>\n",
       "      <td>8.1</td>\n",
       "      <td>1000657</td>\n",
       "    </tr>\n",
       "    <tr>\n",
       "      <th>4</th>\n",
       "      <td>Finding Nemo</td>\n",
       "      <td>99</td>\n",
       "      <td>270</td>\n",
       "      <td>90</td>\n",
       "      <td>38</td>\n",
       "      <td>A+</td>\n",
       "      <td>8.2</td>\n",
       "      <td>1132877</td>\n",
       "    </tr>\n",
       "  </tbody>\n",
       "</table>\n",
       "</div>"
      ],
      "text/plain": [
       "             film  rotten_tomatoes_score  rotten_tomatoes_counts  \\\n",
       "0       Toy Story                    100                      96   \n",
       "1    A Bug's Life                     92                      91   \n",
       "2     Toy Story 2                    100                     172   \n",
       "3  Monsters, Inc.                     96                     199   \n",
       "4    Finding Nemo                     99                     270   \n",
       "\n",
       "   metacritic_score  metacritic_counts cinema_score  imdb_score  imdb_counts  \n",
       "0                95                 26            A         8.3      1089101  \n",
       "1                78                 23            A         7.2       319596  \n",
       "2                88                 34           A+         7.9       630573  \n",
       "3                79                 35           A+         8.1      1000657  \n",
       "4                90                 38           A+         8.2      1132877  "
      ]
     },
     "execution_count": 199,
     "metadata": {},
     "output_type": "execute_result"
    }
   ],
   "source": [
    "reviews_df.head()"
   ]
  },
  {
   "cell_type": "code",
   "execution_count": 200,
   "id": "462c5c97-e863-42b6-9a45-8841905fe4aa",
   "metadata": {},
   "outputs": [
    {
     "data": {
      "text/plain": [
       "<Figure size 800x600 with 0 Axes>"
      ]
     },
     "execution_count": 200,
     "metadata": {},
     "output_type": "execute_result"
    },
    {
     "data": {
      "text/plain": [
       "<Axes: xlabel='imdb_score', ylabel='imdb_counts'>"
      ]
     },
     "execution_count": 200,
     "metadata": {},
     "output_type": "execute_result"
    },
    {
     "data": {
      "text/plain": [
       "Text(0.5, 0, 'IMDb Score')"
      ]
     },
     "execution_count": 200,
     "metadata": {},
     "output_type": "execute_result"
    },
    {
     "data": {
      "text/plain": [
       "Text(0, 0.5, 'Number of Reviewers (in Million)')"
      ]
     },
     "execution_count": 200,
     "metadata": {},
     "output_type": "execute_result"
    },
    {
     "data": {
      "text/plain": [
       "Text(0.5, 1.0, 'Relationship between IMDb Rating Vs Reviewers')"
      ]
     },
     "execution_count": 200,
     "metadata": {},
     "output_type": "execute_result"
    },
    {
     "data": {
      "image/png": "[encoded data removed]",
      "text/plain": [
       "<Figure size 800x600 with 1 Axes>"
      ]
     },
     "metadata": {},
     "output_type": "display_data"
    }
   ],
   "source": [
    "# Scatter Plot\n",
    "plt.figure(figsize = (8,6))\n",
    "sns.scatterplot(data = reviews_df, x = \"imdb_score\", y = \"imdb_counts\", hue = \"film\", palette = \"tab20\", legend = False)\n",
    "plt.xlabel(\"IMDb Score\")\n",
    "plt.ylabel(\"Number of Reviewers (in Million)\")\n",
    "plt.title(\"Relationship between IMDb Rating Vs Reviewers\")\n",
    "plt.grid(True)\n",
    "plt.show()"
   ]
  },
  {
   "cell_type": "markdown",
   "id": "0a4eb664-8ebf-44cf-ae35-bda60ce5b9d8",
   "metadata": {},
   "source": [
    "- A prominent cluster appears in the top-right, where films have IMDb scores above 8.0 and over 800,000 reviews—some exceeding 1.2 million.\n",
    "- Films with IMDb scores between 6.0 and 7.0 typically have fewer than 250,000 reviewers.\n",
    "- Films with IMDb scores between 7.0 and 8.0 show a wider range in reviewer counts, from just over 100,000 to over 600,000."
   ]
  },
  {
   "cell_type": "markdown",
   "id": "c4c5e8a9-d362-4066-839d-845b9382bb1f",
   "metadata": {},
   "source": [
    "<font color = \"blue\">Which 5 films have the highest overall ratings across all platforms?</font>"
   ]
  },
  {
   "cell_type": "code",
   "execution_count": 203,
   "id": "14c7a4c5-aeb2-41ba-9f6e-a285688e640e",
   "metadata": {},
   "outputs": [
    {
     "data": {
      "text/html": [
       "<div>\n",
       "<style scoped>\n",
       "    .dataframe tbody tr th:only-of-type {\n",
       "        vertical-align: middle;\n",
       "    }\n",
       "\n",
       "    .dataframe tbody tr th {\n",
       "        vertical-align: top;\n",
       "    }\n",
       "\n",
       "    .dataframe thead th {\n",
       "        text-align: right;\n",
       "    }\n",
       "</style>\n",
       "<table border=\"1\" class=\"dataframe\">\n",
       "  <thead>\n",
       "    <tr style=\"text-align: right;\">\n",
       "      <th></th>\n",
       "      <th>film</th>\n",
       "      <th>rotten_tomatoes_score</th>\n",
       "      <th>metacritic_score</th>\n",
       "      <th>imdb_score</th>\n",
       "      <th>avg_score</th>\n",
       "    </tr>\n",
       "  </thead>\n",
       "  <tbody>\n",
       "    <tr>\n",
       "      <th>0</th>\n",
       "      <td>Toy Story</td>\n",
       "      <td>10.0</td>\n",
       "      <td>9.5</td>\n",
       "      <td>8.3</td>\n",
       "      <td>9.3</td>\n",
       "    </tr>\n",
       "    <tr>\n",
       "      <th>7</th>\n",
       "      <td>Ratatouille</td>\n",
       "      <td>9.6</td>\n",
       "      <td>9.6</td>\n",
       "      <td>8.1</td>\n",
       "      <td>9.1</td>\n",
       "    </tr>\n",
       "    <tr>\n",
       "      <th>10</th>\n",
       "      <td>Toy Story 3</td>\n",
       "      <td>9.8</td>\n",
       "      <td>9.2</td>\n",
       "      <td>8.3</td>\n",
       "      <td>9.1</td>\n",
       "    </tr>\n",
       "    <tr>\n",
       "      <th>8</th>\n",
       "      <td>WALL-E</td>\n",
       "      <td>9.5</td>\n",
       "      <td>9.5</td>\n",
       "      <td>8.4</td>\n",
       "      <td>9.1</td>\n",
       "    </tr>\n",
       "    <tr>\n",
       "      <th>14</th>\n",
       "      <td>Inside Out</td>\n",
       "      <td>9.8</td>\n",
       "      <td>9.4</td>\n",
       "      <td>8.1</td>\n",
       "      <td>9.1</td>\n",
       "    </tr>\n",
       "  </tbody>\n",
       "</table>\n",
       "</div>"
      ],
      "text/plain": [
       "           film  rotten_tomatoes_score  metacritic_score  imdb_score  \\\n",
       "0     Toy Story                   10.0               9.5         8.3   \n",
       "7   Ratatouille                    9.6               9.6         8.1   \n",
       "10  Toy Story 3                    9.8               9.2         8.3   \n",
       "8        WALL-E                    9.5               9.5         8.4   \n",
       "14   Inside Out                    9.8               9.4         8.1   \n",
       "\n",
       "    avg_score  \n",
       "0         9.3  \n",
       "7         9.1  \n",
       "10        9.1  \n",
       "8         9.1  \n",
       "14        9.1  "
      ]
     },
     "execution_count": 203,
     "metadata": {},
     "output_type": "execute_result"
    }
   ],
   "source": [
    "# Extract the Rating Columns\n",
    "combine_score_df = reviews_df[[\"film\", \"rotten_tomatoes_score\", \"metacritic_score\", \"imdb_score\"]]\n",
    "\n",
    "# Normalize the Rating\n",
    "scaled_columns = [\"rotten_tomatoes_score\", \"metacritic_score\"]\n",
    "combine_score_df[scaled_columns] = combine_score_df[scaled_columns] / 10\n",
    "\n",
    "# Create new column for overall average\n",
    "combine_score_df[\"avg_score\"] = (combine_score_df[\"rotten_tomatoes_score\"] + combine_score_df[\"metacritic_score\"] +\n",
    "                                 combine_score_df[\"imdb_score\"]) / 3\n",
    "combine_score_df[\"avg_score\"] = combine_score_df[\"avg_score\"].round(1)\n",
    "\n",
    "# Sort the film by highest to lowest overall average score\n",
    "combine_score_df = combine_score_df.sort_values(\"avg_score\", ascending = False)\n",
    "\n",
    "# View the Top 5 films with highest overall ratings\n",
    "top_5_film = combine_score_df.head()\n",
    "top_5_film"
   ]
  },
  {
   "cell_type": "code",
   "execution_count": 204,
   "id": "18df606b-8933-4eb4-9e2e-b187b1995dfc",
   "metadata": {},
   "outputs": [
    {
     "data": {
      "text/plain": [
       "<Figure size 800x600 with 0 Axes>"
      ]
     },
     "execution_count": 204,
     "metadata": {},
     "output_type": "execute_result"
    },
    {
     "data": {
      "text/plain": [
       "<Axes: xlabel='film', ylabel='avg_score'>"
      ]
     },
     "execution_count": 204,
     "metadata": {},
     "output_type": "execute_result"
    },
    {
     "data": {
      "text/plain": [
       "Text(0.5, 0, 'Film')"
      ]
     },
     "execution_count": 204,
     "metadata": {},
     "output_type": "execute_result"
    },
    {
     "data": {
      "text/plain": [
       "Text(0, 0.5, 'Ratings')"
      ]
     },
     "execution_count": 204,
     "metadata": {},
     "output_type": "execute_result"
    },
    {
     "data": {
      "text/plain": [
       "Text(0.5, 1.0, 'Highest Rated Films Across All Platforms')"
      ]
     },
     "execution_count": 204,
     "metadata": {},
     "output_type": "execute_result"
    },
    {
     "data": {
      "image/png": "[encoded data removed]",
      "text/plain": [
       "<Figure size 800x600 with 1 Axes>"
      ]
     },
     "metadata": {},
     "output_type": "display_data"
    }
   ],
   "source": [
    "# Visualize\n",
    "plt.figure(figsize = (8,6))\n",
    "sns.barplot(data = top_5_film, x = \"film\", y = \"avg_score\", palette = \"coolwarm\")\n",
    "plt.xlabel(\"Film\")\n",
    "plt.ylabel(\"Ratings\")\n",
    "plt.title(\"Highest Rated Films Across All Platforms\")\n",
    "plt.tight_layout()\n",
    "plt.show()"
   ]
  },
  {
   "cell_type": "markdown",
   "id": "7858b23b-fe26-44af-96ef-872b13f517ab",
   "metadata": {},
   "source": [
    "<font color = \"blue\">Which films had the biggest mismatch between critical and audience scores? (e.g., high IMDb but low Metacritic)</font>"
   ]
  },
  {
   "cell_type": "code",
   "execution_count": 206,
   "id": "478a9eb8-bfd1-4640-a513-78795ad2b352",
   "metadata": {},
   "outputs": [
    {
     "data": {
      "text/html": [
       "<div>\n",
       "<style scoped>\n",
       "    .dataframe tbody tr th:only-of-type {\n",
       "        vertical-align: middle;\n",
       "    }\n",
       "\n",
       "    .dataframe tbody tr th {\n",
       "        vertical-align: top;\n",
       "    }\n",
       "\n",
       "    .dataframe thead th {\n",
       "        text-align: right;\n",
       "    }\n",
       "</style>\n",
       "<table border=\"1\" class=\"dataframe\">\n",
       "  <thead>\n",
       "    <tr style=\"text-align: right;\">\n",
       "      <th></th>\n",
       "      <th>film</th>\n",
       "      <th>metacritic_score</th>\n",
       "      <th>imdb_score</th>\n",
       "      <th>diff</th>\n",
       "      <th>abs_diff</th>\n",
       "    </tr>\n",
       "  </thead>\n",
       "  <tbody>\n",
       "    <tr>\n",
       "      <th>7</th>\n",
       "      <td>Ratatouille</td>\n",
       "      <td>9.6</td>\n",
       "      <td>8.1</td>\n",
       "      <td>-1.5</td>\n",
       "      <td>1.5</td>\n",
       "    </tr>\n",
       "    <tr>\n",
       "      <th>14</th>\n",
       "      <td>Inside Out</td>\n",
       "      <td>9.4</td>\n",
       "      <td>8.1</td>\n",
       "      <td>-1.3</td>\n",
       "      <td>1.3</td>\n",
       "    </tr>\n",
       "    <tr>\n",
       "      <th>24</th>\n",
       "      <td>Turning Red</td>\n",
       "      <td>8.3</td>\n",
       "      <td>7.0</td>\n",
       "      <td>-1.3</td>\n",
       "      <td>1.3</td>\n",
       "    </tr>\n",
       "    <tr>\n",
       "      <th>26</th>\n",
       "      <td>Elemental</td>\n",
       "      <td>5.8</td>\n",
       "      <td>7.0</td>\n",
       "      <td>1.2</td>\n",
       "      <td>1.2</td>\n",
       "    </tr>\n",
       "    <tr>\n",
       "      <th>0</th>\n",
       "      <td>Toy Story</td>\n",
       "      <td>9.5</td>\n",
       "      <td>8.3</td>\n",
       "      <td>-1.2</td>\n",
       "      <td>1.2</td>\n",
       "    </tr>\n",
       "    <tr>\n",
       "      <th>8</th>\n",
       "      <td>WALL-E</td>\n",
       "      <td>9.5</td>\n",
       "      <td>8.4</td>\n",
       "      <td>-1.1</td>\n",
       "      <td>1.1</td>\n",
       "    </tr>\n",
       "    <tr>\n",
       "      <th>5</th>\n",
       "      <td>The Incredibles</td>\n",
       "      <td>9.0</td>\n",
       "      <td>8.0</td>\n",
       "      <td>-1.0</td>\n",
       "      <td>1.0</td>\n",
       "    </tr>\n",
       "    <tr>\n",
       "      <th>21</th>\n",
       "      <td>Onward</td>\n",
       "      <td>6.4</td>\n",
       "      <td>7.4</td>\n",
       "      <td>1.0</td>\n",
       "      <td>1.0</td>\n",
       "    </tr>\n",
       "    <tr>\n",
       "      <th>2</th>\n",
       "      <td>Toy Story 2</td>\n",
       "      <td>8.8</td>\n",
       "      <td>7.9</td>\n",
       "      <td>-0.9</td>\n",
       "      <td>0.9</td>\n",
       "    </tr>\n",
       "    <tr>\n",
       "      <th>10</th>\n",
       "      <td>Toy Story 3</td>\n",
       "      <td>9.2</td>\n",
       "      <td>8.3</td>\n",
       "      <td>-0.9</td>\n",
       "      <td>0.9</td>\n",
       "    </tr>\n",
       "    <tr>\n",
       "      <th>4</th>\n",
       "      <td>Finding Nemo</td>\n",
       "      <td>9.0</td>\n",
       "      <td>8.2</td>\n",
       "      <td>-0.8</td>\n",
       "      <td>0.8</td>\n",
       "    </tr>\n",
       "    <tr>\n",
       "      <th>20</th>\n",
       "      <td>Toy Story 4</td>\n",
       "      <td>8.4</td>\n",
       "      <td>7.6</td>\n",
       "      <td>-0.8</td>\n",
       "      <td>0.8</td>\n",
       "    </tr>\n",
       "    <tr>\n",
       "      <th>17</th>\n",
       "      <td>Cars 3</td>\n",
       "      <td>5.9</td>\n",
       "      <td>6.7</td>\n",
       "      <td>0.8</td>\n",
       "      <td>0.8</td>\n",
       "    </tr>\n",
       "    <tr>\n",
       "      <th>13</th>\n",
       "      <td>Monsters University</td>\n",
       "      <td>6.5</td>\n",
       "      <td>7.2</td>\n",
       "      <td>0.7</td>\n",
       "      <td>0.7</td>\n",
       "    </tr>\n",
       "    <tr>\n",
       "      <th>1</th>\n",
       "      <td>A Bug's Life</td>\n",
       "      <td>7.8</td>\n",
       "      <td>7.2</td>\n",
       "      <td>-0.6</td>\n",
       "      <td>0.6</td>\n",
       "    </tr>\n",
       "    <tr>\n",
       "      <th>19</th>\n",
       "      <td>Incredibles 2</td>\n",
       "      <td>8.0</td>\n",
       "      <td>7.5</td>\n",
       "      <td>-0.5</td>\n",
       "      <td>0.5</td>\n",
       "    </tr>\n",
       "    <tr>\n",
       "      <th>16</th>\n",
       "      <td>Finding Dory</td>\n",
       "      <td>7.7</td>\n",
       "      <td>7.2</td>\n",
       "      <td>-0.5</td>\n",
       "      <td>0.5</td>\n",
       "    </tr>\n",
       "    <tr>\n",
       "      <th>9</th>\n",
       "      <td>Up</td>\n",
       "      <td>8.8</td>\n",
       "      <td>8.3</td>\n",
       "      <td>-0.5</td>\n",
       "      <td>0.5</td>\n",
       "    </tr>\n",
       "    <tr>\n",
       "      <th>11</th>\n",
       "      <td>Cars 2</td>\n",
       "      <td>5.7</td>\n",
       "      <td>6.2</td>\n",
       "      <td>0.5</td>\n",
       "      <td>0.5</td>\n",
       "    </tr>\n",
       "    <tr>\n",
       "      <th>23</th>\n",
       "      <td>Luca</td>\n",
       "      <td>7.1</td>\n",
       "      <td>7.4</td>\n",
       "      <td>0.3</td>\n",
       "      <td>0.3</td>\n",
       "    </tr>\n",
       "    <tr>\n",
       "      <th>22</th>\n",
       "      <td>Soul</td>\n",
       "      <td>8.3</td>\n",
       "      <td>8.0</td>\n",
       "      <td>-0.3</td>\n",
       "      <td>0.3</td>\n",
       "    </tr>\n",
       "    <tr>\n",
       "      <th>18</th>\n",
       "      <td>Coco</td>\n",
       "      <td>8.1</td>\n",
       "      <td>8.4</td>\n",
       "      <td>0.3</td>\n",
       "      <td>0.3</td>\n",
       "    </tr>\n",
       "    <tr>\n",
       "      <th>27</th>\n",
       "      <td>Inside Out 2</td>\n",
       "      <td>7.3</td>\n",
       "      <td>7.6</td>\n",
       "      <td>0.3</td>\n",
       "      <td>0.3</td>\n",
       "    </tr>\n",
       "    <tr>\n",
       "      <th>3</th>\n",
       "      <td>Monsters, Inc.</td>\n",
       "      <td>7.9</td>\n",
       "      <td>8.1</td>\n",
       "      <td>0.2</td>\n",
       "      <td>0.2</td>\n",
       "    </tr>\n",
       "    <tr>\n",
       "      <th>12</th>\n",
       "      <td>Brave</td>\n",
       "      <td>6.9</td>\n",
       "      <td>7.1</td>\n",
       "      <td>0.2</td>\n",
       "      <td>0.2</td>\n",
       "    </tr>\n",
       "    <tr>\n",
       "      <th>15</th>\n",
       "      <td>The Good Dinosaur</td>\n",
       "      <td>6.6</td>\n",
       "      <td>6.7</td>\n",
       "      <td>0.1</td>\n",
       "      <td>0.1</td>\n",
       "    </tr>\n",
       "    <tr>\n",
       "      <th>6</th>\n",
       "      <td>Cars</td>\n",
       "      <td>7.3</td>\n",
       "      <td>7.2</td>\n",
       "      <td>-0.1</td>\n",
       "      <td>0.1</td>\n",
       "    </tr>\n",
       "    <tr>\n",
       "      <th>25</th>\n",
       "      <td>Lightyear</td>\n",
       "      <td>6.0</td>\n",
       "      <td>6.1</td>\n",
       "      <td>0.1</td>\n",
       "      <td>0.1</td>\n",
       "    </tr>\n",
       "  </tbody>\n",
       "</table>\n",
       "</div>"
      ],
      "text/plain": [
       "                   film  metacritic_score  imdb_score  diff  abs_diff\n",
       "7           Ratatouille               9.6         8.1  -1.5       1.5\n",
       "14           Inside Out               9.4         8.1  -1.3       1.3\n",
       "24          Turning Red               8.3         7.0  -1.3       1.3\n",
       "26            Elemental               5.8         7.0   1.2       1.2\n",
       "0             Toy Story               9.5         8.3  -1.2       1.2\n",
       "8                WALL-E               9.5         8.4  -1.1       1.1\n",
       "5       The Incredibles               9.0         8.0  -1.0       1.0\n",
       "21               Onward               6.4         7.4   1.0       1.0\n",
       "2           Toy Story 2               8.8         7.9  -0.9       0.9\n",
       "10          Toy Story 3               9.2         8.3  -0.9       0.9\n",
       "4          Finding Nemo               9.0         8.2  -0.8       0.8\n",
       "20          Toy Story 4               8.4         7.6  -0.8       0.8\n",
       "17               Cars 3               5.9         6.7   0.8       0.8\n",
       "13  Monsters University               6.5         7.2   0.7       0.7\n",
       "1          A Bug's Life               7.8         7.2  -0.6       0.6\n",
       "19        Incredibles 2               8.0         7.5  -0.5       0.5\n",
       "16         Finding Dory               7.7         7.2  -0.5       0.5\n",
       "9                    Up               8.8         8.3  -0.5       0.5\n",
       "11               Cars 2               5.7         6.2   0.5       0.5\n",
       "23                 Luca               7.1         7.4   0.3       0.3\n",
       "22                 Soul               8.3         8.0  -0.3       0.3\n",
       "18                 Coco               8.1         8.4   0.3       0.3\n",
       "27         Inside Out 2               7.3         7.6   0.3       0.3\n",
       "3        Monsters, Inc.               7.9         8.1   0.2       0.2\n",
       "12                Brave               6.9         7.1   0.2       0.2\n",
       "15    The Good Dinosaur               6.6         6.7   0.1       0.1\n",
       "6                  Cars               7.3         7.2  -0.1       0.1\n",
       "25            Lightyear               6.0         6.1   0.1       0.1"
      ]
     },
     "execution_count": 206,
     "metadata": {},
     "output_type": "execute_result"
    }
   ],
   "source": [
    "mismatch_df = combine_score_df.drop(columns = [\"rotten_tomatoes_score\", \"avg_score\"])\n",
    "\n",
    "# Add new column of the difference and absolute difference\n",
    "mismatch_df[\"diff\"] = mismatch_df[\"imdb_score\"] - mismatch_df[\"metacritic_score\"]\n",
    "mismatch_df[\"abs_diff\"] = mismatch_df[\"diff\"].abs()\n",
    "\n",
    "# Sort by absolute difference\n",
    "mismatch_df = mismatch_df.sort_values(\"abs_diff\", ascending = False)\n",
    "\n",
    "# View the Result\n",
    "mismatch_df"
   ]
  },
  {
   "cell_type": "markdown",
   "id": "4a73a017-3812-4193-b1de-d8cff2ce1e39",
   "metadata": {},
   "source": [
    "- A **positive** diff = audiences liked it more than critics\n",
    "- A **negative** diff = critics rated it higher than audiences."
   ]
  },
  {
   "cell_type": "code",
   "execution_count": 208,
   "id": "a5d5c03f-80ca-472c-ad38-fad9e0a5a6e1",
   "metadata": {},
   "outputs": [
    {
     "name": "stdout",
     "output_type": "stream",
     "text": [
      "There are 16 films where critics rated it higher than audiences, which is more than the 12 films where audiences liked it more than critics.\n"
     ]
    }
   ],
   "source": [
    "imdb_meta = mismatch_df[mismatch_df[\"diff\"] > 0.0]\n",
    "meta_imdb = mismatch_df[mismatch_df[\"diff\"] < 0.0]\n",
    "\n",
    "print(\"There are {} films where critics rated it higher than audiences, which is more than the {} films where audiences liked it more than critics.\".format(\n",
    "    len(meta_imdb), len(imdb_meta)))"
   ]
  },
  {
   "cell_type": "markdown",
   "id": "d33da9d6-760e-4e6a-97a9-a322ad153dfc",
   "metadata": {},
   "source": [
    "<font color = \"blue\">How do films rated “A+” on CinemaScore compare to those rated “A” or “A-”?</font>"
   ]
  },
  {
   "cell_type": "code",
   "execution_count": 210,
   "id": "75db5d06-969d-4c5b-98a5-dbb08ee6c829",
   "metadata": {},
   "outputs": [
    {
     "data": {
      "text/html": [
       "<div>\n",
       "<style scoped>\n",
       "    .dataframe tbody tr th:only-of-type {\n",
       "        vertical-align: middle;\n",
       "    }\n",
       "\n",
       "    .dataframe tbody tr th {\n",
       "        vertical-align: top;\n",
       "    }\n",
       "\n",
       "    .dataframe thead th {\n",
       "        text-align: right;\n",
       "    }\n",
       "</style>\n",
       "<table border=\"1\" class=\"dataframe\">\n",
       "  <thead>\n",
       "    <tr style=\"text-align: right;\">\n",
       "      <th></th>\n",
       "      <th>film</th>\n",
       "      <th>rotten_tomatoes_score</th>\n",
       "      <th>rotten_tomatoes_counts</th>\n",
       "      <th>metacritic_score</th>\n",
       "      <th>metacritic_counts</th>\n",
       "      <th>cinema_score</th>\n",
       "      <th>imdb_score</th>\n",
       "      <th>imdb_counts</th>\n",
       "    </tr>\n",
       "  </thead>\n",
       "  <tbody>\n",
       "    <tr>\n",
       "      <th>0</th>\n",
       "      <td>Toy Story</td>\n",
       "      <td>100</td>\n",
       "      <td>96</td>\n",
       "      <td>95</td>\n",
       "      <td>26</td>\n",
       "      <td>A</td>\n",
       "      <td>8.3</td>\n",
       "      <td>1089101</td>\n",
       "    </tr>\n",
       "    <tr>\n",
       "      <th>1</th>\n",
       "      <td>A Bug's Life</td>\n",
       "      <td>92</td>\n",
       "      <td>91</td>\n",
       "      <td>78</td>\n",
       "      <td>23</td>\n",
       "      <td>A</td>\n",
       "      <td>7.2</td>\n",
       "      <td>319596</td>\n",
       "    </tr>\n",
       "    <tr>\n",
       "      <th>2</th>\n",
       "      <td>Toy Story 2</td>\n",
       "      <td>100</td>\n",
       "      <td>172</td>\n",
       "      <td>88</td>\n",
       "      <td>34</td>\n",
       "      <td>A+</td>\n",
       "      <td>7.9</td>\n",
       "      <td>630573</td>\n",
       "    </tr>\n",
       "    <tr>\n",
       "      <th>3</th>\n",
       "      <td>Monsters, Inc.</td>\n",
       "      <td>96</td>\n",
       "      <td>199</td>\n",
       "      <td>79</td>\n",
       "      <td>35</td>\n",
       "      <td>A+</td>\n",
       "      <td>8.1</td>\n",
       "      <td>1000657</td>\n",
       "    </tr>\n",
       "    <tr>\n",
       "      <th>4</th>\n",
       "      <td>Finding Nemo</td>\n",
       "      <td>99</td>\n",
       "      <td>270</td>\n",
       "      <td>90</td>\n",
       "      <td>38</td>\n",
       "      <td>A+</td>\n",
       "      <td>8.2</td>\n",
       "      <td>1132877</td>\n",
       "    </tr>\n",
       "  </tbody>\n",
       "</table>\n",
       "</div>"
      ],
      "text/plain": [
       "             film  rotten_tomatoes_score  rotten_tomatoes_counts  \\\n",
       "0       Toy Story                    100                      96   \n",
       "1    A Bug's Life                     92                      91   \n",
       "2     Toy Story 2                    100                     172   \n",
       "3  Monsters, Inc.                     96                     199   \n",
       "4    Finding Nemo                     99                     270   \n",
       "\n",
       "   metacritic_score  metacritic_counts cinema_score  imdb_score  imdb_counts  \n",
       "0                95                 26            A         8.3      1089101  \n",
       "1                78                 23            A         7.2       319596  \n",
       "2                88                 34           A+         7.9       630573  \n",
       "3                79                 35           A+         8.1      1000657  \n",
       "4                90                 38           A+         8.2      1132877  "
      ]
     },
     "execution_count": 210,
     "metadata": {},
     "output_type": "execute_result"
    }
   ],
   "source": [
    "reviews_df.head()"
   ]
  },
  {
   "cell_type": "code",
   "execution_count": 211,
   "id": "033979e1-4f71-4cfb-8c20-46f9a98884c5",
   "metadata": {},
   "outputs": [
    {
     "data": {
      "text/plain": [
       "array(['A', 'A+', 'A-', 'Unknown'], dtype=object)"
      ]
     },
     "execution_count": 211,
     "metadata": {},
     "output_type": "execute_result"
    }
   ],
   "source": [
    "# Unique Cinema Score\n",
    "reviews_df[\"cinema_score\"].unique()"
   ]
  },
  {
   "cell_type": "code",
   "execution_count": 212,
   "id": "e8e05706-1882-46b4-b1da-fba03e7b01b6",
   "metadata": {},
   "outputs": [],
   "source": [
    "# Create group for each Cinema Score\n",
    "a_plus_df = reviews_df[reviews_df.cinema_score == \"A+\"]\n",
    "a_df = reviews_df[reviews_df.cinema_score == \"A\"]\n",
    "a_minus_df = reviews_df[reviews_df.cinema_score == \"A-\"]\n",
    "\n",
    "# Metrics for each Group\n",
    "# A+ Rating\n",
    "a_plus_rt_avg = (a_plus_df[\"rotten_tomatoes_score\"] / 10).mean().round(1)\n",
    "a_plus_m_avg = (a_plus_df[\"metacritic_score\"] / 10).mean().round(1)\n",
    "a_plus_imdb_avg = a_plus_df[\"imdb_score\"].mean().round(1)\n",
    "\n",
    "# A Rating\n",
    "a_rt_avg = (a_df[\"rotten_tomatoes_score\"] / 10).mean().round(1)\n",
    "a_m_avg = (a_df[\"metacritic_score\"] / 10).mean().round(1)\n",
    "a_imdb_avg = a_df[\"imdb_score\"].mean().round(1)\n",
    "\n",
    "# A- Rating\n",
    "a_minus_rt_avg = (a_minus_df[\"rotten_tomatoes_score\"] / 10).mean().round(1)\n",
    "a_minus_m_avg = (a_minus_df[\"metacritic_score\"] / 10).mean().round(1)\n",
    "a_minus_imdb_avg = a_minus_df[\"imdb_score\"].mean().round(1)"
   ]
  },
  {
   "cell_type": "markdown",
   "id": "cdd81cf1-fd24-4c27-9c69-4f764acfe52d",
   "metadata": {},
   "source": [
    "**Do “A+” films have higher IMDb scores than “A” or “A–”?**"
   ]
  },
  {
   "cell_type": "code",
   "execution_count": 214,
   "id": "5fdb39ef-7a51-43ef-97e5-a5d6c58d08be",
   "metadata": {},
   "outputs": [
    {
     "name": "stdout",
     "output_type": "stream",
     "text": [
      "Yes, 'A+' films have higher average IMDb ratings of 8.1 than 'A' films of 7.5.\n"
     ]
    }
   ],
   "source": [
    "if a_plus_imdb_avg > a_imdb_avg:\n",
    "    print(\"Yes, 'A+' films have higher average IMDb ratings of {} than 'A' films of {}.\".format(a_plus_imdb_avg, a_imdb_avg))\n",
    "else:\n",
    "    print(\"No, 'A+' films doesn't have higher average IMDb ratings as the average rating of {} is less than {} of 'A' films.\".format\n",
    "         (a_plus_imdb_avg, a_imdb_avg))"
   ]
  },
  {
   "cell_type": "code",
   "execution_count": 215,
   "id": "d47be525-4361-4c0a-9cc7-6b32998f63f4",
   "metadata": {},
   "outputs": [
    {
     "name": "stdout",
     "output_type": "stream",
     "text": [
      "Yes, 'A+' films have higher average IMDb ratings of 8.1 than 'A-' films of 6.6.\n"
     ]
    }
   ],
   "source": [
    "if a_plus_imdb_avg > a_minus_imdb_avg:\n",
    "    print(\"Yes, 'A+' films have higher average IMDb ratings of {} than 'A-' films of {}.\".format(a_plus_imdb_avg, a_minus_imdb_avg))\n",
    "else:\n",
    "    print(\"No, 'A+' films doesn't have higher average IMDb ratings as the average rating of {} is less than {} of 'A-' films.\".format\n",
    "         (a_plus_imdb_avg, a_minus_imdb_avg))"
   ]
  },
  {
   "cell_type": "markdown",
   "id": "85affd25-0526-42eb-9385-5c458e418586",
   "metadata": {},
   "source": [
    "**Do “A+” films have higher Rotten Tomatoes scores than “A” or “A–”?**"
   ]
  },
  {
   "cell_type": "code",
   "execution_count": 217,
   "id": "9e55faf2-f90e-451e-aa7e-fe4e723cff31",
   "metadata": {},
   "outputs": [
    {
     "name": "stdout",
     "output_type": "stream",
     "text": [
      "Yes, 'A+' films have higher average Rotten Tomatoes ratings of 9.7 than 'A' films of 8.7.\n"
     ]
    }
   ],
   "source": [
    "if a_plus_rt_avg > a_rt_avg:\n",
    "    print(\"Yes, 'A+' films have higher average Rotten Tomatoes ratings of {} than 'A' films of {}.\".format(a_plus_rt_avg, a_rt_avg))\n",
    "else:\n",
    "    print(\"No, 'A+' films doesn't have higher average Rotten Tomatoes ratings as the average rating of {} is less than {} of 'A' films.\".format\n",
    "         (a_plus_rt_avg, a_rt_avg))"
   ]
  },
  {
   "cell_type": "code",
   "execution_count": 218,
   "id": "259e7d0e-a4c0-4603-adb4-a74f8956b7a5",
   "metadata": {},
   "outputs": [
    {
     "name": "stdout",
     "output_type": "stream",
     "text": [
      "Yes, 'A+' films have higher average Rotten Tomatoes ratings of 9.7 than 'A-' films of 6.7.\n"
     ]
    }
   ],
   "source": [
    "if a_plus_rt_avg > a_minus_rt_avg:\n",
    "    print(\"Yes, 'A+' films have higher average Rotten Tomatoes ratings of {} than 'A-' films of {}.\".format(a_plus_rt_avg, a_minus_rt_avg))\n",
    "else:\n",
    "    print(\"No, 'A+' films doesn't have higher average Rotten Tomatoes ratings as the average rating of {} is less than {} of 'A-' films.\".format\n",
    "         (a_plus_rt_avg, a_minus_rt_avg))"
   ]
  },
  {
   "cell_type": "markdown",
   "id": "f1bbc727-5cb4-43db-ad72-5919b08bd5e2",
   "metadata": {},
   "source": [
    "**Do “A+” films have higher Metacritic scores than “A” or “A–”?**"
   ]
  },
  {
   "cell_type": "code",
   "execution_count": 220,
   "id": "0159e9da-acbf-4a28-a081-67f961107521",
   "metadata": {},
   "outputs": [
    {
     "name": "stdout",
     "output_type": "stream",
     "text": [
      "Yes, 'A+' films have higher average Metacritic ratings of 8.5 than 'A' films of 7.8.\n"
     ]
    }
   ],
   "source": [
    "if a_plus_m_avg > a_m_avg:\n",
    "    print(\"Yes, 'A+' films have higher average Metacritic ratings of {} than 'A' films of {}.\".format(a_plus_m_avg, a_m_avg))\n",
    "else:\n",
    "    print(\"No, 'A+' films doesn't have higher average Metacritic ratings as the average rating of {} is less than {} of 'A' films.\".format\n",
    "         (a_plus_m_avg, a_m_avg))"
   ]
  },
  {
   "cell_type": "code",
   "execution_count": 221,
   "id": "fb2c4083-7ba6-4dec-a804-d6e9535e9ebe",
   "metadata": {},
   "outputs": [
    {
     "name": "stdout",
     "output_type": "stream",
     "text": [
      "Yes, 'A+' films have higher average Metacritic ratings of 8.5 than 'A-' films of 6.0.\n"
     ]
    }
   ],
   "source": [
    "if a_plus_m_avg > a_minus_m_avg:\n",
    "    print(\"Yes, 'A+' films have higher average Metacritic ratings of {} than 'A-' films of {}.\".format(a_plus_m_avg, a_minus_m_avg))\n",
    "else:\n",
    "    print(\"No, 'A+' films doesn't have higher average Metacritic ratings as the average rating of {} is less than {} of 'A-' films.\".format\n",
    "         (a_plus_m_avg, a_minus_m_avg))"
   ]
  },
  {
   "cell_type": "markdown",
   "id": "f18adf43-da42-45e7-9882-5c933686e6d7",
   "metadata": {},
   "source": [
    "6. **Academy Awards Data**"
   ]
  },
  {
   "cell_type": "markdown",
   "id": "f8cc02e0-ea91-4929-bc0c-e7ee07c50864",
   "metadata": {},
   "source": [
    "**Key Questions**\n",
    "\n",
    "- How many types of awards are there and what are they?\n",
    "- How many distinct types of status are there and what are they?\n",
    "- How many films are Nominated for each award types?\n",
    "- Which film is nominated for \"Adapted Screenplay\" award?\n",
    "- What is the distribution of award statuses?\n",
    "- How many types of awards per film?\n",
    "- Which nominated films have also gone on to win the same award?\n",
    "- Are there specific award categories for which some films are ineligible?\n",
    "- Are there any films associated with award types that haven't been introduced yet?"
   ]
  },
  {
   "cell_type": "code",
   "execution_count": 224,
   "id": "c1106f6c-6bc8-4b36-84a5-1939fa985f9a",
   "metadata": {},
   "outputs": [
    {
     "data": {
      "text/html": [
       "<div>\n",
       "<style scoped>\n",
       "    .dataframe tbody tr th:only-of-type {\n",
       "        vertical-align: middle;\n",
       "    }\n",
       "\n",
       "    .dataframe tbody tr th {\n",
       "        vertical-align: top;\n",
       "    }\n",
       "\n",
       "    .dataframe thead th {\n",
       "        text-align: right;\n",
       "    }\n",
       "</style>\n",
       "<table border=\"1\" class=\"dataframe\">\n",
       "  <thead>\n",
       "    <tr style=\"text-align: right;\">\n",
       "      <th></th>\n",
       "      <th>film</th>\n",
       "      <th>award_type</th>\n",
       "      <th>status</th>\n",
       "    </tr>\n",
       "  </thead>\n",
       "  <tbody>\n",
       "    <tr>\n",
       "      <th>0</th>\n",
       "      <td>Toy Story</td>\n",
       "      <td>Animated Feature</td>\n",
       "      <td>Award not yet introduced</td>\n",
       "    </tr>\n",
       "    <tr>\n",
       "      <th>1</th>\n",
       "      <td>Toy Story</td>\n",
       "      <td>Original Screenplay</td>\n",
       "      <td>Nominated</td>\n",
       "    </tr>\n",
       "    <tr>\n",
       "      <th>2</th>\n",
       "      <td>Toy Story</td>\n",
       "      <td>Adapted Screenplay</td>\n",
       "      <td>Ineligible</td>\n",
       "    </tr>\n",
       "    <tr>\n",
       "      <th>3</th>\n",
       "      <td>Toy Story</td>\n",
       "      <td>Original Score</td>\n",
       "      <td>Nominated</td>\n",
       "    </tr>\n",
       "    <tr>\n",
       "      <th>4</th>\n",
       "      <td>Toy Story</td>\n",
       "      <td>Original Song</td>\n",
       "      <td>Nominated</td>\n",
       "    </tr>\n",
       "  </tbody>\n",
       "</table>\n",
       "</div>"
      ],
      "text/plain": [
       "        film           award_type                    status\n",
       "0  Toy Story     Animated Feature  Award not yet introduced\n",
       "1  Toy Story  Original Screenplay                 Nominated\n",
       "2  Toy Story   Adapted Screenplay                Ineligible\n",
       "3  Toy Story       Original Score                 Nominated\n",
       "4  Toy Story        Original Song                 Nominated"
      ]
     },
     "execution_count": 224,
     "metadata": {},
     "output_type": "execute_result"
    }
   ],
   "source": [
    "awards_df.head()"
   ]
  },
  {
   "cell_type": "markdown",
   "id": "fb1ac71f-5a56-4a8e-9661-fc32d293ec09",
   "metadata": {},
   "source": [
    "<font color = \"blue\">How many types of awards are there and what are they?</font>"
   ]
  },
  {
   "cell_type": "code",
   "execution_count": 226,
   "id": "e89e7fe8-1d37-4fac-81df-234cbaeba1e3",
   "metadata": {},
   "outputs": [
    {
     "name": "stdout",
     "output_type": "stream",
     "text": [
      "There are 9 types of awards and they are listed below.\n"
     ]
    },
    {
     "data": {
      "text/plain": [
       "['Animated Feature',\n",
       " 'Original Screenplay',\n",
       " 'Adapted Screenplay',\n",
       " 'Original Score',\n",
       " 'Original Song',\n",
       " 'Other',\n",
       " 'Sound Editing',\n",
       " 'Sound Mixing',\n",
       " 'Best Picture']"
      ]
     },
     "execution_count": 226,
     "metadata": {},
     "output_type": "execute_result"
    }
   ],
   "source": [
    "print(\"There are {} types of awards and they are listed below.\".format(awards_df[\"award_type\"].nunique()))\n",
    "awards_df[\"award_type\"].unique().tolist()"
   ]
  },
  {
   "cell_type": "markdown",
   "id": "5fae2fed-c720-4ec4-8d05-1b209a84942e",
   "metadata": {},
   "source": [
    "<font color = \"blue\">How many distinct types of status are there and what are they?</font>"
   ]
  },
  {
   "cell_type": "code",
   "execution_count": 228,
   "id": "1fff4df7-4a71-496f-b217-3290d8aa99a2",
   "metadata": {},
   "outputs": [
    {
     "name": "stdout",
     "output_type": "stream",
     "text": [
      "There are 5 statuses which are listed down.\n",
      "\n"
     ]
    },
    {
     "data": {
      "text/plain": [
       "['Award not yet introduced',\n",
       " 'Nominated',\n",
       " 'Ineligible',\n",
       " 'Won Special Achievement',\n",
       " 'Won']"
      ]
     },
     "execution_count": 228,
     "metadata": {},
     "output_type": "execute_result"
    }
   ],
   "source": [
    "print(\"There are {} statuses which are listed down.\".format(awards_df[\"status\"].nunique()))\n",
    "print(\"\")\n",
    "awards_df[\"status\"].unique().tolist()"
   ]
  },
  {
   "cell_type": "markdown",
   "id": "0cb494f8-c1d6-4a1a-8bb9-0fa9b2f52711",
   "metadata": {},
   "source": [
    "<font color = \"blue\">How many films are Nominated for each award types?</font>"
   ]
  },
  {
   "cell_type": "code",
   "execution_count": 230,
   "id": "5ca2a36f-c900-45f1-afc9-32f09c1d977a",
   "metadata": {},
   "outputs": [
    {
     "data": {
      "text/html": [
       "<div>\n",
       "<style scoped>\n",
       "    .dataframe tbody tr th:only-of-type {\n",
       "        vertical-align: middle;\n",
       "    }\n",
       "\n",
       "    .dataframe tbody tr th {\n",
       "        vertical-align: top;\n",
       "    }\n",
       "\n",
       "    .dataframe thead th {\n",
       "        text-align: right;\n",
       "    }\n",
       "</style>\n",
       "<table border=\"1\" class=\"dataframe\">\n",
       "  <thead>\n",
       "    <tr style=\"text-align: right;\">\n",
       "      <th></th>\n",
       "      <th>award_type</th>\n",
       "      <th>film_counts</th>\n",
       "    </tr>\n",
       "  </thead>\n",
       "  <tbody>\n",
       "    <tr>\n",
       "      <th>1</th>\n",
       "      <td>Animated Feature</td>\n",
       "      <td>8</td>\n",
       "    </tr>\n",
       "    <tr>\n",
       "      <th>4</th>\n",
       "      <td>Original Screenplay</td>\n",
       "      <td>7</td>\n",
       "    </tr>\n",
       "    <tr>\n",
       "      <th>6</th>\n",
       "      <td>Sound Editing</td>\n",
       "      <td>7</td>\n",
       "    </tr>\n",
       "    <tr>\n",
       "      <th>3</th>\n",
       "      <td>Original Score</td>\n",
       "      <td>6</td>\n",
       "    </tr>\n",
       "    <tr>\n",
       "      <th>5</th>\n",
       "      <td>Original Song</td>\n",
       "      <td>5</td>\n",
       "    </tr>\n",
       "    <tr>\n",
       "      <th>7</th>\n",
       "      <td>Sound Mixing</td>\n",
       "      <td>4</td>\n",
       "    </tr>\n",
       "    <tr>\n",
       "      <th>2</th>\n",
       "      <td>Best Picture</td>\n",
       "      <td>2</td>\n",
       "    </tr>\n",
       "    <tr>\n",
       "      <th>0</th>\n",
       "      <td>Adapted Screenplay</td>\n",
       "      <td>1</td>\n",
       "    </tr>\n",
       "  </tbody>\n",
       "</table>\n",
       "</div>"
      ],
      "text/plain": [
       "            award_type  film_counts\n",
       "1     Animated Feature            8\n",
       "4  Original Screenplay            7\n",
       "6        Sound Editing            7\n",
       "3       Original Score            6\n",
       "5        Original Song            5\n",
       "7         Sound Mixing            4\n",
       "2         Best Picture            2\n",
       "0   Adapted Screenplay            1"
      ]
     },
     "execution_count": 230,
     "metadata": {},
     "output_type": "execute_result"
    }
   ],
   "source": [
    "nom_df = awards_df[awards_df.status == \"Nominated\"].groupby(\"award_type\", as_index = False)[[\"status\"]].count().rename(columns = \n",
    "                        {\"status\" : \"film_counts\"}).sort_values(\"film_counts\", ascending = False)\n",
    "\n",
    "nom_df"
   ]
  },
  {
   "cell_type": "markdown",
   "id": "bdaa93dd-49d4-4d8d-8cbb-2a1fc085bf3a",
   "metadata": {},
   "source": [
    "Only 1 film is nominated for \"Adapted Screenplay\" award."
   ]
  },
  {
   "cell_type": "markdown",
   "id": "583ed627-1bf3-4b43-87c9-5d0e8de4b3df",
   "metadata": {},
   "source": [
    "<font color = \"blue\">Which film is nominated for \"Adapted Screenplay\" award?</font>"
   ]
  },
  {
   "cell_type": "code",
   "execution_count": 233,
   "id": "81a2444b-df65-48bb-95e9-4ad79c0e0fb5",
   "metadata": {},
   "outputs": [
    {
     "name": "stdout",
     "output_type": "stream",
     "text": [
      "Toy Story 3 is the only film that was nominated for 'Adapted Screenplay' award.\n"
     ]
    }
   ],
   "source": [
    "film_name = awards_df[(awards_df.status == \"Nominated\") & (awards_df.award_type == \"Adapted Screenplay\")].iloc[0][0]\n",
    "print(\"{} is the only film that was nominated for 'Adapted Screenplay' award.\".format(film_name))"
   ]
  },
  {
   "cell_type": "markdown",
   "id": "af5d0f8a-a0fb-40bf-a668-b8ac96ec8741",
   "metadata": {},
   "source": [
    "<font color = \"blue\">What is the distribution of award statuses?</font>"
   ]
  },
  {
   "cell_type": "code",
   "execution_count": 235,
   "id": "ea409efb-2c18-4928-ae68-d80894f394cc",
   "metadata": {},
   "outputs": [
    {
     "data": {
      "text/html": [
       "<div>\n",
       "<style scoped>\n",
       "    .dataframe tbody tr th:only-of-type {\n",
       "        vertical-align: middle;\n",
       "    }\n",
       "\n",
       "    .dataframe tbody tr th {\n",
       "        vertical-align: top;\n",
       "    }\n",
       "\n",
       "    .dataframe thead th {\n",
       "        text-align: right;\n",
       "    }\n",
       "</style>\n",
       "<table border=\"1\" class=\"dataframe\">\n",
       "  <thead>\n",
       "    <tr style=\"text-align: right;\">\n",
       "      <th></th>\n",
       "      <th>status</th>\n",
       "      <th>film_count</th>\n",
       "    </tr>\n",
       "  </thead>\n",
       "  <tbody>\n",
       "    <tr>\n",
       "      <th>2</th>\n",
       "      <td>Nominated</td>\n",
       "      <td>40</td>\n",
       "    </tr>\n",
       "    <tr>\n",
       "      <th>1</th>\n",
       "      <td>Ineligible</td>\n",
       "      <td>28</td>\n",
       "    </tr>\n",
       "    <tr>\n",
       "      <th>3</th>\n",
       "      <td>Won</td>\n",
       "      <td>17</td>\n",
       "    </tr>\n",
       "    <tr>\n",
       "      <th>0</th>\n",
       "      <td>Award not yet introduced</td>\n",
       "      <td>3</td>\n",
       "    </tr>\n",
       "    <tr>\n",
       "      <th>4</th>\n",
       "      <td>Won Special Achievement</td>\n",
       "      <td>1</td>\n",
       "    </tr>\n",
       "  </tbody>\n",
       "</table>\n",
       "</div>"
      ],
      "text/plain": [
       "                     status  film_count\n",
       "2                 Nominated          40\n",
       "1                Ineligible          28\n",
       "3                       Won          17\n",
       "0  Award not yet introduced           3\n",
       "4   Won Special Achievement           1"
      ]
     },
     "execution_count": 235,
     "metadata": {},
     "output_type": "execute_result"
    }
   ],
   "source": [
    "awards_df.groupby(\"status\", as_index = False)[[\"film\"]].count().rename(columns = {\"film\" : \"film_count\"}).\\\n",
    "sort_values(\"film_count\", ascending = False)"
   ]
  },
  {
   "cell_type": "markdown",
   "id": "f337c3ce-2fce-439d-8739-45659e2e757c",
   "metadata": {},
   "source": [
    "<font color = \"blue\">How many types of awards per film?</font>"
   ]
  },
  {
   "cell_type": "code",
   "execution_count": 237,
   "id": "a5d2b169-474d-4665-aaa6-9f0dd7ea014e",
   "metadata": {},
   "outputs": [
    {
     "data": {
      "text/html": [
       "<div>\n",
       "<style scoped>\n",
       "    .dataframe tbody tr th:only-of-type {\n",
       "        vertical-align: middle;\n",
       "    }\n",
       "\n",
       "    .dataframe tbody tr th {\n",
       "        vertical-align: top;\n",
       "    }\n",
       "\n",
       "    .dataframe thead th {\n",
       "        text-align: right;\n",
       "    }\n",
       "</style>\n",
       "<table border=\"1\" class=\"dataframe\">\n",
       "  <thead>\n",
       "    <tr style=\"text-align: right;\">\n",
       "      <th></th>\n",
       "      <th>film</th>\n",
       "      <th>award_count</th>\n",
       "    </tr>\n",
       "  </thead>\n",
       "  <tbody>\n",
       "    <tr>\n",
       "      <th>27</th>\n",
       "      <td>WALL-E</td>\n",
       "      <td>7</td>\n",
       "    </tr>\n",
       "    <tr>\n",
       "      <th>26</th>\n",
       "      <td>Up</td>\n",
       "      <td>6</td>\n",
       "    </tr>\n",
       "    <tr>\n",
       "      <th>23</th>\n",
       "      <td>Toy Story 3</td>\n",
       "      <td>6</td>\n",
       "    </tr>\n",
       "    <tr>\n",
       "      <th>21</th>\n",
       "      <td>Toy Story</td>\n",
       "      <td>6</td>\n",
       "    </tr>\n",
       "    <tr>\n",
       "      <th>17</th>\n",
       "      <td>Ratatouille</td>\n",
       "      <td>6</td>\n",
       "    </tr>\n",
       "    <tr>\n",
       "      <th>15</th>\n",
       "      <td>Monsters, Inc.</td>\n",
       "      <td>5</td>\n",
       "    </tr>\n",
       "    <tr>\n",
       "      <th>20</th>\n",
       "      <td>The Incredibles</td>\n",
       "      <td>5</td>\n",
       "    </tr>\n",
       "    <tr>\n",
       "      <th>8</th>\n",
       "      <td>Finding Nemo</td>\n",
       "      <td>5</td>\n",
       "    </tr>\n",
       "    <tr>\n",
       "      <th>18</th>\n",
       "      <td>Soul</td>\n",
       "      <td>5</td>\n",
       "    </tr>\n",
       "    <tr>\n",
       "      <th>24</th>\n",
       "      <td>Toy Story 4</td>\n",
       "      <td>3</td>\n",
       "    </tr>\n",
       "    <tr>\n",
       "      <th>22</th>\n",
       "      <td>Toy Story 2</td>\n",
       "      <td>3</td>\n",
       "    </tr>\n",
       "    <tr>\n",
       "      <th>0</th>\n",
       "      <td>A Bug's Life</td>\n",
       "      <td>3</td>\n",
       "    </tr>\n",
       "    <tr>\n",
       "      <th>10</th>\n",
       "      <td>Inside Out</td>\n",
       "      <td>3</td>\n",
       "    </tr>\n",
       "    <tr>\n",
       "      <th>5</th>\n",
       "      <td>Coco</td>\n",
       "      <td>3</td>\n",
       "    </tr>\n",
       "    <tr>\n",
       "      <th>2</th>\n",
       "      <td>Cars</td>\n",
       "      <td>3</td>\n",
       "    </tr>\n",
       "    <tr>\n",
       "      <th>13</th>\n",
       "      <td>Luca</td>\n",
       "      <td>2</td>\n",
       "    </tr>\n",
       "    <tr>\n",
       "      <th>1</th>\n",
       "      <td>Brave</td>\n",
       "      <td>2</td>\n",
       "    </tr>\n",
       "    <tr>\n",
       "      <th>11</th>\n",
       "      <td>Inside Out 2</td>\n",
       "      <td>2</td>\n",
       "    </tr>\n",
       "    <tr>\n",
       "      <th>16</th>\n",
       "      <td>Onward</td>\n",
       "      <td>2</td>\n",
       "    </tr>\n",
       "    <tr>\n",
       "      <th>9</th>\n",
       "      <td>Incredibles 2</td>\n",
       "      <td>2</td>\n",
       "    </tr>\n",
       "    <tr>\n",
       "      <th>6</th>\n",
       "      <td>Elemental</td>\n",
       "      <td>2</td>\n",
       "    </tr>\n",
       "    <tr>\n",
       "      <th>25</th>\n",
       "      <td>Turning Red</td>\n",
       "      <td>2</td>\n",
       "    </tr>\n",
       "    <tr>\n",
       "      <th>12</th>\n",
       "      <td>Lightyear</td>\n",
       "      <td>1</td>\n",
       "    </tr>\n",
       "    <tr>\n",
       "      <th>19</th>\n",
       "      <td>The Good Dinosaur</td>\n",
       "      <td>1</td>\n",
       "    </tr>\n",
       "    <tr>\n",
       "      <th>7</th>\n",
       "      <td>Finding Dory</td>\n",
       "      <td>1</td>\n",
       "    </tr>\n",
       "    <tr>\n",
       "      <th>4</th>\n",
       "      <td>Cars 3</td>\n",
       "      <td>1</td>\n",
       "    </tr>\n",
       "    <tr>\n",
       "      <th>3</th>\n",
       "      <td>Cars 2</td>\n",
       "      <td>1</td>\n",
       "    </tr>\n",
       "    <tr>\n",
       "      <th>14</th>\n",
       "      <td>Monsters University</td>\n",
       "      <td>1</td>\n",
       "    </tr>\n",
       "  </tbody>\n",
       "</table>\n",
       "</div>"
      ],
      "text/plain": [
       "                   film  award_count\n",
       "27               WALL-E            7\n",
       "26                   Up            6\n",
       "23          Toy Story 3            6\n",
       "21            Toy Story            6\n",
       "17          Ratatouille            6\n",
       "15       Monsters, Inc.            5\n",
       "20      The Incredibles            5\n",
       "8          Finding Nemo            5\n",
       "18                 Soul            5\n",
       "24          Toy Story 4            3\n",
       "22          Toy Story 2            3\n",
       "0          A Bug's Life            3\n",
       "10           Inside Out            3\n",
       "5                  Coco            3\n",
       "2                  Cars            3\n",
       "13                 Luca            2\n",
       "1                 Brave            2\n",
       "11         Inside Out 2            2\n",
       "16               Onward            2\n",
       "9         Incredibles 2            2\n",
       "6             Elemental            2\n",
       "25          Turning Red            2\n",
       "12            Lightyear            1\n",
       "19    The Good Dinosaur            1\n",
       "7          Finding Dory            1\n",
       "4                Cars 3            1\n",
       "3                Cars 2            1\n",
       "14  Monsters University            1"
      ]
     },
     "execution_count": 237,
     "metadata": {},
     "output_type": "execute_result"
    }
   ],
   "source": [
    "awards_df.groupby(\"film\", as_index = False)[[\"award_type\"]].count().rename(columns = {\"award_type\" : \"award_count\"}).\\\n",
    "sort_values(\"award_count\", ascending = False)"
   ]
  },
  {
   "cell_type": "markdown",
   "id": "3efe7bbf-efe8-4c2a-bb6c-9261d5a058ca",
   "metadata": {},
   "source": [
    "<font color = \"blue\">Which nominated films have also gone on to win the same award?</font>"
   ]
  },
  {
   "cell_type": "code",
   "execution_count": 239,
   "id": "154c88eb-d9f5-41a9-938d-66b7ab723501",
   "metadata": {},
   "outputs": [
    {
     "data": {
      "text/html": [
       "<div>\n",
       "<style scoped>\n",
       "    .dataframe tbody tr th:only-of-type {\n",
       "        vertical-align: middle;\n",
       "    }\n",
       "\n",
       "    .dataframe tbody tr th {\n",
       "        vertical-align: top;\n",
       "    }\n",
       "\n",
       "    .dataframe thead th {\n",
       "        text-align: right;\n",
       "    }\n",
       "</style>\n",
       "<table border=\"1\" class=\"dataframe\">\n",
       "  <thead>\n",
       "    <tr style=\"text-align: right;\">\n",
       "      <th></th>\n",
       "      <th>film</th>\n",
       "      <th>nominated_for</th>\n",
       "      <th>win_status</th>\n",
       "    </tr>\n",
       "  </thead>\n",
       "  <tbody>\n",
       "    <tr>\n",
       "      <th>0</th>\n",
       "      <td>Toy Story 3</td>\n",
       "      <td>Adapted Screenplay</td>\n",
       "      <td>Won</td>\n",
       "    </tr>\n",
       "    <tr>\n",
       "      <th>1</th>\n",
       "      <td>Toy Story 3</td>\n",
       "      <td>Adapted Screenplay</td>\n",
       "      <td>Won</td>\n",
       "    </tr>\n",
       "    <tr>\n",
       "      <th>2</th>\n",
       "      <td>Inside Out 2</td>\n",
       "      <td>Animated Feature</td>\n",
       "      <td>Not Won</td>\n",
       "    </tr>\n",
       "    <tr>\n",
       "      <th>3</th>\n",
       "      <td>Cars</td>\n",
       "      <td>Animated Feature</td>\n",
       "      <td>Not Won</td>\n",
       "    </tr>\n",
       "    <tr>\n",
       "      <th>4</th>\n",
       "      <td>Incredibles 2</td>\n",
       "      <td>Animated Feature</td>\n",
       "      <td>Not Won</td>\n",
       "    </tr>\n",
       "    <tr>\n",
       "      <th>5</th>\n",
       "      <td>Onward</td>\n",
       "      <td>Animated Feature</td>\n",
       "      <td>Not Won</td>\n",
       "    </tr>\n",
       "    <tr>\n",
       "      <th>6</th>\n",
       "      <td>Elemental</td>\n",
       "      <td>Animated Feature</td>\n",
       "      <td>Not Won</td>\n",
       "    </tr>\n",
       "    <tr>\n",
       "      <th>7</th>\n",
       "      <td>Luca</td>\n",
       "      <td>Animated Feature</td>\n",
       "      <td>Not Won</td>\n",
       "    </tr>\n",
       "    <tr>\n",
       "      <th>8</th>\n",
       "      <td>Turning Red</td>\n",
       "      <td>Animated Feature</td>\n",
       "      <td>Not Won</td>\n",
       "    </tr>\n",
       "    <tr>\n",
       "      <th>9</th>\n",
       "      <td>Monsters, Inc.</td>\n",
       "      <td>Animated Feature</td>\n",
       "      <td>Won</td>\n",
       "    </tr>\n",
       "    <tr>\n",
       "      <th>10</th>\n",
       "      <td>Toy Story 3</td>\n",
       "      <td>Best Picture</td>\n",
       "      <td>Won</td>\n",
       "    </tr>\n",
       "    <tr>\n",
       "      <th>11</th>\n",
       "      <td>Toy Story 3</td>\n",
       "      <td>Best Picture</td>\n",
       "      <td>Won</td>\n",
       "    </tr>\n",
       "    <tr>\n",
       "      <th>12</th>\n",
       "      <td>Up</td>\n",
       "      <td>Best Picture</td>\n",
       "      <td>Won</td>\n",
       "    </tr>\n",
       "    <tr>\n",
       "      <th>13</th>\n",
       "      <td>Up</td>\n",
       "      <td>Best Picture</td>\n",
       "      <td>Won</td>\n",
       "    </tr>\n",
       "    <tr>\n",
       "      <th>14</th>\n",
       "      <td>Monsters, Inc.</td>\n",
       "      <td>Original Score</td>\n",
       "      <td>Won</td>\n",
       "    </tr>\n",
       "    <tr>\n",
       "      <th>15</th>\n",
       "      <td>A Bug's Life</td>\n",
       "      <td>Original Score</td>\n",
       "      <td>Not Won</td>\n",
       "    </tr>\n",
       "    <tr>\n",
       "      <th>16</th>\n",
       "      <td>WALL-E</td>\n",
       "      <td>Original Score</td>\n",
       "      <td>Won</td>\n",
       "    </tr>\n",
       "    <tr>\n",
       "      <th>17</th>\n",
       "      <td>Toy Story</td>\n",
       "      <td>Original Score</td>\n",
       "      <td>Won</td>\n",
       "    </tr>\n",
       "    <tr>\n",
       "      <th>18</th>\n",
       "      <td>Ratatouille</td>\n",
       "      <td>Original Score</td>\n",
       "      <td>Won</td>\n",
       "    </tr>\n",
       "    <tr>\n",
       "      <th>19</th>\n",
       "      <td>Finding Nemo</td>\n",
       "      <td>Original Score</td>\n",
       "      <td>Won</td>\n",
       "    </tr>\n",
       "    <tr>\n",
       "      <th>20</th>\n",
       "      <td>Inside Out</td>\n",
       "      <td>Original Screenplay</td>\n",
       "      <td>Won</td>\n",
       "    </tr>\n",
       "    <tr>\n",
       "      <th>21</th>\n",
       "      <td>Up</td>\n",
       "      <td>Original Screenplay</td>\n",
       "      <td>Won</td>\n",
       "    </tr>\n",
       "    <tr>\n",
       "      <th>22</th>\n",
       "      <td>Up</td>\n",
       "      <td>Original Screenplay</td>\n",
       "      <td>Won</td>\n",
       "    </tr>\n",
       "    <tr>\n",
       "      <th>23</th>\n",
       "      <td>Toy Story</td>\n",
       "      <td>Original Screenplay</td>\n",
       "      <td>Won</td>\n",
       "    </tr>\n",
       "    <tr>\n",
       "      <th>24</th>\n",
       "      <td>WALL-E</td>\n",
       "      <td>Original Screenplay</td>\n",
       "      <td>Won</td>\n",
       "    </tr>\n",
       "    <tr>\n",
       "      <th>25</th>\n",
       "      <td>Ratatouille</td>\n",
       "      <td>Original Screenplay</td>\n",
       "      <td>Won</td>\n",
       "    </tr>\n",
       "    <tr>\n",
       "      <th>26</th>\n",
       "      <td>The Incredibles</td>\n",
       "      <td>Original Screenplay</td>\n",
       "      <td>Won</td>\n",
       "    </tr>\n",
       "    <tr>\n",
       "      <th>27</th>\n",
       "      <td>The Incredibles</td>\n",
       "      <td>Original Screenplay</td>\n",
       "      <td>Won</td>\n",
       "    </tr>\n",
       "    <tr>\n",
       "      <th>28</th>\n",
       "      <td>Finding Nemo</td>\n",
       "      <td>Original Screenplay</td>\n",
       "      <td>Won</td>\n",
       "    </tr>\n",
       "    <tr>\n",
       "      <th>29</th>\n",
       "      <td>WALL-E</td>\n",
       "      <td>Original Song</td>\n",
       "      <td>Won</td>\n",
       "    </tr>\n",
       "    <tr>\n",
       "      <th>30</th>\n",
       "      <td>Toy Story</td>\n",
       "      <td>Original Song</td>\n",
       "      <td>Won</td>\n",
       "    </tr>\n",
       "    <tr>\n",
       "      <th>31</th>\n",
       "      <td>Toy Story 2</td>\n",
       "      <td>Original Song</td>\n",
       "      <td>Not Won</td>\n",
       "    </tr>\n",
       "    <tr>\n",
       "      <th>32</th>\n",
       "      <td>Cars</td>\n",
       "      <td>Original Song</td>\n",
       "      <td>Not Won</td>\n",
       "    </tr>\n",
       "    <tr>\n",
       "      <th>33</th>\n",
       "      <td>Toy Story 4</td>\n",
       "      <td>Original Song</td>\n",
       "      <td>Won</td>\n",
       "    </tr>\n",
       "    <tr>\n",
       "      <th>34</th>\n",
       "      <td>Soul</td>\n",
       "      <td>Sound Editing</td>\n",
       "      <td>Won</td>\n",
       "    </tr>\n",
       "    <tr>\n",
       "      <th>35</th>\n",
       "      <td>Soul</td>\n",
       "      <td>Sound Editing</td>\n",
       "      <td>Won</td>\n",
       "    </tr>\n",
       "    <tr>\n",
       "      <th>36</th>\n",
       "      <td>Monsters, Inc.</td>\n",
       "      <td>Sound Editing</td>\n",
       "      <td>Won</td>\n",
       "    </tr>\n",
       "    <tr>\n",
       "      <th>37</th>\n",
       "      <td>Ratatouille</td>\n",
       "      <td>Sound Editing</td>\n",
       "      <td>Won</td>\n",
       "    </tr>\n",
       "    <tr>\n",
       "      <th>38</th>\n",
       "      <td>Up</td>\n",
       "      <td>Sound Editing</td>\n",
       "      <td>Won</td>\n",
       "    </tr>\n",
       "    <tr>\n",
       "      <th>39</th>\n",
       "      <td>Up</td>\n",
       "      <td>Sound Editing</td>\n",
       "      <td>Won</td>\n",
       "    </tr>\n",
       "    <tr>\n",
       "      <th>40</th>\n",
       "      <td>WALL-E</td>\n",
       "      <td>Sound Editing</td>\n",
       "      <td>Won</td>\n",
       "    </tr>\n",
       "    <tr>\n",
       "      <th>41</th>\n",
       "      <td>Finding Nemo</td>\n",
       "      <td>Sound Editing</td>\n",
       "      <td>Won</td>\n",
       "    </tr>\n",
       "    <tr>\n",
       "      <th>42</th>\n",
       "      <td>Toy Story 3</td>\n",
       "      <td>Sound Editing</td>\n",
       "      <td>Won</td>\n",
       "    </tr>\n",
       "    <tr>\n",
       "      <th>43</th>\n",
       "      <td>Toy Story 3</td>\n",
       "      <td>Sound Editing</td>\n",
       "      <td>Won</td>\n",
       "    </tr>\n",
       "    <tr>\n",
       "      <th>44</th>\n",
       "      <td>Ratatouille</td>\n",
       "      <td>Sound Mixing</td>\n",
       "      <td>Won</td>\n",
       "    </tr>\n",
       "    <tr>\n",
       "      <th>45</th>\n",
       "      <td>The Incredibles</td>\n",
       "      <td>Sound Mixing</td>\n",
       "      <td>Won</td>\n",
       "    </tr>\n",
       "    <tr>\n",
       "      <th>46</th>\n",
       "      <td>The Incredibles</td>\n",
       "      <td>Sound Mixing</td>\n",
       "      <td>Won</td>\n",
       "    </tr>\n",
       "    <tr>\n",
       "      <th>47</th>\n",
       "      <td>Soul</td>\n",
       "      <td>Sound Mixing</td>\n",
       "      <td>Won</td>\n",
       "    </tr>\n",
       "    <tr>\n",
       "      <th>48</th>\n",
       "      <td>Soul</td>\n",
       "      <td>Sound Mixing</td>\n",
       "      <td>Won</td>\n",
       "    </tr>\n",
       "    <tr>\n",
       "      <th>49</th>\n",
       "      <td>WALL-E</td>\n",
       "      <td>Sound Mixing</td>\n",
       "      <td>Won</td>\n",
       "    </tr>\n",
       "  </tbody>\n",
       "</table>\n",
       "</div>"
      ],
      "text/plain": [
       "               film        nominated_for win_status\n",
       "0       Toy Story 3   Adapted Screenplay        Won\n",
       "1       Toy Story 3   Adapted Screenplay        Won\n",
       "2      Inside Out 2     Animated Feature    Not Won\n",
       "3              Cars     Animated Feature    Not Won\n",
       "4     Incredibles 2     Animated Feature    Not Won\n",
       "5            Onward     Animated Feature    Not Won\n",
       "6         Elemental     Animated Feature    Not Won\n",
       "7              Luca     Animated Feature    Not Won\n",
       "8       Turning Red     Animated Feature    Not Won\n",
       "9    Monsters, Inc.     Animated Feature        Won\n",
       "10      Toy Story 3         Best Picture        Won\n",
       "11      Toy Story 3         Best Picture        Won\n",
       "12               Up         Best Picture        Won\n",
       "13               Up         Best Picture        Won\n",
       "14   Monsters, Inc.       Original Score        Won\n",
       "15     A Bug's Life       Original Score    Not Won\n",
       "16           WALL-E       Original Score        Won\n",
       "17        Toy Story       Original Score        Won\n",
       "18      Ratatouille       Original Score        Won\n",
       "19     Finding Nemo       Original Score        Won\n",
       "20       Inside Out  Original Screenplay        Won\n",
       "21               Up  Original Screenplay        Won\n",
       "22               Up  Original Screenplay        Won\n",
       "23        Toy Story  Original Screenplay        Won\n",
       "24           WALL-E  Original Screenplay        Won\n",
       "25      Ratatouille  Original Screenplay        Won\n",
       "26  The Incredibles  Original Screenplay        Won\n",
       "27  The Incredibles  Original Screenplay        Won\n",
       "28     Finding Nemo  Original Screenplay        Won\n",
       "29           WALL-E        Original Song        Won\n",
       "30        Toy Story        Original Song        Won\n",
       "31      Toy Story 2        Original Song    Not Won\n",
       "32             Cars        Original Song    Not Won\n",
       "33      Toy Story 4        Original Song        Won\n",
       "34             Soul        Sound Editing        Won\n",
       "35             Soul        Sound Editing        Won\n",
       "36   Monsters, Inc.        Sound Editing        Won\n",
       "37      Ratatouille        Sound Editing        Won\n",
       "38               Up        Sound Editing        Won\n",
       "39               Up        Sound Editing        Won\n",
       "40           WALL-E        Sound Editing        Won\n",
       "41     Finding Nemo        Sound Editing        Won\n",
       "42      Toy Story 3        Sound Editing        Won\n",
       "43      Toy Story 3        Sound Editing        Won\n",
       "44      Ratatouille         Sound Mixing        Won\n",
       "45  The Incredibles         Sound Mixing        Won\n",
       "46  The Incredibles         Sound Mixing        Won\n",
       "47             Soul         Sound Mixing        Won\n",
       "48             Soul         Sound Mixing        Won\n",
       "49           WALL-E         Sound Mixing        Won"
      ]
     },
     "execution_count": 239,
     "metadata": {},
     "output_type": "execute_result"
    }
   ],
   "source": [
    "nominated_films = awards_df[awards_df.status == \"Nominated\"].sort_values(\"award_type\")\n",
    "won_films  = awards_df[awards_df.status.isin([\"Won\", \"Won Special Achievement\"])]\n",
    "combine_df = nominated_films.merge(won_films, on  = [\"film\"], how = \"left\")[[\"film\", \"award_type_x\", \"award_type_y\"]].rename(\n",
    "    columns = {\"award_type_x\" : \"nominated_for\", \"award_type_y\" : \"winning_status\"})\n",
    "\n",
    "combine_df.fillna(\"Not Won\", inplace = True)\n",
    "combine_df[\"win_status\"] = combine_df[\"winning_status\"].apply(lambda x: \"Not Won\" if x == \"Not Won\" else \"Won\")\n",
    "combine_df = combine_df.drop(columns=[\"winning_status\"])\n",
    "combine_df"
   ]
  },
  {
   "cell_type": "code",
   "execution_count": 240,
   "id": "0a4e2a53-785a-4333-903c-6a52f8e9fad8",
   "metadata": {},
   "outputs": [
    {
     "data": {
      "text/plain": [
       "([<matplotlib.patches.Wedge at 0x150ed6600>],\n",
       " [Text(-2.0206672185931328e-16, -1.1, 'Won')],\n",
       " [Text(-1.1021821192326178e-16, -0.6, '100.0%')])"
      ]
     },
     "execution_count": 240,
     "metadata": {},
     "output_type": "execute_result"
    },
    {
     "data": {
      "text/plain": [
       "Text(0.5, 1.0, 'Adapted Screenplay')"
      ]
     },
     "execution_count": 240,
     "metadata": {},
     "output_type": "execute_result"
    },
    {
     "data": {
      "text/plain": [
       "([<matplotlib.patches.Wedge at 0x150cf45c0>,\n",
       "  <matplotlib.patches.Wedge at 0x150d224b0>],\n",
       " [Text(-0.4209517756015994, -1.0162674857624152, 'Not Won'),\n",
       "  Text(0.4209517756015995, 1.0162674857624152, 'Won')],\n",
       " [Text(-0.22961005941905419, -0.5543277195067718, '87.5%'),\n",
       "  Text(0.22961005941905427, 0.5543277195067718, '12.5%')])"
      ]
     },
     "execution_count": 240,
     "metadata": {},
     "output_type": "execute_result"
    },
    {
     "data": {
      "text/plain": [
       "Text(0.5, 1.0, 'Animated Feature')"
      ]
     },
     "execution_count": 240,
     "metadata": {},
     "output_type": "execute_result"
    },
    {
     "data": {
      "text/plain": [
       "([<matplotlib.patches.Wedge at 0x150db24e0>],\n",
       " [Text(-2.0206672185931328e-16, -1.1, 'Won')],\n",
       " [Text(-1.1021821192326178e-16, -0.6, '100.0%')])"
      ]
     },
     "execution_count": 240,
     "metadata": {},
     "output_type": "execute_result"
    },
    {
     "data": {
      "text/plain": [
       "Text(0.5, 1.0, 'Best Picture')"
      ]
     },
     "execution_count": 240,
     "metadata": {},
     "output_type": "execute_result"
    },
    {
     "data": {
      "text/plain": [
       "([<matplotlib.patches.Wedge at 0x150e82ea0>,\n",
       "  <matplotlib.patches.Wedge at 0x150e537d0>],\n",
       " [Text(-0.5500000594609761, -0.9526279098330696, 'Won'),\n",
       "  Text(0.5500001040567062, 0.9526278840857078, 'Not Won')],\n",
       " [Text(-0.3000000324332597, -0.5196152235453106, '83.3%'),\n",
       "  Text(0.30000005675820335, 0.519615209501295, '16.7%')])"
      ]
     },
     "execution_count": 240,
     "metadata": {},
     "output_type": "execute_result"
    },
    {
     "data": {
      "text/plain": [
       "Text(0.5, 1.0, 'Original Score')"
      ]
     },
     "execution_count": 240,
     "metadata": {},
     "output_type": "execute_result"
    },
    {
     "data": {
      "text/plain": [
       "([<matplotlib.patches.Wedge at 0x150ed7860>],\n",
       " [Text(-2.0206672185931328e-16, -1.1, 'Won')],\n",
       " [Text(-1.1021821192326178e-16, -0.6, '100.0%')])"
      ]
     },
     "execution_count": 240,
     "metadata": {},
     "output_type": "execute_result"
    },
    {
     "data": {
      "text/plain": [
       "Text(0.5, 1.0, 'Original Screenplay')"
      ]
     },
     "execution_count": 240,
     "metadata": {},
     "output_type": "execute_result"
    },
    {
     "data": {
      "text/plain": [
       "([<matplotlib.patches.Wedge at 0x150f10620>,\n",
       "  <matplotlib.patches.Wedge at 0x150ed79e0>],\n",
       " [Text(-1.0461621424642782, -0.3399187721714579, 'Won'),\n",
       "  Text(1.0461621106387813, 0.3399188701202254, 'Not Won')],\n",
       " [Text(-0.5706338958896062, -0.18541023936624976, '60.0%'),\n",
       "  Text(0.5706338785302443, 0.18541029279285023, '40.0%')])"
      ]
     },
     "execution_count": 240,
     "metadata": {},
     "output_type": "execute_result"
    },
    {
     "data": {
      "text/plain": [
       "Text(0.5, 1.0, 'Original Song')"
      ]
     },
     "execution_count": 240,
     "metadata": {},
     "output_type": "execute_result"
    },
    {
     "data": {
      "text/plain": [
       "([<matplotlib.patches.Wedge at 0x150f10dd0>],\n",
       " [Text(-2.0206672185931328e-16, -1.1, 'Won')],\n",
       " [Text(-1.1021821192326178e-16, -0.6, '100.0%')])"
      ]
     },
     "execution_count": 240,
     "metadata": {},
     "output_type": "execute_result"
    },
    {
     "data": {
      "text/plain": [
       "Text(0.5, 1.0, 'Sound Editing')"
      ]
     },
     "execution_count": 240,
     "metadata": {},
     "output_type": "execute_result"
    },
    {
     "data": {
      "text/plain": [
       "([<matplotlib.patches.Wedge at 0x150f11c70>],\n",
       " [Text(-2.0206672185931328e-16, -1.1, 'Won')],\n",
       " [Text(-1.1021821192326178e-16, -0.6, '100.0%')])"
      ]
     },
     "execution_count": 240,
     "metadata": {},
     "output_type": "execute_result"
    },
    {
     "data": {
      "text/plain": [
       "Text(0.5, 1.0, 'Sound Mixing')"
      ]
     },
     "execution_count": 240,
     "metadata": {},
     "output_type": "execute_result"
    },
    {
     "data": {
      "image/png": "[encoded data removed]",
      "text/plain": [
       "<Figure size 1500x800 with 8 Axes>"
      ]
     },
     "metadata": {},
     "output_type": "display_data"
    }
   ],
   "source": [
    "# Get all unique award categories\n",
    "categories = combine_df[\"nominated_for\"].unique()\n",
    "num_categories = len(categories)\n",
    "\n",
    "# Setup: 4 charts per row\n",
    "cols = 4\n",
    "rows = (num_categories + cols - 1) // cols  # Ceiling division\n",
    "\n",
    "fig, axes = plt.subplots(rows, cols, figsize=(15, rows * 4))\n",
    "axes = axes.flatten()  # Flatten 2D axes array for easy iteration\n",
    "\n",
    "# Plot pie chart for each category\n",
    "for i, category in enumerate(categories):\n",
    "    data = combine_df[combine_df[\"nominated_for\"] == category]\n",
    "    counts = data[\"win_status\"].value_counts()\n",
    "\n",
    "    axes[i].pie(\n",
    "        counts,\n",
    "        labels=counts.index,\n",
    "        autopct=\"%1.1f%%\",\n",
    "        startangle=90,\n",
    "        colors=[\"#8bc34a\", \"#e57373\"] if \"Won\" in counts.index else [\"#e57373\"]\n",
    "    )\n",
    "    axes[i].set_title(category)\n",
    "\n",
    "# Turn off unused subplots\n",
    "for j in range(i + 1, len(axes)):\n",
    "    axes[j].axis(\"off\")\n",
    "\n",
    "plt.tight_layout()\n",
    "plt.show()"
   ]
  },
  {
   "cell_type": "markdown",
   "id": "3382cb35-3e0a-4217-ae79-028f7fa07e51",
   "metadata": {},
   "source": [
    "<font color = \"blue\">Are there specific award categories for which some films are ineligible?</font>"
   ]
  },
  {
   "cell_type": "code",
   "execution_count": 242,
   "id": "738e0088-c647-46a5-a9f0-86cefc61f684",
   "metadata": {},
   "outputs": [
    {
     "data": {
      "text/html": [
       "<div>\n",
       "<style scoped>\n",
       "    .dataframe tbody tr th:only-of-type {\n",
       "        vertical-align: middle;\n",
       "    }\n",
       "\n",
       "    .dataframe tbody tr th {\n",
       "        vertical-align: top;\n",
       "    }\n",
       "\n",
       "    .dataframe thead th {\n",
       "        text-align: right;\n",
       "    }\n",
       "</style>\n",
       "<table border=\"1\" class=\"dataframe\">\n",
       "  <thead>\n",
       "    <tr style=\"text-align: right;\">\n",
       "      <th></th>\n",
       "      <th>award_type</th>\n",
       "      <th>num_of_films</th>\n",
       "    </tr>\n",
       "  </thead>\n",
       "  <tbody>\n",
       "    <tr>\n",
       "      <th>0</th>\n",
       "      <td>Adapted Screenplay</td>\n",
       "      <td>18</td>\n",
       "    </tr>\n",
       "    <tr>\n",
       "      <th>1</th>\n",
       "      <td>Original Screenplay</td>\n",
       "      <td>10</td>\n",
       "    </tr>\n",
       "  </tbody>\n",
       "</table>\n",
       "</div>"
      ],
      "text/plain": [
       "            award_type  num_of_films\n",
       "0   Adapted Screenplay            18\n",
       "1  Original Screenplay            10"
      ]
     },
     "execution_count": 242,
     "metadata": {},
     "output_type": "execute_result"
    }
   ],
   "source": [
    "awards_df[awards_df.status == \"Ineligible\"].groupby([\"award_type\"], as_index = False)[[\"film\"]].count().rename\\\n",
    "(columns  = {\"film\" : \"num_of_films\"})"
   ]
  },
  {
   "cell_type": "code",
   "execution_count": 243,
   "id": "b466f481-457f-4642-bb44-af6313443c7e",
   "metadata": {},
   "outputs": [
    {
     "data": {
      "text/html": [
       "<div>\n",
       "<style scoped>\n",
       "    .dataframe tbody tr th:only-of-type {\n",
       "        vertical-align: middle;\n",
       "    }\n",
       "\n",
       "    .dataframe tbody tr th {\n",
       "        vertical-align: top;\n",
       "    }\n",
       "\n",
       "    .dataframe thead th {\n",
       "        text-align: right;\n",
       "    }\n",
       "</style>\n",
       "<table border=\"1\" class=\"dataframe\">\n",
       "  <thead>\n",
       "    <tr style=\"text-align: right;\">\n",
       "      <th></th>\n",
       "      <th>film</th>\n",
       "      <th>award_type</th>\n",
       "      <th>status</th>\n",
       "    </tr>\n",
       "  </thead>\n",
       "  <tbody>\n",
       "    <tr>\n",
       "      <th>7</th>\n",
       "      <td>A Bug's Life</td>\n",
       "      <td>Adapted Screenplay</td>\n",
       "      <td>Ineligible</td>\n",
       "    </tr>\n",
       "    <tr>\n",
       "      <th>57</th>\n",
       "      <td>Brave</td>\n",
       "      <td>Adapted Screenplay</td>\n",
       "      <td>Ineligible</td>\n",
       "    </tr>\n",
       "    <tr>\n",
       "      <th>28</th>\n",
       "      <td>Cars</td>\n",
       "      <td>Adapted Screenplay</td>\n",
       "      <td>Ineligible</td>\n",
       "    </tr>\n",
       "    <tr>\n",
       "      <th>66</th>\n",
       "      <td>Coco</td>\n",
       "      <td>Adapted Screenplay</td>\n",
       "      <td>Ineligible</td>\n",
       "    </tr>\n",
       "    <tr>\n",
       "      <th>86</th>\n",
       "      <td>Elemental</td>\n",
       "      <td>Adapted Screenplay</td>\n",
       "      <td>Ineligible</td>\n",
       "    </tr>\n",
       "    <tr>\n",
       "      <th>19</th>\n",
       "      <td>Finding Nemo</td>\n",
       "      <td>Adapted Screenplay</td>\n",
       "      <td>Ineligible</td>\n",
       "    </tr>\n",
       "    <tr>\n",
       "      <th>61</th>\n",
       "      <td>Inside Out</td>\n",
       "      <td>Adapted Screenplay</td>\n",
       "      <td>Ineligible</td>\n",
       "    </tr>\n",
       "    <tr>\n",
       "      <th>81</th>\n",
       "      <td>Luca</td>\n",
       "      <td>Adapted Screenplay</td>\n",
       "      <td>Ineligible</td>\n",
       "    </tr>\n",
       "    <tr>\n",
       "      <th>13</th>\n",
       "      <td>Monsters, Inc.</td>\n",
       "      <td>Adapted Screenplay</td>\n",
       "      <td>Ineligible</td>\n",
       "    </tr>\n",
       "    <tr>\n",
       "      <th>74</th>\n",
       "      <td>Onward</td>\n",
       "      <td>Adapted Screenplay</td>\n",
       "      <td>Ineligible</td>\n",
       "    </tr>\n",
       "    <tr>\n",
       "      <th>32</th>\n",
       "      <td>Ratatouille</td>\n",
       "      <td>Adapted Screenplay</td>\n",
       "      <td>Ineligible</td>\n",
       "    </tr>\n",
       "    <tr>\n",
       "      <th>76</th>\n",
       "      <td>Soul</td>\n",
       "      <td>Adapted Screenplay</td>\n",
       "      <td>Ineligible</td>\n",
       "    </tr>\n",
       "    <tr>\n",
       "      <th>62</th>\n",
       "      <td>The Good Dinosaur</td>\n",
       "      <td>Adapted Screenplay</td>\n",
       "      <td>Ineligible</td>\n",
       "    </tr>\n",
       "    <tr>\n",
       "      <th>24</th>\n",
       "      <td>The Incredibles</td>\n",
       "      <td>Adapted Screenplay</td>\n",
       "      <td>Ineligible</td>\n",
       "    </tr>\n",
       "    <tr>\n",
       "      <th>2</th>\n",
       "      <td>Toy Story</td>\n",
       "      <td>Adapted Screenplay</td>\n",
       "      <td>Ineligible</td>\n",
       "    </tr>\n",
       "    <tr>\n",
       "      <th>83</th>\n",
       "      <td>Turning Red</td>\n",
       "      <td>Adapted Screenplay</td>\n",
       "      <td>Ineligible</td>\n",
       "    </tr>\n",
       "    <tr>\n",
       "      <th>46</th>\n",
       "      <td>Up</td>\n",
       "      <td>Adapted Screenplay</td>\n",
       "      <td>Ineligible</td>\n",
       "    </tr>\n",
       "    <tr>\n",
       "      <th>38</th>\n",
       "      <td>WALL-E</td>\n",
       "      <td>Adapted Screenplay</td>\n",
       "      <td>Ineligible</td>\n",
       "    </tr>\n",
       "    <tr>\n",
       "      <th>55</th>\n",
       "      <td>Cars 2</td>\n",
       "      <td>Original Screenplay</td>\n",
       "      <td>Ineligible</td>\n",
       "    </tr>\n",
       "    <tr>\n",
       "      <th>64</th>\n",
       "      <td>Cars 3</td>\n",
       "      <td>Original Screenplay</td>\n",
       "      <td>Ineligible</td>\n",
       "    </tr>\n",
       "    <tr>\n",
       "      <th>63</th>\n",
       "      <td>Finding Dory</td>\n",
       "      <td>Original Screenplay</td>\n",
       "      <td>Ineligible</td>\n",
       "    </tr>\n",
       "    <tr>\n",
       "      <th>69</th>\n",
       "      <td>Incredibles 2</td>\n",
       "      <td>Original Screenplay</td>\n",
       "      <td>Ineligible</td>\n",
       "    </tr>\n",
       "    <tr>\n",
       "      <th>87</th>\n",
       "      <td>Inside Out 2</td>\n",
       "      <td>Original Screenplay</td>\n",
       "      <td>Ineligible</td>\n",
       "    </tr>\n",
       "    <tr>\n",
       "      <th>84</th>\n",
       "      <td>Lightyear</td>\n",
       "      <td>Original Screenplay</td>\n",
       "      <td>Ineligible</td>\n",
       "    </tr>\n",
       "    <tr>\n",
       "      <th>58</th>\n",
       "      <td>Monsters University</td>\n",
       "      <td>Original Screenplay</td>\n",
       "      <td>Ineligible</td>\n",
       "    </tr>\n",
       "    <tr>\n",
       "      <th>10</th>\n",
       "      <td>Toy Story 2</td>\n",
       "      <td>Original Screenplay</td>\n",
       "      <td>Ineligible</td>\n",
       "    </tr>\n",
       "    <tr>\n",
       "      <th>51</th>\n",
       "      <td>Toy Story 3</td>\n",
       "      <td>Original Screenplay</td>\n",
       "      <td>Ineligible</td>\n",
       "    </tr>\n",
       "    <tr>\n",
       "      <th>71</th>\n",
       "      <td>Toy Story 4</td>\n",
       "      <td>Original Screenplay</td>\n",
       "      <td>Ineligible</td>\n",
       "    </tr>\n",
       "  </tbody>\n",
       "</table>\n",
       "</div>"
      ],
      "text/plain": [
       "                   film           award_type      status\n",
       "7          A Bug's Life   Adapted Screenplay  Ineligible\n",
       "57                Brave   Adapted Screenplay  Ineligible\n",
       "28                 Cars   Adapted Screenplay  Ineligible\n",
       "66                 Coco   Adapted Screenplay  Ineligible\n",
       "86            Elemental   Adapted Screenplay  Ineligible\n",
       "19         Finding Nemo   Adapted Screenplay  Ineligible\n",
       "61           Inside Out   Adapted Screenplay  Ineligible\n",
       "81                 Luca   Adapted Screenplay  Ineligible\n",
       "13       Monsters, Inc.   Adapted Screenplay  Ineligible\n",
       "74               Onward   Adapted Screenplay  Ineligible\n",
       "32          Ratatouille   Adapted Screenplay  Ineligible\n",
       "76                 Soul   Adapted Screenplay  Ineligible\n",
       "62    The Good Dinosaur   Adapted Screenplay  Ineligible\n",
       "24      The Incredibles   Adapted Screenplay  Ineligible\n",
       "2             Toy Story   Adapted Screenplay  Ineligible\n",
       "83          Turning Red   Adapted Screenplay  Ineligible\n",
       "46                   Up   Adapted Screenplay  Ineligible\n",
       "38               WALL-E   Adapted Screenplay  Ineligible\n",
       "55               Cars 2  Original Screenplay  Ineligible\n",
       "64               Cars 3  Original Screenplay  Ineligible\n",
       "63         Finding Dory  Original Screenplay  Ineligible\n",
       "69        Incredibles 2  Original Screenplay  Ineligible\n",
       "87         Inside Out 2  Original Screenplay  Ineligible\n",
       "84            Lightyear  Original Screenplay  Ineligible\n",
       "58  Monsters University  Original Screenplay  Ineligible\n",
       "10          Toy Story 2  Original Screenplay  Ineligible\n",
       "51          Toy Story 3  Original Screenplay  Ineligible\n",
       "71          Toy Story 4  Original Screenplay  Ineligible"
      ]
     },
     "execution_count": 243,
     "metadata": {},
     "output_type": "execute_result"
    }
   ],
   "source": [
    "awards_df[awards_df.status == \"Ineligible\"].sort_values([\"award_type\", \"film\"], ascending = [True, True])"
   ]
  },
  {
   "cell_type": "markdown",
   "id": "d4f6ca3d-29f3-437f-8cb8-e74be92aa8e9",
   "metadata": {},
   "source": [
    "<font color = \"blue\">Are there any films associated with award types that haven't been introduced yet?</font>"
   ]
  },
  {
   "cell_type": "code",
   "execution_count": 245,
   "id": "bb777606-f7de-4442-956f-a84ca5cdbae1",
   "metadata": {},
   "outputs": [
    {
     "data": {
      "text/html": [
       "<div>\n",
       "<style scoped>\n",
       "    .dataframe tbody tr th:only-of-type {\n",
       "        vertical-align: middle;\n",
       "    }\n",
       "\n",
       "    .dataframe tbody tr th {\n",
       "        vertical-align: top;\n",
       "    }\n",
       "\n",
       "    .dataframe thead th {\n",
       "        text-align: right;\n",
       "    }\n",
       "</style>\n",
       "<table border=\"1\" class=\"dataframe\">\n",
       "  <thead>\n",
       "    <tr style=\"text-align: right;\">\n",
       "      <th></th>\n",
       "      <th>film</th>\n",
       "      <th>award_type</th>\n",
       "      <th>status</th>\n",
       "    </tr>\n",
       "  </thead>\n",
       "  <tbody>\n",
       "    <tr>\n",
       "      <th>0</th>\n",
       "      <td>Toy Story</td>\n",
       "      <td>Animated Feature</td>\n",
       "      <td>Award not yet introduced</td>\n",
       "    </tr>\n",
       "    <tr>\n",
       "      <th>6</th>\n",
       "      <td>A Bug's Life</td>\n",
       "      <td>Animated Feature</td>\n",
       "      <td>Award not yet introduced</td>\n",
       "    </tr>\n",
       "    <tr>\n",
       "      <th>9</th>\n",
       "      <td>Toy Story 2</td>\n",
       "      <td>Animated Feature</td>\n",
       "      <td>Award not yet introduced</td>\n",
       "    </tr>\n",
       "  </tbody>\n",
       "</table>\n",
       "</div>"
      ],
      "text/plain": [
       "           film        award_type                    status\n",
       "0     Toy Story  Animated Feature  Award not yet introduced\n",
       "6  A Bug's Life  Animated Feature  Award not yet introduced\n",
       "9   Toy Story 2  Animated Feature  Award not yet introduced"
      ]
     },
     "execution_count": 245,
     "metadata": {},
     "output_type": "execute_result"
    }
   ],
   "source": [
    "awards_df[awards_df.status == \"Award not yet introduced\"]"
   ]
  }
 ],
 "metadata": {
  "kernelspec": {
   "display_name": "Python 3 (ipykernel)",
   "language": "python",
   "name": "python3"
  },
  "language_info": {
   "codemirror_mode": {
    "name": "ipython",
    "version": 3
   },
   "file_extension": ".py",
   "mimetype": "text/x-python",
   "name": "python",
   "nbconvert_exporter": "python",
   "pygments_lexer": "ipython3",
   "version": "3.12.2"
  }
 },
 "nbformat": 4,
 "nbformat_minor": 5
}
